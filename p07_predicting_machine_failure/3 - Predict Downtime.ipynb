{
 "cells": [
  {
   "cell_type": "markdown",
   "metadata": {},
   "source": [
    "# Hanes Brand Predictive Maintenance"
   ]
  },
  {
   "cell_type": "markdown",
   "metadata": {},
   "source": [
    "In this notebook, we will explore various methods to handle the imbalance between the number of failures compared to non-failures.  In addition, we will attempt to fit various classification methods to the data in hopes of successsfully predicting a failure before it happens."
   ]
  },
  {
   "cell_type": "markdown",
   "metadata": {},
   "source": [
    "## Customize Enviornment"
   ]
  },
  {
   "cell_type": "code",
   "execution_count": 2,
   "metadata": {
    "collapsed": false
   },
   "outputs": [],
   "source": [
    "# load packages\n",
    "packages <- c(\"purrr\", \"doMC\", \"RMySQL\", \"lubridate\", \"ggplot2\", \"caret\", \"DMwR\", \"ROSE\", \"e1071\", \"randomForest\", \n",
    "              \"party\", \"Matrix\", \"xgboost\", \"DiagrammeR\", \"ipred\", \"nnet\", \"pROC\")\n",
    "purrr::walk(packages, library, character.only = TRUE, warn.conflicts = FALSE)\n",
    "\n",
    "# set default plot size\n",
    "options(repr.plot.width=10, repr.plot.height=6)\n",
    "\n",
    "# configure multicore processing\n",
    "registerDoMC(cores=8)"
   ]
  },
  {
   "cell_type": "markdown",
   "metadata": {},
   "source": [
    "## Load Data"
   ]
  },
  {
   "cell_type": "code",
   "execution_count": 12,
   "metadata": {
    "collapsed": false
   },
   "outputs": [
    {
     "data": {
      "text/html": [
       "TRUE"
      ],
      "text/latex": [
       "TRUE"
      ],
      "text/markdown": [
       "TRUE"
      ],
      "text/plain": [
       "[1] TRUE"
      ]
     },
     "metadata": {},
     "output_type": "display_data"
    }
   ],
   "source": [
    "# create an open connection to the database\n",
    "#cn <- dbConnect(drv = RMySQL::MySQL(),\n",
    "#                host = \"130.39.81.34\",\n",
    "#                port = 3306,\n",
    "#                user = \"champt9\",\n",
    "#                password = \"champt9\",\n",
    "#                dbname = \"hanes\")\n",
    "\n",
    "# query the database and store the results into a DataFrame\n",
    "#df <- dbGetQuery(cn, \"SELECT * FROM dryer3_1_hour_before_down\")\n",
    "#dbDisconnect(cn)"
   ]
  },
  {
   "cell_type": "code",
   "execution_count": 3,
   "metadata": {
    "collapsed": true
   },
   "outputs": [],
   "source": [
    "# save df to local machine\n",
    "#saveRDS(df, \"dryer3_1_hour_before_down.Rda\")\n",
    "df <- readRDS(\"dryer3_1_hour_before_down.Rda\")"
   ]
  },
  {
   "cell_type": "code",
   "execution_count": 4,
   "metadata": {
    "collapsed": false
   },
   "outputs": [
    {
     "data": {
      "text/html": [
       "<table>\n",
       "<thead><tr><th scope=col>Datetime_hour</th><th scope=col>DOWN</th><th scope=col>CircFan1_max</th><th scope=col>CircFan1_mean</th><th scope=col>CircFan1_min</th><th scope=col>CircFan1_std</th><th scope=col>CircFan2_max</th><th scope=col>CircFan2_mean</th><th scope=col>CircFan2_min</th><th scope=col>CircFan2_std</th><th scope=col>⋯</th><th scope=col>Valve4_min</th><th scope=col>Valve4_std</th><th scope=col>Valve5_max</th><th scope=col>Valve5_mean</th><th scope=col>Valve5_min</th><th scope=col>Valve5_std</th><th scope=col>Valve6_max</th><th scope=col>Valve6_mean</th><th scope=col>Valve6_min</th><th scope=col>Valve6_std</th></tr></thead>\n",
       "<tbody>\n",
       "\t<tr><td>2015-01-01 00:00:00</td><td>0                  </td><td>100                </td><td>100                </td><td>100                </td><td>0                  </td><td>100                </td><td>100                </td><td>100                </td><td>0                  </td><td>⋯                  </td><td>100                </td><td>0.000000           </td><td>100                </td><td>100.0              </td><td>100                </td><td>0.000000           </td><td>100                </td><td>100                </td><td>100                </td><td>0                  </td></tr>\n",
       "\t<tr><td>2015-01-01 01:00:00</td><td>0                  </td><td>100                </td><td>100                </td><td>100                </td><td>0                  </td><td>100                </td><td>100                </td><td>100                </td><td>0                  </td><td>⋯                  </td><td> 98                </td><td>0.461133           </td><td>100                </td><td>100.0              </td><td>100                </td><td>0.000000           </td><td>100                </td><td>100                </td><td>100                </td><td>0                  </td></tr>\n",
       "\t<tr><td>2015-01-01 02:00:00</td><td>0                  </td><td>100                </td><td>100                </td><td>100                </td><td>0                  </td><td>100                </td><td>100                </td><td>100                </td><td>0                  </td><td>⋯                  </td><td> 81                </td><td>4.944404           </td><td>100                </td><td> 99.5              </td><td> 91                </td><td>1.943158           </td><td>100                </td><td>100                </td><td>100                </td><td>0                  </td></tr>\n",
       "\t<tr><td>2015-01-01 03:00:00</td><td>0                  </td><td>100                </td><td>100                </td><td>100                </td><td>0                  </td><td>100                </td><td>100                </td><td>100                </td><td>0                  </td><td>⋯                  </td><td> 94                </td><td>1.381736           </td><td>100                </td><td>100.0              </td><td>100                </td><td>0.000000           </td><td>100                </td><td>100                </td><td>100                </td><td>0                  </td></tr>\n",
       "\t<tr><td>2015-01-01 04:00:00</td><td>0                  </td><td>100                </td><td>100                </td><td>100                </td><td>0                  </td><td>100                </td><td>100                </td><td>100                </td><td>0                  </td><td>⋯                  </td><td> 92                </td><td>1.695498           </td><td>100                </td><td>100.0              </td><td>100                </td><td>0.000000           </td><td>100                </td><td>100                </td><td>100                </td><td>0                  </td></tr>\n",
       "\t<tr><td>2015-01-01 05:00:00</td><td>0                  </td><td>100                </td><td>100                </td><td>100                </td><td>0                  </td><td>100                </td><td>100                </td><td>100                </td><td>0                  </td><td>⋯                  </td><td>100                </td><td>0.000000           </td><td>100                </td><td>100.0              </td><td>100                </td><td>0.000000           </td><td>100                </td><td>100                </td><td>100                </td><td>0                  </td></tr>\n",
       "</tbody>\n",
       "</table>\n"
      ],
      "text/latex": [
       "\\begin{tabular}{r|lllllllllllllllllllllllllllllllllllllllllllllllllllllllllllllllllllllllllllllllllllllllllllllllllllllllllllllllllllllllllllllllllllllllllllllllllllllllllllllllllllllllllllllllllllllllllllllllllllllllllllllllllll}\n",
       " Datetime\\_hour & DOWN & CircFan1\\_max & CircFan1\\_mean & CircFan1\\_min & CircFan1\\_std & CircFan2\\_max & CircFan2\\_mean & CircFan2\\_min & CircFan2\\_std & ⋯ & Valve4\\_min & Valve4\\_std & Valve5\\_max & Valve5\\_mean & Valve5\\_min & Valve5\\_std & Valve6\\_max & Valve6\\_mean & Valve6\\_min & Valve6\\_std\\\\\n",
       "\\hline\n",
       "\t 2015-01-01 00:00:00 & 0                   & 100                 & 100                 & 100                 & 0                   & 100                 & 100                 & 100                 & 0                   & ⋯                   & 100                 & 0.000000            & 100                 & 100.0               & 100                 & 0.000000            & 100                 & 100                 & 100                 & 0                  \\\\\n",
       "\t 2015-01-01 01:00:00 & 0                   & 100                 & 100                 & 100                 & 0                   & 100                 & 100                 & 100                 & 0                   & ⋯                   &  98                 & 0.461133            & 100                 & 100.0               & 100                 & 0.000000            & 100                 & 100                 & 100                 & 0                  \\\\\n",
       "\t 2015-01-01 02:00:00 & 0                   & 100                 & 100                 & 100                 & 0                   & 100                 & 100                 & 100                 & 0                   & ⋯                   &  81                 & 4.944404            & 100                 &  99.5               &  91                 & 1.943158            & 100                 & 100                 & 100                 & 0                  \\\\\n",
       "\t 2015-01-01 03:00:00 & 0                   & 100                 & 100                 & 100                 & 0                   & 100                 & 100                 & 100                 & 0                   & ⋯                   &  94                 & 1.381736            & 100                 & 100.0               & 100                 & 0.000000            & 100                 & 100                 & 100                 & 0                  \\\\\n",
       "\t 2015-01-01 04:00:00 & 0                   & 100                 & 100                 & 100                 & 0                   & 100                 & 100                 & 100                 & 0                   & ⋯                   &  92                 & 1.695498            & 100                 & 100.0               & 100                 & 0.000000            & 100                 & 100                 & 100                 & 0                  \\\\\n",
       "\t 2015-01-01 05:00:00 & 0                   & 100                 & 100                 & 100                 & 0                   & 100                 & 100                 & 100                 & 0                   & ⋯                   & 100                 & 0.000000            & 100                 & 100.0               & 100                 & 0.000000            & 100                 & 100                 & 100                 & 0                  \\\\\n",
       "\\end{tabular}\n"
      ],
      "text/markdown": [
       "\n",
       "Datetime_hour | DOWN | CircFan1_max | CircFan1_mean | CircFan1_min | CircFan1_std | CircFan2_max | CircFan2_mean | CircFan2_min | CircFan2_std | ⋯ | Valve4_min | Valve4_std | Valve5_max | Valve5_mean | Valve5_min | Valve5_std | Valve6_max | Valve6_mean | Valve6_min | Valve6_std | \n",
       "|---|---|---|---|---|---|\n",
       "| 2015-01-01 00:00:00 | 0                   | 100                 | 100                 | 100                 | 0                   | 100                 | 100                 | 100                 | 0                   | ⋯                   | 100                 | 0.000000            | 100                 | 100.0               | 100                 | 0.000000            | 100                 | 100                 | 100                 | 0                   | \n",
       "| 2015-01-01 01:00:00 | 0                   | 100                 | 100                 | 100                 | 0                   | 100                 | 100                 | 100                 | 0                   | ⋯                   |  98                 | 0.461133            | 100                 | 100.0               | 100                 | 0.000000            | 100                 | 100                 | 100                 | 0                   | \n",
       "| 2015-01-01 02:00:00 | 0                   | 100                 | 100                 | 100                 | 0                   | 100                 | 100                 | 100                 | 0                   | ⋯                   |  81                 | 4.944404            | 100                 |  99.5               |  91                 | 1.943158            | 100                 | 100                 | 100                 | 0                   | \n",
       "| 2015-01-01 03:00:00 | 0                   | 100                 | 100                 | 100                 | 0                   | 100                 | 100                 | 100                 | 0                   | ⋯                   |  94                 | 1.381736            | 100                 | 100.0               | 100                 | 0.000000            | 100                 | 100                 | 100                 | 0                   | \n",
       "| 2015-01-01 04:00:00 | 0                   | 100                 | 100                 | 100                 | 0                   | 100                 | 100                 | 100                 | 0                   | ⋯                   |  92                 | 1.695498            | 100                 | 100.0               | 100                 | 0.000000            | 100                 | 100                 | 100                 | 0                   | \n",
       "| 2015-01-01 05:00:00 | 0                   | 100                 | 100                 | 100                 | 0                   | 100                 | 100                 | 100                 | 0                   | ⋯                   | 100                 | 0.000000            | 100                 | 100.0               | 100                 | 0.000000            | 100                 | 100                 | 100                 | 0                   | \n",
       "\n",
       "\n"
      ],
      "text/plain": [
       "  Datetime_hour       DOWN CircFan1_max CircFan1_mean CircFan1_min CircFan1_std\n",
       "1 2015-01-01 00:00:00 0    100          100           100          0           \n",
       "2 2015-01-01 01:00:00 0    100          100           100          0           \n",
       "3 2015-01-01 02:00:00 0    100          100           100          0           \n",
       "4 2015-01-01 03:00:00 0    100          100           100          0           \n",
       "5 2015-01-01 04:00:00 0    100          100           100          0           \n",
       "6 2015-01-01 05:00:00 0    100          100           100          0           \n",
       "  CircFan2_max CircFan2_mean CircFan2_min CircFan2_std ⋯ Valve4_min Valve4_std\n",
       "1 100          100           100          0            ⋯ 100        0.000000  \n",
       "2 100          100           100          0            ⋯  98        0.461133  \n",
       "3 100          100           100          0            ⋯  81        4.944404  \n",
       "4 100          100           100          0            ⋯  94        1.381736  \n",
       "5 100          100           100          0            ⋯  92        1.695498  \n",
       "6 100          100           100          0            ⋯ 100        0.000000  \n",
       "  Valve5_max Valve5_mean Valve5_min Valve5_std Valve6_max Valve6_mean\n",
       "1 100        100.0       100        0.000000   100        100        \n",
       "2 100        100.0       100        0.000000   100        100        \n",
       "3 100         99.5        91        1.943158   100        100        \n",
       "4 100        100.0       100        0.000000   100        100        \n",
       "5 100        100.0       100        0.000000   100        100        \n",
       "6 100        100.0       100        0.000000   100        100        \n",
       "  Valve6_min Valve6_std\n",
       "1 100        0         \n",
       "2 100        0         \n",
       "3 100        0         \n",
       "4 100        0         \n",
       "5 100        0         \n",
       "6 100        0         "
      ]
     },
     "metadata": {},
     "output_type": "display_data"
    }
   ],
   "source": [
    "# show a sample of the data\n",
    "head(df)"
   ]
  },
  {
   "cell_type": "markdown",
   "metadata": {},
   "source": [
    "## Feature Engineering"
   ]
  },
  {
   "cell_type": "markdown",
   "metadata": {},
   "source": [
    "### Feature engineering is the process of using domain knowledge of the data to create features that make machine learning algorithms work. Feature engineering is fundamental to the application of machine learning, and is both difficult and expensive."
   ]
  },
  {
   "cell_type": "code",
   "execution_count": 5,
   "metadata": {
    "collapsed": false
   },
   "outputs": [],
   "source": [
    "# create a new variable that indicates failure in the next hour\n",
    "df$Class  <- as.factor(df$DOWN)\n",
    "\n",
    "# drop the old failure indicators\n",
    "df$DOWN <- NULL\n",
    "\n",
    "# create variable names for the Class variable\n",
    "levels(df$Class) <- make.names(c(\"notDown\", \"down\"))"
   ]
  },
  {
   "cell_type": "code",
   "execution_count": 6,
   "metadata": {
    "collapsed": true
   },
   "outputs": [],
   "source": [
    "# create new variables for dates and time\n",
    "df$Datetime_hour <- ymd_hms(df$Datetime)\n",
    "df$Year <- year(df$Datetime_hour)\n",
    "df$Month <- month(df$Datetime_hour)\n",
    "df$Day <- day(df$Datetime_hour)\n",
    "df$Hour <- hour(df$Datetime_hour)\n",
    "df$Minute <- minute(df$Datetime_hour)\n",
    "df$Datetime_hour <- NULL"
   ]
  },
  {
   "cell_type": "markdown",
   "metadata": {},
   "source": [
    "## Review Proportion of Downtime"
   ]
  },
  {
   "cell_type": "markdown",
   "metadata": {},
   "source": [
    "### Before we get into looking at the class imbalance, let's look at what months we have data from.  We will also look at how many downtimes happened in each of those months"
   ]
  },
  {
   "cell_type": "code",
   "execution_count": 7,
   "metadata": {
    "collapsed": false
   },
   "outputs": [
    {
     "name": "stdout",
     "output_type": "stream",
     "text": [
      "Number of events per month:"
     ]
    },
    {
     "data": {
      "text/plain": [
       "      \n",
       "         1   2   3   4   5   6   7   8   9  10  11  12\n",
       "  2015 701 409 713 697 671 641 687 672 603 501 560 465\n",
       "  2016 419 272 507 611 613 544   0   0   0   0   0   0"
      ]
     },
     "metadata": {},
     "output_type": "display_data"
    },
    {
     "name": "stdout",
     "output_type": "stream",
     "text": [
      "\n",
      "Number of downtimes per month:"
     ]
    },
    {
     "data": {
      "text/plain": [
       "      \n",
       "        1  2  3  4  5  6  7  8  9 10 11 12\n",
       "  2015 24 11 24 16 24 28 25 27 25 18 29 29\n",
       "  2016 21  9 26 24 17 19  0  0  0  0  0  0"
      ]
     },
     "metadata": {},
     "output_type": "display_data"
    }
   ],
   "source": [
    "# look at the number of records per month\n",
    "cat(\"Number of events per month:\")\n",
    "table(df$Year, df$Month)\n",
    "\n",
    "# look at the number of failures per month\n",
    "cat(\"\\nNumber of downtimes per month:\")\n",
    "down <- df[df$Class == 'down', ]\n",
    "table(down$Year, down$Month)"
   ]
  },
  {
   "cell_type": "markdown",
   "metadata": {},
   "source": [
    "#### As we can see in the number of downtimes per month is relatively consistent.  "
   ]
  },
  {
   "cell_type": "code",
   "execution_count": 8,
   "metadata": {
    "collapsed": false
   },
   "outputs": [
    {
     "name": "stdout",
     "output_type": "stream",
     "text": [
      "Number of downtimes per month:"
     ]
    },
    {
     "data": {
      "text/plain": [
       "         \n",
       "            1   2   3   4   5   6   7   8   9  10  11  12\n",
       "  notDown 677 398 689 681 647 613 662 645 578 483 531 436\n",
       "  down     24  11  24  16  24  28  25  27  25  18  29  29"
      ]
     },
     "metadata": {},
     "output_type": "display_data"
    }
   ],
   "source": [
    "# subset df to only 2015\n",
    "df <- df[df$Year == 2015, ]\n",
    "\n",
    "# look at the number of failures per month\n",
    "cat(\"Number of downtimes per month:\")\n",
    "table(df$Class, df$Month)"
   ]
  },
  {
   "cell_type": "markdown",
   "metadata": {},
   "source": [
    "#### In addition, we will also look for and remove variables that remain constant without our newly subsetted dataset.  Variables that remain constant are of no use, as they cannot help us to discriminate a failure from a non-failure."
   ]
  },
  {
   "cell_type": "code",
   "execution_count": 9,
   "metadata": {
    "collapsed": false
   },
   "outputs": [
    {
     "name": "stdout",
     "output_type": "stream",
     "text": [
      "Number of variables before:"
     ]
    },
    {
     "data": {
      "text/html": [
       "215"
      ],
      "text/latex": [
       "215"
      ],
      "text/markdown": [
       "215"
      ],
      "text/plain": [
       "[1] 215"
      ]
     },
     "metadata": {},
     "output_type": "display_data"
    },
    {
     "name": "stdout",
     "output_type": "stream",
     "text": [
      "\n",
      "Number of variables after:"
     ]
    },
    {
     "data": {
      "text/html": [
       "169"
      ],
      "text/latex": [
       "169"
      ],
      "text/markdown": [
       "169"
      ],
      "text/plain": [
       "[1] 169"
      ]
     },
     "metadata": {},
     "output_type": "display_data"
    }
   ],
   "source": [
    "# look at the number of variables\n",
    "cat(\"Number of variables before:\")\n",
    "ncol(df)\n",
    "\n",
    "# drop variables are are constant\n",
    "df <- df[sapply(df, function(x) length(unique(na.omit(x)))) > 1]\n",
    "    \n",
    "# look at the number of variables\n",
    "cat(\"\\nNumber of variables after:\")\n",
    "ncol(df)"
   ]
  },
  {
   "cell_type": "markdown",
   "metadata": {},
   "source": [
    "## Partition Data"
   ]
  },
  {
   "cell_type": "markdown",
   "metadata": {},
   "source": [
    "#### Because this is time-series data, we cannot partition our dataset using a random sample approach.  Instead, we will divide the data by putting the first 9 months into the training data, and the remaining 2 months into the test dataset."
   ]
  },
  {
   "cell_type": "code",
   "execution_count": 10,
   "metadata": {
    "collapsed": true
   },
   "outputs": [],
   "source": [
    "# split into training and test\n",
    "imbal_train <- df[df$Month <= 9, ]\n",
    "imbal_test <- df[df$Month > 9, ]"
   ]
  },
  {
   "cell_type": "code",
   "execution_count": 11,
   "metadata": {
    "collapsed": false
   },
   "outputs": [
    {
     "name": "stdout",
     "output_type": "stream",
     "text": [
      "Downtime ratio in training data:"
     ]
    },
    {
     "data": {
      "text/plain": [
       "\n",
       "   notDown       down \n",
       "0.96479116 0.03520884 "
      ]
     },
     "metadata": {},
     "output_type": "display_data"
    },
    {
     "name": "stdout",
     "output_type": "stream",
     "text": [
      "\n",
      "Downtime ratio in test data:"
     ]
    },
    {
     "data": {
      "text/plain": [
       "\n",
       "   notDown       down \n",
       "0.96479116 0.03520884 "
      ]
     },
     "metadata": {},
     "output_type": "display_data"
    }
   ],
   "source": [
    "# compare downtime ratio in training and test\n",
    "cat(\"Downtime ratio in training data:\")\n",
    "prop.table(table(imbal_train$Class))\n",
    "\n",
    "cat(\"\\nDowntime ratio in test data:\")\n",
    "prop.table(table(imbal_train$Class))"
   ]
  },
  {
   "cell_type": "markdown",
   "metadata": {},
   "source": [
    "## Balance Data"
   ]
  },
  {
   "cell_type": "markdown",
   "metadata": {},
   "source": [
    "### We are using 4 different methods in attempt to deal with the imbalanced data.  "
   ]
  },
  {
   "cell_type": "markdown",
   "metadata": {},
   "source": [
    "#### Down Sampling works with majority class. It reduces the number of observations from majority class to make the data set balanced. This method is best to use when the data set is huge and reducing the number of training samples helps to improve run time and storage troubles."
   ]
  },
  {
   "cell_type": "code",
   "execution_count": 12,
   "metadata": {
    "collapsed": false
   },
   "outputs": [
    {
     "name": "stdout",
     "output_type": "stream",
     "text": [
      "Number of failures to non-failures in the down-sampled dataset:"
     ]
    },
    {
     "data": {
      "text/plain": [
       "\n",
       "notDown    down \n",
       "    204     204 "
      ]
     },
     "metadata": {},
     "output_type": "display_data"
    }
   ],
   "source": [
    "set.seed(1234)\n",
    "down_train <- downSample(x = imbal_train[, -ncol(imbal_train)],\n",
    "                         y = imbal_train$Class)\n",
    "\n",
    "cat(\"Number of failures to non-failures in the down-sampled dataset:\")\n",
    "table(down_train$Class)   "
   ]
  },
  {
   "cell_type": "markdown",
   "metadata": {},
   "source": [
    "#### Up Sampling works with minority class. It replicates the observations from minority class to balance the data. It is also known as upsampling."
   ]
  },
  {
   "cell_type": "code",
   "execution_count": 13,
   "metadata": {
    "collapsed": false
   },
   "outputs": [
    {
     "data": {
      "text/plain": [
       "\n",
       "notDown    down \n",
       "   5590    5590 "
      ]
     },
     "metadata": {},
     "output_type": "display_data"
    }
   ],
   "source": [
    "set.seed(1234)\n",
    "up_train <- upSample(x = imbal_train[, -ncol(imbal_train)],\n",
    "                     y = imbal_train$Class)                         \n",
    "\n",
    "table(up_train$Class) "
   ]
  },
  {
   "cell_type": "markdown",
   "metadata": {},
   "source": [
    "#### SMOTE (Synthetic Minority Over-sampling Technique) works by creating synthetic samples from the under-represented class instead of creating copies"
   ]
  },
  {
   "cell_type": "code",
   "execution_count": 14,
   "metadata": {
    "collapsed": false
   },
   "outputs": [
    {
     "data": {
      "text/plain": [
       "\n",
       "notDown    down \n",
       "    816     612 "
      ]
     },
     "metadata": {},
     "output_type": "display_data"
    }
   ],
   "source": [
    "set.seed(1234)\n",
    "smote_train <- SMOTE(Class ~ ., \n",
    "                     data = imbal_train)                         \n",
    "\n",
    "table(smote_train$Class)"
   ]
  },
  {
   "cell_type": "markdown",
   "metadata": {},
   "source": [
    "#### ROSE (Random Over-Sampling Examples) works by creating synthetic samples from the under-represented class"
   ]
  },
  {
   "cell_type": "code",
   "execution_count": 15,
   "metadata": {
    "collapsed": false
   },
   "outputs": [
    {
     "data": {
      "text/plain": [
       "\n",
       "notDown    down \n",
       "   2892    2897 "
      ]
     },
     "metadata": {},
     "output_type": "display_data"
    }
   ],
   "source": [
    "set.seed(1234)\n",
    "rose_train <- ROSE(Class ~ ., \n",
    "                   data = imbal_train)$data                         \n",
    "\n",
    "table(rose_train$Class) "
   ]
  },
  {
   "cell_type": "markdown",
   "metadata": {},
   "source": [
    "## Compare Balancing Methods"
   ]
  },
  {
   "cell_type": "markdown",
   "metadata": {},
   "source": [
    "### In order to evalaute the usefulness of the 4 different balancing methods, we will be run the same classification methods on each of these new datasets and compare the results"
   ]
  },
  {
   "cell_type": "code",
   "execution_count": 59,
   "metadata": {
    "collapsed": true
   },
   "outputs": [],
   "source": [
    "ctrl <- trainControl(method = \"repeatedcv\", \n",
    "                     repeats = 5,\n",
    "                     classProbs = TRUE,\n",
    "                     summaryFunction = twoClassSummary)"
   ]
  },
  {
   "cell_type": "code",
   "execution_count": 60,
   "metadata": {
    "collapsed": false
   },
   "outputs": [],
   "source": [
    "set.seed(1234)\n",
    "orig_fit <- train(Class ~ ., \n",
    "                   data = imbal_train, \n",
    "                   method = \"treebag\",\n",
    "                   nbagg = 50,\n",
    "                   metric = \"ROC\",\n",
    "                   trControl = ctrl,\n",
    "                   na.action=na.exclude)"
   ]
  },
  {
   "cell_type": "code",
   "execution_count": 61,
   "metadata": {
    "collapsed": false
   },
   "outputs": [],
   "source": [
    "set.seed(1234)\n",
    "down_fit <- train(Class ~ ., \n",
    "                   data = down_train, \n",
    "                   method = \"treebag\",\n",
    "                   nbagg = 50,\n",
    "                   metric = \"ROC\",\n",
    "                   trControl = ctrl,\n",
    "                   na.action=na.exclude)"
   ]
  },
  {
   "cell_type": "code",
   "execution_count": 62,
   "metadata": {
    "collapsed": true
   },
   "outputs": [],
   "source": [
    "set.seed(1234)\n",
    "up_fit <- train(Class ~ ., \n",
    "                data = up_train, \n",
    "                method = \"treebag\",\n",
    "                nbagg = 50,\n",
    "                metric = \"ROC\",\n",
    "                trControl = ctrl,\n",
    "                na.action=na.exclude)"
   ]
  },
  {
   "cell_type": "code",
   "execution_count": 63,
   "metadata": {
    "collapsed": false
   },
   "outputs": [],
   "source": [
    "set.seed(1234)\n",
    "smote_fit <- train(Class ~ ., \n",
    "                    data = smote_train, \n",
    "                    method = \"treebag\",\n",
    "                    nbagg = 50,\n",
    "                    metric = \"ROC\",\n",
    "                    trControl = ctrl,\n",
    "                    na.action=na.exclude)"
   ]
  },
  {
   "cell_type": "code",
   "execution_count": 64,
   "metadata": {
    "collapsed": true
   },
   "outputs": [],
   "source": [
    "set.seed(1234)\n",
    "rose_fit <- train(Class ~ ., \n",
    "                  data = rose_train, \n",
    "                  method = \"treebag\",\n",
    "                  nbagg = 50,\n",
    "                  metric = \"ROC\",\n",
    "                  trControl = ctrl,\n",
    "                  na.action=na.exclude)"
   ]
  },
  {
   "cell_type": "markdown",
   "metadata": {},
   "source": [
    "#### To compare the different balancing methods, we will validate the models with the test data and compare the ROC values"
   ]
  },
  {
   "cell_type": "code",
   "execution_count": 65,
   "metadata": {
    "collapsed": false
   },
   "outputs": [
    {
     "data": {
      "text/html": [
       "<table>\n",
       "<thead><tr><th></th><th scope=col>lower</th><th scope=col>ROC</th><th scope=col>upper</th></tr></thead>\n",
       "<tbody>\n",
       "\t<tr><th scope=row>original</th><td>0.4073164</td><td>0.4680717</td><td>0.5288270</td></tr>\n",
       "\t<tr><th scope=row>down</th><td>0.4758308</td><td>0.5376180</td><td>0.5994051</td></tr>\n",
       "\t<tr><th scope=row>up</th><td>0.4333575</td><td>0.5001906</td><td>0.5670236</td></tr>\n",
       "\t<tr><th scope=row>SMOTE</th><td>0.4363882</td><td>0.5017604</td><td>0.5671327</td></tr>\n",
       "\t<tr><th scope=row>ROSE</th><td>0.4998647</td><td>0.5010345</td><td>0.5022043</td></tr>\n",
       "</tbody>\n",
       "</table>\n"
      ],
      "text/latex": [
       "\\begin{tabular}{r|lll}\n",
       "  & lower & ROC & upper\\\\\n",
       "\\hline\n",
       "\toriginal & 0.4073164 & 0.4680717 & 0.5288270\\\\\n",
       "\tdown & 0.4758308 & 0.5376180 & 0.5994051\\\\\n",
       "\tup & 0.4333575 & 0.5001906 & 0.5670236\\\\\n",
       "\tSMOTE & 0.4363882 & 0.5017604 & 0.5671327\\\\\n",
       "\tROSE & 0.4998647 & 0.5010345 & 0.5022043\\\\\n",
       "\\end{tabular}\n"
      ],
      "text/markdown": [
       "\n",
       "| <!--/--> | lower | ROC | upper | \n",
       "|---|---|---|---|---|\n",
       "| original | 0.4073164 | 0.4680717 | 0.5288270 | \n",
       "| down | 0.4758308 | 0.5376180 | 0.5994051 | \n",
       "| up | 0.4333575 | 0.5001906 | 0.5670236 | \n",
       "| SMOTE | 0.4363882 | 0.5017604 | 0.5671327 | \n",
       "| ROSE | 0.4998647 | 0.5010345 | 0.5022043 | \n",
       "\n",
       "\n"
      ],
      "text/plain": [
       "         lower     ROC       upper    \n",
       "original 0.4073164 0.4680717 0.5288270\n",
       "down     0.4758308 0.5376180 0.5994051\n",
       "up       0.4333575 0.5001906 0.5670236\n",
       "SMOTE    0.4363882 0.5017604 0.5671327\n",
       "ROSE     0.4998647 0.5010345 0.5022043"
      ]
     },
     "metadata": {},
     "output_type": "display_data"
    }
   ],
   "source": [
    "balance_models <- list(original = orig_fit,\n",
    "                       down = down_fit,\n",
    "                       up = up_fit,\n",
    "                       SMOTE = smote_fit,\n",
    "                       ROSE = rose_fit)\n",
    "\n",
    "balance_resampling <- resamples(balance_models)\n",
    "\n",
    "test_roc <- function(model, data) {\n",
    "  library(pROC)\n",
    "  roc_obj <- roc(data$Class, \n",
    "                 predict(model, data, type = \"prob\")[, \"down\"])\n",
    "  ci(roc_obj)\n",
    "  }\n",
    "\n",
    "balance_test <- lapply(balance_models, test_roc, data = imbal_test)\n",
    "balance_test <- lapply(balance_test, as.vector)\n",
    "balance_test <- do.call(\"rbind\", balance_test)\n",
    "colnames(balance_test) <- c(\"lower\", \"ROC\", \"upper\")\n",
    "balance_test <- as.data.frame(balance_test)\n",
    "\n",
    "#summary(balance_resampling, metric = \"ROC\")\n",
    "balance_test"
   ]
  },
  {
   "cell_type": "markdown",
   "metadata": {
    "collapsed": false
   },
   "source": [
    "## Explore Classification Methods"
   ]
  },
  {
   "cell_type": "code",
   "execution_count": 16,
   "metadata": {
    "collapsed": false
   },
   "outputs": [],
   "source": [
    "# define contrls for each model\n",
    "fit_ctrl <- trainControl(method = \"repeatedcv\", \n",
    "                         repeats = 5,\n",
    "                         classProbs = TRUE,\n",
    "                         summaryFunction = twoClassSummary)"
   ]
  },
  {
   "cell_type": "markdown",
   "metadata": {
    "collapsed": true
   },
   "source": [
    "### Decision Tree"
   ]
  },
  {
   "cell_type": "code",
   "execution_count": 18,
   "metadata": {
    "collapsed": false
   },
   "outputs": [],
   "source": [
    "set.seed(1234)\n",
    "rpart_fit <- train(Class ~ ., \n",
    "                   data = imbal_train,\n",
    "                   method = \"rpart\",\n",
    "                   metric = \"ROC\",\n",
    "                   trControl = fit_ctrl,\n",
    "                   na.action = na.exclude)"
   ]
  },
  {
   "cell_type": "code",
   "execution_count": 19,
   "metadata": {
    "collapsed": false
   },
   "outputs": [
    {
     "data": {
      "text/plain": [
       "CART \n",
       "\n",
       "5789 samples\n",
       " 168 predictor\n",
       "   2 classes: 'notDown', 'down' \n",
       "\n",
       "No pre-processing\n",
       "Resampling: Cross-Validated (10 fold, repeated 5 times) \n",
       "Summary of sample sizes: 5211, 5209, 5211, 5210, 5210, 5210, ... \n",
       "Resampling results across tuning parameters:\n",
       "\n",
       "  cp            ROC        Sens       Spec       \n",
       "  0.0006157635  0.5446023  0.9929464  0.007904762\n",
       "  0.0008210181  0.5471583  0.9938413  0.007904762\n",
       "  0.0009852217  0.5436086  0.9943425  0.007904762\n",
       "\n",
       "ROC was used to select the optimal model using  the largest value.\n",
       "The final value used for the model was cp = 0.0008210181. "
      ]
     },
     "metadata": {},
     "output_type": "display_data"
    }
   ],
   "source": [
    "rpart_fit"
   ]
  },
  {
   "cell_type": "code",
   "execution_count": 75,
   "metadata": {
    "collapsed": false
   },
   "outputs": [
    {
     "data": {
      "text/plain": [
       "rpart variable importance\n",
       "\n",
       "  only 20 most important variables shown (out of 168)\n",
       "\n",
       "                    Overall\n",
       "Temp6_mean           100.00\n",
       "Temp5_mean            94.64\n",
       "Valve5_std            93.39\n",
       "Valve5_min            77.24\n",
       "Valve5_mean           70.29\n",
       "CircFanAct6_min       52.72\n",
       "LowerCnvySpeed_min    50.36\n",
       "ExitCnvySpeed_min     50.36\n",
       "MiddleCnvySpeed_min   50.36\n",
       "FolderSpeed_min       50.36\n",
       "MiddleCnvyRatio_std   44.64\n",
       "Temp6_min             30.66\n",
       "Hour                  25.00\n",
       "Temp2_mean            20.56\n",
       "Plevia_max            19.69\n",
       "Plevia_std            18.53\n",
       "FeedCnvyRatio_std     15.03\n",
       "Valve6_max             0.00\n",
       "Temp4_std              0.00\n",
       "LowerCnvySpeed_std     0.00"
      ]
     },
     "metadata": {},
     "output_type": "display_data"
    }
   ],
   "source": [
    "# show which variables are important in this model\n",
    "varImp(rpart_fit)"
   ]
  },
  {
   "cell_type": "code",
   "execution_count": 26,
   "metadata": {
    "collapsed": false
   },
   "outputs": [],
   "source": [
    "rpart_pred <- predict(rpart_fit, imbal_test, type = \"prob\")\n",
    "rpart_pred$pred <- factor(ifelse(rpart_pred$notDown >= .5, \"notDown\", \"down\"))\n",
    "rpart_pred <- cbind(rpart_pred, actual = imbal_test$Class)"
   ]
  },
  {
   "cell_type": "code",
   "execution_count": 28,
   "metadata": {
    "collapsed": false
   },
   "outputs": [
    {
     "name": "stderr",
     "output_type": "stream",
     "text": [
      "Warning message in confusionMatrix.default(data = rpart_pred$pred, reference = rpart_pred$actual):\n",
      "“Levels are not in the same order for reference and data. Refactoring data to match.”"
     ]
    },
    {
     "data": {
      "text/plain": [
       "Confusion Matrix and Statistics\n",
       "\n",
       "          Reference\n",
       "Prediction notDown down\n",
       "   notDown    1450   76\n",
       "   down          0    0\n",
       "                                          \n",
       "               Accuracy : 0.9502          \n",
       "                 95% CI : (0.9381, 0.9606)\n",
       "    No Information Rate : 0.9502          \n",
       "    P-Value [Acc > NIR] : 0.5305          \n",
       "                                          \n",
       "                  Kappa : 0               \n",
       " Mcnemar's Test P-Value : <2e-16          \n",
       "                                          \n",
       "            Sensitivity : 1.0000          \n",
       "            Specificity : 0.0000          \n",
       "         Pos Pred Value : 0.9502          \n",
       "         Neg Pred Value :    NaN          \n",
       "             Prevalence : 0.9502          \n",
       "         Detection Rate : 0.9502          \n",
       "   Detection Prevalence : 1.0000          \n",
       "      Balanced Accuracy : 0.5000          \n",
       "                                          \n",
       "       'Positive' Class : notDown         \n",
       "                                          "
      ]
     },
     "metadata": {},
     "output_type": "display_data"
    }
   ],
   "source": [
    "confusionMatrix(data = rpart_pred$pred, reference = rpart_pred$actual)"
   ]
  },
  {
   "cell_type": "markdown",
   "metadata": {},
   "source": [
    "### Bagged Tree"
   ]
  },
  {
   "cell_type": "code",
   "execution_count": 29,
   "metadata": {
    "collapsed": true
   },
   "outputs": [],
   "source": [
    "ctrl <- trainControl(method = \"repeatedcv\", \n",
    "                     repeats = 5,\n",
    "                     classProbs = TRUE,\n",
    "                     summaryFunction = twoClassSummary)"
   ]
  },
  {
   "cell_type": "code",
   "execution_count": 31,
   "metadata": {
    "collapsed": false
   },
   "outputs": [],
   "source": [
    "set.seed(1234)\n",
    "treebag_fit <- train(Class ~ ., \n",
    "                     data = imbal_train,\n",
    "                     method = \"treebag\",\n",
    "                     nbagg = 50,\n",
    "                     metric = \"ROC\",\n",
    "                     trControl = ctrl, \n",
    "                     na.action=na.exclude)"
   ]
  },
  {
   "cell_type": "code",
   "execution_count": 32,
   "metadata": {
    "collapsed": false
   },
   "outputs": [
    {
     "data": {
      "text/plain": [
       "Bagged CART \n",
       "\n",
       "5789 samples\n",
       " 168 predictor\n",
       "   2 classes: 'notDown', 'down' \n",
       "\n",
       "No pre-processing\n",
       "Resampling: Cross-Validated (10 fold, repeated 5 times) \n",
       "Summary of sample sizes: 5211, 5209, 5211, 5210, 5210, 5210, ... \n",
       "Resampling results:\n",
       "\n",
       "  ROC        Sens       Spec       \n",
       "  0.5646364  0.9985317  0.003857143\n",
       "\n",
       " "
      ]
     },
     "metadata": {},
     "output_type": "display_data"
    }
   ],
   "source": [
    "treebag_fit"
   ]
  },
  {
   "cell_type": "code",
   "execution_count": 74,
   "metadata": {
    "collapsed": false
   },
   "outputs": [
    {
     "data": {
      "text/plain": [
       "treebag variable importance\n",
       "\n",
       "  only 20 most important variables shown (out of 168)\n",
       "\n",
       "                     Overall\n",
       "LowerCnvySpeed_max    100.00\n",
       "LowerCnvySpeed_mean    88.59\n",
       "LowerCnvySpeed_min     71.97\n",
       "LowerCnvySpeed_std     70.18\n",
       "MiddleCnvyRatio_mean   65.86\n",
       "Temp3_mean             63.30\n",
       "MiddleCnvyRatio_min    62.87\n",
       "MiddleCnvyRatio_max    59.65\n",
       "Temp5_mean             56.87\n",
       "Temp6_mean             55.25\n",
       "Temp1_max              51.96\n",
       "Valve4_mean            51.00\n",
       "Temp3_std              48.70\n",
       "Temp3_max              46.74\n",
       "Temp6_max              46.50\n",
       "Temp1_std              45.94\n",
       "Temp1_mean             45.78\n",
       "Temp3_min              45.09\n",
       "Plevia_std             43.96\n",
       "Temp6_min              43.53"
      ]
     },
     "metadata": {},
     "output_type": "display_data"
    }
   ],
   "source": [
    "# show which variables are important in this model\n",
    "varImp(treebag_fit)"
   ]
  },
  {
   "cell_type": "code",
   "execution_count": 112,
   "metadata": {
    "collapsed": false
   },
   "outputs": [],
   "source": [
    "treebag_pred <- predict(treebag_fit, imbal_test, type = \"prob\")\n",
    "treebag_pred$pred <- factor(ifelse(treebag_pred$notDown >= .5, \"notDown\", \"down\"))\n",
    "treebag_pred <- cbind(treebag_pred, actual = imbal_test$Class)"
   ]
  },
  {
   "cell_type": "code",
   "execution_count": 113,
   "metadata": {
    "collapsed": false
   },
   "outputs": [
    {
     "name": "stderr",
     "output_type": "stream",
     "text": [
      "Warning message in confusionMatrix.default(data = treebag_pred$pred, reference = treebag_pred$actual):\n",
      "“Levels are not in the same order for reference and data. Refactoring data to match.”"
     ]
    },
    {
     "data": {
      "text/plain": [
       "Confusion Matrix and Statistics\n",
       "\n",
       "          Reference\n",
       "Prediction notDown down\n",
       "   notDown    1433   75\n",
       "   down         17    1\n",
       "                                          \n",
       "               Accuracy : 0.9397          \n",
       "                 95% CI : (0.9266, 0.9511)\n",
       "    No Information Rate : 0.9502          \n",
       "    P-Value [Acc > NIR] : 0.9711          \n",
       "                                          \n",
       "                  Kappa : 0.0022          \n",
       " Mcnemar's Test P-Value : 2.804e-09       \n",
       "                                          \n",
       "            Sensitivity : 0.98828         \n",
       "            Specificity : 0.01316         \n",
       "         Pos Pred Value : 0.95027         \n",
       "         Neg Pred Value : 0.05556         \n",
       "             Prevalence : 0.95020         \n",
       "         Detection Rate : 0.93906         \n",
       "   Detection Prevalence : 0.98820         \n",
       "      Balanced Accuracy : 0.50072         \n",
       "                                          \n",
       "       'Positive' Class : notDown         \n",
       "                                          "
      ]
     },
     "metadata": {},
     "output_type": "display_data"
    }
   ],
   "source": [
    "confusionMatrix(data = treebag_pred$pred, reference = treebag_pred$actual)"
   ]
  },
  {
   "cell_type": "markdown",
   "metadata": {},
   "source": [
    "### Bagged Tree"
   ]
  },
  {
   "cell_type": "code",
   "execution_count": 114,
   "metadata": {
    "collapsed": true
   },
   "outputs": [],
   "source": [
    "ctrl <- trainControl(method = \"repeatedcv\", \n",
    "                     repeats = 5,\n",
    "                     classProbs = TRUE,\n",
    "                     summaryFunction = twoClassSummary)"
   ]
  },
  {
   "cell_type": "code",
   "execution_count": 147,
   "metadata": {
    "collapsed": false
   },
   "outputs": [],
   "source": [
    "set.seed(1234)\n",
    "treebag_smote_fit <- train(Class ~ ., \n",
    "                           data = smote_train,\n",
    "                           method = \"treebag\",\n",
    "                           nbagg = 100,\n",
    "                           metric = \"Spec\",\n",
    "                           trControl = ctrl, \n",
    "                           na.action=na.exclude)"
   ]
  },
  {
   "cell_type": "code",
   "execution_count": 149,
   "metadata": {
    "collapsed": false
   },
   "outputs": [
    {
     "data": {
      "text/plain": [
       "Bagged CART \n",
       "\n",
       "1425 samples\n",
       " 168 predictor\n",
       "   2 classes: 'notDown', 'down' \n",
       "\n",
       "No pre-processing\n",
       "Resampling: Cross-Validated (10 fold, repeated 5 times) \n",
       "Summary of sample sizes: 1282, 1283, 1284, 1283, 1282, 1282, ... \n",
       "Resampling results:\n",
       "\n",
       "  ROC        Sens       Spec     \n",
       "  0.8803384  0.9333695  0.6955902\n",
       "\n",
       " "
      ]
     },
     "metadata": {},
     "output_type": "display_data"
    }
   ],
   "source": [
    "treebag_smote_fit"
   ]
  },
  {
   "cell_type": "code",
   "execution_count": 150,
   "metadata": {
    "collapsed": false
   },
   "outputs": [
    {
     "data": {
      "text/plain": [
       "treebag variable importance\n",
       "\n",
       "  only 20 most important variables shown (out of 168)\n",
       "\n",
       "                    Overall\n",
       "FeedCnvyRatio_max    100.00\n",
       "FeedCnvyRatio_mean    97.94\n",
       "FeedCnvyRatio_min     97.56\n",
       "Temp6_mean            28.41\n",
       "Temp5_mean            23.91\n",
       "Temp5_max             18.65\n",
       "Temp6_max             18.42\n",
       "Month                 15.33\n",
       "LowerCnvySpeed_max    14.96\n",
       "Temp6_min             14.63\n",
       "LowerCnvySpeed_min    14.02\n",
       "EntryRatio_min        13.85\n",
       "EntryRatio_max        12.67\n",
       "Temp1_std             12.13\n",
       "Temp1_max             11.85\n",
       "Temp1_mean            11.22\n",
       "Temp3_std             10.50\n",
       "LowerCnvySpeed_mean   10.32\n",
       "Temp3_max             10.09\n",
       "LowerCnvySpeed_std    10.01"
      ]
     },
     "metadata": {},
     "output_type": "display_data"
    }
   ],
   "source": [
    "# show which variables are important in this model\n",
    "varImp(treebag_smote_fit)"
   ]
  },
  {
   "cell_type": "code",
   "execution_count": 176,
   "metadata": {
    "collapsed": false
   },
   "outputs": [],
   "source": [
    "treebag_smote_pred <- predict(treebag_smote_fit, imbal_test, type = \"prob\")\n",
    "treebag_smote_pred$pred <- factor(ifelse(treebag_smote_pred$notDown >= .5, \"notDown\", \"down\"))\n",
    "treebag_smote_pred <- cbind(treebag_smote_pred, actual = imbal_test$Class)"
   ]
  },
  {
   "cell_type": "code",
   "execution_count": 178,
   "metadata": {
    "collapsed": false
   },
   "outputs": [
    {
     "data": {
      "image/png": "[encoded data removed]",
      "text/plain": [
       "Plot with title “AUC: 0.51”"
      ]
     },
     "metadata": {},
     "output_type": "display_data"
    }
   ],
   "source": [
    "auc <- roc(imbal_test$Class, treebag_smote_pred$notDown)\n",
    "plot(auc, ylim=c(0,1), print.thres=TRUE, main=paste('AUC:',round(auc$auc[[1]],2)))\n",
    "abline(h=1,col='blue',lwd=2)\n",
    "abline(h=0,col='red',lwd=2)"
   ]
  },
  {
   "cell_type": "code",
   "execution_count": 175,
   "metadata": {
    "collapsed": false
   },
   "outputs": [
    {
     "name": "stderr",
     "output_type": "stream",
     "text": [
      "Warning message in confusionMatrix.default(data = treebag_smote_pred$pred, reference = treebag_smote_pred$actual):\n",
      "“Levels are not in the same order for reference and data. Refactoring data to match.”"
     ]
    },
    {
     "data": {
      "text/plain": [
       "Confusion Matrix and Statistics\n",
       "\n",
       "          Reference\n",
       "Prediction notDown down\n",
       "   notDown     678   40\n",
       "   down        772   36\n",
       "                                          \n",
       "               Accuracy : 0.4679          \n",
       "                 95% CI : (0.4426, 0.4933)\n",
       "    No Information Rate : 0.9502          \n",
       "    P-Value [Acc > NIR] : 1               \n",
       "                                          \n",
       "                  Kappa : -0.0106         \n",
       " Mcnemar's Test P-Value : <2e-16          \n",
       "                                          \n",
       "            Sensitivity : 0.46759         \n",
       "            Specificity : 0.47368         \n",
       "         Pos Pred Value : 0.94429         \n",
       "         Neg Pred Value : 0.04455         \n",
       "             Prevalence : 0.95020         \n",
       "         Detection Rate : 0.44430         \n",
       "   Detection Prevalence : 0.47051         \n",
       "      Balanced Accuracy : 0.47064         \n",
       "                                          \n",
       "       'Positive' Class : notDown         \n",
       "                                          "
      ]
     },
     "metadata": {},
     "output_type": "display_data"
    }
   ],
   "source": [
    "confusionMatrix(data = treebag_smote_pred$pred, reference = treebag_smote_pred$actual)"
   ]
  },
  {
   "cell_type": "markdown",
   "metadata": {},
   "source": [
    "### Support Vector Machine"
   ]
  },
  {
   "cell_type": "code",
   "execution_count": 40,
   "metadata": {
    "collapsed": false
   },
   "outputs": [],
   "source": [
    "set.seed(1234)\n",
    "svm_fit <- train(Class ~ ., \n",
    "                 data = imbal_train, \n",
    "                 method = \"svmRadial\", \n",
    "                 trControl = fit_ctrl, \n",
    "                 preProc = c(\"center\", \"scale\"),\n",
    "                 #tuneLength = 8,\n",
    "                 metric = \"ROC\", \n",
    "                 na.action = na.exclude)"
   ]
  },
  {
   "cell_type": "code",
   "execution_count": 41,
   "metadata": {
    "collapsed": false
   },
   "outputs": [
    {
     "data": {
      "text/plain": [
       "Support Vector Machines with Radial Basis Function Kernel \n",
       "\n",
       "5789 samples\n",
       " 168 predictor\n",
       "   2 classes: 'notDown', 'down' \n",
       "\n",
       "Pre-processing: centered (168), scaled (168) \n",
       "Resampling: Cross-Validated (10 fold, repeated 5 times) \n",
       "Summary of sample sizes: 5211, 5209, 5211, 5210, 5210, 5210, ... \n",
       "Resampling results across tuning parameters:\n",
       "\n",
       "  C     ROC        Sens       Spec\n",
       "  0.25  0.5802250  0.9999284  0   \n",
       "  0.50  0.5801383  0.9999284  0   \n",
       "  1.00  0.5801151  0.9998926  0   \n",
       "\n",
       "Tuning parameter 'sigma' was held constant at a value of 0.009239124\n",
       "ROC was used to select the optimal model using  the largest value.\n",
       "The final values used for the model were sigma = 0.009239124 and C = 0.25. "
      ]
     },
     "metadata": {},
     "output_type": "display_data"
    }
   ],
   "source": [
    "svm_fit"
   ]
  },
  {
   "cell_type": "code",
   "execution_count": 73,
   "metadata": {
    "collapsed": false
   },
   "outputs": [
    {
     "data": {
      "text/plain": [
       "ROC curve variable importance\n",
       "\n",
       "  only 20 most important variables shown (out of 168)\n",
       "\n",
       "                    Importance\n",
       "Valve5_mean             100.00\n",
       "Valve3_mean              97.66\n",
       "Valve5_min               97.54\n",
       "Valve4_mean              95.37\n",
       "Valve3_min               94.14\n",
       "Valve2_mean              94.05\n",
       "Valve4_min               93.28\n",
       "Valve2_min               93.07\n",
       "HMISpeed_min             88.38\n",
       "Speed_min                88.05\n",
       "ExitCnvySpeed_min        81.35\n",
       "FolderSpeed_min          81.32\n",
       "FeedConvySpeed_min       80.51\n",
       "LowerCnvySpeed_min       80.41\n",
       "EntrySpeed_min           79.75\n",
       "MiddleCnvySpeed_min      79.61\n",
       "FolderSpeed_mean         74.58\n",
       "ExitCnvySpeed_mean       73.95\n",
       "LowerCnvySpeed_mean      73.60\n",
       "FeedConvySpeed_mean      73.02"
      ]
     },
     "metadata": {},
     "output_type": "display_data"
    }
   ],
   "source": [
    "# show which variables are important in this model\n",
    "varImp(svm_fit)"
   ]
  },
  {
   "cell_type": "code",
   "execution_count": 42,
   "metadata": {
    "collapsed": true
   },
   "outputs": [],
   "source": [
    "svm_pred <- predict(svm_fit, imbal_test, type = \"prob\")\n",
    "svm_pred$pred <- factor(ifelse(svm_pred$notDown >= .5, \"notDown\", \"down\"))\n",
    "svm_pred <- cbind(svm_pred, actual = imbal_test$Class)"
   ]
  },
  {
   "cell_type": "code",
   "execution_count": 43,
   "metadata": {
    "collapsed": false
   },
   "outputs": [
    {
     "name": "stderr",
     "output_type": "stream",
     "text": [
      "Warning message in confusionMatrix.default(data = svm_pred$pred, reference = svm_pred$actual):\n",
      "“Levels are not in the same order for reference and data. Refactoring data to match.”"
     ]
    },
    {
     "data": {
      "text/plain": [
       "Confusion Matrix and Statistics\n",
       "\n",
       "          Reference\n",
       "Prediction notDown down\n",
       "   notDown    1450   76\n",
       "   down          0    0\n",
       "                                          \n",
       "               Accuracy : 0.9502          \n",
       "                 95% CI : (0.9381, 0.9606)\n",
       "    No Information Rate : 0.9502          \n",
       "    P-Value [Acc > NIR] : 0.5305          \n",
       "                                          \n",
       "                  Kappa : 0               \n",
       " Mcnemar's Test P-Value : <2e-16          \n",
       "                                          \n",
       "            Sensitivity : 1.0000          \n",
       "            Specificity : 0.0000          \n",
       "         Pos Pred Value : 0.9502          \n",
       "         Neg Pred Value :    NaN          \n",
       "             Prevalence : 0.9502          \n",
       "         Detection Rate : 0.9502          \n",
       "   Detection Prevalence : 1.0000          \n",
       "      Balanced Accuracy : 0.5000          \n",
       "                                          \n",
       "       'Positive' Class : notDown         \n",
       "                                          "
      ]
     },
     "metadata": {},
     "output_type": "display_data"
    }
   ],
   "source": [
    "confusionMatrix(data = svm_pred$pred, reference = svm_pred$actual)"
   ]
  },
  {
   "cell_type": "markdown",
   "metadata": {},
   "source": [
    "### AdaBoost Classification Trees"
   ]
  },
  {
   "cell_type": "code",
   "execution_count": null,
   "metadata": {
    "collapsed": false
   },
   "outputs": [
    {
     "name": "stderr",
     "output_type": "stream",
     "text": [
      "Warning message in train.default(x, y, weights = w, ...):\n",
      "“The metric \"Accuracy\" was not in the result set. ROC will be used instead.”"
     ]
    }
   ],
   "source": [
    "set.seed(1234)\n",
    "ada_fit <- train(Class ~ ., \n",
    "                 data = imbal_train, \n",
    "                 method = \"adaboost\",\n",
    "                 trControl = fit_ctrl, \n",
    "                 na.action = na.exclude)"
   ]
  },
  {
   "cell_type": "code",
   "execution_count": null,
   "metadata": {
    "collapsed": true
   },
   "outputs": [],
   "source": [
    "ada_fit"
   ]
  },
  {
   "cell_type": "code",
   "execution_count": null,
   "metadata": {
    "collapsed": true
   },
   "outputs": [],
   "source": [
    "ada_pred <- predict(ada_fit, imbal_test, type = \"prob\")\n",
    "ada_pred$pred <- factor(ifelse(ada_pred$notDown >= .5, \"notDown\", \"down\"))\n",
    "ada_pred <- cbind(ada_pred, actual = imbal_test$Class)"
   ]
  },
  {
   "cell_type": "code",
   "execution_count": null,
   "metadata": {
    "collapsed": true
   },
   "outputs": [],
   "source": [
    "confusionMatrix(data = ada_pred$pred, reference = ada_pred$actual)"
   ]
  },
  {
   "cell_type": "code",
   "execution_count": null,
   "metadata": {
    "collapsed": true
   },
   "outputs": [],
   "source": []
  },
  {
   "cell_type": "markdown",
   "metadata": {},
   "source": [
    "### Neural Network"
   ]
  },
  {
   "cell_type": "code",
   "execution_count": 44,
   "metadata": {
    "collapsed": true
   },
   "outputs": [],
   "source": [
    "set.seed(1234)\n",
    "net_fit <- train(Class ~ ., \n",
    "                 data = imbal_train, \n",
    "                 method = \"avNNet\",\n",
    "                 na.action = na.exclude)"
   ]
  },
  {
   "cell_type": "code",
   "execution_count": 45,
   "metadata": {
    "collapsed": false
   },
   "outputs": [
    {
     "data": {
      "text/plain": [
       "Model Averaged Neural Network \n",
       "\n",
       "5789 samples\n",
       " 168 predictor\n",
       "   2 classes: 'notDown', 'down' \n",
       "\n",
       "No pre-processing\n",
       "Resampling: Bootstrapped (25 reps) \n",
       "Summary of sample sizes: 5789, 5789, 5789, 5789, 5789, 5789, ... \n",
       "Resampling results across tuning parameters:\n",
       "\n",
       "  size  decay  Accuracy   Kappa\n",
       "  1     0e+00  0.9653251  0    \n",
       "  1     1e-04  0.9653251  0    \n",
       "  1     1e-01  0.9653251  0    \n",
       "  3     0e+00  0.9653251  0    \n",
       "  3     1e-04  0.9653251  0    \n",
       "  3     1e-01  0.9653251  0    \n",
       "  5     0e+00  0.9653251  0    \n",
       "  5     1e-04  0.9653251  0    \n",
       "  5     1e-01  0.9653251  0    \n",
       "\n",
       "Tuning parameter 'bag' was held constant at a value of FALSE\n",
       "Accuracy was used to select the optimal model using  the largest value.\n",
       "The final values used for the model were size = 1, decay = 0.1 and bag = FALSE. "
      ]
     },
     "metadata": {},
     "output_type": "display_data"
    }
   ],
   "source": [
    "net_fit"
   ]
  },
  {
   "cell_type": "code",
   "execution_count": 76,
   "metadata": {
    "collapsed": false
   },
   "outputs": [
    {
     "data": {
      "text/plain": [
       "ROC curve variable importance\n",
       "\n",
       "  only 20 most important variables shown (out of 168)\n",
       "\n",
       "                    Importance\n",
       "Valve5_mean             100.00\n",
       "Valve3_mean              97.66\n",
       "Valve5_min               97.54\n",
       "Valve4_mean              95.37\n",
       "Valve3_min               94.14\n",
       "Valve2_mean              94.05\n",
       "Valve4_min               93.28\n",
       "Valve2_min               93.07\n",
       "HMISpeed_min             88.38\n",
       "Speed_min                88.05\n",
       "ExitCnvySpeed_min        81.35\n",
       "FolderSpeed_min          81.32\n",
       "FeedConvySpeed_min       80.51\n",
       "LowerCnvySpeed_min       80.41\n",
       "EntrySpeed_min           79.75\n",
       "MiddleCnvySpeed_min      79.61\n",
       "FolderSpeed_mean         74.58\n",
       "ExitCnvySpeed_mean       73.95\n",
       "LowerCnvySpeed_mean      73.60\n",
       "FeedConvySpeed_mean      73.02"
      ]
     },
     "metadata": {},
     "output_type": "display_data"
    }
   ],
   "source": [
    "# show which variables are important in this model\n",
    "varImp(net_fit)"
   ]
  },
  {
   "cell_type": "code",
   "execution_count": 46,
   "metadata": {
    "collapsed": true
   },
   "outputs": [],
   "source": [
    "net_pred <- predict(net_fit, imbal_test, type = \"prob\")\n",
    "net_pred$pred <- factor(ifelse(net_pred$notDown >= .5, \"notDown\", \"down\"))\n",
    "net_pred <- cbind(net_pred, actual = imbal_test$Class)"
   ]
  },
  {
   "cell_type": "code",
   "execution_count": 47,
   "metadata": {
    "collapsed": false
   },
   "outputs": [
    {
     "name": "stderr",
     "output_type": "stream",
     "text": [
      "Warning message in confusionMatrix.default(data = net_pred$pred, reference = net_pred$actual):\n",
      "“Levels are not in the same order for reference and data. Refactoring data to match.”"
     ]
    },
    {
     "data": {
      "text/plain": [
       "Confusion Matrix and Statistics\n",
       "\n",
       "          Reference\n",
       "Prediction notDown down\n",
       "   notDown    1450   76\n",
       "   down          0    0\n",
       "                                          \n",
       "               Accuracy : 0.9502          \n",
       "                 95% CI : (0.9381, 0.9606)\n",
       "    No Information Rate : 0.9502          \n",
       "    P-Value [Acc > NIR] : 0.5305          \n",
       "                                          \n",
       "                  Kappa : 0               \n",
       " Mcnemar's Test P-Value : <2e-16          \n",
       "                                          \n",
       "            Sensitivity : 1.0000          \n",
       "            Specificity : 0.0000          \n",
       "         Pos Pred Value : 0.9502          \n",
       "         Neg Pred Value :    NaN          \n",
       "             Prevalence : 0.9502          \n",
       "         Detection Rate : 0.9502          \n",
       "   Detection Prevalence : 1.0000          \n",
       "      Balanced Accuracy : 0.5000          \n",
       "                                          \n",
       "       'Positive' Class : notDown         \n",
       "                                          "
      ]
     },
     "metadata": {},
     "output_type": "display_data"
    }
   ],
   "source": [
    "confusionMatrix(data = net_pred$pred, reference = net_pred$actual)"
   ]
  },
  {
   "cell_type": "markdown",
   "metadata": {},
   "source": [
    "### Cost Sensitive Learning"
   ]
  },
  {
   "cell_type": "code",
   "execution_count": 48,
   "metadata": {
    "collapsed": true
   },
   "outputs": [],
   "source": [
    "stats <- function (data, lev = NULL, model = NULL)  {\n",
    "  c(postResample(data[, \"pred\"], data[, \"obs\"]),\n",
    "    Sens = sensitivity(data[, \"pred\"], data[, \"obs\"]),\n",
    "    Spec = specificity(data[, \"pred\"], data[, \"obs\"]))\n",
    "}\n",
    "\n",
    "ctrl <- trainControl(method = \"repeatedcv\", \n",
    "                     repeats = 5,\n",
    "                     summaryFunction = stats)"
   ]
  },
  {
   "cell_type": "code",
   "execution_count": 50,
   "metadata": {
    "collapsed": false
   },
   "outputs": [],
   "source": [
    "set.seed(1234)\n",
    "c50_fit <- train(Class ~ ., \n",
    "                 data = imbal_train, \n",
    "                 method = \"C5.0Cost\",\n",
    "                 tuneGrid = expand.grid(model = \"tree\", \n",
    "                                        winnow = c(TRUE, FALSE),\n",
    "                                        trials = c(1:10),\n",
    "                                        cost = 1:10),\n",
    "                 metric = \"Kappa\",\n",
    "                 trControl = ctrl, \n",
    "                 na.action = na.exclude)"
   ]
  },
  {
   "cell_type": "code",
   "execution_count": 51,
   "metadata": {
    "collapsed": false
   },
   "outputs": [
    {
     "data": {
      "text/plain": [
       "Cost-Sensitive C5.0 \n",
       "\n",
       "5789 samples\n",
       " 168 predictor\n",
       "   2 classes: 'notDown', 'down' \n",
       "\n",
       "No pre-processing\n",
       "Resampling: Cross-Validated (10 fold, repeated 5 times) \n",
       "Summary of sample sizes: 5211, 5209, 5211, 5210, 5210, 5210, ... \n",
       "Resampling results across tuning parameters:\n",
       "\n",
       "  winnow  cost  trials  Accuracy  Kappa  Sens  Spec\n",
       "  FALSE    1     1      0.964934  0      1     0   \n",
       "  FALSE    1     2      0.964934  0      1     0   \n",
       "  FALSE    1     3      0.964934  0      1     0   \n",
       "  FALSE    1     4      0.964934  0      1     0   \n",
       "  FALSE    1     5      0.964934  0      1     0   \n",
       "  FALSE    1     6      0.964934  0      1     0   \n",
       "  FALSE    1     7      0.964934  0      1     0   \n",
       "  FALSE    1     8      0.964934  0      1     0   \n",
       "  FALSE    1     9      0.964934  0      1     0   \n",
       "  FALSE    1    10      0.964934  0      1     0   \n",
       "  FALSE    2     1      0.964934  0      1     0   \n",
       "  FALSE    2     2      0.964934  0      1     0   \n",
       "  FALSE    2     3      0.964934  0      1     0   \n",
       "  FALSE    2     4      0.964934  0      1     0   \n",
       "  FALSE    2     5      0.964934  0      1     0   \n",
       "  FALSE    2     6      0.964934  0      1     0   \n",
       "  FALSE    2     7      0.964934  0      1     0   \n",
       "  FALSE    2     8      0.964934  0      1     0   \n",
       "  FALSE    2     9      0.964934  0      1     0   \n",
       "  FALSE    2    10      0.964934  0      1     0   \n",
       "  FALSE    3     1      0.964934  0      1     0   \n",
       "  FALSE    3     2      0.964934  0      1     0   \n",
       "  FALSE    3     3      0.964934  0      1     0   \n",
       "  FALSE    3     4      0.964934  0      1     0   \n",
       "  FALSE    3     5      0.964934  0      1     0   \n",
       "  FALSE    3     6      0.964934  0      1     0   \n",
       "  FALSE    3     7      0.964934  0      1     0   \n",
       "  FALSE    3     8      0.964934  0      1     0   \n",
       "  FALSE    3     9      0.964934  0      1     0   \n",
       "  FALSE    3    10      0.964934  0      1     0   \n",
       "  FALSE    4     1      0.964934  0      1     0   \n",
       "  FALSE    4     2      0.964934  0      1     0   \n",
       "  FALSE    4     3      0.964934  0      1     0   \n",
       "  FALSE    4     4      0.964934  0      1     0   \n",
       "  FALSE    4     5      0.964934  0      1     0   \n",
       "  FALSE    4     6      0.964934  0      1     0   \n",
       "  FALSE    4     7      0.964934  0      1     0   \n",
       "  FALSE    4     8      0.964934  0      1     0   \n",
       "  FALSE    4     9      0.964934  0      1     0   \n",
       "  FALSE    4    10      0.964934  0      1     0   \n",
       "  FALSE    5     1      0.964934  0      1     0   \n",
       "  FALSE    5     2      0.964934  0      1     0   \n",
       "  FALSE    5     3      0.964934  0      1     0   \n",
       "  FALSE    5     4      0.964934  0      1     0   \n",
       "  FALSE    5     5      0.964934  0      1     0   \n",
       "  FALSE    5     6      0.964934  0      1     0   \n",
       "  FALSE    5     7      0.964934  0      1     0   \n",
       "  FALSE    5     8      0.964934  0      1     0   \n",
       "  FALSE    5     9      0.964934  0      1     0   \n",
       "  FALSE    5    10      0.964934  0      1     0   \n",
       "  FALSE    6     1      0.964934  0      1     0   \n",
       "  FALSE    6     2      0.964934  0      1     0   \n",
       "  FALSE    6     3      0.964934  0      1     0   \n",
       "  FALSE    6     4      0.964934  0      1     0   \n",
       "  FALSE    6     5      0.964934  0      1     0   \n",
       "  FALSE    6     6      0.964934  0      1     0   \n",
       "  FALSE    6     7      0.964934  0      1     0   \n",
       "  FALSE    6     8      0.964934  0      1     0   \n",
       "  FALSE    6     9      0.964934  0      1     0   \n",
       "  FALSE    6    10      0.964934  0      1     0   \n",
       "  FALSE    7     1      0.964934  0      1     0   \n",
       "  FALSE    7     2      0.964934  0      1     0   \n",
       "  FALSE    7     3      0.964934  0      1     0   \n",
       "  FALSE    7     4      0.964934  0      1     0   \n",
       "  FALSE    7     5      0.964934  0      1     0   \n",
       "  FALSE    7     6      0.964934  0      1     0   \n",
       "  FALSE    7     7      0.964934  0      1     0   \n",
       "  FALSE    7     8      0.964934  0      1     0   \n",
       "  FALSE    7     9      0.964934  0      1     0   \n",
       "  FALSE    7    10      0.964934  0      1     0   \n",
       "  FALSE    8     1      0.964934  0      1     0   \n",
       "  FALSE    8     2      0.964934  0      1     0   \n",
       "  FALSE    8     3      0.964934  0      1     0   \n",
       "  FALSE    8     4      0.964934  0      1     0   \n",
       "  FALSE    8     5      0.964934  0      1     0   \n",
       "  FALSE    8     6      0.964934  0      1     0   \n",
       "  FALSE    8     7      0.964934  0      1     0   \n",
       "  FALSE    8     8      0.964934  0      1     0   \n",
       "  FALSE    8     9      0.964934  0      1     0   \n",
       "  FALSE    8    10      0.964934  0      1     0   \n",
       "  FALSE    9     1      0.964934  0      1     0   \n",
       "  FALSE    9     2      0.964934  0      1     0   \n",
       "  FALSE    9     3      0.964934  0      1     0   \n",
       "  FALSE    9     4      0.964934  0      1     0   \n",
       "  FALSE    9     5      0.964934  0      1     0   \n",
       "  FALSE    9     6      0.964934  0      1     0   \n",
       "  FALSE    9     7      0.964934  0      1     0   \n",
       "  FALSE    9     8      0.964934  0      1     0   \n",
       "  FALSE    9     9      0.964934  0      1     0   \n",
       "  FALSE    9    10      0.964934  0      1     0   \n",
       "  FALSE   10     1      0.964934  0      1     0   \n",
       "  FALSE   10     2      0.964934  0      1     0   \n",
       "  FALSE   10     3      0.964934  0      1     0   \n",
       "  FALSE   10     4      0.964934  0      1     0   \n",
       "  FALSE   10     5      0.964934  0      1     0   \n",
       "  FALSE   10     6      0.964934  0      1     0   \n",
       "  FALSE   10     7      0.964934  0      1     0   \n",
       "  FALSE   10     8      0.964934  0      1     0   \n",
       "  FALSE   10     9      0.964934  0      1     0   \n",
       "  FALSE   10    10      0.964934  0      1     0   \n",
       "   TRUE    1     1      0.964934  0      1     0   \n",
       "   TRUE    1     2      0.964934  0      1     0   \n",
       "   TRUE    1     3      0.964934  0      1     0   \n",
       "   TRUE    1     4      0.964934  0      1     0   \n",
       "   TRUE    1     5      0.964934  0      1     0   \n",
       "   TRUE    1     6      0.964934  0      1     0   \n",
       "   TRUE    1     7      0.964934  0      1     0   \n",
       "   TRUE    1     8      0.964934  0      1     0   \n",
       "   TRUE    1     9      0.964934  0      1     0   \n",
       "   TRUE    1    10      0.964934  0      1     0   \n",
       "   TRUE    2     1      0.964934  0      1     0   \n",
       "   TRUE    2     2      0.964934  0      1     0   \n",
       "   TRUE    2     3      0.964934  0      1     0   \n",
       "   TRUE    2     4      0.964934  0      1     0   \n",
       "   TRUE    2     5      0.964934  0      1     0   \n",
       "   TRUE    2     6      0.964934  0      1     0   \n",
       "   TRUE    2     7      0.964934  0      1     0   \n",
       "   TRUE    2     8      0.964934  0      1     0   \n",
       "   TRUE    2     9      0.964934  0      1     0   \n",
       "   TRUE    2    10      0.964934  0      1     0   \n",
       "   TRUE    3     1      0.964934  0      1     0   \n",
       "   TRUE    3     2      0.964934  0      1     0   \n",
       "   TRUE    3     3      0.964934  0      1     0   \n",
       "   TRUE    3     4      0.964934  0      1     0   \n",
       "   TRUE    3     5      0.964934  0      1     0   \n",
       "   TRUE    3     6      0.964934  0      1     0   \n",
       "   TRUE    3     7      0.964934  0      1     0   \n",
       "   TRUE    3     8      0.964934  0      1     0   \n",
       "   TRUE    3     9      0.964934  0      1     0   \n",
       "   TRUE    3    10      0.964934  0      1     0   \n",
       "   TRUE    4     1      0.964934  0      1     0   \n",
       "   TRUE    4     2      0.964934  0      1     0   \n",
       "   TRUE    4     3      0.964934  0      1     0   \n",
       "   TRUE    4     4      0.964934  0      1     0   \n",
       "   TRUE    4     5      0.964934  0      1     0   \n",
       "   TRUE    4     6      0.964934  0      1     0   \n",
       "   TRUE    4     7      0.964934  0      1     0   \n",
       "   TRUE    4     8      0.964934  0      1     0   \n",
       "   TRUE    4     9      0.964934  0      1     0   \n",
       "   TRUE    4    10      0.964934  0      1     0   \n",
       "   TRUE    5     1      0.964934  0      1     0   \n",
       "   TRUE    5     2      0.964934  0      1     0   \n",
       "   TRUE    5     3      0.964934  0      1     0   \n",
       "   TRUE    5     4      0.964934  0      1     0   \n",
       "   TRUE    5     5      0.964934  0      1     0   \n",
       "   TRUE    5     6      0.964934  0      1     0   \n",
       "   TRUE    5     7      0.964934  0      1     0   \n",
       "   TRUE    5     8      0.964934  0      1     0   \n",
       "   TRUE    5     9      0.964934  0      1     0   \n",
       "   TRUE    5    10      0.964934  0      1     0   \n",
       "   TRUE    6     1      0.964934  0      1     0   \n",
       "   TRUE    6     2      0.964934  0      1     0   \n",
       "   TRUE    6     3      0.964934  0      1     0   \n",
       "   TRUE    6     4      0.964934  0      1     0   \n",
       "   TRUE    6     5      0.964934  0      1     0   \n",
       "   TRUE    6     6      0.964934  0      1     0   \n",
       "   TRUE    6     7      0.964934  0      1     0   \n",
       "   TRUE    6     8      0.964934  0      1     0   \n",
       "   TRUE    6     9      0.964934  0      1     0   \n",
       "   TRUE    6    10      0.964934  0      1     0   \n",
       "   TRUE    7     1      0.964934  0      1     0   \n",
       "   TRUE    7     2      0.964934  0      1     0   \n",
       "   TRUE    7     3      0.964934  0      1     0   \n",
       "   TRUE    7     4      0.964934  0      1     0   \n",
       "   TRUE    7     5      0.964934  0      1     0   \n",
       "   TRUE    7     6      0.964934  0      1     0   \n",
       "   TRUE    7     7      0.964934  0      1     0   \n",
       "   TRUE    7     8      0.964934  0      1     0   \n",
       "   TRUE    7     9      0.964934  0      1     0   \n",
       "   TRUE    7    10      0.964934  0      1     0   \n",
       "   TRUE    8     1      0.964934  0      1     0   \n",
       "   TRUE    8     2      0.964934  0      1     0   \n",
       "   TRUE    8     3      0.964934  0      1     0   \n",
       "   TRUE    8     4      0.964934  0      1     0   \n",
       "   TRUE    8     5      0.964934  0      1     0   \n",
       "   TRUE    8     6      0.964934  0      1     0   \n",
       "   TRUE    8     7      0.964934  0      1     0   \n",
       "   TRUE    8     8      0.964934  0      1     0   \n",
       "   TRUE    8     9      0.964934  0      1     0   \n",
       "   TRUE    8    10      0.964934  0      1     0   \n",
       "   TRUE    9     1      0.964934  0      1     0   \n",
       "   TRUE    9     2      0.964934  0      1     0   \n",
       "   TRUE    9     3      0.964934  0      1     0   \n",
       "   TRUE    9     4      0.964934  0      1     0   \n",
       "   TRUE    9     5      0.964934  0      1     0   \n",
       "   TRUE    9     6      0.964934  0      1     0   \n",
       "   TRUE    9     7      0.964934  0      1     0   \n",
       "   TRUE    9     8      0.964934  0      1     0   \n",
       "   TRUE    9     9      0.964934  0      1     0   \n",
       "   TRUE    9    10      0.964934  0      1     0   \n",
       "   TRUE   10     1      0.964934  0      1     0   \n",
       "   TRUE   10     2      0.964934  0      1     0   \n",
       "   TRUE   10     3      0.964934  0      1     0   \n",
       "   TRUE   10     4      0.964934  0      1     0   \n",
       "   TRUE   10     5      0.964934  0      1     0   \n",
       "   TRUE   10     6      0.964934  0      1     0   \n",
       "   TRUE   10     7      0.964934  0      1     0   \n",
       "   TRUE   10     8      0.964934  0      1     0   \n",
       "   TRUE   10     9      0.964934  0      1     0   \n",
       "   TRUE   10    10      0.964934  0      1     0   \n",
       "\n",
       "Tuning parameter 'model' was held constant at a value of tree\n",
       "Kappa was used to select the optimal model using  the largest value.\n",
       "The final values used for the model were trials = 1, model = tree, winnow\n",
       " = TRUE and cost = 1. "
      ]
     },
     "metadata": {},
     "output_type": "display_data"
    }
   ],
   "source": [
    "c50_fit"
   ]
  },
  {
   "cell_type": "code",
   "execution_count": 52,
   "metadata": {
    "collapsed": true
   },
   "outputs": [],
   "source": [
    "c50_pred <- predict(c50_fit, imbal_test)\n",
    "c50_pred <- data.frame(predicted = c50_pred, actual = imbal_test$Class)"
   ]
  },
  {
   "cell_type": "code",
   "execution_count": 53,
   "metadata": {
    "collapsed": false
   },
   "outputs": [
    {
     "data": {
      "text/plain": [
       "Confusion Matrix and Statistics\n",
       "\n",
       "          Reference\n",
       "Prediction notDown down\n",
       "   notDown    1450   76\n",
       "   down          0    0\n",
       "                                          \n",
       "               Accuracy : 0.9502          \n",
       "                 95% CI : (0.9381, 0.9606)\n",
       "    No Information Rate : 0.9502          \n",
       "    P-Value [Acc > NIR] : 0.5305          \n",
       "                                          \n",
       "                  Kappa : 0               \n",
       " Mcnemar's Test P-Value : <2e-16          \n",
       "                                          \n",
       "            Sensitivity : 1.0000          \n",
       "            Specificity : 0.0000          \n",
       "         Pos Pred Value : 0.9502          \n",
       "         Neg Pred Value :    NaN          \n",
       "             Prevalence : 0.9502          \n",
       "         Detection Rate : 0.9502          \n",
       "   Detection Prevalence : 1.0000          \n",
       "      Balanced Accuracy : 0.5000          \n",
       "                                          \n",
       "       'Positive' Class : notDown         \n",
       "                                          "
      ]
     },
     "metadata": {},
     "output_type": "display_data"
    }
   ],
   "source": [
    "confusionMatrix(data = c50_pred$predicted, reference = c50_pred$actual)"
   ]
  },
  {
   "cell_type": "markdown",
   "metadata": {},
   "source": [
    "### RPART with Cost"
   ]
  },
  {
   "cell_type": "code",
   "execution_count": 54,
   "metadata": {
    "collapsed": true
   },
   "outputs": [],
   "source": [
    "cctrl1 <- trainControl(method = \"cv\", \n",
    "                       number = 3, \n",
    "                       returnResamp = \"all\")\n",
    "\n",
    "cctrl2 <- trainControl(method = \"LOOCV\")\n",
    "\n",
    "cctrl3 <- trainControl(method = \"none\")\n",
    "\n",
    "cctrlR <- trainControl(method = \"cv\", \n",
    "                       number = 3, \n",
    "                       returnResamp = \"all\", \n",
    "                       search = \"random\")"
   ]
  },
  {
   "cell_type": "code",
   "execution_count": 55,
   "metadata": {
    "collapsed": true
   },
   "outputs": [],
   "source": [
    "set.seed(1234)\n",
    "rpartC_fit <- train(Class ~ ., \n",
    "                    data = imbal_train, \n",
    "                    method = \"rpartCost\", \n",
    "                    trControl = cctrl2,\n",
    "                    preProc = c(\"center\", \"scale\"), \n",
    "                    metric = \"Kappa\",\n",
    "                    na.action = na.exclude)"
   ]
  },
  {
   "cell_type": "code",
   "execution_count": 56,
   "metadata": {
    "collapsed": false
   },
   "outputs": [
    {
     "data": {
      "text/plain": [
       "Cost-Sensitive CART \n",
       "\n",
       "5789 samples\n",
       " 168 predictor\n",
       "   2 classes: 'notDown', 'down' \n",
       "\n",
       "Pre-processing: centered (168), scaled (168) \n",
       "Resampling: Leave-One-Out Cross-Validation \n",
       "Summary of sample sizes: 5788, 5788, 5788, 5788, 5788, 5788, ... \n",
       "Resampling results across tuning parameters:\n",
       "\n",
       "  cp            Cost  Accuracy   Kappa       \n",
       "  0.0006157635  3     0.9649335   0.000000000\n",
       "  0.0008210181  2     0.9644153  -0.001022399\n",
       "  0.0009852217  1     0.9632061   0.022388101\n",
       "\n",
       "Kappa was used to select the optimal model using  the largest value.\n",
       "The final values used for the model were cp = 0.0009852217 and Cost = 1. "
      ]
     },
     "metadata": {},
     "output_type": "display_data"
    }
   ],
   "source": [
    "rpartC_fit"
   ]
  },
  {
   "cell_type": "code",
   "execution_count": 57,
   "metadata": {
    "collapsed": true
   },
   "outputs": [],
   "source": [
    "rpartC_pred <- predict(rpartC_fit, imbal_test)\n",
    "rpartC_pred <- data.frame(predicted = rpartC_pred, actual = imbal_test$Class)"
   ]
  },
  {
   "cell_type": "code",
   "execution_count": 58,
   "metadata": {
    "collapsed": false
   },
   "outputs": [
    {
     "data": {
      "text/plain": [
       "Confusion Matrix and Statistics\n",
       "\n",
       "          Reference\n",
       "Prediction notDown down\n",
       "   notDown    1450   76\n",
       "   down          0    0\n",
       "                                          \n",
       "               Accuracy : 0.9502          \n",
       "                 95% CI : (0.9381, 0.9606)\n",
       "    No Information Rate : 0.9502          \n",
       "    P-Value [Acc > NIR] : 0.5305          \n",
       "                                          \n",
       "                  Kappa : 0               \n",
       " Mcnemar's Test P-Value : <2e-16          \n",
       "                                          \n",
       "            Sensitivity : 1.0000          \n",
       "            Specificity : 0.0000          \n",
       "         Pos Pred Value : 0.9502          \n",
       "         Neg Pred Value :    NaN          \n",
       "             Prevalence : 0.9502          \n",
       "         Detection Rate : 0.9502          \n",
       "   Detection Prevalence : 1.0000          \n",
       "      Balanced Accuracy : 0.5000          \n",
       "                                          \n",
       "       'Positive' Class : notDown         \n",
       "                                          "
      ]
     },
     "metadata": {},
     "output_type": "display_data"
    }
   ],
   "source": [
    "confusionMatrix(data = rpartC_pred$predicted, reference = rpartC_pred$actual)"
   ]
  },
  {
   "cell_type": "code",
   "execution_count": null,
   "metadata": {
    "collapsed": false
   },
   "outputs": [],
   "source": []
  },
  {
   "cell_type": "code",
   "execution_count": 103,
   "metadata": {
    "collapsed": false
   },
   "outputs": [
    {
     "data": {
      "text/html": [
       "<table>\n",
       "<thead><tr><th></th><th scope=col>Overall</th></tr></thead>\n",
       "<tbody>\n",
       "\t<tr><th scope=row>CircFanAct6_min</th><td> 52.71660</td></tr>\n",
       "\t<tr><th scope=row>ExitCnvySpeed_min</th><td> 50.36131</td></tr>\n",
       "\t<tr><th scope=row>FeedCnvyRatio_std</th><td> 15.02560</td></tr>\n",
       "\t<tr><th scope=row>FolderSpeed_min</th><td> 50.36131</td></tr>\n",
       "\t<tr><th scope=row>Hour</th><td> 25.00330</td></tr>\n",
       "\t<tr><th scope=row>LowerCnvySpeed_min</th><td> 50.36131</td></tr>\n",
       "\t<tr><th scope=row>MiddleCnvyRatio_std</th><td> 44.64438</td></tr>\n",
       "\t<tr><th scope=row>MiddleCnvySpeed_min</th><td> 50.36131</td></tr>\n",
       "\t<tr><th scope=row>Plevia_max</th><td> 19.68849</td></tr>\n",
       "\t<tr><th scope=row>Plevia_std</th><td> 18.52597</td></tr>\n",
       "\t<tr><th scope=row>Temp2_mean</th><td> 20.55728</td></tr>\n",
       "\t<tr><th scope=row>Temp5_mean</th><td> 94.64357</td></tr>\n",
       "\t<tr><th scope=row>Temp6_mean</th><td>100.00000</td></tr>\n",
       "\t<tr><th scope=row>Temp6_min</th><td> 30.65770</td></tr>\n",
       "\t<tr><th scope=row>Valve5_mean</th><td> 70.28879</td></tr>\n",
       "\t<tr><th scope=row>Valve5_min</th><td> 77.23588</td></tr>\n",
       "\t<tr><th scope=row>Valve5_std</th><td> 93.39161</td></tr>\n",
       "\t<tr><th scope=row>MiddleCnvyRatio_min</th><td>  0.00000</td></tr>\n",
       "\t<tr><th scope=row>MiddleCnvyRatio_mean</th><td>  0.00000</td></tr>\n",
       "\t<tr><th scope=row>MiddleCnvyRatio_max</th><td>  0.00000</td></tr>\n",
       "\t<tr><th scope=row>LowerCnvySpeed_max</th><td>  0.00000</td></tr>\n",
       "\t<tr><th scope=row>LowerCnvySpeed_std</th><td>  0.00000</td></tr>\n",
       "\t<tr><th scope=row>LowerCnvySpeed_mean</th><td>  0.00000</td></tr>\n",
       "\t<tr><th scope=row>HeatRecAct_std</th><td>  0.00000</td></tr>\n",
       "\t<tr><th scope=row>HeatRecAct_mean</th><td>  0.00000</td></tr>\n",
       "\t<tr><th scope=row>HeatRecAct_max</th><td>  0.00000</td></tr>\n",
       "\t<tr><th scope=row>HeatRecAct_min</th><td>  0.00000</td></tr>\n",
       "\t<tr><th scope=row>CircfanAct4_std</th><td>  0.00000</td></tr>\n",
       "\t<tr><th scope=row>CircfanAct4_min</th><td>  0.00000</td></tr>\n",
       "\t<tr><th scope=row>CircfanAct4_max</th><td>  0.00000</td></tr>\n",
       "\t<tr><th scope=row>⋮</th><td>⋮</td></tr>\n",
       "\t<tr><th scope=row>CircFanAct5_std</th><td>0</td></tr>\n",
       "\t<tr><th scope=row>CircFanAct5_max</th><td>0</td></tr>\n",
       "\t<tr><th scope=row>CircFanAct5_min</th><td>0</td></tr>\n",
       "\t<tr><th scope=row>CircFanAct5_mean</th><td>0</td></tr>\n",
       "\t<tr><th scope=row>CircFanAct3_mean</th><td>0</td></tr>\n",
       "\t<tr><th scope=row>CircFanAct3_std</th><td>0</td></tr>\n",
       "\t<tr><th scope=row>CircFanAct3_max</th><td>0</td></tr>\n",
       "\t<tr><th scope=row>CircFanAct3_min</th><td>0</td></tr>\n",
       "\t<tr><th scope=row>CircFanAct2_max</th><td>0</td></tr>\n",
       "\t<tr><th scope=row>CircFanAct2_std</th><td>0</td></tr>\n",
       "\t<tr><th scope=row>CircFanAct2_min</th><td>0</td></tr>\n",
       "\t<tr><th scope=row>CircFanAct2_mean</th><td>0</td></tr>\n",
       "\t<tr><th scope=row>CircFanAct1_mean</th><td>0</td></tr>\n",
       "\t<tr><th scope=row>CircFanAct1_std</th><td>0</td></tr>\n",
       "\t<tr><th scope=row>CircFanAct1_max</th><td>0</td></tr>\n",
       "\t<tr><th scope=row>CircFanAct1_min</th><td>0</td></tr>\n",
       "\t<tr><th scope=row>Temp4_mean</th><td>0</td></tr>\n",
       "\t<tr><th scope=row>Temp4_std</th><td>0</td></tr>\n",
       "\t<tr><th scope=row>Temp4_max</th><td>0</td></tr>\n",
       "\t<tr><th scope=row>Temp4_min</th><td>0</td></tr>\n",
       "\t<tr><th scope=row>Speed_min</th><td>0</td></tr>\n",
       "\t<tr><th scope=row>Speed_mean</th><td>0</td></tr>\n",
       "\t<tr><th scope=row>Speed_std</th><td>0</td></tr>\n",
       "\t<tr><th scope=row>Speed_max</th><td>0</td></tr>\n",
       "\t<tr><th scope=row>PSum_min</th><td>0</td></tr>\n",
       "\t<tr><th scope=row>PSum_max</th><td>0</td></tr>\n",
       "\t<tr><th scope=row>PSum_mean</th><td>0</td></tr>\n",
       "\t<tr><th scope=row>PSum_std</th><td>0</td></tr>\n",
       "\t<tr><th scope=row>Month</th><td>0</td></tr>\n",
       "\t<tr><th scope=row>Day</th><td>0</td></tr>\n",
       "</tbody>\n",
       "</table>\n"
      ],
      "text/latex": [
       "\\begin{tabular}{r|l}\n",
       "  & Overall\\\\\n",
       "\\hline\n",
       "\tCircFanAct6\\_min &  52.71660\\\\\n",
       "\tExitCnvySpeed\\_min &  50.36131\\\\\n",
       "\tFeedCnvyRatio\\_std &  15.02560\\\\\n",
       "\tFolderSpeed\\_min &  50.36131\\\\\n",
       "\tHour &  25.00330\\\\\n",
       "\tLowerCnvySpeed\\_min &  50.36131\\\\\n",
       "\tMiddleCnvyRatio\\_std &  44.64438\\\\\n",
       "\tMiddleCnvySpeed\\_min &  50.36131\\\\\n",
       "\tPlevia\\_max &  19.68849\\\\\n",
       "\tPlevia\\_std &  18.52597\\\\\n",
       "\tTemp2\\_mean &  20.55728\\\\\n",
       "\tTemp5\\_mean &  94.64357\\\\\n",
       "\tTemp6\\_mean & 100.00000\\\\\n",
       "\tTemp6\\_min &  30.65770\\\\\n",
       "\tValve5\\_mean &  70.28879\\\\\n",
       "\tValve5\\_min &  77.23588\\\\\n",
       "\tValve5\\_std &  93.39161\\\\\n",
       "\tMiddleCnvyRatio\\_min &   0.00000\\\\\n",
       "\tMiddleCnvyRatio\\_mean &   0.00000\\\\\n",
       "\tMiddleCnvyRatio\\_max &   0.00000\\\\\n",
       "\tLowerCnvySpeed\\_max &   0.00000\\\\\n",
       "\tLowerCnvySpeed\\_std &   0.00000\\\\\n",
       "\tLowerCnvySpeed\\_mean &   0.00000\\\\\n",
       "\tHeatRecAct\\_std &   0.00000\\\\\n",
       "\tHeatRecAct\\_mean &   0.00000\\\\\n",
       "\tHeatRecAct\\_max &   0.00000\\\\\n",
       "\tHeatRecAct\\_min &   0.00000\\\\\n",
       "\tCircfanAct4\\_std &   0.00000\\\\\n",
       "\tCircfanAct4\\_min &   0.00000\\\\\n",
       "\tCircfanAct4\\_max &   0.00000\\\\\n",
       "\t⋮ & ⋮\\\\\n",
       "\tCircFanAct5\\_std & 0\\\\\n",
       "\tCircFanAct5\\_max & 0\\\\\n",
       "\tCircFanAct5\\_min & 0\\\\\n",
       "\tCircFanAct5\\_mean & 0\\\\\n",
       "\tCircFanAct3\\_mean & 0\\\\\n",
       "\tCircFanAct3\\_std & 0\\\\\n",
       "\tCircFanAct3\\_max & 0\\\\\n",
       "\tCircFanAct3\\_min & 0\\\\\n",
       "\tCircFanAct2\\_max & 0\\\\\n",
       "\tCircFanAct2\\_std & 0\\\\\n",
       "\tCircFanAct2\\_min & 0\\\\\n",
       "\tCircFanAct2\\_mean & 0\\\\\n",
       "\tCircFanAct1\\_mean & 0\\\\\n",
       "\tCircFanAct1\\_std & 0\\\\\n",
       "\tCircFanAct1\\_max & 0\\\\\n",
       "\tCircFanAct1\\_min & 0\\\\\n",
       "\tTemp4\\_mean & 0\\\\\n",
       "\tTemp4\\_std & 0\\\\\n",
       "\tTemp4\\_max & 0\\\\\n",
       "\tTemp4\\_min & 0\\\\\n",
       "\tSpeed\\_min & 0\\\\\n",
       "\tSpeed\\_mean & 0\\\\\n",
       "\tSpeed\\_std & 0\\\\\n",
       "\tSpeed\\_max & 0\\\\\n",
       "\tPSum\\_min & 0\\\\\n",
       "\tPSum\\_max & 0\\\\\n",
       "\tPSum\\_mean & 0\\\\\n",
       "\tPSum\\_std & 0\\\\\n",
       "\tMonth & 0\\\\\n",
       "\tDay & 0\\\\\n",
       "\\end{tabular}\n"
      ],
      "text/markdown": [
       "\n",
       "| <!--/--> | Overall | \n",
       "|---|---|---|---|---|---|---|---|---|---|---|---|---|---|---|---|---|---|---|---|---|---|---|---|---|---|---|---|---|---|---|---|---|---|---|---|---|---|---|---|---|---|---|---|---|---|---|---|---|---|---|---|---|---|---|---|---|---|---|---|---|\n",
       "| CircFanAct6_min |  52.71660 | \n",
       "| ExitCnvySpeed_min |  50.36131 | \n",
       "| FeedCnvyRatio_std |  15.02560 | \n",
       "| FolderSpeed_min |  50.36131 | \n",
       "| Hour |  25.00330 | \n",
       "| LowerCnvySpeed_min |  50.36131 | \n",
       "| MiddleCnvyRatio_std |  44.64438 | \n",
       "| MiddleCnvySpeed_min |  50.36131 | \n",
       "| Plevia_max |  19.68849 | \n",
       "| Plevia_std |  18.52597 | \n",
       "| Temp2_mean |  20.55728 | \n",
       "| Temp5_mean |  94.64357 | \n",
       "| Temp6_mean | 100.00000 | \n",
       "| Temp6_min |  30.65770 | \n",
       "| Valve5_mean |  70.28879 | \n",
       "| Valve5_min |  77.23588 | \n",
       "| Valve5_std |  93.39161 | \n",
       "| MiddleCnvyRatio_min |   0.00000 | \n",
       "| MiddleCnvyRatio_mean |   0.00000 | \n",
       "| MiddleCnvyRatio_max |   0.00000 | \n",
       "| LowerCnvySpeed_max |   0.00000 | \n",
       "| LowerCnvySpeed_std |   0.00000 | \n",
       "| LowerCnvySpeed_mean |   0.00000 | \n",
       "| HeatRecAct_std |   0.00000 | \n",
       "| HeatRecAct_mean |   0.00000 | \n",
       "| HeatRecAct_max |   0.00000 | \n",
       "| HeatRecAct_min |   0.00000 | \n",
       "| CircfanAct4_std |   0.00000 | \n",
       "| CircfanAct4_min |   0.00000 | \n",
       "| CircfanAct4_max |   0.00000 | \n",
       "| ⋮ | ⋮ | \n",
       "| CircFanAct5_std | 0 | \n",
       "| CircFanAct5_max | 0 | \n",
       "| CircFanAct5_min | 0 | \n",
       "| CircFanAct5_mean | 0 | \n",
       "| CircFanAct3_mean | 0 | \n",
       "| CircFanAct3_std | 0 | \n",
       "| CircFanAct3_max | 0 | \n",
       "| CircFanAct3_min | 0 | \n",
       "| CircFanAct2_max | 0 | \n",
       "| CircFanAct2_std | 0 | \n",
       "| CircFanAct2_min | 0 | \n",
       "| CircFanAct2_mean | 0 | \n",
       "| CircFanAct1_mean | 0 | \n",
       "| CircFanAct1_std | 0 | \n",
       "| CircFanAct1_max | 0 | \n",
       "| CircFanAct1_min | 0 | \n",
       "| Temp4_mean | 0 | \n",
       "| Temp4_std | 0 | \n",
       "| Temp4_max | 0 | \n",
       "| Temp4_min | 0 | \n",
       "| Speed_min | 0 | \n",
       "| Speed_mean | 0 | \n",
       "| Speed_std | 0 | \n",
       "| Speed_max | 0 | \n",
       "| PSum_min | 0 | \n",
       "| PSum_max | 0 | \n",
       "| PSum_mean | 0 | \n",
       "| PSum_std | 0 | \n",
       "| Month | 0 | \n",
       "| Day | 0 | \n",
       "\n",
       "\n"
      ],
      "text/plain": [
       "                     Overall  \n",
       "CircFanAct6_min       52.71660\n",
       "ExitCnvySpeed_min     50.36131\n",
       "FeedCnvyRatio_std     15.02560\n",
       "FolderSpeed_min       50.36131\n",
       "Hour                  25.00330\n",
       "LowerCnvySpeed_min    50.36131\n",
       "MiddleCnvyRatio_std   44.64438\n",
       "MiddleCnvySpeed_min   50.36131\n",
       "Plevia_max            19.68849\n",
       "Plevia_std            18.52597\n",
       "Temp2_mean            20.55728\n",
       "Temp5_mean            94.64357\n",
       "Temp6_mean           100.00000\n",
       "Temp6_min             30.65770\n",
       "Valve5_mean           70.28879\n",
       "Valve5_min            77.23588\n",
       "Valve5_std            93.39161\n",
       "MiddleCnvyRatio_min    0.00000\n",
       "MiddleCnvyRatio_mean   0.00000\n",
       "MiddleCnvyRatio_max    0.00000\n",
       "LowerCnvySpeed_max     0.00000\n",
       "LowerCnvySpeed_std     0.00000\n",
       "LowerCnvySpeed_mean    0.00000\n",
       "HeatRecAct_std         0.00000\n",
       "HeatRecAct_mean        0.00000\n",
       "HeatRecAct_max         0.00000\n",
       "HeatRecAct_min         0.00000\n",
       "CircfanAct4_std        0.00000\n",
       "CircfanAct4_min        0.00000\n",
       "CircfanAct4_max        0.00000\n",
       "⋮                    ⋮        \n",
       "CircFanAct5_std      0        \n",
       "CircFanAct5_max      0        \n",
       "CircFanAct5_min      0        \n",
       "CircFanAct5_mean     0        \n",
       "CircFanAct3_mean     0        \n",
       "CircFanAct3_std      0        \n",
       "CircFanAct3_max      0        \n",
       "CircFanAct3_min      0        \n",
       "CircFanAct2_max      0        \n",
       "CircFanAct2_std      0        \n",
       "CircFanAct2_min      0        \n",
       "CircFanAct2_mean     0        \n",
       "CircFanAct1_mean     0        \n",
       "CircFanAct1_std      0        \n",
       "CircFanAct1_max      0        \n",
       "CircFanAct1_min      0        \n",
       "Temp4_mean           0        \n",
       "Temp4_std            0        \n",
       "Temp4_max            0        \n",
       "Temp4_min            0        \n",
       "Speed_min            0        \n",
       "Speed_mean           0        \n",
       "Speed_std            0        \n",
       "Speed_max            0        \n",
       "PSum_min             0        \n",
       "PSum_max             0        \n",
       "PSum_mean            0        \n",
       "PSum_std             0        \n",
       "Month                0        \n",
       "Day                  0        "
      ]
     },
     "metadata": {},
     "output_type": "display_data"
    }
   ],
   "source": [
    "rpart_imp <- varImp(rpart_fit)$importance\n",
    "rpart_imp <- rpart_imp[order(-), ]"
   ]
  },
  {
   "cell_type": "code",
   "execution_count": null,
   "metadata": {
    "collapsed": true
   },
   "outputs": [],
   "source": []
  },
  {
   "cell_type": "code",
   "execution_count": null,
   "metadata": {
    "collapsed": true
   },
   "outputs": [],
   "source": []
  },
  {
   "cell_type": "code",
   "execution_count": null,
   "metadata": {
    "collapsed": false
   },
   "outputs": [],
   "source": []
  },
  {
   "cell_type": "code",
   "execution_count": null,
   "metadata": {
    "collapsed": false
   },
   "outputs": [],
   "source": []
  },
  {
   "cell_type": "code",
   "execution_count": null,
   "metadata": {
    "collapsed": false
   },
   "outputs": [],
   "source": []
  },
  {
   "cell_type": "code",
   "execution_count": null,
   "metadata": {
    "collapsed": true
   },
   "outputs": [],
   "source": []
  }
 ],
 "metadata": {
  "kernelspec": {
   "display_name": "R",
   "language": "R",
   "name": "ir"
  },
  "language_info": {
   "codemirror_mode": "r",
   "file_extension": ".r",
   "mimetype": "text/x-r-source",
   "name": "R",
   "pygments_lexer": "r",
   "version": "3.3.2"
  }
 },
 "nbformat": 4,
 "nbformat_minor": 2
}
