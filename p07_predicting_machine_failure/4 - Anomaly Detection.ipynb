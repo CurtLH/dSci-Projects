{
 "cells": [
  {
   "cell_type": "markdown",
   "metadata": {},
   "source": [
    "# Customize Enviornment"
   ]
  },
  {
   "cell_type": "code",
   "execution_count": 1,
   "metadata": {
    "collapsed": true
   },
   "outputs": [],
   "source": [
    "# set default plot size\n",
    "options(repr.plot.width=10, repr.plot.height=6)\n",
    "options(warn = FALSE)"
   ]
  },
  {
   "cell_type": "code",
   "execution_count": 3,
   "metadata": {},
   "outputs": [],
   "source": [
    "# configure multicore processing\n",
    "library(doMC)\n",
    "registerDoMC(cores=8)"
   ]
  },
  {
   "cell_type": "code",
   "execution_count": 23,
   "metadata": {},
   "outputs": [
    {
     "ename": "ERROR",
     "evalue": "Error in library(AnomalyDetection): there is no package called ‘AnomalyDetection’\n",
     "output_type": "error",
     "traceback": [
      "Error in library(AnomalyDetection): there is no package called ‘AnomalyDetection’\nTraceback:\n",
      "1. library(AnomalyDetection)",
      "2. stop(txt, domain = NA)"
     ]
    }
   ],
   "source": [
    "library(RMySQL)\n",
    "library(lubridate)\n",
    "library(rpart)\n",
    "library(ggplot2)\n",
    "library(caret)\n",
    "library(e1071)\n",
    "library(DMwR)\n",
    "library(randomForest)\n",
    "library(party)\n",
    "library(Matrix)\n",
    "library(xgboost)\n",
    "library(DiagrammeR)\n",
    "library(pROC)\n",
    "library(ROSE)\n",
    "library(ipred)\n",
    "library(nnet)\n",
    "library(AnomalyDetection)"
   ]
  },
  {
   "cell_type": "code",
   "execution_count": 26,
   "metadata": {},
   "outputs": [
    {
     "name": "stderr",
     "output_type": "stream",
     "text": [
      "Downloading GitHub repo twitter/AnomalyDetection@master\n",
      "from URL https://api.github.com/repos/twitter/AnomalyDetection/zipball/master\n",
      "Installing AnomalyDetection\n",
      "Warning message in utils::untar(src, exdir = target, compressed = \"gzip\"):\n",
      "“‘/bin/gtar -xf '/tmp/Rtmp1FQ6h8/stringr_1.2.0.tar.gz' -C '/tmp/Rtmp1FQ6h8/devtools62201311d7dd'’ returned error code 127”"
     ]
    },
    {
     "ename": "ERROR",
     "evalue": "Error in system(cmd, intern = TRUE): error in running command\n",
     "output_type": "error",
     "traceback": [
      "Error in system(cmd, intern = TRUE): error in running command\nTraceback:\n",
      "1. devtools::install_github(\"twitter/AnomalyDetection\")",
      "2. install_remotes(remotes, quiet = quiet, ...)",
      "3. vapply(remotes, install_remote, ..., FUN.VALUE = logical(1))",
      "4. FUN(X[[i]], ...)",
      "5. install(source, ..., quiet = quiet, metadata = metadata)",
      "6. install_deps(pkg, dependencies = initial_deps, upgrade = upgrade_dependencies, \n .     threads = threads, force_deps = force_deps, quiet = quiet, \n .     ...)",
      "7. update(pkg, ..., Ncpus = threads, quiet = quiet, upgrade = upgrade)",
      "8. update.package_deps(pkg, ..., Ncpus = threads, quiet = quiet, \n .     upgrade = upgrade)",
      "9. install_remotes(object$remote[behind], ..., quiet = quiet)",
      "10. vapply(remotes, install_remote, ..., FUN.VALUE = logical(1))",
      "11. FUN(X[[i]], ...)",
      "12. source_pkg(bundle, subdir = remote$subdir)",
      "13. source_pkg_info(path = path, subdir = subdir)",
      "14. decompress(path, outdir)",
      "15. getrootdir(utils::untar(src, compressed = \"gzip\", list = TRUE))",
      "16. nchar(gsub(\"[^/]\", \"\", file_list))",
      "17. gsub(\"[^/]\", \"\", file_list)",
      "18. utils::untar(src, compressed = \"gzip\", list = TRUE)",
      "19. system(cmd, intern = TRUE)"
     ]
    }
   ],
   "source": [
    "#install.packages(\"devtools\")\n",
    "#library(devtools)\n",
    "devtools::install_github(\"twitter/AnomalyDetection\")"
   ]
  },
  {
   "cell_type": "markdown",
   "metadata": {},
   "source": [
    "# Get Data"
   ]
  },
  {
   "cell_type": "code",
   "execution_count": null,
   "metadata": {
    "collapsed": true
   },
   "outputs": [],
   "source": [
    "# create an open connection to the database\n",
    "#cn <- dbConnect(drv = RMySQL::MySQL(),\n",
    "#                host = \"host\",\n",
    "#                port = 3306,\n",
    "#                user = \"user\",\n",
    "#                password = \"password\",\n",
    "#                dbname = \"db\")\n",
    "\n",
    "# query the database and store the results into a DataFrame\n",
    "#df <- dbGetQuery(cn, \"SELECT * FROM dryer3_fail_1_hour_before\")\n",
    "#dbDisconnect(cn)"
   ]
  },
  {
   "cell_type": "code",
   "execution_count": null,
   "metadata": {
    "collapsed": true
   },
   "outputs": [],
   "source": [
    "# convert datetime_hour to datetime object\n",
    "#df$Datetime_hour <- ymd_hms(df$Datetime)"
   ]
  },
  {
   "cell_type": "code",
   "execution_count": 9,
   "metadata": {
    "collapsed": true
   },
   "outputs": [],
   "source": [
    "# save df to local machine\n",
    "#saveRDS(df, \"dryer3_fail_1_hour_before.Rda\")\n",
    "df <- readRDS(\"dryer3_fail_1_hour_before.Rda\")"
   ]
  },
  {
   "cell_type": "code",
   "execution_count": 10,
   "metadata": {},
   "outputs": [],
   "source": [
    "# drop the old failure variable and set the new failure variable as factor\n",
    "df$Class  <- as.factor(df$NEW_FAIL)\n",
    "df$FAILURE <- NULL\n",
    "df$NEW_FAIL <- NULL\n",
    "\n",
    "# create variable names for the Class variable\n",
    "levels(df$Class) <- make.names(c(\"notFail\", \"fail\"))"
   ]
  },
  {
   "cell_type": "code",
   "execution_count": 11,
   "metadata": {},
   "outputs": [],
   "source": [
    "# create new variables for dates and time\n",
    "df$Year <- year(df$Datetime_hour)\n",
    "df$Month <- month(df$Datetime_hour)\n",
    "df$Day <- day(df$Datetime_hour)\n",
    "df$Hour <- hour(df$Datetime_hour)\n",
    "df$Minute <- minute(df$Datetime_hour)\n",
    "#df$Datetime_hour <- NULL"
   ]
  },
  {
   "cell_type": "code",
   "execution_count": 12,
   "metadata": {},
   "outputs": [
    {
     "data": {
      "text/plain": [
       "      \n",
       "         1   2   3   4   5   6   7   8   9  10  11  12\n",
       "  2015 718 419 733 720 715 704 725 734 648 565 633 531\n",
       "  2016 450 284 732 717 657 627   0   0   0   0   0   0"
      ]
     },
     "metadata": {},
     "output_type": "display_data"
    }
   ],
   "source": [
    "# look at the number of records per month\n",
    "table(df$Year, df$Month)"
   ]
  },
  {
   "cell_type": "code",
   "execution_count": 13,
   "metadata": {},
   "outputs": [
    {
     "data": {
      "text/plain": [
       "      \n",
       "        1  2  3  4  5  6  7  8  9 10 11 12\n",
       "  2015 11  4 10  0 10 10  8  4  3  2  2  3\n",
       "  2016  5  0  3  1  1  0  0  0  0  0  0  0"
      ]
     },
     "metadata": {},
     "output_type": "display_data"
    }
   ],
   "source": [
    "# look at the number of failures per month\n",
    "fails <- df[df$Class == 'fail', ]\n",
    "table(fails$Year, fails$Month)"
   ]
  },
  {
   "cell_type": "code",
   "execution_count": 14,
   "metadata": {
    "collapsed": true
   },
   "outputs": [],
   "source": [
    "# subset df to only 2015\n",
    "df <- df[df$Year == 2015 & df$Month < 8, ]"
   ]
  },
  {
   "cell_type": "code",
   "execution_count": 15,
   "metadata": {},
   "outputs": [
    {
     "data": {
      "text/plain": [
       "         \n",
       "            1   2   3   4   5   6   7\n",
       "  notFail 707 415 723 720 705 694 717\n",
       "  fail     11   4  10   0  10  10   8"
      ]
     },
     "metadata": {},
     "output_type": "display_data"
    }
   ],
   "source": [
    "# look at the number of failures per month\n",
    "table(df$Class, df$Month)"
   ]
  },
  {
   "cell_type": "code",
   "execution_count": 16,
   "metadata": {},
   "outputs": [
    {
     "data": {
      "text/html": [
       "<ol class=list-inline>\n",
       "\t<li>4734</li>\n",
       "\t<li>114</li>\n",
       "</ol>\n"
      ],
      "text/latex": [
       "\\begin{enumerate*}\n",
       "\\item 4734\n",
       "\\item 114\n",
       "\\end{enumerate*}\n"
      ],
      "text/markdown": [
       "1. 4734\n",
       "2. 114\n",
       "\n",
       "\n"
      ],
      "text/plain": [
       "[1] 4734  114"
      ]
     },
     "metadata": {},
     "output_type": "display_data"
    }
   ],
   "source": [
    "# look at the number of variables\n",
    "dim(df)"
   ]
  },
  {
   "cell_type": "code",
   "execution_count": 17,
   "metadata": {},
   "outputs": [],
   "source": [
    "# drop variables are are constant\n",
    "df <- df[sapply(df, function(x) length(unique(na.omit(x)))) > 1]"
   ]
  },
  {
   "cell_type": "code",
   "execution_count": 18,
   "metadata": {},
   "outputs": [
    {
     "data": {
      "text/html": [
       "<ol class=list-inline>\n",
       "\t<li>4734</li>\n",
       "\t<li>83</li>\n",
       "</ol>\n"
      ],
      "text/latex": [
       "\\begin{enumerate*}\n",
       "\\item 4734\n",
       "\\item 83\n",
       "\\end{enumerate*}\n"
      ],
      "text/markdown": [
       "1. 4734\n",
       "2. 83\n",
       "\n",
       "\n"
      ],
      "text/plain": [
       "[1] 4734   83"
      ]
     },
     "metadata": {},
     "output_type": "display_data"
    }
   ],
   "source": [
    "# look at how many variables remain\n",
    "dim(df)"
   ]
  },
  {
   "cell_type": "code",
   "execution_count": null,
   "metadata": {
    "collapsed": true
   },
   "outputs": [],
   "source": []
  },
  {
   "cell_type": "markdown",
   "metadata": {},
   "source": [
    "### Split data into training and test"
   ]
  },
  {
   "cell_type": "code",
   "execution_count": 19,
   "metadata": {},
   "outputs": [],
   "source": [
    "# split into training and test\n",
    "#imbal_train  <- df[c(1:5500),]\n",
    "#imbal_test  <- df[c(5501:7845), ]\n",
    "imbal_train <- df[df$Month <= 5, ]\n",
    "imbal_test <- df[df$Month > 5, ]"
   ]
  },
  {
   "cell_type": "code",
   "execution_count": 20,
   "metadata": {},
   "outputs": [
    {
     "data": {
      "text/plain": [
       "\n",
       "   notFail       fail \n",
       "0.98940998 0.01059002 "
      ]
     },
     "metadata": {},
     "output_type": "display_data"
    }
   ],
   "source": [
    "# proportion of training data\n",
    "prop.table(table(imbal_train$Class))"
   ]
  },
  {
   "cell_type": "code",
   "execution_count": 21,
   "metadata": {},
   "outputs": [
    {
     "data": {
      "text/plain": [
       "\n",
       "   notFail       fail \n",
       "0.98740378 0.01259622 "
      ]
     },
     "metadata": {},
     "output_type": "display_data"
    }
   ],
   "source": [
    "# proportion of test data\n",
    "prop.table(table(imbal_test$Class))"
   ]
  },
  {
   "cell_type": "code",
   "execution_count": null,
   "metadata": {
    "collapsed": true
   },
   "outputs": [],
   "source": []
  },
  {
   "cell_type": "code",
   "execution_count": null,
   "metadata": {
    "collapsed": true
   },
   "outputs": [],
   "source": []
  }
 ],
 "metadata": {
  "kernelspec": {
   "display_name": "R",
   "language": "R",
   "name": "ir"
  },
  "language_info": {
   "codemirror_mode": "r",
   "file_extension": ".r",
   "mimetype": "text/x-r-source",
   "name": "R",
   "pygments_lexer": "r",
   "version": "3.3.2"
  }
 },
 "nbformat": 4,
 "nbformat_minor": 2
}
