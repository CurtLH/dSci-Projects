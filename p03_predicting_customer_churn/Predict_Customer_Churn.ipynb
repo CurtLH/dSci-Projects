{
 "cells": [
  {
   "cell_type": "markdown",
   "metadata": {},
   "source": [
    "# Predict Customer Churn"
   ]
  },
  {
   "cell_type": "markdown",
   "metadata": {},
   "source": [
    "A large cell-phone service provider has requested our help to explore their customer data.  This notebook contains an assessment of which of their new customers are likely to leave in the next quarter."
   ]
  },
  {
   "cell_type": "markdown",
   "metadata": {},
   "source": [
    "## Customize Enviornment"
   ]
  },
  {
   "cell_type": "code",
   "execution_count": 7,
   "metadata": {
    "collapsed": false
   },
   "outputs": [],
   "source": [
    "# load packages\n",
    "packages <- c(\"purrr\", \"doMC\", \"ggplot2\", \"caret\")\n",
    "purrr::walk(packages, library, character.only = TRUE, warn.conflicts = FALSE)\n",
    "\n",
    "# set default plot size\n",
    "options(repr.plot.width=10, repr.plot.height=6)\n",
    "\n",
    "# configure multicore processing\n",
    "registerDoMC(cores=8)"
   ]
  },
  {
   "cell_type": "code",
   "execution_count": null,
   "metadata": {
    "collapsed": true
   },
   "outputs": [],
   "source": []
  },
  {
   "cell_type": "markdown",
   "metadata": {},
   "source": [
    "## Load Data"
   ]
  },
  {
   "cell_type": "code",
   "execution_count": 3,
   "metadata": {
    "collapsed": true
   },
   "outputs": [],
   "source": [
    "# read in CSV files into dataframe\n",
    "act_activity <- read.csv(\"account_activity.csv\")\n",
    "cust_info <- read.csv(\"customer_info.csv\")\n",
    "new_cust <- read.csv(\"new_customers.csv\")"
   ]
  },
  {
   "cell_type": "code",
   "execution_count": 5,
   "metadata": {
    "collapsed": false
   },
   "outputs": [
    {
     "name": "stdout",
     "output_type": "stream",
     "text": [
      "'data.frame':\t3373 obs. of  17 variables:\n",
      " $ Customer.ID   : Factor w/ 3333 levels \"4bb41f7c73db02b\",..: 2513 1892 2732 1091 855 2208 2308 2909 2189 2824 ...\n",
      " $ VMail_Message : int  25 26 0 0 0 0 24 0 0 37 ...\n",
      " $ Day_Mins      : num  265 162 243 299 167 ...\n",
      " $ Day_Calls     : int  110 123 114 71 113 98 88 79 97 84 ...\n",
      " $ Day_Charge    : num  45.1 27.5 41.4 50.9 28.3 ...\n",
      " $ Eve_Mins      : num  197.4 195.5 121.2 61.9 148.3 ...\n",
      " $ Eve_Calls     : int  99 103 110 88 122 101 108 94 80 111 ...\n",
      " $ Eve_Charge    : num  16.78 16.62 10.3 5.26 12.61 ...\n",
      " $ Night_Mins    : num  245 254 163 197 187 ...\n",
      " $ Night_Calls   : int  91 103 104 89 121 118 118 96 90 97 ...\n",
      " $ Night_Charge  : num  11.01 11.45 7.32 8.86 8.41 ...\n",
      " $ Intl_Mins     : num  10 13.7 12.2 6.6 10.1 6.3 7.5 7.1 8.7 11.2 ...\n",
      " $ total_Mins    : num  717 625 539 565 512 ...\n",
      " $ Intl_Calls    : int  3 3 5 7 3 6 7 6 4 5 ...\n",
      " $ Intl_Charge   : num  2.7 3.7 3.29 1.78 2.73 1.7 2.03 1.92 2.35 3.02 ...\n",
      " $ Total_Charge  : num  75.6 59.2 62.3 66.8 52.1 ...\n",
      " $ CustServ_Calls: int  1 1 0 2 3 0 3 0 1 0 ...\n"
     ]
    }
   ],
   "source": [
    "str(act_activity)"
   ]
  },
  {
   "cell_type": "code",
   "execution_count": 6,
   "metadata": {
    "collapsed": false
   },
   "outputs": [
    {
     "name": "stdout",
     "output_type": "stream",
     "text": [
      "'data.frame':\t3373 obs. of  7 variables:\n",
      " $ Customer.ID: Factor w/ 3333 levels \"4bb41f7c73db02b\",..: 2513 1892 2732 1091 855 2208 2308 2909 2189 2824 ...\n",
      " $ State      : Factor w/ 51 levels \"AK\",\"AL\",\"AR\",..: 17 36 32 36 37 2 20 25 19 50 ...\n",
      " $ Area_Code  : int  415 415 415 408 415 510 510 415 408 415 ...\n",
      " $ Phone      : Factor w/ 3333 levels \"327-1058\",\"327-1319\",..: 1927 1576 1118 1708 111 2254 1048 81 292 118 ...\n",
      " $ Intl_Plan  : Factor w/ 2 levels \"no\",\"yes\": 1 1 1 2 2 2 1 2 1 2 ...\n",
      " $ VMail_Plan : Factor w/ 2 levels \"no\",\"yes\": 2 2 1 1 1 1 2 1 1 2 ...\n",
      " $ Churn      : int  0 0 0 0 0 0 0 0 0 0 ...\n"
     ]
    }
   ],
   "source": [
    "str(cust_info)"
   ]
  },
  {
   "cell_type": "code",
   "execution_count": null,
   "metadata": {
    "collapsed": true
   },
   "outputs": [],
   "source": []
  },
  {
   "cell_type": "code",
   "execution_count": null,
   "metadata": {
    "collapsed": true
   },
   "outputs": [],
   "source": []
  },
  {
   "cell_type": "code",
   "execution_count": null,
   "metadata": {
    "collapsed": true
   },
   "outputs": [],
   "source": []
  },
  {
   "cell_type": "code",
   "execution_count": null,
   "metadata": {
    "collapsed": true
   },
   "outputs": [],
   "source": []
  },
  {
   "cell_type": "code",
   "execution_count": null,
   "metadata": {
    "collapsed": true
   },
   "outputs": [],
   "source": []
  },
  {
   "cell_type": "code",
   "execution_count": null,
   "metadata": {
    "collapsed": true
   },
   "outputs": [],
   "source": []
  },
  {
   "cell_type": "code",
   "execution_count": null,
   "metadata": {
    "collapsed": true
   },
   "outputs": [],
   "source": []
  }
 ],
 "metadata": {
  "kernelspec": {
   "display_name": "R",
   "language": "R",
   "name": "ir"
  },
  "language_info": {
   "codemirror_mode": "r",
   "file_extension": ".r",
   "mimetype": "text/x-r-source",
   "name": "R",
   "pygments_lexer": "r",
   "version": "3.3.2"
  }
 },
 "nbformat": 4,
 "nbformat_minor": 2
}
