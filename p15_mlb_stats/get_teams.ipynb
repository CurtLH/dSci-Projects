{
 "cells": [
  {
   "cell_type": "code",
   "execution_count": 1,
   "metadata": {
    "collapsed": true
   },
   "outputs": [],
   "source": [
    "import json\n",
    "import requests\n",
    "import pandas as pd"
   ]
  },
  {
   "cell_type": "code",
   "execution_count": 2,
   "metadata": {},
   "outputs": [
    {
     "name": "stdout",
     "output_type": "stream",
     "text": [
      "Populating the interactive namespace from numpy and matplotlib\n"
     ]
    }
   ],
   "source": [
    "%pylab inline"
   ]
  },
  {
   "cell_type": "code",
   "execution_count": 3,
   "metadata": {
    "collapsed": true
   },
   "outputs": [],
   "source": [
    "# set the default plot size\n",
    "pylab.rcParams['figure.figsize'] = (12, 6)"
   ]
  },
  {
   "cell_type": "markdown",
   "metadata": {},
   "source": [
    "# Query API\n",
    "It's a good idea to write out the raw source data received from querying the API before doing anything else. This is so that we can experiment with the data recieved without having to continually query the API. I will typically load this raw source data into a database as a JSON object, but in this situation, I'll just write it out to a file in JSON format."
   ]
  },
  {
   "cell_type": "code",
   "execution_count": 4,
   "metadata": {
    "collapsed": true
   },
   "outputs": [],
   "source": [
    "# get the information for all player propects\n",
    "data = requests.get(\"http://m.mlb.com/gen/players/prospects/2018/playerProspects.json\").json()"
   ]
  },
  {
   "cell_type": "code",
   "execution_count": 5,
   "metadata": {
    "collapsed": true
   },
   "outputs": [],
   "source": [
    "# write JSON data\n",
    "with open('2018_mlb_prospect_teams.json', 'w') as f:\n",
    "    json.dump(data, f, ensure_ascii=False)"
   ]
  },
  {
   "cell_type": "markdown",
   "metadata": {},
   "source": [
    "# Extract, Transform, Load\n",
    "After querying the API, the next step is to extract relevant information from the JSON data and load it into a format that we can use for analysis."
   ]
  },
  {
   "cell_type": "code",
   "execution_count": 6,
   "metadata": {
    "collapsed": true
   },
   "outputs": [],
   "source": [
    "# read in JSON data\n",
    "teams = json.load(open('2018_mlb_prospect_teams.json'))"
   ]
  },
  {
   "cell_type": "code",
   "execution_count": 7,
   "metadata": {},
   "outputs": [
    {
     "data": {
      "text/plain": [
       "dict_keys(['year', 'last_updated', 'prospect_players'])"
      ]
     },
     "execution_count": 7,
     "metadata": {},
     "output_type": "execute_result"
    }
   ],
   "source": [
    "# inspect the keys in the data\n",
    "teams.keys()"
   ]
  },
  {
   "cell_type": "code",
   "execution_count": 8,
   "metadata": {},
   "outputs": [
    {
     "name": "stdout",
     "output_type": "stream",
     "text": [
      "Last Updated: 2018-03-12T20:26:10.958Z\n",
      "Year: 2018\n"
     ]
    }
   ],
   "source": [
    "# inspect the teams\n",
    "print(\"Last Updated: {}\".format(teams['last_updated']))\n",
    "print(\"Year: {}\".format(teams['year']))"
   ]
  },
  {
   "cell_type": "code",
   "execution_count": 9,
   "metadata": {},
   "outputs": [
    {
     "data": {
      "text/plain": [
       "dict_keys(['sd', 'kc', 'cin', 'phi', 'min', 'rhp', 'ss', 'ari', 'draft', '2b', '3b', 'lhp', 'nym', 'tex', 'la', 'nyy', 'cle', 'col', 'hou', 'stl', 'prospects', 'tor', 'was', 'bos', 'tb', 'bal', 'pit', 'c', 'mil', 'chc', 'ana', '1b', 'atl', 'cws', 'oak', 'det', 'of', 'sea', 'mia', 'sf'])"
      ]
     },
     "execution_count": 9,
     "metadata": {},
     "output_type": "execute_result"
    }
   ],
   "source": [
    "# look at the keys\n",
    "teams['prospect_players'].keys()"
   ]
  },
  {
   "cell_type": "code",
   "execution_count": 10,
   "metadata": {},
   "outputs": [
    {
     "data": {
      "text/plain": [
       "{'photo180x218': '/assets/images/7/5/8/264702758/cuts/180x218/cut.jpg',\n",
       " 'photo360x436': '/assets/images/7/5/8/264702758/cuts/360x436/cut.jpg',\n",
       " 'player_first_name': 'Michael',\n",
       " 'player_id': 656308,\n",
       " 'player_last_name': 'Chavis',\n",
       " 'position': '3B',\n",
       " 'preseason100': '',\n",
       " 'preseason20': 1,\n",
       " 'prospect_year': '2018',\n",
       " 'rank': 1,\n",
       " 'team_file_code': 'BOS',\n",
       " 'thumb': '/assets/images/7/5/8/264702758/cuts/74x74/cut.jpg',\n",
       " 'thumb124x150': '/assets/images/7/5/8/264702758/cuts/124x150/cut.jpg',\n",
       " 'thumb62x75': '/assets/images/7/5/8/264702758/cuts/62x75/cut.jpg'}"
      ]
     },
     "execution_count": 10,
     "metadata": {},
     "output_type": "execute_result"
    }
   ],
   "source": [
    "# look at the keys for the first player of a team\n",
    "teams['prospect_players']['bos'][0]"
   ]
  },
  {
   "cell_type": "code",
   "execution_count": 11,
   "metadata": {
    "collapsed": true
   },
   "outputs": [],
   "source": [
    "# iterate over prospects players and pull out data\n",
    "players = []\n",
    "for team in teams['prospect_players']:\n",
    "    players.extend(teams['prospect_players'][team])"
   ]
  },
  {
   "cell_type": "code",
   "execution_count": 12,
   "metadata": {},
   "outputs": [
    {
     "data": {
      "text/plain": [
       "1130"
      ]
     },
     "execution_count": 12,
     "metadata": {},
     "output_type": "execute_result"
    }
   ],
   "source": [
    "# count how many players there are\n",
    "len(players)"
   ]
  },
  {
   "cell_type": "code",
   "execution_count": 13,
   "metadata": {},
   "outputs": [
    {
     "data": {
      "text/plain": [
       "{'photo180x218': '/assets/images/3/0/4/264409304/cuts/180x218/cut.jpg',\n",
       " 'photo360x436': '/assets/images/3/0/4/264409304/cuts/360x436/cut.jpg',\n",
       " 'player_first_name': 'Fernando',\n",
       " 'player_id': 665487,\n",
       " 'player_last_name': 'Tatis Jr.',\n",
       " 'position': 'SS',\n",
       " 'preseason100': 8,\n",
       " 'preseason20': 1,\n",
       " 'prospect_year': '2018',\n",
       " 'rank': 1,\n",
       " 'team_file_code': 'SD',\n",
       " 'thumb': '/assets/images/3/0/4/264409304/cuts/74x74/cut.jpg',\n",
       " 'thumb124x150': '/assets/images/3/0/4/264409304/cuts/124x150/cut.jpg',\n",
       " 'thumb62x75': '/assets/images/3/0/4/264409304/cuts/62x75/cut.jpg'}"
      ]
     },
     "execution_count": 13,
     "metadata": {},
     "output_type": "execute_result"
    }
   ],
   "source": [
    "# look at one player\n",
    "players[0]"
   ]
  },
  {
   "cell_type": "code",
   "execution_count": 14,
   "metadata": {
    "collapsed": true
   },
   "outputs": [],
   "source": [
    "# load players into DataFrame\n",
    "df = pd.DataFrame(players)"
   ]
  },
  {
   "cell_type": "code",
   "execution_count": 15,
   "metadata": {},
   "outputs": [
    {
     "data": {
      "text/html": [
       "<div>\n",
       "<style>\n",
       "    .dataframe thead tr:only-child th {\n",
       "        text-align: right;\n",
       "    }\n",
       "\n",
       "    .dataframe thead th {\n",
       "        text-align: left;\n",
       "    }\n",
       "\n",
       "    .dataframe tbody tr th {\n",
       "        vertical-align: top;\n",
       "    }\n",
       "</style>\n",
       "<table border=\"1\" class=\"dataframe\">\n",
       "  <thead>\n",
       "    <tr style=\"text-align: right;\">\n",
       "      <th></th>\n",
       "      <th>photo180x218</th>\n",
       "      <th>photo360x436</th>\n",
       "      <th>player_first_name</th>\n",
       "      <th>player_id</th>\n",
       "      <th>player_last_name</th>\n",
       "      <th>position</th>\n",
       "      <th>preseason100</th>\n",
       "      <th>preseason20</th>\n",
       "      <th>prospect_year</th>\n",
       "      <th>rank</th>\n",
       "      <th>team_file_code</th>\n",
       "      <th>thumb</th>\n",
       "      <th>thumb124x150</th>\n",
       "      <th>thumb62x75</th>\n",
       "    </tr>\n",
       "  </thead>\n",
       "  <tbody>\n",
       "    <tr>\n",
       "      <th>0</th>\n",
       "      <td>/assets/images/3/0/4/264409304/cuts/180x218/cu...</td>\n",
       "      <td>/assets/images/3/0/4/264409304/cuts/360x436/cu...</td>\n",
       "      <td>Fernando</td>\n",
       "      <td>665487</td>\n",
       "      <td>Tatis Jr.</td>\n",
       "      <td>SS</td>\n",
       "      <td>8</td>\n",
       "      <td>1</td>\n",
       "      <td>2018</td>\n",
       "      <td>1</td>\n",
       "      <td>SD</td>\n",
       "      <td>/assets/images/3/0/4/264409304/cuts/74x74/cut.jpg</td>\n",
       "      <td>/assets/images/3/0/4/264409304/cuts/124x150/cu...</td>\n",
       "      <td>/assets/images/3/0/4/264409304/cuts/62x75/cut.jpg</td>\n",
       "    </tr>\n",
       "    <tr>\n",
       "      <th>1</th>\n",
       "      <td>/assets/images/8/5/6/264406856/cuts/180x218/cu...</td>\n",
       "      <td>/assets/images/8/5/6/264406856/cuts/360x436/cu...</td>\n",
       "      <td>MacKenzie</td>\n",
       "      <td>669022</td>\n",
       "      <td>Gore</td>\n",
       "      <td>LHP</td>\n",
       "      <td>19</td>\n",
       "      <td>2</td>\n",
       "      <td>2018</td>\n",
       "      <td>2</td>\n",
       "      <td>SD</td>\n",
       "      <td>/assets/images/8/5/6/264406856/cuts/74x74/cut.jpg</td>\n",
       "      <td>/assets/images/8/5/6/264406856/cuts/124x150/cu...</td>\n",
       "      <td>/assets/images/8/5/6/264406856/cuts/62x75/cut.jpg</td>\n",
       "    </tr>\n",
       "    <tr>\n",
       "      <th>2</th>\n",
       "      <td>/assets/images/7/4/8/264414748/cuts/180x218/cu...</td>\n",
       "      <td>/assets/images/7/4/8/264414748/cuts/360x436/cu...</td>\n",
       "      <td>Luis</td>\n",
       "      <td>649966</td>\n",
       "      <td>Urias</td>\n",
       "      <td>2B/SS</td>\n",
       "      <td>36</td>\n",
       "      <td>3</td>\n",
       "      <td>2018</td>\n",
       "      <td>3</td>\n",
       "      <td>SD</td>\n",
       "      <td>/assets/images/7/4/8/264414748/cuts/74x74/cut.jpg</td>\n",
       "      <td>/assets/images/7/4/8/264414748/cuts/124x150/cu...</td>\n",
       "      <td>/assets/images/7/4/8/264414748/cuts/62x75/cut.jpg</td>\n",
       "    </tr>\n",
       "    <tr>\n",
       "      <th>3</th>\n",
       "      <td>/assets/images/0/8/0/264413080/cuts/180x218/cu...</td>\n",
       "      <td>/assets/images/0/8/0/264413080/cuts/360x436/cu...</td>\n",
       "      <td>Cal</td>\n",
       "      <td>615698</td>\n",
       "      <td>Quantrill</td>\n",
       "      <td>RHP</td>\n",
       "      <td>40</td>\n",
       "      <td>4</td>\n",
       "      <td>2018</td>\n",
       "      <td>4</td>\n",
       "      <td>SD</td>\n",
       "      <td>/assets/images/0/8/0/264413080/cuts/74x74/cut.jpg</td>\n",
       "      <td>/assets/images/0/8/0/264413080/cuts/124x150/cu...</td>\n",
       "      <td>/assets/images/0/8/0/264413080/cuts/62x75/cut.jpg</td>\n",
       "    </tr>\n",
       "    <tr>\n",
       "      <th>4</th>\n",
       "      <td>/assets/images/3/0/6/264411306/cuts/180x218/cu...</td>\n",
       "      <td>/assets/images/3/0/6/264411306/cuts/360x436/cu...</td>\n",
       "      <td>Michel</td>\n",
       "      <td>673258</td>\n",
       "      <td>Baez</td>\n",
       "      <td>RHP</td>\n",
       "      <td>42</td>\n",
       "      <td>5</td>\n",
       "      <td>2018</td>\n",
       "      <td>5</td>\n",
       "      <td>SD</td>\n",
       "      <td>/assets/images/3/0/6/264411306/cuts/74x74/cut.jpg</td>\n",
       "      <td>/assets/images/3/0/6/264411306/cuts/124x150/cu...</td>\n",
       "      <td>/assets/images/3/0/6/264411306/cuts/62x75/cut.jpg</td>\n",
       "    </tr>\n",
       "  </tbody>\n",
       "</table>\n",
       "</div>"
      ],
      "text/plain": [
       "                                        photo180x218  \\\n",
       "0  /assets/images/3/0/4/264409304/cuts/180x218/cu...   \n",
       "1  /assets/images/8/5/6/264406856/cuts/180x218/cu...   \n",
       "2  /assets/images/7/4/8/264414748/cuts/180x218/cu...   \n",
       "3  /assets/images/0/8/0/264413080/cuts/180x218/cu...   \n",
       "4  /assets/images/3/0/6/264411306/cuts/180x218/cu...   \n",
       "\n",
       "                                        photo360x436 player_first_name  \\\n",
       "0  /assets/images/3/0/4/264409304/cuts/360x436/cu...          Fernando   \n",
       "1  /assets/images/8/5/6/264406856/cuts/360x436/cu...         MacKenzie   \n",
       "2  /assets/images/7/4/8/264414748/cuts/360x436/cu...              Luis   \n",
       "3  /assets/images/0/8/0/264413080/cuts/360x436/cu...               Cal   \n",
       "4  /assets/images/3/0/6/264411306/cuts/360x436/cu...            Michel   \n",
       "\n",
       "  player_id player_last_name position preseason100 preseason20 prospect_year  \\\n",
       "0    665487        Tatis Jr.       SS            8           1          2018   \n",
       "1    669022             Gore      LHP           19           2          2018   \n",
       "2    649966            Urias    2B/SS           36           3          2018   \n",
       "3    615698        Quantrill      RHP           40           4          2018   \n",
       "4    673258             Baez      RHP           42           5          2018   \n",
       "\n",
       "   rank team_file_code                                              thumb  \\\n",
       "0     1             SD  /assets/images/3/0/4/264409304/cuts/74x74/cut.jpg   \n",
       "1     2             SD  /assets/images/8/5/6/264406856/cuts/74x74/cut.jpg   \n",
       "2     3             SD  /assets/images/7/4/8/264414748/cuts/74x74/cut.jpg   \n",
       "3     4             SD  /assets/images/0/8/0/264413080/cuts/74x74/cut.jpg   \n",
       "4     5             SD  /assets/images/3/0/6/264411306/cuts/74x74/cut.jpg   \n",
       "\n",
       "                                        thumb124x150  \\\n",
       "0  /assets/images/3/0/4/264409304/cuts/124x150/cu...   \n",
       "1  /assets/images/8/5/6/264406856/cuts/124x150/cu...   \n",
       "2  /assets/images/7/4/8/264414748/cuts/124x150/cu...   \n",
       "3  /assets/images/0/8/0/264413080/cuts/124x150/cu...   \n",
       "4  /assets/images/3/0/6/264411306/cuts/124x150/cu...   \n",
       "\n",
       "                                          thumb62x75  \n",
       "0  /assets/images/3/0/4/264409304/cuts/62x75/cut.jpg  \n",
       "1  /assets/images/8/5/6/264406856/cuts/62x75/cut.jpg  \n",
       "2  /assets/images/7/4/8/264414748/cuts/62x75/cut.jpg  \n",
       "3  /assets/images/0/8/0/264413080/cuts/62x75/cut.jpg  \n",
       "4  /assets/images/3/0/6/264411306/cuts/62x75/cut.jpg  "
      ]
     },
     "execution_count": 15,
     "metadata": {},
     "output_type": "execute_result"
    }
   ],
   "source": [
    "# inspect the DataFrame\n",
    "df.head()"
   ]
  },
  {
   "cell_type": "code",
   "execution_count": 16,
   "metadata": {
    "collapsed": true
   },
   "outputs": [],
   "source": [
    "# define unneeded columns to drop\n",
    "cols = ['photo180x218', 'photo360x436', 'thumb', 'thumb124x150', 'thumb62x75']\n",
    "\n",
    "# drop columns\n",
    "df.drop(cols, axis=1, inplace=True)"
   ]
  },
  {
   "cell_type": "code",
   "execution_count": 17,
   "metadata": {},
   "outputs": [
    {
     "data": {
      "text/html": [
       "<div>\n",
       "<style>\n",
       "    .dataframe thead tr:only-child th {\n",
       "        text-align: right;\n",
       "    }\n",
       "\n",
       "    .dataframe thead th {\n",
       "        text-align: left;\n",
       "    }\n",
       "\n",
       "    .dataframe tbody tr th {\n",
       "        vertical-align: top;\n",
       "    }\n",
       "</style>\n",
       "<table border=\"1\" class=\"dataframe\">\n",
       "  <thead>\n",
       "    <tr style=\"text-align: right;\">\n",
       "      <th></th>\n",
       "      <th>player_first_name</th>\n",
       "      <th>player_id</th>\n",
       "      <th>player_last_name</th>\n",
       "      <th>position</th>\n",
       "      <th>preseason100</th>\n",
       "      <th>preseason20</th>\n",
       "      <th>prospect_year</th>\n",
       "      <th>rank</th>\n",
       "      <th>team_file_code</th>\n",
       "    </tr>\n",
       "  </thead>\n",
       "  <tbody>\n",
       "    <tr>\n",
       "      <th>0</th>\n",
       "      <td>Fernando</td>\n",
       "      <td>665487</td>\n",
       "      <td>Tatis Jr.</td>\n",
       "      <td>SS</td>\n",
       "      <td>8</td>\n",
       "      <td>1</td>\n",
       "      <td>2018</td>\n",
       "      <td>1</td>\n",
       "      <td>SD</td>\n",
       "    </tr>\n",
       "    <tr>\n",
       "      <th>1</th>\n",
       "      <td>MacKenzie</td>\n",
       "      <td>669022</td>\n",
       "      <td>Gore</td>\n",
       "      <td>LHP</td>\n",
       "      <td>19</td>\n",
       "      <td>2</td>\n",
       "      <td>2018</td>\n",
       "      <td>2</td>\n",
       "      <td>SD</td>\n",
       "    </tr>\n",
       "    <tr>\n",
       "      <th>2</th>\n",
       "      <td>Luis</td>\n",
       "      <td>649966</td>\n",
       "      <td>Urias</td>\n",
       "      <td>2B/SS</td>\n",
       "      <td>36</td>\n",
       "      <td>3</td>\n",
       "      <td>2018</td>\n",
       "      <td>3</td>\n",
       "      <td>SD</td>\n",
       "    </tr>\n",
       "    <tr>\n",
       "      <th>3</th>\n",
       "      <td>Cal</td>\n",
       "      <td>615698</td>\n",
       "      <td>Quantrill</td>\n",
       "      <td>RHP</td>\n",
       "      <td>40</td>\n",
       "      <td>4</td>\n",
       "      <td>2018</td>\n",
       "      <td>4</td>\n",
       "      <td>SD</td>\n",
       "    </tr>\n",
       "    <tr>\n",
       "      <th>4</th>\n",
       "      <td>Michel</td>\n",
       "      <td>673258</td>\n",
       "      <td>Baez</td>\n",
       "      <td>RHP</td>\n",
       "      <td>42</td>\n",
       "      <td>5</td>\n",
       "      <td>2018</td>\n",
       "      <td>5</td>\n",
       "      <td>SD</td>\n",
       "    </tr>\n",
       "  </tbody>\n",
       "</table>\n",
       "</div>"
      ],
      "text/plain": [
       "  player_first_name player_id player_last_name position preseason100  \\\n",
       "0          Fernando    665487        Tatis Jr.       SS            8   \n",
       "1         MacKenzie    669022             Gore      LHP           19   \n",
       "2              Luis    649966            Urias    2B/SS           36   \n",
       "3               Cal    615698        Quantrill      RHP           40   \n",
       "4            Michel    673258             Baez      RHP           42   \n",
       "\n",
       "  preseason20 prospect_year  rank team_file_code  \n",
       "0           1          2018     1             SD  \n",
       "1           2          2018     2             SD  \n",
       "2           3          2018     3             SD  \n",
       "3           4          2018     4             SD  \n",
       "4           5          2018     5             SD  "
      ]
     },
     "execution_count": 17,
     "metadata": {},
     "output_type": "execute_result"
    }
   ],
   "source": [
    "# inspect the DataFrame\n",
    "df.head()"
   ]
  },
  {
   "cell_type": "markdown",
   "metadata": {},
   "source": [
    "# Export Data"
   ]
  },
  {
   "cell_type": "code",
   "execution_count": 18,
   "metadata": {
    "collapsed": true
   },
   "outputs": [],
   "source": [
    "# write players to CSV\n",
    "df.to_csv('2018_mlb_prospect_teams.csv', index=False)"
   ]
  }
 ],
 "metadata": {
  "kernelspec": {
   "display_name": "Python 3",
   "language": "python",
   "name": "python3"
  },
  "language_info": {
   "codemirror_mode": {
    "name": "ipython",
    "version": 3
   },
   "file_extension": ".py",
   "mimetype": "text/x-python",
   "name": "python",
   "nbconvert_exporter": "python",
   "pygments_lexer": "ipython3",
   "version": "3.5.4"
  }
 },
 "nbformat": 4,
 "nbformat_minor": 2
}
