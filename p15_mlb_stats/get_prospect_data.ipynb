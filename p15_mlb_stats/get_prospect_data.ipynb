{
 "cells": [
  {
   "cell_type": "code",
   "execution_count": 1,
   "metadata": {
    "collapsed": true
   },
   "outputs": [],
   "source": [
    "import pandas as pd\n",
    "import json\n",
    "import requests\n",
    "from collections import Counter\n",
    "from pprint import pprint"
   ]
  },
  {
   "cell_type": "code",
   "execution_count": 2,
   "metadata": {},
   "outputs": [
    {
     "name": "stdout",
     "output_type": "stream",
     "text": [
      "Populating the interactive namespace from numpy and matplotlib\n"
     ]
    }
   ],
   "source": [
    "%pylab inline"
   ]
  },
  {
   "cell_type": "code",
   "execution_count": 3,
   "metadata": {
    "collapsed": true
   },
   "outputs": [],
   "source": [
    "# set the default plot size\n",
    "pylab.rcParams['figure.figsize'] = (12, 6)"
   ]
  },
  {
   "cell_type": "code",
   "execution_count": 4,
   "metadata": {
    "collapsed": true
   },
   "outputs": [],
   "source": [
    "# load player prospect data\n",
    "players = pd.read_csv('2018_mlb_prospect_players.csv')"
   ]
  },
  {
   "cell_type": "code",
   "execution_count": 5,
   "metadata": {},
   "outputs": [
    {
     "data": {
      "text/html": [
       "<div>\n",
       "<style>\n",
       "    .dataframe thead tr:only-child th {\n",
       "        text-align: right;\n",
       "    }\n",
       "\n",
       "    .dataframe thead th {\n",
       "        text-align: left;\n",
       "    }\n",
       "\n",
       "    .dataframe tbody tr th {\n",
       "        vertical-align: top;\n",
       "    }\n",
       "</style>\n",
       "<table border=\"1\" class=\"dataframe\">\n",
       "  <thead>\n",
       "    <tr style=\"text-align: right;\">\n",
       "      <th></th>\n",
       "      <th>player_first_name</th>\n",
       "      <th>player_id</th>\n",
       "      <th>player_last_name</th>\n",
       "      <th>position</th>\n",
       "      <th>preseason100</th>\n",
       "      <th>preseason20</th>\n",
       "      <th>prospect_year</th>\n",
       "      <th>rank</th>\n",
       "      <th>team_file_code</th>\n",
       "    </tr>\n",
       "  </thead>\n",
       "  <tbody>\n",
       "    <tr>\n",
       "      <th>0</th>\n",
       "      <td>Khalil</td>\n",
       "      <td>666137</td>\n",
       "      <td>Lee</td>\n",
       "      <td>OF</td>\n",
       "      <td>NaN</td>\n",
       "      <td>1.0</td>\n",
       "      <td>2018</td>\n",
       "      <td>1</td>\n",
       "      <td>KC</td>\n",
       "    </tr>\n",
       "    <tr>\n",
       "      <th>1</th>\n",
       "      <td>Nick</td>\n",
       "      <td>668472</td>\n",
       "      <td>Pratto</td>\n",
       "      <td>1B</td>\n",
       "      <td>NaN</td>\n",
       "      <td>2.0</td>\n",
       "      <td>2018</td>\n",
       "      <td>2</td>\n",
       "      <td>KC</td>\n",
       "    </tr>\n",
       "    <tr>\n",
       "      <th>2</th>\n",
       "      <td>Seuly</td>\n",
       "      <td>665890</td>\n",
       "      <td>Matias</td>\n",
       "      <td>OF</td>\n",
       "      <td>NaN</td>\n",
       "      <td>3.0</td>\n",
       "      <td>2018</td>\n",
       "      <td>3</td>\n",
       "      <td>KC</td>\n",
       "    </tr>\n",
       "    <tr>\n",
       "      <th>3</th>\n",
       "      <td>MJ</td>\n",
       "      <td>669004</td>\n",
       "      <td>Melendez</td>\n",
       "      <td>C</td>\n",
       "      <td>NaN</td>\n",
       "      <td>4.0</td>\n",
       "      <td>2018</td>\n",
       "      <td>4</td>\n",
       "      <td>KC</td>\n",
       "    </tr>\n",
       "    <tr>\n",
       "      <th>4</th>\n",
       "      <td>Michael</td>\n",
       "      <td>669377</td>\n",
       "      <td>Gigliotti</td>\n",
       "      <td>OF</td>\n",
       "      <td>NaN</td>\n",
       "      <td>5.0</td>\n",
       "      <td>2018</td>\n",
       "      <td>5</td>\n",
       "      <td>KC</td>\n",
       "    </tr>\n",
       "  </tbody>\n",
       "</table>\n",
       "</div>"
      ],
      "text/plain": [
       "  player_first_name player_id player_last_name position preseason100  \\\n",
       "0            Khalil    666137              Lee       OF          NaN   \n",
       "1              Nick    668472           Pratto       1B          NaN   \n",
       "2             Seuly    665890           Matias       OF          NaN   \n",
       "3                MJ    669004         Melendez        C          NaN   \n",
       "4           Michael    669377        Gigliotti       OF          NaN   \n",
       "\n",
       "   preseason20  prospect_year  rank team_file_code  \n",
       "0          1.0           2018     1             KC  \n",
       "1          2.0           2018     2             KC  \n",
       "2          3.0           2018     3             KC  \n",
       "3          4.0           2018     4             KC  \n",
       "4          5.0           2018     5             KC  "
      ]
     },
     "execution_count": 5,
     "metadata": {},
     "output_type": "execute_result"
    }
   ],
   "source": [
    "# inspect the DataFrame\n",
    "players.head()"
   ]
  },
  {
   "cell_type": "code",
   "execution_count": 6,
   "metadata": {},
   "outputs": [
    {
     "data": {
      "text/plain": [
       "660271    4\n",
       "656713    4\n",
       "608331    3\n",
       "608348    3\n",
       "642715    3\n",
       "Name: player_id, dtype: int64"
      ]
     },
     "execution_count": 6,
     "metadata": {},
     "output_type": "execute_result"
    }
   ],
   "source": [
    "# are some players listed multiple times?\n",
    "players['player_id'].value_counts()[:5]"
   ]
  },
  {
   "cell_type": "code",
   "execution_count": 7,
   "metadata": {},
   "outputs": [
    {
     "data": {
      "text/html": [
       "<div>\n",
       "<style>\n",
       "    .dataframe thead tr:only-child th {\n",
       "        text-align: right;\n",
       "    }\n",
       "\n",
       "    .dataframe thead th {\n",
       "        text-align: left;\n",
       "    }\n",
       "\n",
       "    .dataframe tbody tr th {\n",
       "        vertical-align: top;\n",
       "    }\n",
       "</style>\n",
       "<table border=\"1\" class=\"dataframe\">\n",
       "  <thead>\n",
       "    <tr style=\"text-align: right;\">\n",
       "      <th></th>\n",
       "      <th>player_first_name</th>\n",
       "      <th>player_id</th>\n",
       "      <th>player_last_name</th>\n",
       "      <th>position</th>\n",
       "      <th>preseason100</th>\n",
       "      <th>preseason20</th>\n",
       "      <th>prospect_year</th>\n",
       "      <th>rank</th>\n",
       "      <th>team_file_code</th>\n",
       "    </tr>\n",
       "  </thead>\n",
       "  <tbody>\n",
       "    <tr>\n",
       "      <th>154</th>\n",
       "      <td>Brendan</td>\n",
       "      <td>656713</td>\n",
       "      <td>McKay</td>\n",
       "      <td>1B/LHP</td>\n",
       "      <td>25</td>\n",
       "      <td>NaN</td>\n",
       "      <td>2018</td>\n",
       "      <td>5</td>\n",
       "      <td>TB</td>\n",
       "    </tr>\n",
       "    <tr>\n",
       "      <th>382</th>\n",
       "      <td>Brendan</td>\n",
       "      <td>656713</td>\n",
       "      <td>McKay</td>\n",
       "      <td>1B/LHP</td>\n",
       "      <td>25</td>\n",
       "      <td>3.0</td>\n",
       "      <td>2018</td>\n",
       "      <td>3</td>\n",
       "      <td>TB</td>\n",
       "    </tr>\n",
       "    <tr>\n",
       "      <th>524</th>\n",
       "      <td>Brendan</td>\n",
       "      <td>656713</td>\n",
       "      <td>McKay</td>\n",
       "      <td>1B/LHP</td>\n",
       "      <td>25</td>\n",
       "      <td>3.0</td>\n",
       "      <td>2018</td>\n",
       "      <td>25</td>\n",
       "      <td>TB</td>\n",
       "    </tr>\n",
       "    <tr>\n",
       "      <th>630</th>\n",
       "      <td>Brendan</td>\n",
       "      <td>656713</td>\n",
       "      <td>McKay</td>\n",
       "      <td>1B/LHP</td>\n",
       "      <td>NaN</td>\n",
       "      <td>NaN</td>\n",
       "      <td>2018</td>\n",
       "      <td>1</td>\n",
       "      <td>TB</td>\n",
       "    </tr>\n",
       "  </tbody>\n",
       "</table>\n",
       "</div>"
      ],
      "text/plain": [
       "    player_first_name player_id player_last_name position preseason100  \\\n",
       "154           Brendan    656713            McKay   1B/LHP           25   \n",
       "382           Brendan    656713            McKay   1B/LHP           25   \n",
       "524           Brendan    656713            McKay   1B/LHP           25   \n",
       "630           Brendan    656713            McKay   1B/LHP          NaN   \n",
       "\n",
       "     preseason20  prospect_year  rank team_file_code  \n",
       "154          NaN           2018     5             TB  \n",
       "382          3.0           2018     3             TB  \n",
       "524          3.0           2018    25             TB  \n",
       "630          NaN           2018     1             TB  "
      ]
     },
     "execution_count": 7,
     "metadata": {},
     "output_type": "execute_result"
    }
   ],
   "source": [
    "# lets look at these players that are listed multiple times\n",
    "players[players['player_id'] == '656713']"
   ]
  },
  {
   "cell_type": "code",
   "execution_count": 8,
   "metadata": {
    "collapsed": true
   },
   "outputs": [],
   "source": [
    "# grab the unique player_id from the DataFrame\n",
    "player_ids = players['player_id'].unique().tolist()"
   ]
  },
  {
   "cell_type": "code",
   "execution_count": 9,
   "metadata": {},
   "outputs": [
    {
     "data": {
      "text/plain": [
       "950"
      ]
     },
     "execution_count": 9,
     "metadata": {},
     "output_type": "execute_result"
    }
   ],
   "source": [
    "# how many unique players are there?\n",
    "len(player_ids)"
   ]
  },
  {
   "cell_type": "code",
   "execution_count": 10,
   "metadata": {
    "collapsed": true
   },
   "outputs": [],
   "source": [
    "# get data for each player\n",
    "responses = []\n",
    "for i in player_ids:\n",
    "    r = requests.get(\"http://m.mlb.com/gen/players/prospects/2018/{}.json\".format(i))\n",
    "    responses.append(r)"
   ]
  },
  {
   "cell_type": "code",
   "execution_count": 11,
   "metadata": {},
   "outputs": [
    {
     "data": {
      "text/plain": [
       "Counter({200: 950})"
      ]
     },
     "execution_count": 11,
     "metadata": {},
     "output_type": "execute_result"
    }
   ],
   "source": [
    "# what is the status of the responses received\n",
    "Counter([i.status_code for i in responses])"
   ]
  },
  {
   "cell_type": "code",
   "execution_count": 12,
   "metadata": {
    "collapsed": true
   },
   "outputs": [],
   "source": [
    "# write JSON data\n",
    "with open('2018_mlb_prospect_player_data.json', 'w') as f:\n",
    "    json.dump(r.text, f)"
   ]
  },
  {
   "cell_type": "code",
   "execution_count": 13,
   "metadata": {
    "collapsed": true
   },
   "outputs": [],
   "source": [
    "# read in JSON data\n",
    "data = json.loads(json.load(open('2018_mlb_prospect_player_data.json')))"
   ]
  },
  {
   "cell_type": "code",
   "execution_count": 14,
   "metadata": {
    "collapsed": true
   },
   "outputs": [],
   "source": [
    "# extract the content from each response\n",
    "data = []\n",
    "for line in responses:\n",
    "    line = json.loads(line.text)\n",
    "    data.append(line['prospect_player'])"
   ]
  },
  {
   "cell_type": "code",
   "execution_count": 15,
   "metadata": {},
   "outputs": [
    {
     "data": {
      "text/plain": [
       "dict_keys(['bats', 'eta', 'preseason100', 'positions', 'year', 'school', 'height', 'player_id', 'player_last_name', 'twitter', 'preseason20', 'weight', 'birthdate', 'player_first_name', 'content', 'team_file_code', 'drafted', 'thrw', 'signed'])"
      ]
     },
     "execution_count": 15,
     "metadata": {},
     "output_type": "execute_result"
    }
   ],
   "source": [
    "# look at the dictionary keys in the first record\n",
    "data[0].keys()"
   ]
  },
  {
   "cell_type": "code",
   "execution_count": 16,
   "metadata": {},
   "outputs": [
    {
     "name": "stdout",
     "output_type": "stream",
     "text": [
      "{'bats': '',\n",
      " 'birthdate': '',\n",
      " 'content': {'default': '<p><b>Scouting grades:</b> Hit: 50 | Power: 55 | Run: '\n",
      "                        '55 | Arm: 60 | Field: 55 | Overall: 50\\n'\n",
      "                        '<p>Though he had a low-90s fastball and a promising '\n",
      "                        'slider, intriguing several clubs as a left-handed '\n",
      "                        'pitching prospect, the Royals liked his multitool '\n",
      "                        'ability more. They made him a full-time outfielder '\n",
      "                        'after signing him for an over-slot $750,000 as a '\n",
      "                        'third-rounder in 2016, and they have no reason to '\n",
      "                        'regret that decision. He led the Rookie-level Arizona '\n",
      "                        'League in runs (43), triples (six) and total bases '\n",
      "                        '(88) during his pro debut, then ranked second in '\n",
      "                        'homers (17) and third in walks (65) in the low Class '\n",
      "                        'A South Atlantic League at age 19 last year.\\n'\n",
      "                        '<p>If he can make some adjustments at the plate, Lee '\n",
      "                        'could have solid or better tools across the board. '\n",
      "                        \"Though he's not physically imposing at 5-foot-10, the \"\n",
      "                        'bat speed and loft in his left-handed swing give him '\n",
      "                        'surprising raw power. He has some feel to hit and a '\n",
      "                        'willingness to work counts, though he needs to tone '\n",
      "                        'down his aggressiveness after fanning a SAL-high 171 '\n",
      "                        'times last year.\\n'\n",
      "                        '<p>With his solid speed, Lee could be a 20-20 player '\n",
      "                        'if he refines his basestealing technique after '\n",
      "                        'getting caught in 18 of his 38 attempts in 2017. He '\n",
      "                        'split last season between center and right field, '\n",
      "                        'showing the range to stick at the former position and '\n",
      "                        'Gold Glove upside at the latter. His strong arm '\n",
      "                        'allowed him to register 14 assists in 119 games.',\n",
      "             'photo': '/assets/images/5/0/0/264120500/cuts/254x350/cut.jpg',\n",
      "             'photo180x218': '/assets/images/5/0/0/264120500/cuts/180x218/cut.jpg',\n",
      "             'photo360x436': '/assets/images/5/0/0/264120500/cuts/360x436/cut.jpg',\n",
      "             'position': '<p><b>Scouting grades:</b> Hit: 50 | Power: 55 | '\n",
      "                         'Run: 55 | Arm: 60 | Field: 55 | Overall: 50\\n'\n",
      "                         '<p>Though he had a low-90s fastball and a promising '\n",
      "                         'slider, intriguing several clubs as a left-handed '\n",
      "                         'pitching prospect, the Royals liked his multitool '\n",
      "                         'ability more. They made him a full-time outfielder '\n",
      "                         'after signing him for an over-slot $750,000 as a '\n",
      "                         'third-rounder in 2016, and they have no reason to '\n",
      "                         'regret that decision. He led the Rookie-level '\n",
      "                         'Arizona League in runs (43), triples (six) and total '\n",
      "                         'bases (88) during his pro debut, then ranked second '\n",
      "                         'in homers (17) and third in walks (65) in the low '\n",
      "                         'Class A South Atlantic League at age 19 last year.\\n'\n",
      "                         '<p>If he can make some adjustments at the plate, Lee '\n",
      "                         'could have solid or better tools across the board. '\n",
      "                         \"Though he's not physically imposing at 5-foot-10, \"\n",
      "                         'the bat speed and loft in his left-handed swing give '\n",
      "                         'him surprising raw power. He has some feel to hit '\n",
      "                         'and a willingness to work counts, though he needs to '\n",
      "                         'tone down his aggressiveness after fanning a '\n",
      "                         'SAL-high 171 times last year.\\n'\n",
      "                         '<p>With his solid speed, Lee could be a 20-20 player '\n",
      "                         'if he refines his basestealing technique after '\n",
      "                         'getting caught in 18 of his 38 attempts in 2017. He '\n",
      "                         'split last season between center and right field, '\n",
      "                         'showing the range to stick at the former position '\n",
      "                         'and Gold Glove upside at the latter. His strong arm '\n",
      "                         'allowed him to register 14 assists in 119 games.',\n",
      "             'prospect_vid': '1875147783',\n",
      "             'team': '<p><b>Scouting grades:</b> Hit: 50 | Power: 55 | Run: 55 '\n",
      "                     '| Arm: 60 | Field: 55 | Overall: 50\\n'\n",
      "                     '<p>Though he had a low-90s fastball and a promising '\n",
      "                     'slider, intriguing several clubs as a left-handed '\n",
      "                     'pitching prospect, the Royals liked his multitool '\n",
      "                     'ability more. They made him a full-time outfielder after '\n",
      "                     'signing him for an over-slot $750,000 as a third-rounder '\n",
      "                     'in 2016, and they have no reason to regret that '\n",
      "                     'decision. He led the Rookie-level Arizona League in runs '\n",
      "                     '(43), triples (six) and total bases (88) during his pro '\n",
      "                     'debut, then ranked second in homers (17) and third in '\n",
      "                     'walks (65) in the low Class A South Atlantic League at '\n",
      "                     'age 19 last year.\\n'\n",
      "                     '<p>If he can make some adjustments at the plate, Lee '\n",
      "                     'could have solid or better tools across the board. '\n",
      "                     \"Though he's not physically imposing at 5-foot-10, the \"\n",
      "                     'bat speed and loft in his left-handed swing give him '\n",
      "                     'surprising raw power. He has some feel to hit and a '\n",
      "                     'willingness to work counts, though he needs to tone down '\n",
      "                     'his aggressiveness after fanning a SAL-high 171 times '\n",
      "                     'last year.\\n'\n",
      "                     '<p>With his solid speed, Lee could be a 20-20 player if '\n",
      "                     'he refines his basestealing technique after getting '\n",
      "                     'caught in 18 of his 38 attempts in 2017. He split last '\n",
      "                     'season between center and right field, showing the range '\n",
      "                     'to stick at the former position and Gold Glove upside at '\n",
      "                     'the latter. His strong arm allowed him to register 14 '\n",
      "                     'assists in 119 games.',\n",
      "             'thumb': '/assets/images/5/0/0/264120500/cuts/74x74/cut.jpg',\n",
      "             'thumb124x150': '/assets/images/5/0/0/264120500/cuts/124x150/cut.jpg',\n",
      "             'thumb62x75': '/assets/images/5/0/0/264120500/cuts/62x75/cut.jpg'},\n",
      " 'drafted': '2016, 3rd (103) - KC',\n",
      " 'eta': 2020,\n",
      " 'height': '',\n",
      " 'player_first_name': 'Khalil',\n",
      " 'player_id': 666137,\n",
      " 'player_last_name': 'Lee',\n",
      " 'positions': 'OF',\n",
      " 'preseason100': '',\n",
      " 'preseason20': 1,\n",
      " 'school': '',\n",
      " 'signed': '',\n",
      " 'team_file_code': 'KC',\n",
      " 'thrw': '',\n",
      " 'twitter': '',\n",
      " 'weight': '',\n",
      " 'year': ''}\n"
     ]
    }
   ],
   "source": [
    "# inspect the first record\n",
    "pprint(data[0])"
   ]
  },
  {
   "cell_type": "code",
   "execution_count": 17,
   "metadata": {
    "collapsed": true
   },
   "outputs": [],
   "source": [
    "# iterate over data and clean up the content\n",
    "for line in data:\n",
    "    \n",
    "    # remove newline delimiter\n",
    "    bio = line['content']['default'].replace('\\n', '').strip()\n",
    "    \n",
    "    # conform scouting grades\n",
    "    variations = ['<b>Scouting grades:</b>', \n",
    "                  '<b>Scouting grades</b>:', \n",
    "                  '<b>Scouting grades</b>:', \n",
    "                  '<b>Scouting Grades:</b>',\n",
    "                  '<p>Scouting Grades:</b>',\n",
    "                  '<p><b>Scouting Grades:</b> Scouting Grades:']\n",
    "    \n",
    "    for i in variations:\n",
    "        if bio.startswith(i):\n",
    "            bio = bio.replace(i, 'Scouting Grades')\n",
    "    \n",
    "    # split the bio on paragraph tag\n",
    "    bio = bio.split('<p>')\n",
    "    \n",
    "    # create a new key to hold bio\n",
    "    line['bio'] = bio"
   ]
  },
  {
   "cell_type": "code",
   "execution_count": 18,
   "metadata": {},
   "outputs": [
    {
     "name": "stdout",
     "output_type": "stream",
     "text": [
      "['',\n",
      " '<b>Scouting grades:</b> Hit: 50 | Power: 55 | Run: 55 | Arm: 60 | Field: 55 '\n",
      " '| Overall: 50',\n",
      " 'Though he had a low-90s fastball and a promising slider, intriguing several '\n",
      " 'clubs as a left-handed pitching prospect, the Royals liked his multitool '\n",
      " 'ability more. They made him a full-time outfielder after signing him for an '\n",
      " 'over-slot $750,000 as a third-rounder in 2016, and they have no reason to '\n",
      " 'regret that decision. He led the Rookie-level Arizona League in runs (43), '\n",
      " 'triples (six) and total bases (88) during his pro debut, then ranked second '\n",
      " 'in homers (17) and third in walks (65) in the low Class A South Atlantic '\n",
      " 'League at age 19 last year.',\n",
      " 'If he can make some adjustments at the plate, Lee could have solid or better '\n",
      " \"tools across the board. Though he's not physically imposing at 5-foot-10, \"\n",
      " 'the bat speed and loft in his left-handed swing give him surprising raw '\n",
      " 'power. He has some feel to hit and a willingness to work counts, though he '\n",
      " 'needs to tone down his aggressiveness after fanning a SAL-high 171 times '\n",
      " 'last year.',\n",
      " 'With his solid speed, Lee could be a 20-20 player if he refines his '\n",
      " 'basestealing technique after getting caught in 18 of his 38 attempts in '\n",
      " '2017. He split last season between center and right field, showing the range '\n",
      " 'to stick at the former position and Gold Glove upside at the latter. His '\n",
      " 'strong arm allowed him to register 14 assists in 119 games.']\n"
     ]
    }
   ],
   "source": [
    "# inspect the new bio \n",
    "pprint(data[0]['bio'])"
   ]
  },
  {
   "cell_type": "code",
   "execution_count": 19,
   "metadata": {
    "collapsed": true
   },
   "outputs": [],
   "source": [
    "# iterate over data and extract scouting grades into new keys\n",
    "for line in data:\n",
    "    \n",
    "    # create an empty container to hold non-scouting grades\n",
    "    bio = []\n",
    "    \n",
    "    # iterate over the bio key specifically\n",
    "    for item in line['bio']:\n",
    "    \n",
    "        # get the line that starts with scouting grades\n",
    "        if item.startswith('Scouting Grades'):\n",
    "\n",
    "            # remove the beginning of the sententce\n",
    "            grades = item.replace('Scouting Grades', '')\n",
    "            \n",
    "            # address edge case with missing colon\n",
    "            grades = grades.replace('Arm ', 'Arm:')\n",
    "            grades = grades.replace('Control ', 'Control:')\n",
    "\n",
    "            # split in seperate metrics\n",
    "            metrics = grades.split('|')\n",
    "\n",
    "            # iterate over the metrics\n",
    "            for i in metrics:\n",
    "\n",
    "                # seperate the metric from the value\n",
    "                value = i.split(':')\n",
    "\n",
    "                # add metrics and values as new keys/values\n",
    "                line[value[0].strip()] = value[1].strip()\n",
    "                \n",
    "        # if it's not a scouting grade...\n",
    "        else:\n",
    "            \n",
    "            # add to bio\n",
    "            bio.append(item)\n",
    "            \n",
    "    # join the bio text into one string\n",
    "    line['bio'] = ''.join(bio)"
   ]
  },
  {
   "cell_type": "code",
   "execution_count": 20,
   "metadata": {},
   "outputs": [
    {
     "name": "stdout",
     "output_type": "stream",
     "text": [
      "{'bats': '',\n",
      " 'bio': '<b>Scouting grades:</b> Hit: 50 | Power: 55 | Run: 55 | Arm: 60 | '\n",
      "        'Field: 55 | Overall: 50Though he had a low-90s fastball and a '\n",
      "        'promising slider, intriguing several clubs as a left-handed pitching '\n",
      "        'prospect, the Royals liked his multitool ability more. They made him '\n",
      "        'a full-time outfielder after signing him for an over-slot $750,000 as '\n",
      "        'a third-rounder in 2016, and they have no reason to regret that '\n",
      "        'decision. He led the Rookie-level Arizona League in runs (43), '\n",
      "        'triples (six) and total bases (88) during his pro debut, then ranked '\n",
      "        'second in homers (17) and third in walks (65) in the low Class A '\n",
      "        'South Atlantic League at age 19 last year.If he can make some '\n",
      "        'adjustments at the plate, Lee could have solid or better tools across '\n",
      "        \"the board. Though he's not physically imposing at 5-foot-10, the bat \"\n",
      "        'speed and loft in his left-handed swing give him surprising raw '\n",
      "        'power. He has some feel to hit and a willingness to work counts, '\n",
      "        'though he needs to tone down his aggressiveness after fanning a '\n",
      "        'SAL-high 171 times last year.With his solid speed, Lee could be a '\n",
      "        '20-20 player if he refines his basestealing technique after getting '\n",
      "        'caught in 18 of his 38 attempts in 2017. He split last season between '\n",
      "        'center and right field, showing the range to stick at the former '\n",
      "        'position and Gold Glove upside at the latter. His strong arm allowed '\n",
      "        'him to register 14 assists in 119 games.',\n",
      " 'birthdate': '',\n",
      " 'content': {'default': '<p><b>Scouting grades:</b> Hit: 50 | Power: 55 | Run: '\n",
      "                        '55 | Arm: 60 | Field: 55 | Overall: 50\\n'\n",
      "                        '<p>Though he had a low-90s fastball and a promising '\n",
      "                        'slider, intriguing several clubs as a left-handed '\n",
      "                        'pitching prospect, the Royals liked his multitool '\n",
      "                        'ability more. They made him a full-time outfielder '\n",
      "                        'after signing him for an over-slot $750,000 as a '\n",
      "                        'third-rounder in 2016, and they have no reason to '\n",
      "                        'regret that decision. He led the Rookie-level Arizona '\n",
      "                        'League in runs (43), triples (six) and total bases '\n",
      "                        '(88) during his pro debut, then ranked second in '\n",
      "                        'homers (17) and third in walks (65) in the low Class '\n",
      "                        'A South Atlantic League at age 19 last year.\\n'\n",
      "                        '<p>If he can make some adjustments at the plate, Lee '\n",
      "                        'could have solid or better tools across the board. '\n",
      "                        \"Though he's not physically imposing at 5-foot-10, the \"\n",
      "                        'bat speed and loft in his left-handed swing give him '\n",
      "                        'surprising raw power. He has some feel to hit and a '\n",
      "                        'willingness to work counts, though he needs to tone '\n",
      "                        'down his aggressiveness after fanning a SAL-high 171 '\n",
      "                        'times last year.\\n'\n",
      "                        '<p>With his solid speed, Lee could be a 20-20 player '\n",
      "                        'if he refines his basestealing technique after '\n",
      "                        'getting caught in 18 of his 38 attempts in 2017. He '\n",
      "                        'split last season between center and right field, '\n",
      "                        'showing the range to stick at the former position and '\n",
      "                        'Gold Glove upside at the latter. His strong arm '\n",
      "                        'allowed him to register 14 assists in 119 games.',\n",
      "             'photo': '/assets/images/5/0/0/264120500/cuts/254x350/cut.jpg',\n",
      "             'photo180x218': '/assets/images/5/0/0/264120500/cuts/180x218/cut.jpg',\n",
      "             'photo360x436': '/assets/images/5/0/0/264120500/cuts/360x436/cut.jpg',\n",
      "             'position': '<p><b>Scouting grades:</b> Hit: 50 | Power: 55 | '\n",
      "                         'Run: 55 | Arm: 60 | Field: 55 | Overall: 50\\n'\n",
      "                         '<p>Though he had a low-90s fastball and a promising '\n",
      "                         'slider, intriguing several clubs as a left-handed '\n",
      "                         'pitching prospect, the Royals liked his multitool '\n",
      "                         'ability more. They made him a full-time outfielder '\n",
      "                         'after signing him for an over-slot $750,000 as a '\n",
      "                         'third-rounder in 2016, and they have no reason to '\n",
      "                         'regret that decision. He led the Rookie-level '\n",
      "                         'Arizona League in runs (43), triples (six) and total '\n",
      "                         'bases (88) during his pro debut, then ranked second '\n",
      "                         'in homers (17) and third in walks (65) in the low '\n",
      "                         'Class A South Atlantic League at age 19 last year.\\n'\n",
      "                         '<p>If he can make some adjustments at the plate, Lee '\n",
      "                         'could have solid or better tools across the board. '\n",
      "                         \"Though he's not physically imposing at 5-foot-10, \"\n",
      "                         'the bat speed and loft in his left-handed swing give '\n",
      "                         'him surprising raw power. He has some feel to hit '\n",
      "                         'and a willingness to work counts, though he needs to '\n",
      "                         'tone down his aggressiveness after fanning a '\n",
      "                         'SAL-high 171 times last year.\\n'\n",
      "                         '<p>With his solid speed, Lee could be a 20-20 player '\n",
      "                         'if he refines his basestealing technique after '\n",
      "                         'getting caught in 18 of his 38 attempts in 2017. He '\n",
      "                         'split last season between center and right field, '\n",
      "                         'showing the range to stick at the former position '\n",
      "                         'and Gold Glove upside at the latter. His strong arm '\n",
      "                         'allowed him to register 14 assists in 119 games.',\n",
      "             'prospect_vid': '1875147783',\n",
      "             'team': '<p><b>Scouting grades:</b> Hit: 50 | Power: 55 | Run: 55 '\n",
      "                     '| Arm: 60 | Field: 55 | Overall: 50\\n'\n",
      "                     '<p>Though he had a low-90s fastball and a promising '\n",
      "                     'slider, intriguing several clubs as a left-handed '\n",
      "                     'pitching prospect, the Royals liked his multitool '\n",
      "                     'ability more. They made him a full-time outfielder after '\n",
      "                     'signing him for an over-slot $750,000 as a third-rounder '\n",
      "                     'in 2016, and they have no reason to regret that '\n",
      "                     'decision. He led the Rookie-level Arizona League in runs '\n",
      "                     '(43), triples (six) and total bases (88) during his pro '\n",
      "                     'debut, then ranked second in homers (17) and third in '\n",
      "                     'walks (65) in the low Class A South Atlantic League at '\n",
      "                     'age 19 last year.\\n'\n",
      "                     '<p>If he can make some adjustments at the plate, Lee '\n",
      "                     'could have solid or better tools across the board. '\n",
      "                     \"Though he's not physically imposing at 5-foot-10, the \"\n",
      "                     'bat speed and loft in his left-handed swing give him '\n",
      "                     'surprising raw power. He has some feel to hit and a '\n",
      "                     'willingness to work counts, though he needs to tone down '\n",
      "                     'his aggressiveness after fanning a SAL-high 171 times '\n",
      "                     'last year.\\n'\n",
      "                     '<p>With his solid speed, Lee could be a 20-20 player if '\n",
      "                     'he refines his basestealing technique after getting '\n",
      "                     'caught in 18 of his 38 attempts in 2017. He split last '\n",
      "                     'season between center and right field, showing the range '\n",
      "                     'to stick at the former position and Gold Glove upside at '\n",
      "                     'the latter. His strong arm allowed him to register 14 '\n",
      "                     'assists in 119 games.',\n",
      "             'thumb': '/assets/images/5/0/0/264120500/cuts/74x74/cut.jpg',\n",
      "             'thumb124x150': '/assets/images/5/0/0/264120500/cuts/124x150/cut.jpg',\n",
      "             'thumb62x75': '/assets/images/5/0/0/264120500/cuts/62x75/cut.jpg'},\n",
      " 'drafted': '2016, 3rd (103) - KC',\n",
      " 'eta': 2020,\n",
      " 'height': '',\n",
      " 'player_first_name': 'Khalil',\n",
      " 'player_id': 666137,\n",
      " 'player_last_name': 'Lee',\n",
      " 'positions': 'OF',\n",
      " 'preseason100': '',\n",
      " 'preseason20': 1,\n",
      " 'school': '',\n",
      " 'signed': '',\n",
      " 'team_file_code': 'KC',\n",
      " 'thrw': '',\n",
      " 'twitter': '',\n",
      " 'weight': '',\n",
      " 'year': ''}\n"
     ]
    }
   ],
   "source": [
    "# inspect one record\n",
    "pprint(data[0])"
   ]
  },
  {
   "cell_type": "code",
   "execution_count": 21,
   "metadata": {
    "collapsed": true
   },
   "outputs": [],
   "source": [
    "# iterate over data convert values to integers where possible\n",
    "for line in data:\n",
    "    for key in line:\n",
    "        try:\n",
    "            line[key] = int(line[key])\n",
    "        except:\n",
    "            pass"
   ]
  },
  {
   "cell_type": "code",
   "execution_count": 22,
   "metadata": {
    "collapsed": true
   },
   "outputs": [],
   "source": [
    "# load data into a DataFrame\n",
    "df = pd.DataFrame(data)"
   ]
  },
  {
   "cell_type": "code",
   "execution_count": 23,
   "metadata": {
    "collapsed": true
   },
   "outputs": [],
   "source": [
    "# convert column names to lowercase\n",
    "df.columns = df.columns.str.lower()"
   ]
  },
  {
   "cell_type": "code",
   "execution_count": 24,
   "metadata": {},
   "outputs": [
    {
     "data": {
      "text/html": [
       "<div>\n",
       "<style>\n",
       "    .dataframe thead tr:only-child th {\n",
       "        text-align: right;\n",
       "    }\n",
       "\n",
       "    .dataframe thead th {\n",
       "        text-align: left;\n",
       "    }\n",
       "\n",
       "    .dataframe tbody tr th {\n",
       "        vertical-align: top;\n",
       "    }\n",
       "</style>\n",
       "<table border=\"1\" class=\"dataframe\">\n",
       "  <thead>\n",
       "    <tr style=\"text-align: right;\">\n",
       "      <th></th>\n",
       "      <th>arm</th>\n",
       "      <th>changeup</th>\n",
       "      <th>control</th>\n",
       "      <th>curve</th>\n",
       "      <th>curveball</th>\n",
       "      <th>cutter</th>\n",
       "      <th>cuverball</th>\n",
       "      <th>defense</th>\n",
       "      <th>fastball</th>\n",
       "      <th>field</th>\n",
       "      <th>...</th>\n",
       "      <th>positions</th>\n",
       "      <th>preseason100</th>\n",
       "      <th>preseason20</th>\n",
       "      <th>school</th>\n",
       "      <th>signed</th>\n",
       "      <th>team_file_code</th>\n",
       "      <th>thrw</th>\n",
       "      <th>twitter</th>\n",
       "      <th>weight</th>\n",
       "      <th>year</th>\n",
       "    </tr>\n",
       "  </thead>\n",
       "  <tbody>\n",
       "    <tr>\n",
       "      <th>0</th>\n",
       "      <td>NaN</td>\n",
       "      <td>NaN</td>\n",
       "      <td>NaN</td>\n",
       "      <td>NaN</td>\n",
       "      <td>NaN</td>\n",
       "      <td>NaN</td>\n",
       "      <td>NaN</td>\n",
       "      <td>NaN</td>\n",
       "      <td>NaN</td>\n",
       "      <td>NaN</td>\n",
       "      <td>...</td>\n",
       "      <td>OF</td>\n",
       "      <td></td>\n",
       "      <td>1</td>\n",
       "      <td></td>\n",
       "      <td></td>\n",
       "      <td>KC</td>\n",
       "      <td></td>\n",
       "      <td></td>\n",
       "      <td></td>\n",
       "      <td></td>\n",
       "    </tr>\n",
       "    <tr>\n",
       "      <th>1</th>\n",
       "      <td>NaN</td>\n",
       "      <td>NaN</td>\n",
       "      <td>NaN</td>\n",
       "      <td>NaN</td>\n",
       "      <td>NaN</td>\n",
       "      <td>NaN</td>\n",
       "      <td>NaN</td>\n",
       "      <td>NaN</td>\n",
       "      <td>NaN</td>\n",
       "      <td>NaN</td>\n",
       "      <td>...</td>\n",
       "      <td>1B</td>\n",
       "      <td></td>\n",
       "      <td>2</td>\n",
       "      <td></td>\n",
       "      <td></td>\n",
       "      <td>KC</td>\n",
       "      <td></td>\n",
       "      <td>n_pratto</td>\n",
       "      <td></td>\n",
       "      <td></td>\n",
       "    </tr>\n",
       "    <tr>\n",
       "      <th>2</th>\n",
       "      <td>NaN</td>\n",
       "      <td>NaN</td>\n",
       "      <td>NaN</td>\n",
       "      <td>NaN</td>\n",
       "      <td>NaN</td>\n",
       "      <td>NaN</td>\n",
       "      <td>NaN</td>\n",
       "      <td>NaN</td>\n",
       "      <td>NaN</td>\n",
       "      <td>NaN</td>\n",
       "      <td>...</td>\n",
       "      <td>OF</td>\n",
       "      <td></td>\n",
       "      <td>3</td>\n",
       "      <td></td>\n",
       "      <td>July 2, 2015 - KC</td>\n",
       "      <td>KC</td>\n",
       "      <td></td>\n",
       "      <td></td>\n",
       "      <td></td>\n",
       "      <td></td>\n",
       "    </tr>\n",
       "    <tr>\n",
       "      <th>3</th>\n",
       "      <td>NaN</td>\n",
       "      <td>NaN</td>\n",
       "      <td>NaN</td>\n",
       "      <td>NaN</td>\n",
       "      <td>NaN</td>\n",
       "      <td>NaN</td>\n",
       "      <td>NaN</td>\n",
       "      <td>NaN</td>\n",
       "      <td>NaN</td>\n",
       "      <td>NaN</td>\n",
       "      <td>...</td>\n",
       "      <td>C</td>\n",
       "      <td></td>\n",
       "      <td>4</td>\n",
       "      <td></td>\n",
       "      <td></td>\n",
       "      <td>KC</td>\n",
       "      <td></td>\n",
       "      <td>mjmelendez7</td>\n",
       "      <td></td>\n",
       "      <td></td>\n",
       "    </tr>\n",
       "    <tr>\n",
       "      <th>4</th>\n",
       "      <td>NaN</td>\n",
       "      <td>NaN</td>\n",
       "      <td>NaN</td>\n",
       "      <td>NaN</td>\n",
       "      <td>NaN</td>\n",
       "      <td>NaN</td>\n",
       "      <td>NaN</td>\n",
       "      <td>NaN</td>\n",
       "      <td>NaN</td>\n",
       "      <td>NaN</td>\n",
       "      <td>...</td>\n",
       "      <td>OF</td>\n",
       "      <td></td>\n",
       "      <td>5</td>\n",
       "      <td></td>\n",
       "      <td></td>\n",
       "      <td>KC</td>\n",
       "      <td></td>\n",
       "      <td>MikeGigsss</td>\n",
       "      <td></td>\n",
       "      <td></td>\n",
       "    </tr>\n",
       "  </tbody>\n",
       "</table>\n",
       "<p>5 rows × 39 columns</p>\n",
       "</div>"
      ],
      "text/plain": [
       "   arm  changeup  control  curve  curveball  cutter  cuverball  defense  \\\n",
       "0  NaN       NaN      NaN    NaN        NaN     NaN        NaN      NaN   \n",
       "1  NaN       NaN      NaN    NaN        NaN     NaN        NaN      NaN   \n",
       "2  NaN       NaN      NaN    NaN        NaN     NaN        NaN      NaN   \n",
       "3  NaN       NaN      NaN    NaN        NaN     NaN        NaN      NaN   \n",
       "4  NaN       NaN      NaN    NaN        NaN     NaN        NaN      NaN   \n",
       "\n",
       "   fastball  field ...   positions  preseason100  preseason20  school  \\\n",
       "0       NaN    NaN ...          OF                          1           \n",
       "1       NaN    NaN ...          1B                          2           \n",
       "2       NaN    NaN ...          OF                          3           \n",
       "3       NaN    NaN ...           C                          4           \n",
       "4       NaN    NaN ...          OF                          5           \n",
       "\n",
       "              signed  team_file_code  thrw      twitter  weight year  \n",
       "0                                 KC                                  \n",
       "1                                 KC           n_pratto               \n",
       "2  July 2, 2015 - KC              KC                                  \n",
       "3                                 KC        mjmelendez7               \n",
       "4                                 KC         MikeGigsss               \n",
       "\n",
       "[5 rows x 39 columns]"
      ]
     },
     "execution_count": 24,
     "metadata": {},
     "output_type": "execute_result"
    }
   ],
   "source": [
    "# inspect the DataFrame\n",
    "df.head()"
   ]
  },
  {
   "cell_type": "code",
   "execution_count": 25,
   "metadata": {},
   "outputs": [
    {
     "data": {
      "text/plain": [
       "<matplotlib.axes._subplots.AxesSubplot at 0x7fdd293bee80>"
      ]
     },
     "execution_count": 25,
     "metadata": {},
     "output_type": "execute_result"
    },
    {
     "data": {
      "image/png": "[encoded data removed]",
      "text/plain": [
       "<matplotlib.figure.Figure at 0x7fdd29318208>"
      ]
     },
     "metadata": {},
     "output_type": "display_data"
    }
   ],
   "source": [
    "# plot the number of players per team\n",
    "df['team_file_code'].value_counts().plot('barh', title='Number of Players per Team')"
   ]
  },
  {
   "cell_type": "code",
   "execution_count": 26,
   "metadata": {},
   "outputs": [
    {
     "data": {
      "text/plain": [
       "<matplotlib.axes._subplots.AxesSubplot at 0x7fdd29379a90>"
      ]
     },
     "execution_count": 26,
     "metadata": {},
     "output_type": "execute_result"
    },
    {
     "data": {
      "image/png": "[encoded data removed]",
      "text/plain": [
       "<matplotlib.figure.Figure at 0x7fdd29348518>"
      ]
     },
     "metadata": {},
     "output_type": "display_data"
    }
   ],
   "source": [
    "# count the number players by positions\n",
    "df['positions'].value_counts().plot('bar', title='Number of Players by Position')"
   ]
  },
  {
   "cell_type": "code",
   "execution_count": 27,
   "metadata": {},
   "outputs": [
    {
     "data": {
      "text/plain": [
       "[]"
      ]
     },
     "execution_count": 27,
     "metadata": {},
     "output_type": "execute_result"
    },
    {
     "data": {
      "image/png": "[encoded data removed]",
      "text/plain": [
       "<matplotlib.figure.Figure at 0x7fdd2210ed68>"
      ]
     },
     "metadata": {},
     "output_type": "display_data"
    }
   ],
   "source": [
    "# calculate the average overall score\n",
    "df['overall'].hist().plot()"
   ]
  },
  {
   "cell_type": "code",
   "execution_count": 28,
   "metadata": {},
   "outputs": [
    {
     "data": {
      "text/plain": [
       "<matplotlib.axes._subplots.AxesSubplot at 0x7fdd220d7588>"
      ]
     },
     "execution_count": 28,
     "metadata": {},
     "output_type": "execute_result"
    },
    {
     "data": {
      "image/png": "[encoded data removed]",
      "text/plain": [
       "<matplotlib.figure.Figure at 0x7fdd2937f4a8>"
      ]
     },
     "metadata": {},
     "output_type": "display_data"
    }
   ],
   "source": [
    "# subset DataFarme to positions and weight\n",
    "position_weight = df[['positions', 'weight']]\n",
    "\n",
    "# convert missing to NA\n",
    "position_weight = position_weight.replace(r'\\s+',np.nan,regex=True).replace('',np.nan)\n",
    "\n",
    "# convert weight to integer\n",
    "position_weight['weight'] = pd.to_numeric(position_weight['weight'])\n",
    "\n",
    "# drop records with missing data\n",
    "position_weight = position_weight.dropna(subset=['positions', 'weight'])\n",
    "\n",
    "# group by position and calculate the average weight\n",
    "position_weight.groupby('positions')['weight'].mean().plot('bar', title='Average Weight by Position')"
   ]
  },
  {
   "cell_type": "code",
   "execution_count": 29,
   "metadata": {
    "collapsed": true
   },
   "outputs": [],
   "source": [
    "# write the dataframe to CSV\n",
    "df.to_csv(\"2018_mlb_prospect_player_data.csv\", index=False)"
   ]
  },
  {
   "cell_type": "code",
   "execution_count": null,
   "metadata": {
    "collapsed": true
   },
   "outputs": [],
   "source": []
  }
 ],
 "metadata": {
  "kernelspec": {
   "display_name": "Python 3",
   "language": "python",
   "name": "python3"
  },
  "language_info": {
   "codemirror_mode": {
    "name": "ipython",
    "version": 3
   },
   "file_extension": ".py",
   "mimetype": "text/x-python",
   "name": "python",
   "nbconvert_exporter": "python",
   "pygments_lexer": "ipython3",
   "version": "3.5.4"
  }
 },
 "nbformat": 4,
 "nbformat_minor": 2
}
