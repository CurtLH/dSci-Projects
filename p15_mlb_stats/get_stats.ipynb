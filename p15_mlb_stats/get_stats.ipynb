{
 "cells": [
  {
   "cell_type": "code",
   "execution_count": 33,
   "metadata": {
    "collapsed": true
   },
   "outputs": [],
   "source": [
    "import json\n",
    "import requests\n",
    "from pprint import pprint"
   ]
  },
  {
   "cell_type": "code",
   "execution_count": 15,
   "metadata": {},
   "outputs": [
    {
     "name": "stdout",
     "output_type": "stream",
     "text": [
      "99\n"
     ]
    }
   ],
   "source": [
    "# get player ids\n",
    "player = set()\n",
    "for line in open('players.txt'):\n",
    "    if line.strip().startswith('</li><li data-player'):\n",
    "        player.add(line.split('\"')[1])\n",
    "        \n",
    "print(len(player))"
   ]
  },
  {
   "cell_type": "code",
   "execution_count": 27,
   "metadata": {
    "collapsed": true
   },
   "outputs": [],
   "source": [
    "# get data for each player\n",
    "data = []\n",
    "for i in player:\n",
    "    r = requests.get(\"http://m.mlb.com/gen/players/prospects/2018/{}.json\".format(i))\n",
    "    x = json.loads(r.text)\n",
    "    data.append(x)"
   ]
  },
  {
   "cell_type": "code",
   "execution_count": 30,
   "metadata": {
    "collapsed": true
   },
   "outputs": [],
   "source": [
    "# clean up responses\n",
    "clean = []\n",
    "for line in data:\n",
    "    clean.append(line['prospect_player'])"
   ]
  },
  {
   "cell_type": "code",
   "execution_count": 35,
   "metadata": {},
   "outputs": [
    {
     "data": {
      "text/plain": [
       "dict_keys(['year', 'content', 'player_last_name', 'preseason100', 'weight', 'signed', 'team_file_code', 'school', 'bats', 'player_first_name', 'thrw', 'twitter', 'player_id', 'positions', 'height', 'preseason20', 'drafted', 'birthdate', 'eta'])"
      ]
     },
     "execution_count": 35,
     "metadata": {},
     "output_type": "execute_result"
    }
   ],
   "source": [
    "# what keys are in this JSON objects?\n",
    "clean[0].keys()"
   ]
  },
  {
   "cell_type": "code",
   "execution_count": 32,
   "metadata": {
    "collapsed": true
   },
   "outputs": [],
   "source": [
    "# write JSON to file\n",
    "with open('mlb_top_100.txt', 'w') as outfile:\n",
    "    json.dump(clean, outfile)"
   ]
  },
  {
   "cell_type": "code",
   "execution_count": 38,
   "metadata": {},
   "outputs": [
    {
     "name": "stdout",
     "output_type": "stream",
     "text": [
      "{'bats': '',\n",
      " 'birthdate': '',\n",
      " 'content': {'default': '<b>Scouting grades:</b> Fastball: 65 | Curveball: 60 '\n",
      "                        '| Changeup: 50 | Control: 50 | Overall: 55\\n'\n",
      "                        '\\n'\n",
      "                        '<p>The son of a former NBA player, Manning was a '\n",
      "                        'two-sport star who could have gone on to play both '\n",
      "                        'sports at Loyola-Marymount, and when the Tigers went '\n",
      "                        'slightly above pick value to sign him away from that '\n",
      "                        'commitment, they knew Manning might be a bit of a '\n",
      "                        'project. The Tigers have proceeded with '\n",
      "                        'understandable caution, holding the 6-foot-6 '\n",
      "                        'right-hander back in extended Spring Training to '\n",
      "                        'start his first full year of pro ball. He eventually '\n",
      "                        'pitched his way from short-season Connecticut to '\n",
      "                        'full-season West Michigan, capping his season off '\n",
      "                        'with a 10-strikeout performance in the Midwest League '\n",
      "                        'playoffs.\\n'\n",
      "                        '\\n'\n",
      "                        '<p>Manning has as much, if not more, upside than any '\n",
      "                        'pitcher in the Tigers system, but he also might have '\n",
      "                        'the farthest to go to reach it. As he works to refine '\n",
      "                        'his delivery, his command and velocity has '\n",
      "                        \"fluctuated. When he's in sync, he's easily in the \"\n",
      "                        'low-90s with the ability to touch 95-96 mph with '\n",
      "                        \"ease. It's easy to dream on more consistent velocity \"\n",
      "                        'as he figures things out. His power curve has the '\n",
      "                        'chance to be a plus pitch in the future, and while '\n",
      "                        \"his changeup lags behind, he's shown some feel for it \"\n",
      "                        'and it should give him a third at-least-average '\n",
      "                        'offering at his disposal.\\n'\n",
      "                        '\\n'\n",
      "                        \"<p>Manning's command fluctuated largely because of \"\n",
      "                        'mechanical flaws, which his athleticism should help '\n",
      "                        \"him iron out as he progresses. It's going to take \"\n",
      "                        'time, but the end product could very well be a '\n",
      "                        'frontline starter.',\n",
      "             'photo': '/assets/images/6/3/6/264080636/cuts/254x350/cut.jpg',\n",
      "             'photo180x218': '/assets/images/6/3/6/264080636/cuts/180x218/cut.jpg',\n",
      "             'photo360x436': '/assets/images/6/3/6/264080636/cuts/360x436/cut.jpg',\n",
      "             'position': '<b>Scouting grades:</b> Fastball: 65 | Curveball: 60 '\n",
      "                         '| Changeup: 50 | Control: 50 | Overall: 55\\n'\n",
      "                         '\\n'\n",
      "                         '<p>The son of a former NBA player, Manning was a '\n",
      "                         'two-sport star who could have gone on to play both '\n",
      "                         'sports at Loyola-Marymount, and when the Tigers went '\n",
      "                         'slightly above pick value to sign him away from that '\n",
      "                         'commitment, they knew Manning might be a bit of a '\n",
      "                         'project. The Tigers have proceeded with '\n",
      "                         'understandable caution, holding the 6-foot-6 '\n",
      "                         'right-hander back in extended Spring Training to '\n",
      "                         'start his first full year of pro ball. He eventually '\n",
      "                         'pitched his way from short-season Connecticut to '\n",
      "                         'full-season West Michigan, capping his season off '\n",
      "                         'with a 10-strikeout performance in the Midwest '\n",
      "                         'League playoffs.\\n'\n",
      "                         '\\n'\n",
      "                         '<p>Manning has as much, if not more, upside than any '\n",
      "                         'pitcher in the Tigers system, but he also might have '\n",
      "                         'the farthest to go to reach it. As he works to '\n",
      "                         'refine his delivery, his command and velocity has '\n",
      "                         \"fluctuated. When he's in sync, he's easily in the \"\n",
      "                         'low-90s with the ability to touch 95-96 mph with '\n",
      "                         \"ease. It's easy to dream on more consistent velocity \"\n",
      "                         'as he figures things out. His power curve has the '\n",
      "                         'chance to be a plus pitch in the future, and while '\n",
      "                         \"his changeup lags behind, he's shown some feel for \"\n",
      "                         'it and it should give him a third at-least-average '\n",
      "                         'offering at his disposal.\\n'\n",
      "                         '\\n'\n",
      "                         \"<p>Manning's command fluctuated largely because of \"\n",
      "                         'mechanical flaws, which his athleticism should help '\n",
      "                         \"him iron out as he progresses. It's going to take \"\n",
      "                         'time, but the end product could very well be a '\n",
      "                         'frontline starter.',\n",
      "             'prospect_vid': '1872837583',\n",
      "             'team': '<b>Scouting grades:</b> Fastball: 65 | Curveball: 60 | '\n",
      "                     'Changeup: 50 | Control: 50 | Overall: 55\\n'\n",
      "                     '\\n'\n",
      "                     '<p>The son of a former NBA player, Manning was a '\n",
      "                     'two-sport star who could have gone on to play both '\n",
      "                     'sports at Loyola-Marymount, and when the Tigers went '\n",
      "                     'slightly above pick value to sign him away from that '\n",
      "                     'commitment, they knew Manning might be a bit of a '\n",
      "                     'project. The Tigers have proceeded with understandable '\n",
      "                     'caution, holding the 6-foot-6 right-hander back in '\n",
      "                     'extended Spring Training to start his first full year of '\n",
      "                     'pro ball. He eventually pitched his way from '\n",
      "                     'short-season Connecticut to full-season West Michigan, '\n",
      "                     'capping his season off with a 10-strikeout performance '\n",
      "                     'in the Midwest League playoffs.\\n'\n",
      "                     '\\n'\n",
      "                     '<p>Manning has as much, if not more, upside than any '\n",
      "                     'pitcher in the Tigers system, but he also might have the '\n",
      "                     'farthest to go to reach it. As he works to refine his '\n",
      "                     'delivery, his command and velocity has fluctuated. When '\n",
      "                     \"he's in sync, he's easily in the low-90s with the \"\n",
      "                     \"ability to touch 95-96 mph with ease. It's easy to dream \"\n",
      "                     'on more consistent velocity as he figures things out. '\n",
      "                     'His power curve has the chance to be a plus pitch in the '\n",
      "                     \"future, and while his changeup lags behind, he's shown \"\n",
      "                     'some feel for it and it should give him a third '\n",
      "                     'at-least-average offering at his disposal.\\n'\n",
      "                     '\\n'\n",
      "                     \"<p>Manning's command fluctuated largely because of \"\n",
      "                     'mechanical flaws, which his athleticism should help him '\n",
      "                     \"iron out as he progresses. It's going to take time, but \"\n",
      "                     'the end product could very well be a frontline starter.',\n",
      "             'thumb': '/assets/images/6/3/6/264080636/cuts/74x74/cut.jpg',\n",
      "             'thumb124x150': '/assets/images/6/3/6/264080636/cuts/124x150/cut.jpg',\n",
      "             'thumb62x75': '/assets/images/6/3/6/264080636/cuts/62x75/cut.jpg'},\n",
      " 'drafted': '2016, 1st (9) - DET',\n",
      " 'eta': 2020,\n",
      " 'height': '',\n",
      " 'player_first_name': 'Matt',\n",
      " 'player_id': 666159,\n",
      " 'player_last_name': 'Manning',\n",
      " 'positions': 'RHP',\n",
      " 'preseason100': '',\n",
      " 'preseason20': '',\n",
      " 'school': '',\n",
      " 'signed': '',\n",
      " 'team_file_code': 'DET',\n",
      " 'thrw': '',\n",
      " 'twitter': 'MattManning19',\n",
      " 'weight': '',\n",
      " 'year': ''}\n"
     ]
    }
   ],
   "source": [
    "# what does the response look like?\n",
    "pprint(clean[0])"
   ]
  },
  {
   "cell_type": "code",
   "execution_count": null,
   "metadata": {
    "collapsed": true
   },
   "outputs": [],
   "source": []
  }
 ],
 "metadata": {
  "kernelspec": {
   "display_name": "Python 3",
   "language": "python",
   "name": "python3"
  },
  "language_info": {
   "codemirror_mode": {
    "name": "ipython",
    "version": 3
   },
   "file_extension": ".py",
   "mimetype": "text/x-python",
   "name": "python",
   "nbconvert_exporter": "python",
   "pygments_lexer": "ipython3",
   "version": "3.5.4"
  }
 },
 "nbformat": 4,
 "nbformat_minor": 2
}
