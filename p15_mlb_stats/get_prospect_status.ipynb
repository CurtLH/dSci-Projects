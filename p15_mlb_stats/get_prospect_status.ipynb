{
 "cells": [
  {
   "cell_type": "code",
   "execution_count": 42,
   "metadata": {
    "collapsed": true
   },
   "outputs": [],
   "source": [
    "import pandas as pd\n",
    "import json\n",
    "import requests\n",
    "from collections import Counter\n",
    "from pprint import pprint"
   ]
  },
  {
   "cell_type": "code",
   "execution_count": 23,
   "metadata": {},
   "outputs": [
    {
     "name": "stdout",
     "output_type": "stream",
     "text": [
      "Populating the interactive namespace from numpy and matplotlib\n"
     ]
    }
   ],
   "source": [
    "%pylab inline"
   ]
  },
  {
   "cell_type": "code",
   "execution_count": 26,
   "metadata": {
    "collapsed": true
   },
   "outputs": [],
   "source": [
    "# set the default plot size\n",
    "pylab.rcParams['figure.figsize'] = (12, 6)"
   ]
  },
  {
   "cell_type": "code",
   "execution_count": 27,
   "metadata": {
    "collapsed": true
   },
   "outputs": [],
   "source": [
    "# load player prospect data\n",
    "players = pd.read_csv('2018_prospect_players.csv')"
   ]
  },
  {
   "cell_type": "code",
   "execution_count": 28,
   "metadata": {},
   "outputs": [
    {
     "data": {
      "text/html": [
       "<div>\n",
       "<style>\n",
       "    .dataframe thead tr:only-child th {\n",
       "        text-align: right;\n",
       "    }\n",
       "\n",
       "    .dataframe thead th {\n",
       "        text-align: left;\n",
       "    }\n",
       "\n",
       "    .dataframe tbody tr th {\n",
       "        vertical-align: top;\n",
       "    }\n",
       "</style>\n",
       "<table border=\"1\" class=\"dataframe\">\n",
       "  <thead>\n",
       "    <tr style=\"text-align: right;\">\n",
       "      <th></th>\n",
       "      <th>player_first_name</th>\n",
       "      <th>player_id</th>\n",
       "      <th>player_last_name</th>\n",
       "      <th>position</th>\n",
       "      <th>preseason100</th>\n",
       "      <th>preseason20</th>\n",
       "      <th>prospect_year</th>\n",
       "      <th>rank</th>\n",
       "      <th>team_file_code</th>\n",
       "    </tr>\n",
       "  </thead>\n",
       "  <tbody>\n",
       "    <tr>\n",
       "      <th>0</th>\n",
       "      <td>Nick</td>\n",
       "      <td>669222</td>\n",
       "      <td>Senzel</td>\n",
       "      <td>3B</td>\n",
       "      <td>7</td>\n",
       "      <td>1.0</td>\n",
       "      <td>2018</td>\n",
       "      <td>1</td>\n",
       "      <td>CIN</td>\n",
       "    </tr>\n",
       "    <tr>\n",
       "      <th>1</th>\n",
       "      <td>Hunter</td>\n",
       "      <td>668881</td>\n",
       "      <td>Greene</td>\n",
       "      <td>RHP</td>\n",
       "      <td>21</td>\n",
       "      <td>2.0</td>\n",
       "      <td>2018</td>\n",
       "      <td>2</td>\n",
       "      <td>CIN</td>\n",
       "    </tr>\n",
       "    <tr>\n",
       "      <th>2</th>\n",
       "      <td>Taylor</td>\n",
       "      <td>666211</td>\n",
       "      <td>Trammell</td>\n",
       "      <td>OF</td>\n",
       "      <td>43</td>\n",
       "      <td>3.0</td>\n",
       "      <td>2018</td>\n",
       "      <td>3</td>\n",
       "      <td>CIN</td>\n",
       "    </tr>\n",
       "    <tr>\n",
       "      <th>3</th>\n",
       "      <td>Jesse</td>\n",
       "      <td>608385</td>\n",
       "      <td>Winker</td>\n",
       "      <td>OF</td>\n",
       "      <td>82</td>\n",
       "      <td>4.0</td>\n",
       "      <td>2018</td>\n",
       "      <td>4</td>\n",
       "      <td>CIN</td>\n",
       "    </tr>\n",
       "    <tr>\n",
       "      <th>4</th>\n",
       "      <td>Tyler</td>\n",
       "      <td>641816</td>\n",
       "      <td>Mahle</td>\n",
       "      <td>RHP</td>\n",
       "      <td>84</td>\n",
       "      <td>5.0</td>\n",
       "      <td>2018</td>\n",
       "      <td>5</td>\n",
       "      <td>CIN</td>\n",
       "    </tr>\n",
       "  </tbody>\n",
       "</table>\n",
       "</div>"
      ],
      "text/plain": [
       "  player_first_name player_id player_last_name position preseason100  \\\n",
       "0              Nick    669222           Senzel       3B            7   \n",
       "1            Hunter    668881           Greene      RHP           21   \n",
       "2            Taylor    666211         Trammell       OF           43   \n",
       "3             Jesse    608385           Winker       OF           82   \n",
       "4             Tyler    641816            Mahle      RHP           84   \n",
       "\n",
       "   preseason20  prospect_year  rank team_file_code  \n",
       "0          1.0           2018     1            CIN  \n",
       "1          2.0           2018     2            CIN  \n",
       "2          3.0           2018     3            CIN  \n",
       "3          4.0           2018     4            CIN  \n",
       "4          5.0           2018     5            CIN  "
      ]
     },
     "execution_count": 28,
     "metadata": {},
     "output_type": "execute_result"
    }
   ],
   "source": [
    "# inspect the DataFrame\n",
    "players.head()"
   ]
  },
  {
   "cell_type": "code",
   "execution_count": 29,
   "metadata": {},
   "outputs": [
    {
     "data": {
      "text/plain": [
       "656713    4\n",
       "660271    4\n",
       "663656    3\n",
       "660670    3\n",
       "669222    3\n",
       "Name: player_id, dtype: int64"
      ]
     },
     "execution_count": 29,
     "metadata": {},
     "output_type": "execute_result"
    }
   ],
   "source": [
    "# are some players listed multiple times?\n",
    "players['player_id'].value_counts()[:5]"
   ]
  },
  {
   "cell_type": "code",
   "execution_count": 30,
   "metadata": {},
   "outputs": [
    {
     "data": {
      "text/html": [
       "<div>\n",
       "<style>\n",
       "    .dataframe thead tr:only-child th {\n",
       "        text-align: right;\n",
       "    }\n",
       "\n",
       "    .dataframe thead th {\n",
       "        text-align: left;\n",
       "    }\n",
       "\n",
       "    .dataframe tbody tr th {\n",
       "        vertical-align: top;\n",
       "    }\n",
       "</style>\n",
       "<table border=\"1\" class=\"dataframe\">\n",
       "  <thead>\n",
       "    <tr style=\"text-align: right;\">\n",
       "      <th></th>\n",
       "      <th>player_first_name</th>\n",
       "      <th>player_id</th>\n",
       "      <th>player_last_name</th>\n",
       "      <th>position</th>\n",
       "      <th>preseason100</th>\n",
       "      <th>preseason20</th>\n",
       "      <th>prospect_year</th>\n",
       "      <th>rank</th>\n",
       "      <th>team_file_code</th>\n",
       "    </tr>\n",
       "  </thead>\n",
       "  <tbody>\n",
       "    <tr>\n",
       "      <th>30</th>\n",
       "      <td>Brendan</td>\n",
       "      <td>656713</td>\n",
       "      <td>McKay</td>\n",
       "      <td>1B/LHP</td>\n",
       "      <td>NaN</td>\n",
       "      <td>NaN</td>\n",
       "      <td>2018</td>\n",
       "      <td>1</td>\n",
       "      <td>TB</td>\n",
       "    </tr>\n",
       "    <tr>\n",
       "      <th>44</th>\n",
       "      <td>Brendan</td>\n",
       "      <td>656713</td>\n",
       "      <td>McKay</td>\n",
       "      <td>1B/LHP</td>\n",
       "      <td>25</td>\n",
       "      <td>NaN</td>\n",
       "      <td>2018</td>\n",
       "      <td>5</td>\n",
       "      <td>TB</td>\n",
       "    </tr>\n",
       "    <tr>\n",
       "      <th>424</th>\n",
       "      <td>Brendan</td>\n",
       "      <td>656713</td>\n",
       "      <td>McKay</td>\n",
       "      <td>1B/LHP</td>\n",
       "      <td>25</td>\n",
       "      <td>3.0</td>\n",
       "      <td>2018</td>\n",
       "      <td>25</td>\n",
       "      <td>TB</td>\n",
       "    </tr>\n",
       "    <tr>\n",
       "      <th>622</th>\n",
       "      <td>Brendan</td>\n",
       "      <td>656713</td>\n",
       "      <td>McKay</td>\n",
       "      <td>1B/LHP</td>\n",
       "      <td>25</td>\n",
       "      <td>3.0</td>\n",
       "      <td>2018</td>\n",
       "      <td>3</td>\n",
       "      <td>TB</td>\n",
       "    </tr>\n",
       "  </tbody>\n",
       "</table>\n",
       "</div>"
      ],
      "text/plain": [
       "    player_first_name player_id player_last_name position preseason100  \\\n",
       "30            Brendan    656713            McKay   1B/LHP          NaN   \n",
       "44            Brendan    656713            McKay   1B/LHP           25   \n",
       "424           Brendan    656713            McKay   1B/LHP           25   \n",
       "622           Brendan    656713            McKay   1B/LHP           25   \n",
       "\n",
       "     preseason20  prospect_year  rank team_file_code  \n",
       "30           NaN           2018     1             TB  \n",
       "44           NaN           2018     5             TB  \n",
       "424          3.0           2018    25             TB  \n",
       "622          3.0           2018     3             TB  "
      ]
     },
     "execution_count": 30,
     "metadata": {},
     "output_type": "execute_result"
    }
   ],
   "source": [
    "# lets look at these players that are listed multiple times\n",
    "players[players['player_id'] == '656713']"
   ]
  },
  {
   "cell_type": "code",
   "execution_count": 31,
   "metadata": {
    "collapsed": true
   },
   "outputs": [],
   "source": [
    "# grab the unique player_id from the DataFrame\n",
    "player_ids = players['player_id'].unique().tolist()"
   ]
  },
  {
   "cell_type": "code",
   "execution_count": 32,
   "metadata": {},
   "outputs": [
    {
     "data": {
      "text/plain": [
       "950"
      ]
     },
     "execution_count": 32,
     "metadata": {},
     "output_type": "execute_result"
    }
   ],
   "source": [
    "# how many unique players are there?\n",
    "len(player_ids)"
   ]
  },
  {
   "cell_type": "code",
   "execution_count": 37,
   "metadata": {},
   "outputs": [],
   "source": [
    "# get data for each player\n",
    "responses = []\n",
    "for i in player_ids:\n",
    "    r = requests.get(\"http://m.mlb.com/gen/players/prospects/2018/{}.json\".format(i))\n",
    "    responses.append(r)"
   ]
  },
  {
   "cell_type": "code",
   "execution_count": 45,
   "metadata": {},
   "outputs": [
    {
     "data": {
      "text/plain": [
       "Counter({200: 950})"
      ]
     },
     "execution_count": 45,
     "metadata": {},
     "output_type": "execute_result"
    }
   ],
   "source": [
    "# what is the status of the responses received\n",
    "Counter([i.status_code for i in responses])"
   ]
  },
  {
   "cell_type": "code",
   "execution_count": 226,
   "metadata": {},
   "outputs": [],
   "source": [
    "# extract the content from each response\n",
    "data = []\n",
    "for line in responses:\n",
    "    line = json.loads(line.text)\n",
    "    data.append(line['prospect_player'])"
   ]
  },
  {
   "cell_type": "code",
   "execution_count": 227,
   "metadata": {},
   "outputs": [
    {
     "data": {
      "text/plain": [
       "dict_keys(['player_last_name', 'drafted', 'thrw', 'player_first_name', 'content', 'preseason20', 'year', 'birthdate', 'team_file_code', 'positions', 'player_id', 'bats', 'height', 'weight', 'eta', 'signed', 'twitter', 'school', 'preseason100'])"
      ]
     },
     "execution_count": 227,
     "metadata": {},
     "output_type": "execute_result"
    }
   ],
   "source": [
    "# look at the dictionary keys in the first record\n",
    "data[0].keys()"
   ]
  },
  {
   "cell_type": "code",
   "execution_count": 228,
   "metadata": {},
   "outputs": [
    {
     "name": "stdout",
     "output_type": "stream",
     "text": [
      "{'bats': '',\n",
      " 'birthdate': '',\n",
      " 'content': {'default': '<b>Scouting grades:</b> Hit: 70 | Power: 55 | Run: 55 '\n",
      "                        '| Arm: 60 | Field: 60 | Overall: 65\\n'\n",
      "                        '<p>Billed as the top pure hitter in the 2016 Draft '\n",
      "                        'class, especially from the college ranks, the hope '\n",
      "                        'was Senzel would be the type who could move quickly '\n",
      "                        'through a farm system. After the Tennessee product '\n",
      "                        \"went No. 2 overall to the Reds, he's lived up to that \"\n",
      "                        'billing, hitting his way to Double-A in his first '\n",
      "                        'full season and actually hitting better once he got '\n",
      "                        'to that advanced level.\\n'\n",
      "                        '<p>Senzel uses a combination of strength, bat speed '\n",
      "                        'and an advanced approach at the plate to be an '\n",
      "                        'extremely dangerous hitter from the right side of the '\n",
      "                        \"plate. He makes consistent hard contact, doesn't \"\n",
      "                        'strike out a lot and draws walks, which points to a '\n",
      "                        'future of hitting over .300 and perhaps competing for '\n",
      "                        \"batting titles. While he's not a pure power type, he \"\n",
      "                        'did have 57 extra-base hits in 2017 and homered 10 '\n",
      "                        \"times in 209 at-bats in Double-A. He's not a burner \"\n",
      "                        'on the basepaths, but he is very aggressive and has '\n",
      "                        'excellent instincts that allow him to pick up some '\n",
      "                        'steals and take extra bases. His plus arm works very '\n",
      "                        \"well from the hot corner and he's worked to improve \"\n",
      "                        'his hands and footwork and can stay there long-term, '\n",
      "                        'though the Reds planned to try him out at different '\n",
      "                        'positions to increase his versatility.\\n'\n",
      "                        \"<p>There isn't much more for Senzel to prove at the \"\n",
      "                        'Minor League level, with the prevailing thought he '\n",
      "                        'could compete in the big leagues in the very near '\n",
      "                        'future. Some more reps at the upper levels certainly '\n",
      "                        \"won't hurt, but he should be ready when the call \"\n",
      "                        'comes.',\n",
      "             'photo': '/assets/images/3/9/8/263967398/cuts/254x350/cut.jpg',\n",
      "             'photo180x218': '/assets/images/3/9/8/263967398/cuts/180x218/cut.jpg',\n",
      "             'photo360x436': '/assets/images/3/9/8/263967398/cuts/360x436/cut.jpg',\n",
      "             'position': '<b>Scouting grades:</b> Hit: 70 | Power: 55 | Run: '\n",
      "                         '55 | Arm: 60 | Field: 60 | Overall: 65\\n'\n",
      "                         '<p>Billed as the top pure hitter in the 2016 Draft '\n",
      "                         'class, especially from the college ranks, the hope '\n",
      "                         'was Senzel would be the type who could move quickly '\n",
      "                         'through a farm system. After the Tennessee product '\n",
      "                         \"went No. 2 overall to the Reds, he's lived up to \"\n",
      "                         'that billing, hitting his way to Double-A in his '\n",
      "                         'first full season and actually hitting better once '\n",
      "                         'he got to that advanced level.\\n'\n",
      "                         '<p>Senzel uses a combination of strength, bat speed '\n",
      "                         'and an advanced approach at the plate to be an '\n",
      "                         'extremely dangerous hitter from the right side of '\n",
      "                         \"the plate. He makes consistent hard contact, doesn't \"\n",
      "                         'strike out a lot and draws walks, which points to a '\n",
      "                         'future of hitting over .300 and perhaps competing '\n",
      "                         \"for batting titles. While he's not a pure power \"\n",
      "                         'type, he did have 57 extra-base hits in 2017 and '\n",
      "                         \"homered 10 times in 209 at-bats in Double-A. He's \"\n",
      "                         'not a burner on the basepaths, but he is very '\n",
      "                         'aggressive and has excellent instincts that allow '\n",
      "                         'him to pick up some steals and take extra bases. His '\n",
      "                         'plus arm works very well from the hot corner and '\n",
      "                         \"he's worked to improve his hands and footwork and \"\n",
      "                         'can stay there long-term, though the Reds planned to '\n",
      "                         'try him out at different positions to increase his '\n",
      "                         'versatility.\\n'\n",
      "                         \"<p>There isn't much more for Senzel to prove at the \"\n",
      "                         'Minor League level, with the prevailing thought he '\n",
      "                         'could compete in the big leagues in the very near '\n",
      "                         'future. Some more reps at the upper levels certainly '\n",
      "                         \"won't hurt, but he should be ready when the call \"\n",
      "                         'comes.',\n",
      "             'prospect_vid': '1872239583',\n",
      "             'team': '<b>Scouting grades:</b> Hit: 70 | Power: 55 | Run: 55 | '\n",
      "                     'Arm: 60 | Field: 60 | Overall: 65\\n'\n",
      "                     '<p>Billed as the top pure hitter in the 2016 Draft '\n",
      "                     'class, especially from the college ranks, the hope was '\n",
      "                     'Senzel would be the type who could move quickly through '\n",
      "                     'a farm system. After the Tennessee product went No. 2 '\n",
      "                     \"overall to the Reds, he's lived up to that billing, \"\n",
      "                     'hitting his way to Double-A in his first full season and '\n",
      "                     'actually hitting better once he got to that advanced '\n",
      "                     'level.\\n'\n",
      "                     '<p>Senzel uses a combination of strength, bat speed and '\n",
      "                     'an advanced approach at the plate to be an extremely '\n",
      "                     'dangerous hitter from the right side of the plate. He '\n",
      "                     \"makes consistent hard contact, doesn't strike out a lot \"\n",
      "                     'and draws walks, which points to a future of hitting '\n",
      "                     'over .300 and perhaps competing for batting titles. '\n",
      "                     \"While he's not a pure power type, he did have 57 \"\n",
      "                     'extra-base hits in 2017 and homered 10 times in 209 '\n",
      "                     \"at-bats in Double-A. He's not a burner on the basepaths, \"\n",
      "                     'but he is very aggressive and has excellent instincts '\n",
      "                     'that allow him to pick up some steals and take extra '\n",
      "                     'bases. His plus arm works very well from the hot corner '\n",
      "                     \"and he's worked to improve his hands and footwork and \"\n",
      "                     'can stay there long-term, though the Reds planned to try '\n",
      "                     'him out at different positions to increase his '\n",
      "                     'versatility.\\n'\n",
      "                     \"<p>There isn't much more for Senzel to prove at the \"\n",
      "                     'Minor League level, with the prevailing thought he could '\n",
      "                     'compete in the big leagues in the very near future. Some '\n",
      "                     \"more reps at the upper levels certainly won't hurt, but \"\n",
      "                     'he should be ready when the call comes.',\n",
      "             'thumb': '/assets/images/3/9/8/263967398/cuts/74x74/cut.jpg',\n",
      "             'thumb124x150': '/assets/images/3/9/8/263967398/cuts/124x150/cut.jpg',\n",
      "             'thumb62x75': '/assets/images/3/9/8/263967398/cuts/62x75/cut.jpg'},\n",
      " 'drafted': '2016, 1st (2) - CIN',\n",
      " 'eta': 2018,\n",
      " 'height': '',\n",
      " 'player_first_name': 'Nick',\n",
      " 'player_id': 669222,\n",
      " 'player_last_name': 'Senzel',\n",
      " 'positions': '3B',\n",
      " 'preseason100': 7,\n",
      " 'preseason20': 1,\n",
      " 'school': '',\n",
      " 'signed': '',\n",
      " 'team_file_code': 'CIN',\n",
      " 'thrw': '',\n",
      " 'twitter': 'LilSenzii',\n",
      " 'weight': '',\n",
      " 'year': ''}\n"
     ]
    }
   ],
   "source": [
    "# inspect the first record\n",
    "pprint(data[0])"
   ]
  },
  {
   "cell_type": "code",
   "execution_count": 229,
   "metadata": {
    "collapsed": true
   },
   "outputs": [],
   "source": [
    "# iterate over data and clean up the content\n",
    "for line in data:\n",
    "    \n",
    "    # remove newline delimiter\n",
    "    bio = line['content']['default'].replace('\\n', '').strip()\n",
    "    \n",
    "    # conform scouting grades\n",
    "    variations = ['<b>Scouting grades:</b>', \n",
    "                  '<b>Scouting grades</b>:', \n",
    "                  '<b>Scouting grades</b>:', \n",
    "                  '<b>Scouting Grades:</b>',\n",
    "                  '<p>Scouting Grades:</b>',\n",
    "                  '<p><b>Scouting Grades:</b> Scouting Grades:']\n",
    "    \n",
    "    for i in variations:\n",
    "        if bio.startswith(i):\n",
    "            bio = bio.replace(i, 'Scouting Grades')\n",
    "    \n",
    "    # split the bio on paragraph tag\n",
    "    bio = bio.split('<p>')\n",
    "    \n",
    "    # create a new key to hold bio\n",
    "    line['bio'] = bio"
   ]
  },
  {
   "cell_type": "code",
   "execution_count": 230,
   "metadata": {},
   "outputs": [
    {
     "name": "stdout",
     "output_type": "stream",
     "text": [
      "['Scouting Grades Hit: 70 | Power: 55 | Run: 55 | Arm: 60 | Field: 60 | '\n",
      " 'Overall: 65',\n",
      " 'Billed as the top pure hitter in the 2016 Draft class, especially from the '\n",
      " 'college ranks, the hope was Senzel would be the type who could move quickly '\n",
      " 'through a farm system. After the Tennessee product went No. 2 overall to the '\n",
      " \"Reds, he's lived up to that billing, hitting his way to Double-A in his \"\n",
      " 'first full season and actually hitting better once he got to that advanced '\n",
      " 'level.',\n",
      " 'Senzel uses a combination of strength, bat speed and an advanced approach at '\n",
      " 'the plate to be an extremely dangerous hitter from the right side of the '\n",
      " \"plate. He makes consistent hard contact, doesn't strike out a lot and draws \"\n",
      " 'walks, which points to a future of hitting over .300 and perhaps competing '\n",
      " \"for batting titles. While he's not a pure power type, he did have 57 \"\n",
      " 'extra-base hits in 2017 and homered 10 times in 209 at-bats in Double-A. '\n",
      " \"He's not a burner on the basepaths, but he is very aggressive and has \"\n",
      " 'excellent instincts that allow him to pick up some steals and take extra '\n",
      " \"bases. His plus arm works very well from the hot corner and he's worked to \"\n",
      " 'improve his hands and footwork and can stay there long-term, though the Reds '\n",
      " 'planned to try him out at different positions to increase his versatility.',\n",
      " \"There isn't much more for Senzel to prove at the Minor League level, with \"\n",
      " 'the prevailing thought he could compete in the big leagues in the very near '\n",
      " \"future. Some more reps at the upper levels certainly won't hurt, but he \"\n",
      " 'should be ready when the call comes.']\n"
     ]
    }
   ],
   "source": [
    "# inspect the new bio \n",
    "pprint(data[0]['bio'])"
   ]
  },
  {
   "cell_type": "code",
   "execution_count": 231,
   "metadata": {},
   "outputs": [],
   "source": [
    "# iterate over data and extract scouting grades into new keys\n",
    "for line in data:\n",
    "    \n",
    "    # create an empty container to hold non-scouting grades\n",
    "    bio = []\n",
    "    \n",
    "    # iterate over the bio key specifically\n",
    "    for item in line['bio']:\n",
    "    \n",
    "        # get the line that starts with scouting grades\n",
    "        if item.startswith('Scouting Grades'):\n",
    "\n",
    "            # remove the beginning of the sententce\n",
    "            grades = item.replace('Scouting Grades', '')\n",
    "            \n",
    "            # address edge case with missing colon\n",
    "            grades = grades.replace('Arm ', 'Arm:')\n",
    "            grades = grades.replace('Control ', 'Control:')\n",
    "\n",
    "            # split in seperate metrics\n",
    "            metrics = grades.split('|')\n",
    "\n",
    "            # iterate over the metrics\n",
    "            for i in metrics:\n",
    "\n",
    "                # seperate the metric from the value\n",
    "                value = i.split(':')\n",
    "\n",
    "                # add metrics and values as new keys/values\n",
    "                line[value[0].strip()] = value[1].strip()\n",
    "                \n",
    "        # if it's not a scouting grade...\n",
    "        else:\n",
    "            \n",
    "            # add to bio\n",
    "            bio.append(item)\n",
    "            \n",
    "    # join the bio text into one string\n",
    "    line['bio'] = ''.join(bio)"
   ]
  },
  {
   "cell_type": "code",
   "execution_count": 232,
   "metadata": {},
   "outputs": [
    {
     "name": "stdout",
     "output_type": "stream",
     "text": [
      "{'Arm': '60',\n",
      " 'Field': '60',\n",
      " 'Hit': '70',\n",
      " 'Overall': '65',\n",
      " 'Power': '55',\n",
      " 'Run': '55',\n",
      " 'bats': '',\n",
      " 'bio': 'Billed as the top pure hitter in the 2016 Draft class, especially '\n",
      "        'from the college ranks, the hope was Senzel would be the type who '\n",
      "        'could move quickly through a farm system. After the Tennessee product '\n",
      "        \"went No. 2 overall to the Reds, he's lived up to that billing, \"\n",
      "        'hitting his way to Double-A in his first full season and actually '\n",
      "        'hitting better once he got to that advanced level.Senzel uses a '\n",
      "        'combination of strength, bat speed and an advanced approach at the '\n",
      "        'plate to be an extremely dangerous hitter from the right side of the '\n",
      "        \"plate. He makes consistent hard contact, doesn't strike out a lot and \"\n",
      "        'draws walks, which points to a future of hitting over .300 and '\n",
      "        \"perhaps competing for batting titles. While he's not a pure power \"\n",
      "        'type, he did have 57 extra-base hits in 2017 and homered 10 times in '\n",
      "        \"209 at-bats in Double-A. He's not a burner on the basepaths, but he \"\n",
      "        'is very aggressive and has excellent instincts that allow him to pick '\n",
      "        'up some steals and take extra bases. His plus arm works very well '\n",
      "        \"from the hot corner and he's worked to improve his hands and footwork \"\n",
      "        'and can stay there long-term, though the Reds planned to try him out '\n",
      "        \"at different positions to increase his versatility.There isn't much \"\n",
      "        'more for Senzel to prove at the Minor League level, with the '\n",
      "        'prevailing thought he could compete in the big leagues in the very '\n",
      "        \"near future. Some more reps at the upper levels certainly won't hurt, \"\n",
      "        'but he should be ready when the call comes.',\n",
      " 'birthdate': '',\n",
      " 'content': {'default': '<b>Scouting grades:</b> Hit: 70 | Power: 55 | Run: 55 '\n",
      "                        '| Arm: 60 | Field: 60 | Overall: 65\\n'\n",
      "                        '<p>Billed as the top pure hitter in the 2016 Draft '\n",
      "                        'class, especially from the college ranks, the hope '\n",
      "                        'was Senzel would be the type who could move quickly '\n",
      "                        'through a farm system. After the Tennessee product '\n",
      "                        \"went No. 2 overall to the Reds, he's lived up to that \"\n",
      "                        'billing, hitting his way to Double-A in his first '\n",
      "                        'full season and actually hitting better once he got '\n",
      "                        'to that advanced level.\\n'\n",
      "                        '<p>Senzel uses a combination of strength, bat speed '\n",
      "                        'and an advanced approach at the plate to be an '\n",
      "                        'extremely dangerous hitter from the right side of the '\n",
      "                        \"plate. He makes consistent hard contact, doesn't \"\n",
      "                        'strike out a lot and draws walks, which points to a '\n",
      "                        'future of hitting over .300 and perhaps competing for '\n",
      "                        \"batting titles. While he's not a pure power type, he \"\n",
      "                        'did have 57 extra-base hits in 2017 and homered 10 '\n",
      "                        \"times in 209 at-bats in Double-A. He's not a burner \"\n",
      "                        'on the basepaths, but he is very aggressive and has '\n",
      "                        'excellent instincts that allow him to pick up some '\n",
      "                        'steals and take extra bases. His plus arm works very '\n",
      "                        \"well from the hot corner and he's worked to improve \"\n",
      "                        'his hands and footwork and can stay there long-term, '\n",
      "                        'though the Reds planned to try him out at different '\n",
      "                        'positions to increase his versatility.\\n'\n",
      "                        \"<p>There isn't much more for Senzel to prove at the \"\n",
      "                        'Minor League level, with the prevailing thought he '\n",
      "                        'could compete in the big leagues in the very near '\n",
      "                        'future. Some more reps at the upper levels certainly '\n",
      "                        \"won't hurt, but he should be ready when the call \"\n",
      "                        'comes.',\n",
      "             'photo': '/assets/images/3/9/8/263967398/cuts/254x350/cut.jpg',\n",
      "             'photo180x218': '/assets/images/3/9/8/263967398/cuts/180x218/cut.jpg',\n",
      "             'photo360x436': '/assets/images/3/9/8/263967398/cuts/360x436/cut.jpg',\n",
      "             'position': '<b>Scouting grades:</b> Hit: 70 | Power: 55 | Run: '\n",
      "                         '55 | Arm: 60 | Field: 60 | Overall: 65\\n'\n",
      "                         '<p>Billed as the top pure hitter in the 2016 Draft '\n",
      "                         'class, especially from the college ranks, the hope '\n",
      "                         'was Senzel would be the type who could move quickly '\n",
      "                         'through a farm system. After the Tennessee product '\n",
      "                         \"went No. 2 overall to the Reds, he's lived up to \"\n",
      "                         'that billing, hitting his way to Double-A in his '\n",
      "                         'first full season and actually hitting better once '\n",
      "                         'he got to that advanced level.\\n'\n",
      "                         '<p>Senzel uses a combination of strength, bat speed '\n",
      "                         'and an advanced approach at the plate to be an '\n",
      "                         'extremely dangerous hitter from the right side of '\n",
      "                         \"the plate. He makes consistent hard contact, doesn't \"\n",
      "                         'strike out a lot and draws walks, which points to a '\n",
      "                         'future of hitting over .300 and perhaps competing '\n",
      "                         \"for batting titles. While he's not a pure power \"\n",
      "                         'type, he did have 57 extra-base hits in 2017 and '\n",
      "                         \"homered 10 times in 209 at-bats in Double-A. He's \"\n",
      "                         'not a burner on the basepaths, but he is very '\n",
      "                         'aggressive and has excellent instincts that allow '\n",
      "                         'him to pick up some steals and take extra bases. His '\n",
      "                         'plus arm works very well from the hot corner and '\n",
      "                         \"he's worked to improve his hands and footwork and \"\n",
      "                         'can stay there long-term, though the Reds planned to '\n",
      "                         'try him out at different positions to increase his '\n",
      "                         'versatility.\\n'\n",
      "                         \"<p>There isn't much more for Senzel to prove at the \"\n",
      "                         'Minor League level, with the prevailing thought he '\n",
      "                         'could compete in the big leagues in the very near '\n",
      "                         'future. Some more reps at the upper levels certainly '\n",
      "                         \"won't hurt, but he should be ready when the call \"\n",
      "                         'comes.',\n",
      "             'prospect_vid': '1872239583',\n",
      "             'team': '<b>Scouting grades:</b> Hit: 70 | Power: 55 | Run: 55 | '\n",
      "                     'Arm: 60 | Field: 60 | Overall: 65\\n'\n",
      "                     '<p>Billed as the top pure hitter in the 2016 Draft '\n",
      "                     'class, especially from the college ranks, the hope was '\n",
      "                     'Senzel would be the type who could move quickly through '\n",
      "                     'a farm system. After the Tennessee product went No. 2 '\n",
      "                     \"overall to the Reds, he's lived up to that billing, \"\n",
      "                     'hitting his way to Double-A in his first full season and '\n",
      "                     'actually hitting better once he got to that advanced '\n",
      "                     'level.\\n'\n",
      "                     '<p>Senzel uses a combination of strength, bat speed and '\n",
      "                     'an advanced approach at the plate to be an extremely '\n",
      "                     'dangerous hitter from the right side of the plate. He '\n",
      "                     \"makes consistent hard contact, doesn't strike out a lot \"\n",
      "                     'and draws walks, which points to a future of hitting '\n",
      "                     'over .300 and perhaps competing for batting titles. '\n",
      "                     \"While he's not a pure power type, he did have 57 \"\n",
      "                     'extra-base hits in 2017 and homered 10 times in 209 '\n",
      "                     \"at-bats in Double-A. He's not a burner on the basepaths, \"\n",
      "                     'but he is very aggressive and has excellent instincts '\n",
      "                     'that allow him to pick up some steals and take extra '\n",
      "                     'bases. His plus arm works very well from the hot corner '\n",
      "                     \"and he's worked to improve his hands and footwork and \"\n",
      "                     'can stay there long-term, though the Reds planned to try '\n",
      "                     'him out at different positions to increase his '\n",
      "                     'versatility.\\n'\n",
      "                     \"<p>There isn't much more for Senzel to prove at the \"\n",
      "                     'Minor League level, with the prevailing thought he could '\n",
      "                     'compete in the big leagues in the very near future. Some '\n",
      "                     \"more reps at the upper levels certainly won't hurt, but \"\n",
      "                     'he should be ready when the call comes.',\n",
      "             'thumb': '/assets/images/3/9/8/263967398/cuts/74x74/cut.jpg',\n",
      "             'thumb124x150': '/assets/images/3/9/8/263967398/cuts/124x150/cut.jpg',\n",
      "             'thumb62x75': '/assets/images/3/9/8/263967398/cuts/62x75/cut.jpg'},\n",
      " 'drafted': '2016, 1st (2) - CIN',\n",
      " 'eta': 2018,\n",
      " 'height': '',\n",
      " 'player_first_name': 'Nick',\n",
      " 'player_id': 669222,\n",
      " 'player_last_name': 'Senzel',\n",
      " 'positions': '3B',\n",
      " 'preseason100': 7,\n",
      " 'preseason20': 1,\n",
      " 'school': '',\n",
      " 'signed': '',\n",
      " 'team_file_code': 'CIN',\n",
      " 'thrw': '',\n",
      " 'twitter': 'LilSenzii',\n",
      " 'weight': '',\n",
      " 'year': ''}\n"
     ]
    }
   ],
   "source": [
    "# inspect one record\n",
    "pprint(data[0])"
   ]
  },
  {
   "cell_type": "code",
   "execution_count": 233,
   "metadata": {
    "collapsed": true
   },
   "outputs": [],
   "source": [
    "# iterate over data convert values to integers where possible\n",
    "for line in data:\n",
    "    for key in line:\n",
    "        try:\n",
    "            line[key] = int(line[key])\n",
    "        except:\n",
    "            pass"
   ]
  },
  {
   "cell_type": "code",
   "execution_count": 234,
   "metadata": {
    "collapsed": true
   },
   "outputs": [],
   "source": [
    "# load data into a DataFrame\n",
    "df = pd.DataFrame(data)"
   ]
  },
  {
   "cell_type": "code",
   "execution_count": 235,
   "metadata": {
    "collapsed": true
   },
   "outputs": [],
   "source": [
    "# convert column names to lowercase\n",
    "df.columns = df.columns.str.lower()"
   ]
  },
  {
   "cell_type": "code",
   "execution_count": 236,
   "metadata": {},
   "outputs": [
    {
     "data": {
      "text/html": [
       "<div>\n",
       "<style>\n",
       "    .dataframe thead tr:only-child th {\n",
       "        text-align: right;\n",
       "    }\n",
       "\n",
       "    .dataframe thead th {\n",
       "        text-align: left;\n",
       "    }\n",
       "\n",
       "    .dataframe tbody tr th {\n",
       "        vertical-align: top;\n",
       "    }\n",
       "</style>\n",
       "<table border=\"1\" class=\"dataframe\">\n",
       "  <thead>\n",
       "    <tr style=\"text-align: right;\">\n",
       "      <th></th>\n",
       "      <th>arm</th>\n",
       "      <th>changeup</th>\n",
       "      <th>control</th>\n",
       "      <th>curve</th>\n",
       "      <th>curveball</th>\n",
       "      <th>cutter</th>\n",
       "      <th>cuverball</th>\n",
       "      <th>defense</th>\n",
       "      <th>fastball</th>\n",
       "      <th>field</th>\n",
       "      <th>...</th>\n",
       "      <th>positions</th>\n",
       "      <th>preseason100</th>\n",
       "      <th>preseason20</th>\n",
       "      <th>school</th>\n",
       "      <th>signed</th>\n",
       "      <th>team_file_code</th>\n",
       "      <th>thrw</th>\n",
       "      <th>twitter</th>\n",
       "      <th>weight</th>\n",
       "      <th>year</th>\n",
       "    </tr>\n",
       "  </thead>\n",
       "  <tbody>\n",
       "    <tr>\n",
       "      <th>0</th>\n",
       "      <td>60.0</td>\n",
       "      <td>NaN</td>\n",
       "      <td>NaN</td>\n",
       "      <td>NaN</td>\n",
       "      <td>NaN</td>\n",
       "      <td>NaN</td>\n",
       "      <td>NaN</td>\n",
       "      <td>NaN</td>\n",
       "      <td>NaN</td>\n",
       "      <td>60.0</td>\n",
       "      <td>...</td>\n",
       "      <td>3B</td>\n",
       "      <td>7</td>\n",
       "      <td>1</td>\n",
       "      <td></td>\n",
       "      <td></td>\n",
       "      <td>CIN</td>\n",
       "      <td></td>\n",
       "      <td>LilSenzii</td>\n",
       "      <td></td>\n",
       "      <td></td>\n",
       "    </tr>\n",
       "    <tr>\n",
       "      <th>1</th>\n",
       "      <td>NaN</td>\n",
       "      <td>50.0</td>\n",
       "      <td>55.0</td>\n",
       "      <td>NaN</td>\n",
       "      <td>NaN</td>\n",
       "      <td>NaN</td>\n",
       "      <td>NaN</td>\n",
       "      <td>NaN</td>\n",
       "      <td>80.0</td>\n",
       "      <td>NaN</td>\n",
       "      <td>...</td>\n",
       "      <td>RHP</td>\n",
       "      <td>21</td>\n",
       "      <td>2</td>\n",
       "      <td></td>\n",
       "      <td></td>\n",
       "      <td>CIN</td>\n",
       "      <td></td>\n",
       "      <td>HunterGreene17</td>\n",
       "      <td></td>\n",
       "      <td></td>\n",
       "    </tr>\n",
       "    <tr>\n",
       "      <th>2</th>\n",
       "      <td>45.0</td>\n",
       "      <td>NaN</td>\n",
       "      <td>NaN</td>\n",
       "      <td>NaN</td>\n",
       "      <td>NaN</td>\n",
       "      <td>NaN</td>\n",
       "      <td>NaN</td>\n",
       "      <td>NaN</td>\n",
       "      <td>NaN</td>\n",
       "      <td>55.0</td>\n",
       "      <td>...</td>\n",
       "      <td>OF</td>\n",
       "      <td>43</td>\n",
       "      <td>3</td>\n",
       "      <td></td>\n",
       "      <td></td>\n",
       "      <td>CIN</td>\n",
       "      <td></td>\n",
       "      <td>taytram24</td>\n",
       "      <td></td>\n",
       "      <td></td>\n",
       "    </tr>\n",
       "    <tr>\n",
       "      <th>3</th>\n",
       "      <td>45.0</td>\n",
       "      <td>NaN</td>\n",
       "      <td>NaN</td>\n",
       "      <td>NaN</td>\n",
       "      <td>NaN</td>\n",
       "      <td>NaN</td>\n",
       "      <td>NaN</td>\n",
       "      <td>NaN</td>\n",
       "      <td>NaN</td>\n",
       "      <td>45.0</td>\n",
       "      <td>...</td>\n",
       "      <td>OF</td>\n",
       "      <td>82</td>\n",
       "      <td>4</td>\n",
       "      <td></td>\n",
       "      <td></td>\n",
       "      <td>CIN</td>\n",
       "      <td></td>\n",
       "      <td></td>\n",
       "      <td></td>\n",
       "      <td></td>\n",
       "    </tr>\n",
       "    <tr>\n",
       "      <th>4</th>\n",
       "      <td>NaN</td>\n",
       "      <td>50.0</td>\n",
       "      <td>60.0</td>\n",
       "      <td>NaN</td>\n",
       "      <td>50.0</td>\n",
       "      <td>NaN</td>\n",
       "      <td>NaN</td>\n",
       "      <td>NaN</td>\n",
       "      <td>60.0</td>\n",
       "      <td>NaN</td>\n",
       "      <td>...</td>\n",
       "      <td>RHP</td>\n",
       "      <td>84</td>\n",
       "      <td>5</td>\n",
       "      <td></td>\n",
       "      <td></td>\n",
       "      <td>CIN</td>\n",
       "      <td></td>\n",
       "      <td>tylermahle</td>\n",
       "      <td></td>\n",
       "      <td></td>\n",
       "    </tr>\n",
       "  </tbody>\n",
       "</table>\n",
       "<p>5 rows × 39 columns</p>\n",
       "</div>"
      ],
      "text/plain": [
       "    arm  changeup  control  curve  curveball  cutter  cuverball  defense  \\\n",
       "0  60.0       NaN      NaN    NaN        NaN     NaN        NaN      NaN   \n",
       "1   NaN      50.0     55.0    NaN        NaN     NaN        NaN      NaN   \n",
       "2  45.0       NaN      NaN    NaN        NaN     NaN        NaN      NaN   \n",
       "3  45.0       NaN      NaN    NaN        NaN     NaN        NaN      NaN   \n",
       "4   NaN      50.0     60.0    NaN       50.0     NaN        NaN      NaN   \n",
       "\n",
       "   fastball  field ...   positions  preseason100  preseason20  school  signed  \\\n",
       "0       NaN   60.0 ...          3B             7            1                   \n",
       "1      80.0    NaN ...         RHP            21            2                   \n",
       "2       NaN   55.0 ...          OF            43            3                   \n",
       "3       NaN   45.0 ...          OF            82            4                   \n",
       "4      60.0    NaN ...         RHP            84            5                   \n",
       "\n",
       "   team_file_code  thrw         twitter  weight year  \n",
       "0             CIN             LilSenzii               \n",
       "1             CIN        HunterGreene17               \n",
       "2             CIN             taytram24               \n",
       "3             CIN                                     \n",
       "4             CIN            tylermahle               \n",
       "\n",
       "[5 rows x 39 columns]"
      ]
     },
     "execution_count": 236,
     "metadata": {},
     "output_type": "execute_result"
    }
   ],
   "source": [
    "# inspect the DataFrame\n",
    "df.head()"
   ]
  },
  {
   "cell_type": "code",
   "execution_count": 304,
   "metadata": {},
   "outputs": [
    {
     "data": {
      "text/plain": [
       "<matplotlib.axes._subplots.AxesSubplot at 0x7f9d3a939588>"
      ]
     },
     "execution_count": 304,
     "metadata": {},
     "output_type": "execute_result"
    },
    {
     "data": {
      "image/png": "[encoded data removed]",
      "text/plain": [
       "<matplotlib.figure.Figure at 0x7f9d3a943710>"
      ]
     },
     "metadata": {},
     "output_type": "display_data"
    }
   ],
   "source": [
    "# plot the number of players per team\n",
    "df['team_file_code'].value_counts().plot('barh', title='Number of Players per Team')"
   ]
  },
  {
   "cell_type": "code",
   "execution_count": 302,
   "metadata": {},
   "outputs": [
    {
     "data": {
      "text/plain": [
       "<matplotlib.axes._subplots.AxesSubplot at 0x7f9d3aa9c588>"
      ]
     },
     "execution_count": 302,
     "metadata": {},
     "output_type": "execute_result"
    },
    {
     "data": {
      "image/png": "[encoded data removed]",
      "text/plain": [
       "<matplotlib.figure.Figure at 0x7f9d3aa2c9b0>"
      ]
     },
     "metadata": {},
     "output_type": "display_data"
    }
   ],
   "source": [
    "# count the number players by positions\n",
    "df['positions'].value_counts().plot('bar', title='Number of Players by Position')"
   ]
  },
  {
   "cell_type": "code",
   "execution_count": 299,
   "metadata": {},
   "outputs": [
    {
     "data": {
      "text/plain": [
       "[]"
      ]
     },
     "execution_count": 299,
     "metadata": {},
     "output_type": "execute_result"
    },
    {
     "data": {
      "image/png": "[encoded data removed]",
      "text/plain": [
       "<matplotlib.figure.Figure at 0x7f9d3ae473c8>"
      ]
     },
     "metadata": {},
     "output_type": "display_data"
    }
   ],
   "source": [
    "# calculate the average overall score\n",
    "df['overall'].hist().plot()"
   ]
  },
  {
   "cell_type": "code",
   "execution_count": 297,
   "metadata": {},
   "outputs": [
    {
     "data": {
      "text/plain": [
       "<matplotlib.axes._subplots.AxesSubplot at 0x7f9d3adb3860>"
      ]
     },
     "execution_count": 297,
     "metadata": {},
     "output_type": "execute_result"
    },
    {
     "data": {
      "image/png": "[encoded data removed]",
      "text/plain": [
       "<matplotlib.figure.Figure at 0x7f9d3ac9d6a0>"
      ]
     },
     "metadata": {},
     "output_type": "display_data"
    }
   ],
   "source": [
    "# subset DataFarme to positions and weight\n",
    "position_weight = df[['positions', 'weight']]\n",
    "\n",
    "# convert missing to NA\n",
    "position_weight = position_weight.replace(r'\\s+',np.nan,regex=True).replace('',np.nan)\n",
    "\n",
    "# convert weight to integer\n",
    "position_weight['weight'] = pd.to_numeric(position_weight['weight'])\n",
    "\n",
    "# drop records with missing data\n",
    "position_weight = position_weight.dropna(subset=['positions', 'weight'])\n",
    "\n",
    "# group by position and calculate the average weight\n",
    "position_weight.groupby('positions')['weight'].mean().plot('bar', title='Average Weight by Position')"
   ]
  },
  {
   "cell_type": "code",
   "execution_count": 240,
   "metadata": {
    "collapsed": true
   },
   "outputs": [],
   "source": [
    "# write the dataframe to CSV\n",
    "df.to_csv(\"2018_mlb_prospect_players_info.csv\", index=False)"
   ]
  }
 ],
 "metadata": {
  "kernelspec": {
   "display_name": "Python 3",
   "language": "python",
   "name": "python3"
  },
  "language_info": {
   "codemirror_mode": {
    "name": "ipython",
    "version": 3
   },
   "file_extension": ".py",
   "mimetype": "text/x-python",
   "name": "python",
   "nbconvert_exporter": "python",
   "pygments_lexer": "ipython3",
   "version": "3.5.4"
  }
 },
 "nbformat": 4,
 "nbformat_minor": 2
}
