{
 "cells": [
  {
   "cell_type": "code",
   "execution_count": 1,
   "metadata": {
    "collapsed": true
   },
   "outputs": [],
   "source": [
    "import pandas as pd\n",
    "import json\n",
    "import requests\n",
    "from collections import Counter\n",
    "from pprint import pprint"
   ]
  },
  {
   "cell_type": "code",
   "execution_count": 2,
   "metadata": {},
   "outputs": [
    {
     "name": "stdout",
     "output_type": "stream",
     "text": [
      "Populating the interactive namespace from numpy and matplotlib\n"
     ]
    }
   ],
   "source": [
    "%pylab inline"
   ]
  },
  {
   "cell_type": "code",
   "execution_count": 3,
   "metadata": {
    "collapsed": true
   },
   "outputs": [],
   "source": [
    "# set the default plot size\n",
    "pylab.rcParams['figure.figsize'] = (12, 6)"
   ]
  },
  {
   "cell_type": "markdown",
   "metadata": {},
   "source": [
    "# Get Players to Query\n",
    "We will get the unique player ids to query from 2018_mlb_prospect_players.csv"
   ]
  },
  {
   "cell_type": "code",
   "execution_count": 4,
   "metadata": {},
   "outputs": [],
   "source": [
    "# load team data\n",
    "teams = pd.read_csv('2018_mlb_prospect_teams.csv')"
   ]
  },
  {
   "cell_type": "code",
   "execution_count": 5,
   "metadata": {},
   "outputs": [
    {
     "data": {
      "text/html": [
       "<div>\n",
       "<style>\n",
       "    .dataframe thead tr:only-child th {\n",
       "        text-align: right;\n",
       "    }\n",
       "\n",
       "    .dataframe thead th {\n",
       "        text-align: left;\n",
       "    }\n",
       "\n",
       "    .dataframe tbody tr th {\n",
       "        vertical-align: top;\n",
       "    }\n",
       "</style>\n",
       "<table border=\"1\" class=\"dataframe\">\n",
       "  <thead>\n",
       "    <tr style=\"text-align: right;\">\n",
       "      <th></th>\n",
       "      <th>player_first_name</th>\n",
       "      <th>player_id</th>\n",
       "      <th>player_last_name</th>\n",
       "      <th>position</th>\n",
       "      <th>preseason100</th>\n",
       "      <th>preseason20</th>\n",
       "      <th>prospect_year</th>\n",
       "      <th>rank</th>\n",
       "      <th>team_file_code</th>\n",
       "    </tr>\n",
       "  </thead>\n",
       "  <tbody>\n",
       "    <tr>\n",
       "      <th>0</th>\n",
       "      <td>Fernando</td>\n",
       "      <td>665487</td>\n",
       "      <td>Tatis Jr.</td>\n",
       "      <td>SS</td>\n",
       "      <td>8</td>\n",
       "      <td>1.0</td>\n",
       "      <td>2018</td>\n",
       "      <td>1</td>\n",
       "      <td>SD</td>\n",
       "    </tr>\n",
       "    <tr>\n",
       "      <th>1</th>\n",
       "      <td>MacKenzie</td>\n",
       "      <td>669022</td>\n",
       "      <td>Gore</td>\n",
       "      <td>LHP</td>\n",
       "      <td>19</td>\n",
       "      <td>2.0</td>\n",
       "      <td>2018</td>\n",
       "      <td>2</td>\n",
       "      <td>SD</td>\n",
       "    </tr>\n",
       "    <tr>\n",
       "      <th>2</th>\n",
       "      <td>Luis</td>\n",
       "      <td>649966</td>\n",
       "      <td>Urias</td>\n",
       "      <td>2B/SS</td>\n",
       "      <td>36</td>\n",
       "      <td>3.0</td>\n",
       "      <td>2018</td>\n",
       "      <td>3</td>\n",
       "      <td>SD</td>\n",
       "    </tr>\n",
       "    <tr>\n",
       "      <th>3</th>\n",
       "      <td>Cal</td>\n",
       "      <td>615698</td>\n",
       "      <td>Quantrill</td>\n",
       "      <td>RHP</td>\n",
       "      <td>40</td>\n",
       "      <td>4.0</td>\n",
       "      <td>2018</td>\n",
       "      <td>4</td>\n",
       "      <td>SD</td>\n",
       "    </tr>\n",
       "    <tr>\n",
       "      <th>4</th>\n",
       "      <td>Michel</td>\n",
       "      <td>673258</td>\n",
       "      <td>Baez</td>\n",
       "      <td>RHP</td>\n",
       "      <td>42</td>\n",
       "      <td>5.0</td>\n",
       "      <td>2018</td>\n",
       "      <td>5</td>\n",
       "      <td>SD</td>\n",
       "    </tr>\n",
       "  </tbody>\n",
       "</table>\n",
       "</div>"
      ],
      "text/plain": [
       "  player_first_name player_id player_last_name position preseason100  \\\n",
       "0          Fernando    665487        Tatis Jr.       SS            8   \n",
       "1         MacKenzie    669022             Gore      LHP           19   \n",
       "2              Luis    649966            Urias    2B/SS           36   \n",
       "3               Cal    615698        Quantrill      RHP           40   \n",
       "4            Michel    673258             Baez      RHP           42   \n",
       "\n",
       "   preseason20  prospect_year  rank team_file_code  \n",
       "0          1.0           2018     1             SD  \n",
       "1          2.0           2018     2             SD  \n",
       "2          3.0           2018     3             SD  \n",
       "3          4.0           2018     4             SD  \n",
       "4          5.0           2018     5             SD  "
      ]
     },
     "execution_count": 5,
     "metadata": {},
     "output_type": "execute_result"
    }
   ],
   "source": [
    "# inspect the DataFrame\n",
    "teams.head()"
   ]
  },
  {
   "cell_type": "code",
   "execution_count": 6,
   "metadata": {},
   "outputs": [
    {
     "data": {
      "text/plain": [
       "660271    4\n",
       "656713    4\n",
       "656605    3\n",
       "641857    3\n",
       "642715    3\n",
       "Name: player_id, dtype: int64"
      ]
     },
     "execution_count": 6,
     "metadata": {},
     "output_type": "execute_result"
    }
   ],
   "source": [
    "# are some players listed multiple times?\n",
    "teams['player_id'].value_counts()[:5]"
   ]
  },
  {
   "cell_type": "code",
   "execution_count": 7,
   "metadata": {},
   "outputs": [
    {
     "data": {
      "text/html": [
       "<div>\n",
       "<style>\n",
       "    .dataframe thead tr:only-child th {\n",
       "        text-align: right;\n",
       "    }\n",
       "\n",
       "    .dataframe thead th {\n",
       "        text-align: left;\n",
       "    }\n",
       "\n",
       "    .dataframe tbody tr th {\n",
       "        vertical-align: top;\n",
       "    }\n",
       "</style>\n",
       "<table border=\"1\" class=\"dataframe\">\n",
       "  <thead>\n",
       "    <tr style=\"text-align: right;\">\n",
       "      <th></th>\n",
       "      <th>player_first_name</th>\n",
       "      <th>player_id</th>\n",
       "      <th>player_last_name</th>\n",
       "      <th>position</th>\n",
       "      <th>preseason100</th>\n",
       "      <th>preseason20</th>\n",
       "      <th>prospect_year</th>\n",
       "      <th>rank</th>\n",
       "      <th>team_file_code</th>\n",
       "    </tr>\n",
       "  </thead>\n",
       "  <tbody>\n",
       "    <tr>\n",
       "      <th>274</th>\n",
       "      <td>Brendan</td>\n",
       "      <td>656713</td>\n",
       "      <td>McKay</td>\n",
       "      <td>1B/LHP</td>\n",
       "      <td>25</td>\n",
       "      <td>NaN</td>\n",
       "      <td>2018</td>\n",
       "      <td>5</td>\n",
       "      <td>TB</td>\n",
       "    </tr>\n",
       "    <tr>\n",
       "      <th>544</th>\n",
       "      <td>Brendan</td>\n",
       "      <td>656713</td>\n",
       "      <td>McKay</td>\n",
       "      <td>1B/LHP</td>\n",
       "      <td>25</td>\n",
       "      <td>3.0</td>\n",
       "      <td>2018</td>\n",
       "      <td>25</td>\n",
       "      <td>TB</td>\n",
       "    </tr>\n",
       "    <tr>\n",
       "      <th>712</th>\n",
       "      <td>Brendan</td>\n",
       "      <td>656713</td>\n",
       "      <td>McKay</td>\n",
       "      <td>1B/LHP</td>\n",
       "      <td>25</td>\n",
       "      <td>3.0</td>\n",
       "      <td>2018</td>\n",
       "      <td>3</td>\n",
       "      <td>TB</td>\n",
       "    </tr>\n",
       "    <tr>\n",
       "      <th>900</th>\n",
       "      <td>Brendan</td>\n",
       "      <td>656713</td>\n",
       "      <td>McKay</td>\n",
       "      <td>1B/LHP</td>\n",
       "      <td>NaN</td>\n",
       "      <td>NaN</td>\n",
       "      <td>2018</td>\n",
       "      <td>1</td>\n",
       "      <td>TB</td>\n",
       "    </tr>\n",
       "  </tbody>\n",
       "</table>\n",
       "</div>"
      ],
      "text/plain": [
       "    player_first_name player_id player_last_name position preseason100  \\\n",
       "274           Brendan    656713            McKay   1B/LHP           25   \n",
       "544           Brendan    656713            McKay   1B/LHP           25   \n",
       "712           Brendan    656713            McKay   1B/LHP           25   \n",
       "900           Brendan    656713            McKay   1B/LHP          NaN   \n",
       "\n",
       "     preseason20  prospect_year  rank team_file_code  \n",
       "274          NaN           2018     5             TB  \n",
       "544          3.0           2018    25             TB  \n",
       "712          3.0           2018     3             TB  \n",
       "900          NaN           2018     1             TB  "
      ]
     },
     "execution_count": 7,
     "metadata": {},
     "output_type": "execute_result"
    }
   ],
   "source": [
    "# lets look at one player that is listed multiple times\n",
    "teams[teams['player_id'] == '656713']"
   ]
  },
  {
   "cell_type": "code",
   "execution_count": 8,
   "metadata": {
    "collapsed": true
   },
   "outputs": [],
   "source": [
    "# grab the unique player_id from the DataFrame\n",
    "player_ids = teams['player_id'].unique().tolist()"
   ]
  },
  {
   "cell_type": "code",
   "execution_count": 9,
   "metadata": {},
   "outputs": [
    {
     "data": {
      "text/plain": [
       "950"
      ]
     },
     "execution_count": 9,
     "metadata": {},
     "output_type": "execute_result"
    }
   ],
   "source": [
    "# how many unique players are there?\n",
    "len(player_ids)"
   ]
  },
  {
   "cell_type": "markdown",
   "metadata": {},
   "source": [
    "# Query API\n",
    "It's a good idea to write out the raw source data received from querying the API before doing anything else. This is so that we can experiment with the data recieved without having to continually query the API. I will typically load this raw source data into a database as a JSON object, but in this situation, I'll just write it out to a file in JSON format."
   ]
  },
  {
   "cell_type": "code",
   "execution_count": 10,
   "metadata": {},
   "outputs": [],
   "source": [
    "# get data for each player\n",
    "responses = []\n",
    "for i in player_ids:\n",
    "    url = \"http://m.mlb.com/gen/players/prospects/2018/{}.json\".format(i)\n",
    "    data = requests.get(url).json()\n",
    "    responses.append(data)"
   ]
  },
  {
   "cell_type": "code",
   "execution_count": 11,
   "metadata": {},
   "outputs": [],
   "source": [
    "# write JSON data\n",
    "with open('2018_mlb_prospect_players.json', 'w') as f:\n",
    "    json.dump(responses, f, ensure_ascii=False)"
   ]
  },
  {
   "cell_type": "markdown",
   "metadata": {},
   "source": [
    "# Extract, Transform, Load\n",
    "After querying the API, the next step is to extract relevant information from the JSON data and load it into a format that we can use for analysis."
   ]
  },
  {
   "cell_type": "code",
   "execution_count": 12,
   "metadata": {
    "collapsed": true
   },
   "outputs": [],
   "source": [
    "# read in JSON data\n",
    "responses = json.load(open('2018_mlb_prospect_players.json'))"
   ]
  },
  {
   "cell_type": "code",
   "execution_count": 13,
   "metadata": {},
   "outputs": [],
   "source": [
    "# extract the content from each response\n",
    "player = []\n",
    "for line in responses:\n",
    "    player.append(line['prospect_player'])"
   ]
  },
  {
   "cell_type": "code",
   "execution_count": 14,
   "metadata": {},
   "outputs": [
    {
     "data": {
      "text/plain": [
       "dict_keys(['drafted', 'preseason20', 'year', 'school', 'bats', 'preseason100', 'birthdate', 'player_last_name', 'height', 'positions', 'thrw', 'weight', 'player_first_name', 'twitter', 'content', 'eta', 'signed', 'team_file_code', 'player_id'])"
      ]
     },
     "execution_count": 14,
     "metadata": {},
     "output_type": "execute_result"
    }
   ],
   "source": [
    "# look at the dictionary keys in the first record\n",
    "player[0].keys()"
   ]
  },
  {
   "cell_type": "code",
   "execution_count": 15,
   "metadata": {},
   "outputs": [
    {
     "name": "stdout",
     "output_type": "stream",
     "text": [
      "{'bats': '',\n",
      " 'birthdate': '',\n",
      " 'content': {'default': '<b>Scouting grades:</b> Hit: 55 | Power: 60 | Run: 50 '\n",
      "                        '| Arm: 60 | Field: 55 | Overall: 65\\n'\n",
      "                        '<p>The son of former 11-year Major Leaguer Fernando '\n",
      "                        \"Tatis ranked 30th on MLBPipeline.com's Top 30 \"\n",
      "                        'prospects list for the 2015-16 international period '\n",
      "                        'before signing for $700,000 with the White Sox, who '\n",
      "                        'shipped him to the Padres the following June as part '\n",
      "                        'of the James Shields trade. He made an immediate '\n",
      "                        'impact in his pro debut, finishing the season as a '\n",
      "                        '17-year-old in the Class A Short-Season Northwest '\n",
      "                        'League, and then emerged as a top-flight prospect in '\n",
      "                        '2017 as he became the first 18-year-old in Midwest '\n",
      "                        'League history to post at least 20 home runs and 20 '\n",
      "                        'stolen bases. Perhaps even more impressive was how '\n",
      "                        'Tatis Jr. handled himself after making the jump '\n",
      "                        'directly to Double-A San Antonio in August, as the '\n",
      "                        'performance further certified his status as one of '\n",
      "                        \"baseball's premier prospects. \\n\"\n",
      "                        '<p>Tatis Jr. has all the ingredients to become an '\n",
      "                        'offensive force in the Majors, as his bat speed, '\n",
      "                        'leveraged swing and overall capacity to make '\n",
      "                        'adjustments all portend a future plus hitter with '\n",
      "                        'plus power. He proved vulnerable to spin and '\n",
      "                        'sequencing early in the year but tightened his '\n",
      "                        'approach as the season progressed en route to pacing '\n",
      "                        'the Midwest League with 75 walks. Many evaluators '\n",
      "                        'believe Tatis Jr. is merely scraping the surface of '\n",
      "                        'his offensive potential, as he still has considerable '\n",
      "                        'room to grow into his tall and athletic frame. \\n'\n",
      "                        \"<p>That larger frame doesn't currently impede Tatis \"\n",
      "                        \"Jr.'s abilities at shortstop, where he makes \"\n",
      "                        'highlight-reel plays on a daily basis thanks to his '\n",
      "                        'athleticism, range and rocket arm, though further '\n",
      "                        'physical development could ultimately force him to '\n",
      "                        \"third base. Even if that's case, Tatis Jr.'s bat \"\n",
      "                        'gives him the ceiling of a perennial All-Star, '\n",
      "                        'possibly even an MVP candidate in his prime.',\n",
      "             'photo': '/assets/images/3/0/4/264409304/cuts/254x350/cut.jpg',\n",
      "             'photo180x218': '/assets/images/3/0/4/264409304/cuts/180x218/cut.jpg',\n",
      "             'photo360x436': '/assets/images/3/0/4/264409304/cuts/360x436/cut.jpg',\n",
      "             'position': '<b>Scouting grades:</b> Hit: 55 | Power: 60 | Run: '\n",
      "                         '50 | Arm: 60 | Field: 55 | Overall: 65\\n'\n",
      "                         '<p>The son of former 11-year Major Leaguer Fernando '\n",
      "                         \"Tatis ranked 30th on MLBPipeline.com's Top 30 \"\n",
      "                         'prospects list for the 2015-16 international period '\n",
      "                         'before signing for $700,000 with the White Sox, who '\n",
      "                         'shipped him to the Padres the following June as part '\n",
      "                         'of the James Shields trade. He made an immediate '\n",
      "                         'impact in his pro debut, finishing the season as a '\n",
      "                         '17-year-old in the Class A Short-Season Northwest '\n",
      "                         'League, and then emerged as a top-flight prospect in '\n",
      "                         '2017 as he became the first 18-year-old in Midwest '\n",
      "                         'League history to post at least 20 home runs and 20 '\n",
      "                         'stolen bases. Perhaps even more impressive was how '\n",
      "                         'Tatis Jr. handled himself after making the jump '\n",
      "                         'directly to Double-A San Antonio in August, as the '\n",
      "                         'performance further certified his status as one of '\n",
      "                         \"baseball's premier prospects. \\n\"\n",
      "                         '<p>Tatis Jr. has all the ingredients to become an '\n",
      "                         'offensive force in the Majors, as his bat speed, '\n",
      "                         'leveraged swing and overall capacity to make '\n",
      "                         'adjustments all portend a future plus hitter with '\n",
      "                         'plus power. He proved vulnerable to spin and '\n",
      "                         'sequencing early in the year but tightened his '\n",
      "                         'approach as the season progressed en route to pacing '\n",
      "                         'the Midwest League with 75 walks. Many evaluators '\n",
      "                         'believe Tatis Jr. is merely scraping the surface of '\n",
      "                         'his offensive potential, as he still has '\n",
      "                         'considerable room to grow into his tall and athletic '\n",
      "                         'frame. \\n'\n",
      "                         \"<p>That larger frame doesn't currently impede Tatis \"\n",
      "                         \"Jr.'s abilities at shortstop, where he makes \"\n",
      "                         'highlight-reel plays on a daily basis thanks to his '\n",
      "                         'athleticism, range and rocket arm, though further '\n",
      "                         'physical development could ultimately force him to '\n",
      "                         \"third base. Even if that's case, Tatis Jr.'s bat \"\n",
      "                         'gives him the ceiling of a perennial All-Star, '\n",
      "                         'possibly even an MVP candidate in his prime.',\n",
      "             'prospect_vid': '1872242483',\n",
      "             'team': '<b>Scouting grades:</b> Hit: 55 | Power: 60 | Run: 50 | '\n",
      "                     'Arm: 60 | Field: 55 | Overall: 65\\n'\n",
      "                     '<p>The son of former 11-year Major Leaguer Fernando '\n",
      "                     \"Tatis ranked 30th on MLBPipeline.com's Top 30 prospects \"\n",
      "                     'list for the 2015-16 international period before signing '\n",
      "                     'for $700,000 with the White Sox, who shipped him to the '\n",
      "                     'Padres the following June as part of the James Shields '\n",
      "                     'trade. He made an immediate impact in his pro debut, '\n",
      "                     'finishing the season as a 17-year-old in the Class A '\n",
      "                     'Short-Season Northwest League, and then emerged as a '\n",
      "                     'top-flight prospect in 2017 as he became the first '\n",
      "                     '18-year-old in Midwest League history to post at least '\n",
      "                     '20 home runs and 20 stolen bases. Perhaps even more '\n",
      "                     'impressive was how Tatis Jr. handled himself after '\n",
      "                     'making the jump directly to Double-A San Antonio in '\n",
      "                     'August, as the performance further certified his status '\n",
      "                     \"as one of baseball's premier prospects. \\n\"\n",
      "                     '<p>Tatis Jr. has all the ingredients to become an '\n",
      "                     'offensive force in the Majors, as his bat speed, '\n",
      "                     'leveraged swing and overall capacity to make adjustments '\n",
      "                     'all portend a future plus hitter with plus power. He '\n",
      "                     'proved vulnerable to spin and sequencing early in the '\n",
      "                     'year but tightened his approach as the season progressed '\n",
      "                     'en route to pacing the Midwest League with 75 walks. '\n",
      "                     'Many evaluators believe Tatis Jr. is merely scraping the '\n",
      "                     'surface of his offensive potential, as he still has '\n",
      "                     'considerable room to grow into his tall and athletic '\n",
      "                     'frame. \\n'\n",
      "                     \"<p>That larger frame doesn't currently impede Tatis \"\n",
      "                     \"Jr.'s abilities at shortstop, where he makes \"\n",
      "                     'highlight-reel plays on a daily basis thanks to his '\n",
      "                     'athleticism, range and rocket arm, though further '\n",
      "                     'physical development could ultimately force him to third '\n",
      "                     \"base. Even if that's case, Tatis Jr.'s bat gives him the \"\n",
      "                     'ceiling of a perennial All-Star, possibly even an MVP '\n",
      "                     'candidate in his prime.',\n",
      "             'thumb': '/assets/images/3/0/4/264409304/cuts/74x74/cut.jpg',\n",
      "             'thumb124x150': '/assets/images/3/0/4/264409304/cuts/124x150/cut.jpg',\n",
      "             'thumb62x75': '/assets/images/3/0/4/264409304/cuts/62x75/cut.jpg'},\n",
      " 'drafted': '',\n",
      " 'eta': 2019,\n",
      " 'height': '',\n",
      " 'player_first_name': 'Fernando',\n",
      " 'player_id': 665487,\n",
      " 'player_last_name': 'Tatis Jr.',\n",
      " 'positions': 'SS',\n",
      " 'preseason100': 8,\n",
      " 'preseason20': 1,\n",
      " 'school': '',\n",
      " 'signed': 'July 2, 2015 - CWS',\n",
      " 'team_file_code': 'SD',\n",
      " 'thrw': '',\n",
      " 'twitter': 'tatis_jr',\n",
      " 'weight': '',\n",
      " 'year': ''}\n"
     ]
    }
   ],
   "source": [
    "# inspect the first record\n",
    "pprint(player[0])"
   ]
  },
  {
   "cell_type": "code",
   "execution_count": 16,
   "metadata": {
    "collapsed": true
   },
   "outputs": [],
   "source": [
    "# iterate over data and clean up the content\n",
    "for line in player:\n",
    "    \n",
    "    # remove newline delimiter\n",
    "    bio = line['content']['default'].replace('\\n', '').strip()\n",
    "    \n",
    "    # conform scouting grades\n",
    "    variations = ['<b>Scouting grades:</b>', \n",
    "                  '<b>Scouting grades</b>:', \n",
    "                  '<b>Scouting grades</b>:', \n",
    "                  '<b>Scouting Grades:</b>',\n",
    "                  '<p>Scouting Grades:</b>',\n",
    "                  '<p><b>Scouting Grades:</b> Scouting Grades:']\n",
    "    \n",
    "    for i in variations:\n",
    "        if bio.startswith(i):\n",
    "            bio = bio.replace(i, 'Scouting Grades')\n",
    "    \n",
    "    # split the bio on paragraph tag\n",
    "    bio = bio.split('<p>')\n",
    "    \n",
    "    # create a new key to hold bio\n",
    "    line['bio'] = bio\n",
    "    \n",
    "    # delete content\n",
    "    del line['content']"
   ]
  },
  {
   "cell_type": "code",
   "execution_count": 17,
   "metadata": {},
   "outputs": [
    {
     "name": "stdout",
     "output_type": "stream",
     "text": [
      "['Scouting Grades Hit: 55 | Power: 60 | Run: 50 | Arm: 60 | Field: 55 | '\n",
      " 'Overall: 65',\n",
      " 'The son of former 11-year Major Leaguer Fernando Tatis ranked 30th on '\n",
      " \"MLBPipeline.com's Top 30 prospects list for the 2015-16 international period \"\n",
      " 'before signing for $700,000 with the White Sox, who shipped him to the '\n",
      " 'Padres the following June as part of the James Shields trade. He made an '\n",
      " 'immediate impact in his pro debut, finishing the season as a 17-year-old in '\n",
      " 'the Class A Short-Season Northwest League, and then emerged as a top-flight '\n",
      " 'prospect in 2017 as he became the first 18-year-old in Midwest League '\n",
      " 'history to post at least 20 home runs and 20 stolen bases. Perhaps even more '\n",
      " 'impressive was how Tatis Jr. handled himself after making the jump directly '\n",
      " 'to Double-A San Antonio in August, as the performance further certified his '\n",
      " \"status as one of baseball's premier prospects. \",\n",
      " 'Tatis Jr. has all the ingredients to become an offensive force in the '\n",
      " 'Majors, as his bat speed, leveraged swing and overall capacity to make '\n",
      " 'adjustments all portend a future plus hitter with plus power. He proved '\n",
      " 'vulnerable to spin and sequencing early in the year but tightened his '\n",
      " 'approach as the season progressed en route to pacing the Midwest League with '\n",
      " '75 walks. Many evaluators believe Tatis Jr. is merely scraping the surface '\n",
      " 'of his offensive potential, as he still has considerable room to grow into '\n",
      " 'his tall and athletic frame. ',\n",
      " \"That larger frame doesn't currently impede Tatis Jr.'s abilities at \"\n",
      " 'shortstop, where he makes highlight-reel plays on a daily basis thanks to '\n",
      " 'his athleticism, range and rocket arm, though further physical development '\n",
      " \"could ultimately force him to third base. Even if that's case, Tatis Jr.'s \"\n",
      " 'bat gives him the ceiling of a perennial All-Star, possibly even an MVP '\n",
      " 'candidate in his prime.']\n"
     ]
    }
   ],
   "source": [
    "# inspect the new bio \n",
    "pprint(player[0]['bio'])"
   ]
  },
  {
   "cell_type": "code",
   "execution_count": 18,
   "metadata": {
    "collapsed": true
   },
   "outputs": [],
   "source": [
    "# iterate over data and extract scouting grades into new keys\n",
    "for line in player:\n",
    "    \n",
    "    # create an empty container to hold non-scouting grades\n",
    "    bio = []\n",
    "    \n",
    "    # iterate over the bio key specifically\n",
    "    for item in line['bio']:\n",
    "    \n",
    "        # get the line that starts with scouting grades\n",
    "        if item.startswith('Scouting Grades'):\n",
    "\n",
    "            # remove the beginning of the sententce\n",
    "            grades = item.replace('Scouting Grades', '')\n",
    "            \n",
    "            # address edge case with missing colon\n",
    "            grades = grades.replace('Arm ', 'Arm:')\n",
    "            grades = grades.replace('Control ', 'Control:')\n",
    "\n",
    "            # split in seperate metrics\n",
    "            metrics = grades.split('|')\n",
    "\n",
    "            # iterate over the metrics\n",
    "            for i in metrics:\n",
    "\n",
    "                # seperate the metric from the value\n",
    "                value = i.split(':')\n",
    "\n",
    "                # add metrics and values as new keys/values\n",
    "                line[value[0].strip()] = value[1].strip()\n",
    "                \n",
    "        # if it's not a scouting grade...\n",
    "        else:\n",
    "            \n",
    "            # add to bio\n",
    "            bio.append(item)\n",
    "            \n",
    "    # join the bio text into one string\n",
    "    line['bio'] = ''.join(bio)"
   ]
  },
  {
   "cell_type": "code",
   "execution_count": 19,
   "metadata": {},
   "outputs": [
    {
     "name": "stdout",
     "output_type": "stream",
     "text": [
      "{'Arm': '60',\n",
      " 'Field': '55',\n",
      " 'Hit': '55',\n",
      " 'Overall': '65',\n",
      " 'Power': '60',\n",
      " 'Run': '50',\n",
      " 'bats': '',\n",
      " 'bio': 'The son of former 11-year Major Leaguer Fernando Tatis ranked 30th on '\n",
      "        \"MLBPipeline.com's Top 30 prospects list for the 2015-16 international \"\n",
      "        'period before signing for $700,000 with the White Sox, who shipped '\n",
      "        'him to the Padres the following June as part of the James Shields '\n",
      "        'trade. He made an immediate impact in his pro debut, finishing the '\n",
      "        'season as a 17-year-old in the Class A Short-Season Northwest League, '\n",
      "        'and then emerged as a top-flight prospect in 2017 as he became the '\n",
      "        'first 18-year-old in Midwest League history to post at least 20 home '\n",
      "        'runs and 20 stolen bases. Perhaps even more impressive was how Tatis '\n",
      "        'Jr. handled himself after making the jump directly to Double-A San '\n",
      "        'Antonio in August, as the performance further certified his status as '\n",
      "        \"one of baseball's premier prospects. Tatis Jr. has all the \"\n",
      "        'ingredients to become an offensive force in the Majors, as his bat '\n",
      "        'speed, leveraged swing and overall capacity to make adjustments all '\n",
      "        'portend a future plus hitter with plus power. He proved vulnerable to '\n",
      "        'spin and sequencing early in the year but tightened his approach as '\n",
      "        'the season progressed en route to pacing the Midwest League with 75 '\n",
      "        'walks. Many evaluators believe Tatis Jr. is merely scraping the '\n",
      "        'surface of his offensive potential, as he still has considerable room '\n",
      "        \"to grow into his tall and athletic frame. That larger frame doesn't \"\n",
      "        \"currently impede Tatis Jr.'s abilities at shortstop, where he makes \"\n",
      "        'highlight-reel plays on a daily basis thanks to his athleticism, '\n",
      "        'range and rocket arm, though further physical development could '\n",
      "        \"ultimately force him to third base. Even if that's case, Tatis Jr.'s \"\n",
      "        'bat gives him the ceiling of a perennial All-Star, possibly even an '\n",
      "        'MVP candidate in his prime.',\n",
      " 'birthdate': '',\n",
      " 'drafted': '',\n",
      " 'eta': 2019,\n",
      " 'height': '',\n",
      " 'player_first_name': 'Fernando',\n",
      " 'player_id': 665487,\n",
      " 'player_last_name': 'Tatis Jr.',\n",
      " 'positions': 'SS',\n",
      " 'preseason100': 8,\n",
      " 'preseason20': 1,\n",
      " 'school': '',\n",
      " 'signed': 'July 2, 2015 - CWS',\n",
      " 'team_file_code': 'SD',\n",
      " 'thrw': '',\n",
      " 'twitter': 'tatis_jr',\n",
      " 'weight': '',\n",
      " 'year': ''}\n"
     ]
    }
   ],
   "source": [
    "# inspect one record\n",
    "pprint(player[0])"
   ]
  },
  {
   "cell_type": "code",
   "execution_count": 20,
   "metadata": {
    "collapsed": true
   },
   "outputs": [],
   "source": [
    "# iterate over data convert values to integers where possible\n",
    "for line in player:\n",
    "    for key in line:\n",
    "        try:\n",
    "            line[key] = int(line[key])\n",
    "        except:\n",
    "            pass"
   ]
  },
  {
   "cell_type": "code",
   "execution_count": 21,
   "metadata": {
    "collapsed": true
   },
   "outputs": [],
   "source": [
    "# load data into a DataFrame\n",
    "df = pd.DataFrame(player)"
   ]
  },
  {
   "cell_type": "code",
   "execution_count": 22,
   "metadata": {
    "collapsed": true
   },
   "outputs": [],
   "source": [
    "# convert column names to lowercase\n",
    "df.columns = df.columns.str.lower()"
   ]
  },
  {
   "cell_type": "code",
   "execution_count": 23,
   "metadata": {},
   "outputs": [
    {
     "data": {
      "text/html": [
       "<div>\n",
       "<style>\n",
       "    .dataframe thead tr:only-child th {\n",
       "        text-align: right;\n",
       "    }\n",
       "\n",
       "    .dataframe thead th {\n",
       "        text-align: left;\n",
       "    }\n",
       "\n",
       "    .dataframe tbody tr th {\n",
       "        vertical-align: top;\n",
       "    }\n",
       "</style>\n",
       "<table border=\"1\" class=\"dataframe\">\n",
       "  <thead>\n",
       "    <tr style=\"text-align: right;\">\n",
       "      <th></th>\n",
       "      <th>arm</th>\n",
       "      <th>changeup</th>\n",
       "      <th>control</th>\n",
       "      <th>curve</th>\n",
       "      <th>curveball</th>\n",
       "      <th>cutter</th>\n",
       "      <th>cuverball</th>\n",
       "      <th>defense</th>\n",
       "      <th>fastball</th>\n",
       "      <th>field</th>\n",
       "      <th>...</th>\n",
       "      <th>positions</th>\n",
       "      <th>preseason100</th>\n",
       "      <th>preseason20</th>\n",
       "      <th>school</th>\n",
       "      <th>signed</th>\n",
       "      <th>team_file_code</th>\n",
       "      <th>thrw</th>\n",
       "      <th>twitter</th>\n",
       "      <th>weight</th>\n",
       "      <th>year</th>\n",
       "    </tr>\n",
       "  </thead>\n",
       "  <tbody>\n",
       "    <tr>\n",
       "      <th>0</th>\n",
       "      <td>60.0</td>\n",
       "      <td>NaN</td>\n",
       "      <td>NaN</td>\n",
       "      <td>NaN</td>\n",
       "      <td>NaN</td>\n",
       "      <td>NaN</td>\n",
       "      <td>NaN</td>\n",
       "      <td>NaN</td>\n",
       "      <td>NaN</td>\n",
       "      <td>55.0</td>\n",
       "      <td>...</td>\n",
       "      <td>SS</td>\n",
       "      <td>8</td>\n",
       "      <td>1</td>\n",
       "      <td></td>\n",
       "      <td>July 2, 2015 - CWS</td>\n",
       "      <td>SD</td>\n",
       "      <td></td>\n",
       "      <td>tatis_jr</td>\n",
       "      <td></td>\n",
       "      <td></td>\n",
       "    </tr>\n",
       "    <tr>\n",
       "      <th>1</th>\n",
       "      <td>NaN</td>\n",
       "      <td>55.0</td>\n",
       "      <td>55.0</td>\n",
       "      <td>NaN</td>\n",
       "      <td>60.0</td>\n",
       "      <td>NaN</td>\n",
       "      <td>NaN</td>\n",
       "      <td>NaN</td>\n",
       "      <td>65.0</td>\n",
       "      <td>NaN</td>\n",
       "      <td>...</td>\n",
       "      <td>LHP</td>\n",
       "      <td>19</td>\n",
       "      <td>2</td>\n",
       "      <td></td>\n",
       "      <td></td>\n",
       "      <td>SD</td>\n",
       "      <td></td>\n",
       "      <td>mgore181</td>\n",
       "      <td></td>\n",
       "      <td></td>\n",
       "    </tr>\n",
       "    <tr>\n",
       "      <th>2</th>\n",
       "      <td>55.0</td>\n",
       "      <td>NaN</td>\n",
       "      <td>NaN</td>\n",
       "      <td>NaN</td>\n",
       "      <td>NaN</td>\n",
       "      <td>NaN</td>\n",
       "      <td>NaN</td>\n",
       "      <td>NaN</td>\n",
       "      <td>NaN</td>\n",
       "      <td>60.0</td>\n",
       "      <td>...</td>\n",
       "      <td>2B/SS</td>\n",
       "      <td>36</td>\n",
       "      <td>3</td>\n",
       "      <td></td>\n",
       "      <td>Dec. 27, 2013 - SD</td>\n",
       "      <td>SD</td>\n",
       "      <td></td>\n",
       "      <td>luisurias03</td>\n",
       "      <td></td>\n",
       "      <td></td>\n",
       "    </tr>\n",
       "    <tr>\n",
       "      <th>3</th>\n",
       "      <td>NaN</td>\n",
       "      <td>65.0</td>\n",
       "      <td>55.0</td>\n",
       "      <td>NaN</td>\n",
       "      <td>50.0</td>\n",
       "      <td>NaN</td>\n",
       "      <td>NaN</td>\n",
       "      <td>NaN</td>\n",
       "      <td>60.0</td>\n",
       "      <td>NaN</td>\n",
       "      <td>...</td>\n",
       "      <td>RHP</td>\n",
       "      <td>40</td>\n",
       "      <td>4</td>\n",
       "      <td></td>\n",
       "      <td></td>\n",
       "      <td>SD</td>\n",
       "      <td></td>\n",
       "      <td>cal_quantrill47</td>\n",
       "      <td></td>\n",
       "      <td></td>\n",
       "    </tr>\n",
       "    <tr>\n",
       "      <th>4</th>\n",
       "      <td>NaN</td>\n",
       "      <td>55.0</td>\n",
       "      <td>50.0</td>\n",
       "      <td>NaN</td>\n",
       "      <td>50.0</td>\n",
       "      <td>NaN</td>\n",
       "      <td>NaN</td>\n",
       "      <td>NaN</td>\n",
       "      <td>70.0</td>\n",
       "      <td>NaN</td>\n",
       "      <td>...</td>\n",
       "      <td>RHP</td>\n",
       "      <td>42</td>\n",
       "      <td>5</td>\n",
       "      <td></td>\n",
       "      <td>Dec. 19, 2016 - SD</td>\n",
       "      <td>SD</td>\n",
       "      <td></td>\n",
       "      <td>BaezCruz1</td>\n",
       "      <td></td>\n",
       "      <td></td>\n",
       "    </tr>\n",
       "  </tbody>\n",
       "</table>\n",
       "<p>5 rows × 38 columns</p>\n",
       "</div>"
      ],
      "text/plain": [
       "    arm  changeup  control  curve  curveball  cutter  cuverball  defense  \\\n",
       "0  60.0       NaN      NaN    NaN        NaN     NaN        NaN      NaN   \n",
       "1   NaN      55.0     55.0    NaN       60.0     NaN        NaN      NaN   \n",
       "2  55.0       NaN      NaN    NaN        NaN     NaN        NaN      NaN   \n",
       "3   NaN      65.0     55.0    NaN       50.0     NaN        NaN      NaN   \n",
       "4   NaN      55.0     50.0    NaN       50.0     NaN        NaN      NaN   \n",
       "\n",
       "   fastball  field ...   positions  preseason100  preseason20  school  \\\n",
       "0       NaN   55.0 ...          SS             8            1           \n",
       "1      65.0    NaN ...         LHP            19            2           \n",
       "2       NaN   60.0 ...       2B/SS            36            3           \n",
       "3      60.0    NaN ...         RHP            40            4           \n",
       "4      70.0    NaN ...         RHP            42            5           \n",
       "\n",
       "               signed  team_file_code  thrw          twitter  weight year  \n",
       "0  July 2, 2015 - CWS              SD               tatis_jr               \n",
       "1                                  SD               mgore181               \n",
       "2  Dec. 27, 2013 - SD              SD            luisurias03               \n",
       "3                                  SD        cal_quantrill47               \n",
       "4  Dec. 19, 2016 - SD              SD              BaezCruz1               \n",
       "\n",
       "[5 rows x 38 columns]"
      ]
     },
     "execution_count": 23,
     "metadata": {},
     "output_type": "execute_result"
    }
   ],
   "source": [
    "# inspect the DataFrame\n",
    "df.head()"
   ]
  },
  {
   "cell_type": "markdown",
   "metadata": {},
   "source": [
    "# Export Data"
   ]
  },
  {
   "cell_type": "code",
   "execution_count": 24,
   "metadata": {
    "collapsed": true
   },
   "outputs": [],
   "source": [
    "# write the dataframe to CSV\n",
    "df.to_csv(\"2018_mlb_prospect_players.csv\", index=False)"
   ]
  },
  {
   "cell_type": "code",
   "execution_count": null,
   "metadata": {
    "collapsed": true
   },
   "outputs": [],
   "source": []
  }
 ],
 "metadata": {
  "kernelspec": {
   "display_name": "Python 3",
   "language": "python",
   "name": "python3"
  },
  "language_info": {
   "codemirror_mode": {
    "name": "ipython",
    "version": 3
   },
   "file_extension": ".py",
   "mimetype": "text/x-python",
   "name": "python",
   "nbconvert_exporter": "python",
   "pygments_lexer": "ipython3",
   "version": "3.5.4"
  }
 },
 "nbformat": 4,
 "nbformat_minor": 2
}
