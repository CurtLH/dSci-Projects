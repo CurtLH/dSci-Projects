{
 "cells": [
  {
   "cell_type": "code",
   "execution_count": 1,
   "metadata": {
    "collapsed": true
   },
   "outputs": [],
   "source": [
    "import json\n",
    "from pprint import pprint\n",
    "import pandas as pd"
   ]
  },
  {
   "cell_type": "code",
   "execution_count": 2,
   "metadata": {},
   "outputs": [
    {
     "name": "stdout",
     "output_type": "stream",
     "text": [
      "Populating the interactive namespace from numpy and matplotlib\n"
     ]
    }
   ],
   "source": [
    "%pylab inline"
   ]
  },
  {
   "cell_type": "code",
   "execution_count": 3,
   "metadata": {
    "collapsed": true
   },
   "outputs": [],
   "source": [
    "# set the default plot size\n",
    "pylab.rcParams['figure.figsize'] = (12, 6)"
   ]
  },
  {
   "cell_type": "code",
   "execution_count": 4,
   "metadata": {
    "collapsed": true
   },
   "outputs": [],
   "source": [
    "# load json data\n",
    "with open('mlb_top_100.json') as json_data:\n",
    "    data = json.load(json_data)"
   ]
  },
  {
   "cell_type": "code",
   "execution_count": 5,
   "metadata": {},
   "outputs": [
    {
     "data": {
      "text/plain": [
       "99"
      ]
     },
     "execution_count": 5,
     "metadata": {},
     "output_type": "execute_result"
    }
   ],
   "source": [
    "# how many records are there?\n",
    "len(data)"
   ]
  },
  {
   "cell_type": "code",
   "execution_count": 6,
   "metadata": {},
   "outputs": [
    {
     "data": {
      "text/plain": [
       "dict_keys(['team_file_code', 'signed', 'preseason100', 'twitter', 'weight', 'drafted', 'positions', 'player_first_name', 'height', 'thrw', 'eta', 'school', 'year', 'birthdate', 'player_last_name', 'content', 'player_id', 'bats', 'preseason20'])"
      ]
     },
     "execution_count": 6,
     "metadata": {},
     "output_type": "execute_result"
    }
   ],
   "source": [
    "# look at the dictionary keys in the first record\n",
    "data[0].keys()"
   ]
  },
  {
   "cell_type": "code",
   "execution_count": 7,
   "metadata": {},
   "outputs": [
    {
     "name": "stdout",
     "output_type": "stream",
     "text": [
      "{'bats': '',\n",
      " 'birthdate': '',\n",
      " 'content': {'default': '<b>Scouting grades:</b> Fastball: 65 | Curveball: 60 '\n",
      "                        '| Changeup: 50 | Control: 50 | Overall: 55\\n'\n",
      "                        '\\n'\n",
      "                        '<p>The son of a former NBA player, Manning was a '\n",
      "                        'two-sport star who could have gone on to play both '\n",
      "                        'sports at Loyola-Marymount, and when the Tigers went '\n",
      "                        'slightly above pick value to sign him away from that '\n",
      "                        'commitment, they knew Manning might be a bit of a '\n",
      "                        'project. The Tigers have proceeded with '\n",
      "                        'understandable caution, holding the 6-foot-6 '\n",
      "                        'right-hander back in extended Spring Training to '\n",
      "                        'start his first full year of pro ball. He eventually '\n",
      "                        'pitched his way from short-season Connecticut to '\n",
      "                        'full-season West Michigan, capping his season off '\n",
      "                        'with a 10-strikeout performance in the Midwest League '\n",
      "                        'playoffs.\\n'\n",
      "                        '\\n'\n",
      "                        '<p>Manning has as much, if not more, upside than any '\n",
      "                        'pitcher in the Tigers system, but he also might have '\n",
      "                        'the farthest to go to reach it. As he works to refine '\n",
      "                        'his delivery, his command and velocity has '\n",
      "                        \"fluctuated. When he's in sync, he's easily in the \"\n",
      "                        'low-90s with the ability to touch 95-96 mph with '\n",
      "                        \"ease. It's easy to dream on more consistent velocity \"\n",
      "                        'as he figures things out. His power curve has the '\n",
      "                        'chance to be a plus pitch in the future, and while '\n",
      "                        \"his changeup lags behind, he's shown some feel for it \"\n",
      "                        'and it should give him a third at-least-average '\n",
      "                        'offering at his disposal.\\n'\n",
      "                        '\\n'\n",
      "                        \"<p>Manning's command fluctuated largely because of \"\n",
      "                        'mechanical flaws, which his athleticism should help '\n",
      "                        \"him iron out as he progresses. It's going to take \"\n",
      "                        'time, but the end product could very well be a '\n",
      "                        'frontline starter.',\n",
      "             'photo': '/assets/images/6/3/6/264080636/cuts/254x350/cut.jpg',\n",
      "             'photo180x218': '/assets/images/6/3/6/264080636/cuts/180x218/cut.jpg',\n",
      "             'photo360x436': '/assets/images/6/3/6/264080636/cuts/360x436/cut.jpg',\n",
      "             'position': '<b>Scouting grades:</b> Fastball: 65 | Curveball: 60 '\n",
      "                         '| Changeup: 50 | Control: 50 | Overall: 55\\n'\n",
      "                         '\\n'\n",
      "                         '<p>The son of a former NBA player, Manning was a '\n",
      "                         'two-sport star who could have gone on to play both '\n",
      "                         'sports at Loyola-Marymount, and when the Tigers went '\n",
      "                         'slightly above pick value to sign him away from that '\n",
      "                         'commitment, they knew Manning might be a bit of a '\n",
      "                         'project. The Tigers have proceeded with '\n",
      "                         'understandable caution, holding the 6-foot-6 '\n",
      "                         'right-hander back in extended Spring Training to '\n",
      "                         'start his first full year of pro ball. He eventually '\n",
      "                         'pitched his way from short-season Connecticut to '\n",
      "                         'full-season West Michigan, capping his season off '\n",
      "                         'with a 10-strikeout performance in the Midwest '\n",
      "                         'League playoffs.\\n'\n",
      "                         '\\n'\n",
      "                         '<p>Manning has as much, if not more, upside than any '\n",
      "                         'pitcher in the Tigers system, but he also might have '\n",
      "                         'the farthest to go to reach it. As he works to '\n",
      "                         'refine his delivery, his command and velocity has '\n",
      "                         \"fluctuated. When he's in sync, he's easily in the \"\n",
      "                         'low-90s with the ability to touch 95-96 mph with '\n",
      "                         \"ease. It's easy to dream on more consistent velocity \"\n",
      "                         'as he figures things out. His power curve has the '\n",
      "                         'chance to be a plus pitch in the future, and while '\n",
      "                         \"his changeup lags behind, he's shown some feel for \"\n",
      "                         'it and it should give him a third at-least-average '\n",
      "                         'offering at his disposal.\\n'\n",
      "                         '\\n'\n",
      "                         \"<p>Manning's command fluctuated largely because of \"\n",
      "                         'mechanical flaws, which his athleticism should help '\n",
      "                         \"him iron out as he progresses. It's going to take \"\n",
      "                         'time, but the end product could very well be a '\n",
      "                         'frontline starter.',\n",
      "             'prospect_vid': '1872837583',\n",
      "             'team': '<b>Scouting grades:</b> Fastball: 65 | Curveball: 60 | '\n",
      "                     'Changeup: 50 | Control: 50 | Overall: 55\\n'\n",
      "                     '\\n'\n",
      "                     '<p>The son of a former NBA player, Manning was a '\n",
      "                     'two-sport star who could have gone on to play both '\n",
      "                     'sports at Loyola-Marymount, and when the Tigers went '\n",
      "                     'slightly above pick value to sign him away from that '\n",
      "                     'commitment, they knew Manning might be a bit of a '\n",
      "                     'project. The Tigers have proceeded with understandable '\n",
      "                     'caution, holding the 6-foot-6 right-hander back in '\n",
      "                     'extended Spring Training to start his first full year of '\n",
      "                     'pro ball. He eventually pitched his way from '\n",
      "                     'short-season Connecticut to full-season West Michigan, '\n",
      "                     'capping his season off with a 10-strikeout performance '\n",
      "                     'in the Midwest League playoffs.\\n'\n",
      "                     '\\n'\n",
      "                     '<p>Manning has as much, if not more, upside than any '\n",
      "                     'pitcher in the Tigers system, but he also might have the '\n",
      "                     'farthest to go to reach it. As he works to refine his '\n",
      "                     'delivery, his command and velocity has fluctuated. When '\n",
      "                     \"he's in sync, he's easily in the low-90s with the \"\n",
      "                     \"ability to touch 95-96 mph with ease. It's easy to dream \"\n",
      "                     'on more consistent velocity as he figures things out. '\n",
      "                     'His power curve has the chance to be a plus pitch in the '\n",
      "                     \"future, and while his changeup lags behind, he's shown \"\n",
      "                     'some feel for it and it should give him a third '\n",
      "                     'at-least-average offering at his disposal.\\n'\n",
      "                     '\\n'\n",
      "                     \"<p>Manning's command fluctuated largely because of \"\n",
      "                     'mechanical flaws, which his athleticism should help him '\n",
      "                     \"iron out as he progresses. It's going to take time, but \"\n",
      "                     'the end product could very well be a frontline starter.',\n",
      "             'thumb': '/assets/images/6/3/6/264080636/cuts/74x74/cut.jpg',\n",
      "             'thumb124x150': '/assets/images/6/3/6/264080636/cuts/124x150/cut.jpg',\n",
      "             'thumb62x75': '/assets/images/6/3/6/264080636/cuts/62x75/cut.jpg'},\n",
      " 'drafted': '2016, 1st (9) - DET',\n",
      " 'eta': 2020,\n",
      " 'height': '',\n",
      " 'player_first_name': 'Matt',\n",
      " 'player_id': 666159,\n",
      " 'player_last_name': 'Manning',\n",
      " 'positions': 'RHP',\n",
      " 'preseason100': '',\n",
      " 'preseason20': '',\n",
      " 'school': '',\n",
      " 'signed': '',\n",
      " 'team_file_code': 'DET',\n",
      " 'thrw': '',\n",
      " 'twitter': 'MattManning19',\n",
      " 'weight': '',\n",
      " 'year': ''}\n"
     ]
    }
   ],
   "source": [
    "# inspect one record\n",
    "pprint(data[0])"
   ]
  },
  {
   "cell_type": "code",
   "execution_count": 8,
   "metadata": {},
   "outputs": [],
   "source": [
    "# iterate over data and clean up the content\n",
    "for line in data:\n",
    "    \n",
    "    # remove newline delimiter\n",
    "    bio = line['content']['default'].replace('\\n', '')\n",
    "    \n",
    "    # conform scouting grades\n",
    "    bio = bio.replace('<b>Scouting grades:</b>', 'Scouting Grades')\n",
    "    bio = bio.replace('<b>Scouting grades</b>:', 'Scouting Grades')\n",
    "    bio = bio.replace('<b>Scouting Grades:</b>', 'Scouting Grades')\n",
    "    \n",
    "    # split the bio on paragraph tag\n",
    "    bio = bio.split('<p>')\n",
    "    \n",
    "    # create a new key to hold bio\n",
    "    line['bio'] = bio"
   ]
  },
  {
   "cell_type": "code",
   "execution_count": 9,
   "metadata": {},
   "outputs": [
    {
     "name": "stdout",
     "output_type": "stream",
     "text": [
      "['Scouting Grades Fastball: 65 | Curveball: 60 | Changeup: 50 | Control: 50 | '\n",
      " 'Overall: 55',\n",
      " 'The son of a former NBA player, Manning was a two-sport star who could have '\n",
      " 'gone on to play both sports at Loyola-Marymount, and when the Tigers went '\n",
      " 'slightly above pick value to sign him away from that commitment, they knew '\n",
      " 'Manning might be a bit of a project. The Tigers have proceeded with '\n",
      " 'understandable caution, holding the 6-foot-6 right-hander back in extended '\n",
      " 'Spring Training to start his first full year of pro ball. He eventually '\n",
      " 'pitched his way from short-season Connecticut to full-season West Michigan, '\n",
      " 'capping his season off with a 10-strikeout performance in the Midwest League '\n",
      " 'playoffs.',\n",
      " 'Manning has as much, if not more, upside than any pitcher in the Tigers '\n",
      " 'system, but he also might have the farthest to go to reach it. As he works '\n",
      " \"to refine his delivery, his command and velocity has fluctuated. When he's \"\n",
      " \"in sync, he's easily in the low-90s with the ability to touch 95-96 mph with \"\n",
      " \"ease. It's easy to dream on more consistent velocity as he figures things \"\n",
      " 'out. His power curve has the chance to be a plus pitch in the future, and '\n",
      " \"while his changeup lags behind, he's shown some feel for it and it should \"\n",
      " 'give him a third at-least-average offering at his disposal.',\n",
      " \"Manning's command fluctuated largely because of mechanical flaws, which his \"\n",
      " \"athleticism should help him iron out as he progresses. It's going to take \"\n",
      " 'time, but the end product could very well be a frontline starter.']\n"
     ]
    }
   ],
   "source": [
    "# inspect the new bio \n",
    "pprint(data[0]['bio'])"
   ]
  },
  {
   "cell_type": "code",
   "execution_count": 10,
   "metadata": {},
   "outputs": [],
   "source": [
    "# iterate over data and extract scouting grades into new keys\n",
    "for line in data:\n",
    "    \n",
    "    # create an empty container to hold non-scouting grades\n",
    "    bio = []\n",
    "    \n",
    "    # iterate over the bio key specifically\n",
    "    for item in line['bio']:\n",
    "    \n",
    "        # get the line that starts with scouting grades\n",
    "        if item.startswith('Scouting Grades'):\n",
    "\n",
    "            # remove the beginning of the sententce\n",
    "            grades = item.replace('Scouting Grades', '')\n",
    "\n",
    "            # split in seperate metrics\n",
    "            metrics = grades.split('|')\n",
    "\n",
    "            # iterate over the metrics\n",
    "            for i in metrics:\n",
    "\n",
    "                # seperate the metric from the value\n",
    "                value = i.split(':')\n",
    "\n",
    "                # add metrics and values as new keys/values\n",
    "                line[value[0].strip()] = value[1].strip()\n",
    "                \n",
    "        # if it's not a scouting grade...\n",
    "        else:\n",
    "            \n",
    "            # add to bio\n",
    "            bio.append(item)\n",
    "            \n",
    "    # join the bio text into one string\n",
    "    line['bio'] = ''.join(bio)"
   ]
  },
  {
   "cell_type": "code",
   "execution_count": 11,
   "metadata": {},
   "outputs": [
    {
     "name": "stdout",
     "output_type": "stream",
     "text": [
      "{'Changeup': '50',\n",
      " 'Control': '50',\n",
      " 'Curveball': '60',\n",
      " 'Fastball': '65',\n",
      " 'Overall': '55',\n",
      " 'bats': '',\n",
      " 'bio': 'The son of a former NBA player, Manning was a two-sport star who '\n",
      "        'could have gone on to play both sports at Loyola-Marymount, and when '\n",
      "        'the Tigers went slightly above pick value to sign him away from that '\n",
      "        'commitment, they knew Manning might be a bit of a project. The Tigers '\n",
      "        'have proceeded with understandable caution, holding the 6-foot-6 '\n",
      "        'right-hander back in extended Spring Training to start his first full '\n",
      "        'year of pro ball. He eventually pitched his way from short-season '\n",
      "        'Connecticut to full-season West Michigan, capping his season off with '\n",
      "        'a 10-strikeout performance in the Midwest League playoffs.Manning has '\n",
      "        'as much, if not more, upside than any pitcher in the Tigers system, '\n",
      "        'but he also might have the farthest to go to reach it. As he works to '\n",
      "        'refine his delivery, his command and velocity has fluctuated. When '\n",
      "        \"he's in sync, he's easily in the low-90s with the ability to touch \"\n",
      "        \"95-96 mph with ease. It's easy to dream on more consistent velocity \"\n",
      "        'as he figures things out. His power curve has the chance to be a plus '\n",
      "        \"pitch in the future, and while his changeup lags behind, he's shown \"\n",
      "        'some feel for it and it should give him a third at-least-average '\n",
      "        \"offering at his disposal.Manning's command fluctuated largely because \"\n",
      "        'of mechanical flaws, which his athleticism should help him iron out '\n",
      "        \"as he progresses. It's going to take time, but the end product could \"\n",
      "        'very well be a frontline starter.',\n",
      " 'birthdate': '',\n",
      " 'content': {'default': '<b>Scouting grades:</b> Fastball: 65 | Curveball: 60 '\n",
      "                        '| Changeup: 50 | Control: 50 | Overall: 55\\n'\n",
      "                        '\\n'\n",
      "                        '<p>The son of a former NBA player, Manning was a '\n",
      "                        'two-sport star who could have gone on to play both '\n",
      "                        'sports at Loyola-Marymount, and when the Tigers went '\n",
      "                        'slightly above pick value to sign him away from that '\n",
      "                        'commitment, they knew Manning might be a bit of a '\n",
      "                        'project. The Tigers have proceeded with '\n",
      "                        'understandable caution, holding the 6-foot-6 '\n",
      "                        'right-hander back in extended Spring Training to '\n",
      "                        'start his first full year of pro ball. He eventually '\n",
      "                        'pitched his way from short-season Connecticut to '\n",
      "                        'full-season West Michigan, capping his season off '\n",
      "                        'with a 10-strikeout performance in the Midwest League '\n",
      "                        'playoffs.\\n'\n",
      "                        '\\n'\n",
      "                        '<p>Manning has as much, if not more, upside than any '\n",
      "                        'pitcher in the Tigers system, but he also might have '\n",
      "                        'the farthest to go to reach it. As he works to refine '\n",
      "                        'his delivery, his command and velocity has '\n",
      "                        \"fluctuated. When he's in sync, he's easily in the \"\n",
      "                        'low-90s with the ability to touch 95-96 mph with '\n",
      "                        \"ease. It's easy to dream on more consistent velocity \"\n",
      "                        'as he figures things out. His power curve has the '\n",
      "                        'chance to be a plus pitch in the future, and while '\n",
      "                        \"his changeup lags behind, he's shown some feel for it \"\n",
      "                        'and it should give him a third at-least-average '\n",
      "                        'offering at his disposal.\\n'\n",
      "                        '\\n'\n",
      "                        \"<p>Manning's command fluctuated largely because of \"\n",
      "                        'mechanical flaws, which his athleticism should help '\n",
      "                        \"him iron out as he progresses. It's going to take \"\n",
      "                        'time, but the end product could very well be a '\n",
      "                        'frontline starter.',\n",
      "             'photo': '/assets/images/6/3/6/264080636/cuts/254x350/cut.jpg',\n",
      "             'photo180x218': '/assets/images/6/3/6/264080636/cuts/180x218/cut.jpg',\n",
      "             'photo360x436': '/assets/images/6/3/6/264080636/cuts/360x436/cut.jpg',\n",
      "             'position': '<b>Scouting grades:</b> Fastball: 65 | Curveball: 60 '\n",
      "                         '| Changeup: 50 | Control: 50 | Overall: 55\\n'\n",
      "                         '\\n'\n",
      "                         '<p>The son of a former NBA player, Manning was a '\n",
      "                         'two-sport star who could have gone on to play both '\n",
      "                         'sports at Loyola-Marymount, and when the Tigers went '\n",
      "                         'slightly above pick value to sign him away from that '\n",
      "                         'commitment, they knew Manning might be a bit of a '\n",
      "                         'project. The Tigers have proceeded with '\n",
      "                         'understandable caution, holding the 6-foot-6 '\n",
      "                         'right-hander back in extended Spring Training to '\n",
      "                         'start his first full year of pro ball. He eventually '\n",
      "                         'pitched his way from short-season Connecticut to '\n",
      "                         'full-season West Michigan, capping his season off '\n",
      "                         'with a 10-strikeout performance in the Midwest '\n",
      "                         'League playoffs.\\n'\n",
      "                         '\\n'\n",
      "                         '<p>Manning has as much, if not more, upside than any '\n",
      "                         'pitcher in the Tigers system, but he also might have '\n",
      "                         'the farthest to go to reach it. As he works to '\n",
      "                         'refine his delivery, his command and velocity has '\n",
      "                         \"fluctuated. When he's in sync, he's easily in the \"\n",
      "                         'low-90s with the ability to touch 95-96 mph with '\n",
      "                         \"ease. It's easy to dream on more consistent velocity \"\n",
      "                         'as he figures things out. His power curve has the '\n",
      "                         'chance to be a plus pitch in the future, and while '\n",
      "                         \"his changeup lags behind, he's shown some feel for \"\n",
      "                         'it and it should give him a third at-least-average '\n",
      "                         'offering at his disposal.\\n'\n",
      "                         '\\n'\n",
      "                         \"<p>Manning's command fluctuated largely because of \"\n",
      "                         'mechanical flaws, which his athleticism should help '\n",
      "                         \"him iron out as he progresses. It's going to take \"\n",
      "                         'time, but the end product could very well be a '\n",
      "                         'frontline starter.',\n",
      "             'prospect_vid': '1872837583',\n",
      "             'team': '<b>Scouting grades:</b> Fastball: 65 | Curveball: 60 | '\n",
      "                     'Changeup: 50 | Control: 50 | Overall: 55\\n'\n",
      "                     '\\n'\n",
      "                     '<p>The son of a former NBA player, Manning was a '\n",
      "                     'two-sport star who could have gone on to play both '\n",
      "                     'sports at Loyola-Marymount, and when the Tigers went '\n",
      "                     'slightly above pick value to sign him away from that '\n",
      "                     'commitment, they knew Manning might be a bit of a '\n",
      "                     'project. The Tigers have proceeded with understandable '\n",
      "                     'caution, holding the 6-foot-6 right-hander back in '\n",
      "                     'extended Spring Training to start his first full year of '\n",
      "                     'pro ball. He eventually pitched his way from '\n",
      "                     'short-season Connecticut to full-season West Michigan, '\n",
      "                     'capping his season off with a 10-strikeout performance '\n",
      "                     'in the Midwest League playoffs.\\n'\n",
      "                     '\\n'\n",
      "                     '<p>Manning has as much, if not more, upside than any '\n",
      "                     'pitcher in the Tigers system, but he also might have the '\n",
      "                     'farthest to go to reach it. As he works to refine his '\n",
      "                     'delivery, his command and velocity has fluctuated. When '\n",
      "                     \"he's in sync, he's easily in the low-90s with the \"\n",
      "                     \"ability to touch 95-96 mph with ease. It's easy to dream \"\n",
      "                     'on more consistent velocity as he figures things out. '\n",
      "                     'His power curve has the chance to be a plus pitch in the '\n",
      "                     \"future, and while his changeup lags behind, he's shown \"\n",
      "                     'some feel for it and it should give him a third '\n",
      "                     'at-least-average offering at his disposal.\\n'\n",
      "                     '\\n'\n",
      "                     \"<p>Manning's command fluctuated largely because of \"\n",
      "                     'mechanical flaws, which his athleticism should help him '\n",
      "                     \"iron out as he progresses. It's going to take time, but \"\n",
      "                     'the end product could very well be a frontline starter.',\n",
      "             'thumb': '/assets/images/6/3/6/264080636/cuts/74x74/cut.jpg',\n",
      "             'thumb124x150': '/assets/images/6/3/6/264080636/cuts/124x150/cut.jpg',\n",
      "             'thumb62x75': '/assets/images/6/3/6/264080636/cuts/62x75/cut.jpg'},\n",
      " 'drafted': '2016, 1st (9) - DET',\n",
      " 'eta': 2020,\n",
      " 'height': '',\n",
      " 'player_first_name': 'Matt',\n",
      " 'player_id': 666159,\n",
      " 'player_last_name': 'Manning',\n",
      " 'positions': 'RHP',\n",
      " 'preseason100': '',\n",
      " 'preseason20': '',\n",
      " 'school': '',\n",
      " 'signed': '',\n",
      " 'team_file_code': 'DET',\n",
      " 'thrw': '',\n",
      " 'twitter': 'MattManning19',\n",
      " 'weight': '',\n",
      " 'year': ''}\n"
     ]
    }
   ],
   "source": [
    "# inspect one record\n",
    "pprint(data[0])"
   ]
  },
  {
   "cell_type": "code",
   "execution_count": 12,
   "metadata": {
    "collapsed": true
   },
   "outputs": [],
   "source": [
    "# iterate over the data and remove content key now that we have extracted what we want\n",
    "for line in data:\n",
    "    del line['content']"
   ]
  },
  {
   "cell_type": "code",
   "execution_count": 13,
   "metadata": {},
   "outputs": [
    {
     "name": "stdout",
     "output_type": "stream",
     "text": [
      "{'Changeup': '50',\n",
      " 'Control': '50',\n",
      " 'Curveball': '60',\n",
      " 'Fastball': '65',\n",
      " 'Overall': '55',\n",
      " 'bats': '',\n",
      " 'bio': 'The son of a former NBA player, Manning was a two-sport star who '\n",
      "        'could have gone on to play both sports at Loyola-Marymount, and when '\n",
      "        'the Tigers went slightly above pick value to sign him away from that '\n",
      "        'commitment, they knew Manning might be a bit of a project. The Tigers '\n",
      "        'have proceeded with understandable caution, holding the 6-foot-6 '\n",
      "        'right-hander back in extended Spring Training to start his first full '\n",
      "        'year of pro ball. He eventually pitched his way from short-season '\n",
      "        'Connecticut to full-season West Michigan, capping his season off with '\n",
      "        'a 10-strikeout performance in the Midwest League playoffs.Manning has '\n",
      "        'as much, if not more, upside than any pitcher in the Tigers system, '\n",
      "        'but he also might have the farthest to go to reach it. As he works to '\n",
      "        'refine his delivery, his command and velocity has fluctuated. When '\n",
      "        \"he's in sync, he's easily in the low-90s with the ability to touch \"\n",
      "        \"95-96 mph with ease. It's easy to dream on more consistent velocity \"\n",
      "        'as he figures things out. His power curve has the chance to be a plus '\n",
      "        \"pitch in the future, and while his changeup lags behind, he's shown \"\n",
      "        'some feel for it and it should give him a third at-least-average '\n",
      "        \"offering at his disposal.Manning's command fluctuated largely because \"\n",
      "        'of mechanical flaws, which his athleticism should help him iron out '\n",
      "        \"as he progresses. It's going to take time, but the end product could \"\n",
      "        'very well be a frontline starter.',\n",
      " 'birthdate': '',\n",
      " 'drafted': '2016, 1st (9) - DET',\n",
      " 'eta': 2020,\n",
      " 'height': '',\n",
      " 'player_first_name': 'Matt',\n",
      " 'player_id': 666159,\n",
      " 'player_last_name': 'Manning',\n",
      " 'positions': 'RHP',\n",
      " 'preseason100': '',\n",
      " 'preseason20': '',\n",
      " 'school': '',\n",
      " 'signed': '',\n",
      " 'team_file_code': 'DET',\n",
      " 'thrw': '',\n",
      " 'twitter': 'MattManning19',\n",
      " 'weight': '',\n",
      " 'year': ''}\n"
     ]
    }
   ],
   "source": [
    "# inspect one record\n",
    "pprint(data[0])"
   ]
  },
  {
   "cell_type": "code",
   "execution_count": 14,
   "metadata": {
    "collapsed": true
   },
   "outputs": [],
   "source": [
    "# iterate over data convert values to integers where possible\n",
    "for line in data:\n",
    "    for key in line:\n",
    "        try:\n",
    "            line[key] = int(line[key])\n",
    "        except:\n",
    "            pass"
   ]
  },
  {
   "cell_type": "code",
   "execution_count": 15,
   "metadata": {
    "collapsed": true
   },
   "outputs": [],
   "source": [
    "# load data into a DataFrame\n",
    "df = pd.DataFrame(data)"
   ]
  },
  {
   "cell_type": "code",
   "execution_count": 16,
   "metadata": {
    "collapsed": true
   },
   "outputs": [],
   "source": [
    "# convert column names to lowercase\n",
    "df.columns = df.columns.str.lower()"
   ]
  },
  {
   "cell_type": "code",
   "execution_count": 17,
   "metadata": {},
   "outputs": [
    {
     "data": {
      "text/plain": [
       "arm                  float64\n",
       "changeup             float64\n",
       "control              float64\n",
       "curve                float64\n",
       "curveball            float64\n",
       "cutter               float64\n",
       "fastball             float64\n",
       "field                float64\n",
       "hit                  float64\n",
       "overall              float64\n",
       "power                float64\n",
       "run                  float64\n",
       "screwball            float64\n",
       "slider               float64\n",
       "bats                  object\n",
       "bio                   object\n",
       "birthdate             object\n",
       "drafted               object\n",
       "eta                    int64\n",
       "height                object\n",
       "player_first_name     object\n",
       "player_id              int64\n",
       "player_last_name      object\n",
       "positions             object\n",
       "preseason100          object\n",
       "preseason20           object\n",
       "school                object\n",
       "signed                object\n",
       "team_file_code        object\n",
       "thrw                  object\n",
       "twitter               object\n",
       "weight                object\n",
       "year                  object\n",
       "dtype: object"
      ]
     },
     "execution_count": 17,
     "metadata": {},
     "output_type": "execute_result"
    }
   ],
   "source": [
    "# inspect the data types\n",
    "df.dtypes"
   ]
  },
  {
   "cell_type": "code",
   "execution_count": 18,
   "metadata": {},
   "outputs": [
    {
     "data": {
      "text/html": [
       "<div>\n",
       "<style>\n",
       "    .dataframe thead tr:only-child th {\n",
       "        text-align: right;\n",
       "    }\n",
       "\n",
       "    .dataframe thead th {\n",
       "        text-align: left;\n",
       "    }\n",
       "\n",
       "    .dataframe tbody tr th {\n",
       "        vertical-align: top;\n",
       "    }\n",
       "</style>\n",
       "<table border=\"1\" class=\"dataframe\">\n",
       "  <thead>\n",
       "    <tr style=\"text-align: right;\">\n",
       "      <th></th>\n",
       "      <th>arm</th>\n",
       "      <th>changeup</th>\n",
       "      <th>control</th>\n",
       "      <th>curve</th>\n",
       "      <th>curveball</th>\n",
       "      <th>cutter</th>\n",
       "      <th>fastball</th>\n",
       "      <th>field</th>\n",
       "      <th>hit</th>\n",
       "      <th>overall</th>\n",
       "      <th>...</th>\n",
       "      <th>positions</th>\n",
       "      <th>preseason100</th>\n",
       "      <th>preseason20</th>\n",
       "      <th>school</th>\n",
       "      <th>signed</th>\n",
       "      <th>team_file_code</th>\n",
       "      <th>thrw</th>\n",
       "      <th>twitter</th>\n",
       "      <th>weight</th>\n",
       "      <th>year</th>\n",
       "    </tr>\n",
       "  </thead>\n",
       "  <tbody>\n",
       "    <tr>\n",
       "      <th>0</th>\n",
       "      <td>NaN</td>\n",
       "      <td>50.0</td>\n",
       "      <td>50.0</td>\n",
       "      <td>NaN</td>\n",
       "      <td>60.0</td>\n",
       "      <td>NaN</td>\n",
       "      <td>65.0</td>\n",
       "      <td>NaN</td>\n",
       "      <td>NaN</td>\n",
       "      <td>55.0</td>\n",
       "      <td>...</td>\n",
       "      <td>RHP</td>\n",
       "      <td></td>\n",
       "      <td></td>\n",
       "      <td></td>\n",
       "      <td></td>\n",
       "      <td>DET</td>\n",
       "      <td></td>\n",
       "      <td>MattManning19</td>\n",
       "      <td></td>\n",
       "      <td></td>\n",
       "    </tr>\n",
       "    <tr>\n",
       "      <th>1</th>\n",
       "      <td>50.0</td>\n",
       "      <td>NaN</td>\n",
       "      <td>NaN</td>\n",
       "      <td>NaN</td>\n",
       "      <td>NaN</td>\n",
       "      <td>NaN</td>\n",
       "      <td>NaN</td>\n",
       "      <td>55.0</td>\n",
       "      <td>55.0</td>\n",
       "      <td>55.0</td>\n",
       "      <td>...</td>\n",
       "      <td>OF</td>\n",
       "      <td></td>\n",
       "      <td></td>\n",
       "      <td></td>\n",
       "      <td></td>\n",
       "      <td>PHI</td>\n",
       "      <td></td>\n",
       "      <td>adamhaseley7</td>\n",
       "      <td></td>\n",
       "      <td></td>\n",
       "    </tr>\n",
       "    <tr>\n",
       "      <th>2</th>\n",
       "      <td>70.0</td>\n",
       "      <td>NaN</td>\n",
       "      <td>NaN</td>\n",
       "      <td>NaN</td>\n",
       "      <td>NaN</td>\n",
       "      <td>NaN</td>\n",
       "      <td>NaN</td>\n",
       "      <td>70.0</td>\n",
       "      <td>60.0</td>\n",
       "      <td>65.0</td>\n",
       "      <td>...</td>\n",
       "      <td>OF</td>\n",
       "      <td>6</td>\n",
       "      <td>1</td>\n",
       "      <td></td>\n",
       "      <td>July 2, 2013 - WSH</td>\n",
       "      <td>WAS</td>\n",
       "      <td></td>\n",
       "      <td></td>\n",
       "      <td></td>\n",
       "      <td></td>\n",
       "    </tr>\n",
       "    <tr>\n",
       "      <th>3</th>\n",
       "      <td>50.0</td>\n",
       "      <td>NaN</td>\n",
       "      <td>NaN</td>\n",
       "      <td>NaN</td>\n",
       "      <td>NaN</td>\n",
       "      <td>NaN</td>\n",
       "      <td>NaN</td>\n",
       "      <td>45.0</td>\n",
       "      <td>60.0</td>\n",
       "      <td>65.0</td>\n",
       "      <td>...</td>\n",
       "      <td>OF</td>\n",
       "      <td></td>\n",
       "      <td></td>\n",
       "      <td></td>\n",
       "      <td>Aug. 1, 2013 - CHC</td>\n",
       "      <td>CWS</td>\n",
       "      <td></td>\n",
       "      <td>Lamantha21</td>\n",
       "      <td></td>\n",
       "      <td></td>\n",
       "    </tr>\n",
       "    <tr>\n",
       "      <th>4</th>\n",
       "      <td>NaN</td>\n",
       "      <td>60.0</td>\n",
       "      <td>55.0</td>\n",
       "      <td>NaN</td>\n",
       "      <td>50.0</td>\n",
       "      <td>NaN</td>\n",
       "      <td>55.0</td>\n",
       "      <td>NaN</td>\n",
       "      <td>NaN</td>\n",
       "      <td>55.0</td>\n",
       "      <td>...</td>\n",
       "      <td>LHP</td>\n",
       "      <td></td>\n",
       "      <td></td>\n",
       "      <td></td>\n",
       "      <td></td>\n",
       "      <td>MIN</td>\n",
       "      <td></td>\n",
       "      <td>TheSGonsalves</td>\n",
       "      <td></td>\n",
       "      <td></td>\n",
       "    </tr>\n",
       "  </tbody>\n",
       "</table>\n",
       "<p>5 rows × 33 columns</p>\n",
       "</div>"
      ],
      "text/plain": [
       "    arm  changeup  control  curve  curveball  cutter  fastball  field   hit  \\\n",
       "0   NaN      50.0     50.0    NaN       60.0     NaN      65.0    NaN   NaN   \n",
       "1  50.0       NaN      NaN    NaN        NaN     NaN       NaN   55.0  55.0   \n",
       "2  70.0       NaN      NaN    NaN        NaN     NaN       NaN   70.0  60.0   \n",
       "3  50.0       NaN      NaN    NaN        NaN     NaN       NaN   45.0  60.0   \n",
       "4   NaN      60.0     55.0    NaN       50.0     NaN      55.0    NaN   NaN   \n",
       "\n",
       "   overall ...   positions  preseason100  preseason20  school  \\\n",
       "0     55.0 ...         RHP                                      \n",
       "1     55.0 ...          OF                                      \n",
       "2     65.0 ...          OF             6            1           \n",
       "3     65.0 ...          OF                                      \n",
       "4     55.0 ...         LHP                                      \n",
       "\n",
       "               signed team_file_code thrw        twitter  weight year  \n",
       "0                                DET       MattManning19               \n",
       "1                                PHI        adamhaseley7               \n",
       "2  July 2, 2013 - WSH            WAS                                   \n",
       "3  Aug. 1, 2013 - CHC            CWS          Lamantha21               \n",
       "4                                MIN       TheSGonsalves               \n",
       "\n",
       "[5 rows x 33 columns]"
      ]
     },
     "execution_count": 18,
     "metadata": {},
     "output_type": "execute_result"
    }
   ],
   "source": [
    "# inspect the DataFrame\n",
    "df.head()"
   ]
  },
  {
   "cell_type": "code",
   "execution_count": 19,
   "metadata": {},
   "outputs": [
    {
     "data": {
      "text/plain": [
       "<matplotlib.axes._subplots.AxesSubplot at 0x7fcf6aaf0b38>"
      ]
     },
     "execution_count": 19,
     "metadata": {},
     "output_type": "execute_result"
    },
    {
     "data": {
      "image/png": "[encoded data removed]",
      "text/plain": [
       "<matplotlib.figure.Figure at 0x7fcf6aaef358>"
      ]
     },
     "metadata": {},
     "output_type": "display_data"
    }
   ],
   "source": [
    "# plot the number of players per team\n",
    "df['team_file_code'].value_counts().plot('barh')"
   ]
  },
  {
   "cell_type": "code",
   "execution_count": 20,
   "metadata": {},
   "outputs": [
    {
     "data": {
      "text/plain": [
       "<matplotlib.axes._subplots.AxesSubplot at 0x7fcf63989b38>"
      ]
     },
     "execution_count": 20,
     "metadata": {},
     "output_type": "execute_result"
    },
    {
     "data": {
      "image/png": "[encoded data removed]",
      "text/plain": [
       "<matplotlib.figure.Figure at 0x7fcf6ab63780>"
      ]
     },
     "metadata": {},
     "output_type": "display_data"
    }
   ],
   "source": [
    "# count the number players by positions\n",
    "df['positions'].value_counts().plot('barh')"
   ]
  },
  {
   "cell_type": "code",
   "execution_count": 21,
   "metadata": {},
   "outputs": [
    {
     "data": {
      "text/plain": [
       "[]"
      ]
     },
     "execution_count": 21,
     "metadata": {},
     "output_type": "execute_result"
    },
    {
     "data": {
      "image/png": "[encoded data removed]",
      "text/plain": [
       "<matplotlib.figure.Figure at 0x7fcf638bc588>"
      ]
     },
     "metadata": {},
     "output_type": "display_data"
    }
   ],
   "source": [
    "# calculate the average overall score\n",
    "df['overall'].hist().plot()"
   ]
  },
  {
   "cell_type": "code",
   "execution_count": 22,
   "metadata": {
    "collapsed": true
   },
   "outputs": [],
   "source": [
    "# write the dataframe to CSV\n",
    "df.to_csv(\"mlb_top_100.csv\")"
   ]
  },
  {
   "cell_type": "code",
   "execution_count": null,
   "metadata": {
    "collapsed": true
   },
   "outputs": [],
   "source": []
  }
 ],
 "metadata": {
  "kernelspec": {
   "display_name": "Python 3",
   "language": "python",
   "name": "python3"
  },
  "language_info": {
   "codemirror_mode": {
    "name": "ipython",
    "version": 3
   },
   "file_extension": ".py",
   "mimetype": "text/x-python",
   "name": "python",
   "nbconvert_exporter": "python",
   "pygments_lexer": "ipython3",
   "version": "3.5.4"
  }
 },
 "nbformat": 4,
 "nbformat_minor": 2
}
