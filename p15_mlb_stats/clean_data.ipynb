{
 "cells": [
  {
   "cell_type": "code",
   "execution_count": 361,
   "metadata": {
    "collapsed": true
   },
   "outputs": [],
   "source": [
    "import json\n",
    "from pprint import pprint\n",
    "import pandas as pd"
   ]
  },
  {
   "cell_type": "code",
   "execution_count": 394,
   "metadata": {},
   "outputs": [
    {
     "name": "stdout",
     "output_type": "stream",
     "text": [
      "Populating the interactive namespace from numpy and matplotlib\n"
     ]
    }
   ],
   "source": [
    "%pylab inline"
   ]
  },
  {
   "cell_type": "code",
   "execution_count": 470,
   "metadata": {
    "collapsed": true
   },
   "outputs": [],
   "source": [
    "# load json data\n",
    "with open('mlb_top_100.json') as json_data:\n",
    "    data = json.load(json_data)"
   ]
  },
  {
   "cell_type": "code",
   "execution_count": 471,
   "metadata": {},
   "outputs": [
    {
     "data": {
      "text/plain": [
       "99"
      ]
     },
     "execution_count": 471,
     "metadata": {},
     "output_type": "execute_result"
    }
   ],
   "source": [
    "# how many records are there?\n",
    "len(data)"
   ]
  },
  {
   "cell_type": "code",
   "execution_count": 472,
   "metadata": {},
   "outputs": [
    {
     "data": {
      "text/plain": [
       "dict_keys(['bats', 'player_last_name', 'birthdate', 'drafted', 'positions', 'weight', 'content', 'year', 'eta', 'preseason20', 'thrw', 'player_id', 'player_first_name', 'height', 'signed', 'school', 'twitter', 'team_file_code', 'preseason100'])"
      ]
     },
     "execution_count": 472,
     "metadata": {},
     "output_type": "execute_result"
    }
   ],
   "source": [
    "# look at the dictionary keys in one record\n",
    "data[0].keys()"
   ]
  },
  {
   "cell_type": "code",
   "execution_count": 473,
   "metadata": {},
   "outputs": [
    {
     "name": "stdout",
     "output_type": "stream",
     "text": [
      "{'bats': '',\n",
      " 'birthdate': '',\n",
      " 'content': {'default': '<b>Scouting grades</b>: Hit: 60 | Power: 65 | Run: 70 '\n",
      "                        '| Arm: 60 | Field: 60 | Overall: 70\\n'\n",
      "                        \"<p>Acuna's grandfather, a pitcher, and father, a \"\n",
      "                        'fellow outfielder, played pro ball but never reached '\n",
      "                        'the big leagues. After a 2017 season that saw him '\n",
      "                        'play, and dominate, across three levels up to '\n",
      "                        \"Triple-A, there's little question the 20-year-old \"\n",
      "                        'phenom will easily surpass the two previous '\n",
      "                        'generations in his family. He capped his remarkable '\n",
      "                        'year off by winning MVP honors in the Arizona Fall '\n",
      "                        'League.\\n'\n",
      "                        \"<p>It's hard to find a flaw in Acuna's game. He has a \"\n",
      "                        'buggy whip of a swing and ultra-fast hands that allow '\n",
      "                        'him to make hard contact to all fields. His power '\n",
      "                        'started showing up, and then some, in 2017, and '\n",
      "                        'seeing his 21 homers be a low mark in his career does '\n",
      "                        'not sound outlandish. While he did strike out a bit, '\n",
      "                        'his K rate did go down each time he moved up the '\n",
      "                        \"Braves' ladder, with an advanced approach especially \"\n",
      "                        'given his age. He can flat-out fly, allowing him to '\n",
      "                        'make 40-plus steals an annual projection, especially '\n",
      "                        'as he gets better at reading pitchers and cutting '\n",
      "                        'down his caught stealing rate. That speed works for '\n",
      "                        'him in the outfield as well, where he has the range '\n",
      "                        'for center and the arm for right field. \\n'\n",
      "                        \"<p>While Acuna was in A ball just a year ago, he's \"\n",
      "                        'ready to break through to the big leagues. Even if '\n",
      "                        'the Braves are extra-cautious, no one doubts he will '\n",
      "                        'make a big impact in the immediate future, with an '\n",
      "                        'almost limitless ceiling.',\n",
      "             'photo': '/assets/images/3/6/6/263903366/cuts/254x350/cut.jpg',\n",
      "             'photo180x218': '/assets/images/3/6/6/263903366/cuts/180x218/cut.jpg',\n",
      "             'photo360x436': '/assets/images/3/6/6/263903366/cuts/360x436/cut.jpg',\n",
      "             'position': '<b>Scouting grades</b>: Hit: 60 | Power: 65 | Run: '\n",
      "                         '70 | Arm: 60 | Field: 60 | Overall: 70\\n'\n",
      "                         \"<p>Acuna's grandfather, a pitcher, and father, a \"\n",
      "                         'fellow outfielder, played pro ball but never reached '\n",
      "                         'the big leagues. After a 2017 season that saw him '\n",
      "                         'play, and dominate, across three levels up to '\n",
      "                         \"Triple-A, there's little question the 20-year-old \"\n",
      "                         'phenom will easily surpass the two previous '\n",
      "                         'generations in his family. He capped his remarkable '\n",
      "                         'year off by winning MVP honors in the Arizona Fall '\n",
      "                         'League.\\n'\n",
      "                         \"<p>It's hard to find a flaw in Acuna's game. He has \"\n",
      "                         'a buggy whip of a swing and ultra-fast hands that '\n",
      "                         'allow him to make hard contact to all fields. His '\n",
      "                         'power started showing up, and then some, in 2017, '\n",
      "                         'and seeing his 21 homers be a low mark in his career '\n",
      "                         'does not sound outlandish. While he did strike out a '\n",
      "                         'bit, his K rate did go down each time he moved up '\n",
      "                         \"the Braves' ladder, with an advanced approach \"\n",
      "                         'especially given his age. He can flat-out fly, '\n",
      "                         'allowing him to make 40-plus steals an annual '\n",
      "                         'projection, especially as he gets better at reading '\n",
      "                         'pitchers and cutting down his caught stealing rate. '\n",
      "                         'That speed works for him in the outfield as well, '\n",
      "                         'where he has the range for center and the arm for '\n",
      "                         'right field. \\n'\n",
      "                         \"<p>While Acuna was in A ball just a year ago, he's \"\n",
      "                         'ready to break through to the big leagues. Even if '\n",
      "                         'the Braves are extra-cautious, no one doubts he will '\n",
      "                         'make a big impact in the immediate future, with an '\n",
      "                         'almost limitless ceiling.',\n",
      "             'prospect_vid': '1872647483',\n",
      "             'team': '<b>Scouting grades</b>: Hit: 60 | Power: 65 | Run: 70 | '\n",
      "                     'Arm: 60 | Field: 60 | Overall: 70\\n'\n",
      "                     \"<p>Acuna's grandfather, a pitcher, and father, a fellow \"\n",
      "                     'outfielder, played pro ball but never reached the big '\n",
      "                     'leagues. After a 2017 season that saw him play, and '\n",
      "                     \"dominate, across three levels up to Triple-A, there's \"\n",
      "                     'little question the 20-year-old phenom will easily '\n",
      "                     'surpass the two previous generations in his family. He '\n",
      "                     'capped his remarkable year off by winning MVP honors in '\n",
      "                     'the Arizona Fall League.\\n'\n",
      "                     \"<p>It's hard to find a flaw in Acuna's game. He has a \"\n",
      "                     'buggy whip of a swing and ultra-fast hands that allow '\n",
      "                     'him to make hard contact to all fields. His power '\n",
      "                     'started showing up, and then some, in 2017, and seeing '\n",
      "                     'his 21 homers be a low mark in his career does not sound '\n",
      "                     'outlandish. While he did strike out a bit, his K rate '\n",
      "                     \"did go down each time he moved up the Braves' ladder, \"\n",
      "                     'with an advanced approach especially given his age. He '\n",
      "                     'can flat-out fly, allowing him to make 40-plus steals an '\n",
      "                     'annual projection, especially as he gets better at '\n",
      "                     'reading pitchers and cutting down his caught stealing '\n",
      "                     'rate. That speed works for him in the outfield as well, '\n",
      "                     'where he has the range for center and the arm for right '\n",
      "                     'field. \\n'\n",
      "                     \"<p>While Acuna was in A ball just a year ago, he's ready \"\n",
      "                     'to break through to the big leagues. Even if the Braves '\n",
      "                     'are extra-cautious, no one doubts he will make a big '\n",
      "                     'impact in the immediate future, with an almost limitless '\n",
      "                     'ceiling.',\n",
      "             'thumb': '/assets/images/3/6/6/263903366/cuts/74x74/cut.jpg',\n",
      "             'thumb124x150': '/assets/images/3/6/6/263903366/cuts/124x150/cut.jpg',\n",
      "             'thumb62x75': '/assets/images/3/6/6/263903366/cuts/62x75/cut.jpg'},\n",
      " 'drafted': '',\n",
      " 'eta': 2018,\n",
      " 'height': '',\n",
      " 'player_first_name': 'Ronald',\n",
      " 'player_id': 660670,\n",
      " 'player_last_name': 'Acuna',\n",
      " 'positions': 'OF',\n",
      " 'preseason100': '',\n",
      " 'preseason20': '',\n",
      " 'school': '',\n",
      " 'signed': 'July 2, 2014 - ATL',\n",
      " 'team_file_code': 'ATL',\n",
      " 'thrw': '',\n",
      " 'twitter': '',\n",
      " 'weight': '',\n",
      " 'year': ''}\n"
     ]
    }
   ],
   "source": [
    "# inspect one record\n",
    "pprint(data[67])"
   ]
  },
  {
   "cell_type": "code",
   "execution_count": 474,
   "metadata": {},
   "outputs": [],
   "source": [
    "# iterate over data and clean up the content\n",
    "for line in data:\n",
    "    line['content'] = line['content']['default'].replace('\\n', '').strip().split('<p>')"
   ]
  },
  {
   "cell_type": "code",
   "execution_count": 475,
   "metadata": {},
   "outputs": [],
   "source": [
    "# pull scouting grades into new key/value\n",
    "for line in data:\n",
    "    line['bio'] = []\n",
    "    for item in line['content']:\n",
    "        if 'scouting grades' in item.lower():\n",
    "            line['scouting_grades'] = item\n",
    "        else:\n",
    "            line['bio'].append(item)\n",
    "    \n",
    "    # delete the old information\n",
    "    del line['content']\n",
    "    \n",
    "    # clean up the new bio\n",
    "    line['bio'] = ''.join(line['bio'])"
   ]
  },
  {
   "cell_type": "code",
   "execution_count": 476,
   "metadata": {},
   "outputs": [
    {
     "name": "stdout",
     "output_type": "stream",
     "text": [
      "{'bats': '',\n",
      " 'bio': \"Acuna's grandfather, a pitcher, and father, a fellow outfielder, \"\n",
      "        'played pro ball but never reached the big leagues. After a 2017 '\n",
      "        'season that saw him play, and dominate, across three levels up to '\n",
      "        \"Triple-A, there's little question the 20-year-old phenom will easily \"\n",
      "        'surpass the two previous generations in his family. He capped his '\n",
      "        'remarkable year off by winning MVP honors in the Arizona Fall '\n",
      "        \"League.It's hard to find a flaw in Acuna's game. He has a buggy whip \"\n",
      "        'of a swing and ultra-fast hands that allow him to make hard contact '\n",
      "        'to all fields. His power started showing up, and then some, in 2017, '\n",
      "        'and seeing his 21 homers be a low mark in his career does not sound '\n",
      "        'outlandish. While he did strike out a bit, his K rate did go down '\n",
      "        \"each time he moved up the Braves' ladder, with an advanced approach \"\n",
      "        'especially given his age. He can flat-out fly, allowing him to make '\n",
      "        '40-plus steals an annual projection, especially as he gets better at '\n",
      "        'reading pitchers and cutting down his caught stealing rate. That '\n",
      "        'speed works for him in the outfield as well, where he has the range '\n",
      "        'for center and the arm for right field. While Acuna was in A ball '\n",
      "        \"just a year ago, he's ready to break through to the big leagues. Even \"\n",
      "        'if the Braves are extra-cautious, no one doubts he will make a big '\n",
      "        'impact in the immediate future, with an almost limitless ceiling.',\n",
      " 'birthdate': '',\n",
      " 'drafted': '',\n",
      " 'eta': 2018,\n",
      " 'height': '',\n",
      " 'player_first_name': 'Ronald',\n",
      " 'player_id': 660670,\n",
      " 'player_last_name': 'Acuna',\n",
      " 'positions': 'OF',\n",
      " 'preseason100': '',\n",
      " 'preseason20': '',\n",
      " 'school': '',\n",
      " 'scouting_grades': '<b>Scouting grades</b>: Hit: 60 | Power: 65 | Run: 70 | '\n",
      "                    'Arm: 60 | Field: 60 | Overall: 70',\n",
      " 'signed': 'July 2, 2014 - ATL',\n",
      " 'team_file_code': 'ATL',\n",
      " 'thrw': '',\n",
      " 'twitter': '',\n",
      " 'weight': '',\n",
      " 'year': ''}\n"
     ]
    }
   ],
   "source": [
    "# inspect one record\n",
    "pprint(data[67])"
   ]
  },
  {
   "cell_type": "code",
   "execution_count": 477,
   "metadata": {},
   "outputs": [],
   "source": [
    "# clean up scouting grades\n",
    "for line in data:\n",
    "    if line['scouting_grades'].lower().startswith('<b>scouting grades:</b>'):\n",
    "        line['scouting_grades'] = line['scouting_grades'].lower().replace('<b>scouting grades:</b>', '').strip().split('|')\n",
    "    \n",
    "    elif line['scouting_grades'].lower().startswith('<b>scouting grades</b>:'):\n",
    "        line['scouting_grades'] = line['scouting_grades'].lower().replace('<b>scouting grades</b>:', '').strip().split('|')\n",
    "    \n",
    "    else:\n",
    "        line['scouting_grades'] = []"
   ]
  },
  {
   "cell_type": "code",
   "execution_count": 478,
   "metadata": {},
   "outputs": [],
   "source": [
    "# extracting metrics from grades\n",
    "for line in data:\n",
    "    for item in line['scouting_grades']:\n",
    "        metric = item.strip().split(':')\n",
    "        line[metric[0].strip()] = metric[1].strip()"
   ]
  },
  {
   "cell_type": "code",
   "execution_count": 479,
   "metadata": {},
   "outputs": [
    {
     "data": {
      "text/plain": [
       "{'bats': '',\n",
       " 'bio': \"The son of a former NBA player, Manning was a two-sport star who could have gone on to play both sports at Loyola-Marymount, and when the Tigers went slightly above pick value to sign him away from that commitment, they knew Manning might be a bit of a project. The Tigers have proceeded with understandable caution, holding the 6-foot-6 right-hander back in extended Spring Training to start his first full year of pro ball. He eventually pitched his way from short-season Connecticut to full-season West Michigan, capping his season off with a 10-strikeout performance in the Midwest League playoffs.Manning has as much, if not more, upside than any pitcher in the Tigers system, but he also might have the farthest to go to reach it. As he works to refine his delivery, his command and velocity has fluctuated. When he's in sync, he's easily in the low-90s with the ability to touch 95-96 mph with ease. It's easy to dream on more consistent velocity as he figures things out. His power curve has the chance to be a plus pitch in the future, and while his changeup lags behind, he's shown some feel for it and it should give him a third at-least-average offering at his disposal.Manning's command fluctuated largely because of mechanical flaws, which his athleticism should help him iron out as he progresses. It's going to take time, but the end product could very well be a frontline starter.\",\n",
       " 'birthdate': '',\n",
       " 'changeup': '50',\n",
       " 'control': '50',\n",
       " 'curveball': '60',\n",
       " 'drafted': '2016, 1st (9) - DET',\n",
       " 'eta': 2020,\n",
       " 'fastball': '65',\n",
       " 'height': '',\n",
       " 'overall': '55',\n",
       " 'player_first_name': 'Matt',\n",
       " 'player_id': 666159,\n",
       " 'player_last_name': 'Manning',\n",
       " 'positions': 'RHP',\n",
       " 'preseason100': '',\n",
       " 'preseason20': '',\n",
       " 'school': '',\n",
       " 'scouting_grades': ['fastball: 65 ',\n",
       "  ' curveball: 60 ',\n",
       "  ' changeup: 50 ',\n",
       "  ' control: 50 ',\n",
       "  ' overall: 55'],\n",
       " 'signed': '',\n",
       " 'team_file_code': 'DET',\n",
       " 'thrw': '',\n",
       " 'twitter': 'MattManning19',\n",
       " 'weight': '',\n",
       " 'year': ''}"
      ]
     },
     "execution_count": 479,
     "metadata": {},
     "output_type": "execute_result"
    }
   ],
   "source": [
    "data[0]"
   ]
  },
  {
   "cell_type": "code",
   "execution_count": 480,
   "metadata": {
    "collapsed": true
   },
   "outputs": [],
   "source": [
    "# convert strings to integers where possible\n",
    "for line in data:\n",
    "    for key in line:\n",
    "        try:\n",
    "            line[key] = int(line[key])\n",
    "        except:\n",
    "            pass"
   ]
  },
  {
   "cell_type": "code",
   "execution_count": 481,
   "metadata": {
    "collapsed": true
   },
   "outputs": [],
   "source": [
    "# load data into a DataFrame\n",
    "df = pd.DataFrame(data)"
   ]
  },
  {
   "cell_type": "code",
   "execution_count": 482,
   "metadata": {},
   "outputs": [
    {
     "data": {
      "text/plain": [
       "arm                  float64\n",
       "bats                  object\n",
       "bio                   object\n",
       "birthdate             object\n",
       "changeup             float64\n",
       "control              float64\n",
       "curve                float64\n",
       "curveball            float64\n",
       "cutter               float64\n",
       "drafted               object\n",
       "eta                    int64\n",
       "fastball             float64\n",
       "field                float64\n",
       "height                object\n",
       "hit                  float64\n",
       "overall              float64\n",
       "player_first_name     object\n",
       "player_id              int64\n",
       "player_last_name      object\n",
       "positions             object\n",
       "power                float64\n",
       "preseason100          object\n",
       "preseason20           object\n",
       "run                  float64\n",
       "school                object\n",
       "scouting_grades       object\n",
       "screwball            float64\n",
       "signed                object\n",
       "slider               float64\n",
       "team_file_code        object\n",
       "thrw                  object\n",
       "twitter               object\n",
       "weight                object\n",
       "year                  object\n",
       "dtype: object"
      ]
     },
     "execution_count": 482,
     "metadata": {},
     "output_type": "execute_result"
    }
   ],
   "source": [
    "# inspect the data types\n",
    "df.dtypes"
   ]
  },
  {
   "cell_type": "code",
   "execution_count": 483,
   "metadata": {},
   "outputs": [
    {
     "data": {
      "text/html": [
       "<div>\n",
       "<style>\n",
       "    .dataframe thead tr:only-child th {\n",
       "        text-align: right;\n",
       "    }\n",
       "\n",
       "    .dataframe thead th {\n",
       "        text-align: left;\n",
       "    }\n",
       "\n",
       "    .dataframe tbody tr th {\n",
       "        vertical-align: top;\n",
       "    }\n",
       "</style>\n",
       "<table border=\"1\" class=\"dataframe\">\n",
       "  <thead>\n",
       "    <tr style=\"text-align: right;\">\n",
       "      <th></th>\n",
       "      <th>arm</th>\n",
       "      <th>bats</th>\n",
       "      <th>bio</th>\n",
       "      <th>birthdate</th>\n",
       "      <th>changeup</th>\n",
       "      <th>control</th>\n",
       "      <th>curve</th>\n",
       "      <th>curveball</th>\n",
       "      <th>cutter</th>\n",
       "      <th>drafted</th>\n",
       "      <th>...</th>\n",
       "      <th>school</th>\n",
       "      <th>scouting_grades</th>\n",
       "      <th>screwball</th>\n",
       "      <th>signed</th>\n",
       "      <th>slider</th>\n",
       "      <th>team_file_code</th>\n",
       "      <th>thrw</th>\n",
       "      <th>twitter</th>\n",
       "      <th>weight</th>\n",
       "      <th>year</th>\n",
       "    </tr>\n",
       "  </thead>\n",
       "  <tbody>\n",
       "    <tr>\n",
       "      <th>0</th>\n",
       "      <td>NaN</td>\n",
       "      <td></td>\n",
       "      <td>The son of a former NBA player, Manning was a ...</td>\n",
       "      <td></td>\n",
       "      <td>50.0</td>\n",
       "      <td>50.0</td>\n",
       "      <td>NaN</td>\n",
       "      <td>60.0</td>\n",
       "      <td>NaN</td>\n",
       "      <td>2016, 1st (9) - DET</td>\n",
       "      <td>...</td>\n",
       "      <td></td>\n",
       "      <td>[fastball: 65 ,  curveball: 60 ,  changeup: 50...</td>\n",
       "      <td>NaN</td>\n",
       "      <td></td>\n",
       "      <td>NaN</td>\n",
       "      <td>DET</td>\n",
       "      <td></td>\n",
       "      <td>MattManning19</td>\n",
       "      <td></td>\n",
       "      <td></td>\n",
       "    </tr>\n",
       "    <tr>\n",
       "      <th>1</th>\n",
       "      <td>50.0</td>\n",
       "      <td></td>\n",
       "      <td>Haseley was a two-way standout at Virginia, pl...</td>\n",
       "      <td></td>\n",
       "      <td>NaN</td>\n",
       "      <td>NaN</td>\n",
       "      <td>NaN</td>\n",
       "      <td>NaN</td>\n",
       "      <td>NaN</td>\n",
       "      <td>2017, 1st (8) - PHI</td>\n",
       "      <td>...</td>\n",
       "      <td></td>\n",
       "      <td>[hit: 55 ,  power: 45 ,  run: 55 ,  arm: 50 , ...</td>\n",
       "      <td>NaN</td>\n",
       "      <td></td>\n",
       "      <td>NaN</td>\n",
       "      <td>PHI</td>\n",
       "      <td></td>\n",
       "      <td>adamhaseley7</td>\n",
       "      <td></td>\n",
       "      <td></td>\n",
       "    </tr>\n",
       "    <tr>\n",
       "      <th>2</th>\n",
       "      <td>70.0</td>\n",
       "      <td></td>\n",
       "      <td>Signed for $225,000 out of the Dominican Repub...</td>\n",
       "      <td></td>\n",
       "      <td>NaN</td>\n",
       "      <td>NaN</td>\n",
       "      <td>NaN</td>\n",
       "      <td>NaN</td>\n",
       "      <td>NaN</td>\n",
       "      <td></td>\n",
       "      <td>...</td>\n",
       "      <td></td>\n",
       "      <td>[hit: 60 ,  power: 55 ,  run: 75 ,  arm: 70 , ...</td>\n",
       "      <td>NaN</td>\n",
       "      <td>July 2, 2013 - WSH</td>\n",
       "      <td>NaN</td>\n",
       "      <td>WAS</td>\n",
       "      <td></td>\n",
       "      <td></td>\n",
       "      <td></td>\n",
       "      <td></td>\n",
       "    </tr>\n",
       "    <tr>\n",
       "      <th>3</th>\n",
       "      <td>50.0</td>\n",
       "      <td></td>\n",
       "      <td>The top-rated international prospect during th...</td>\n",
       "      <td></td>\n",
       "      <td>NaN</td>\n",
       "      <td>NaN</td>\n",
       "      <td>NaN</td>\n",
       "      <td>NaN</td>\n",
       "      <td>NaN</td>\n",
       "      <td></td>\n",
       "      <td>...</td>\n",
       "      <td></td>\n",
       "      <td>[hit: 60 ,  power: 70 ,  run: 40 ,  arm: 50 , ...</td>\n",
       "      <td>NaN</td>\n",
       "      <td>Aug. 1, 2013 - CHC</td>\n",
       "      <td>NaN</td>\n",
       "      <td>CWS</td>\n",
       "      <td></td>\n",
       "      <td>Lamantha21</td>\n",
       "      <td></td>\n",
       "      <td></td>\n",
       "    </tr>\n",
       "    <tr>\n",
       "      <th>4</th>\n",
       "      <td>NaN</td>\n",
       "      <td></td>\n",
       "      <td>Gonsalves was an intriguing, albeit a bit inco...</td>\n",
       "      <td></td>\n",
       "      <td>60.0</td>\n",
       "      <td>55.0</td>\n",
       "      <td>NaN</td>\n",
       "      <td>50.0</td>\n",
       "      <td>NaN</td>\n",
       "      <td>2013, 4th (110) - MIN</td>\n",
       "      <td>...</td>\n",
       "      <td></td>\n",
       "      <td>[fastball: 55 ,  curveball: 50 ,  slider: 40 ,...</td>\n",
       "      <td>NaN</td>\n",
       "      <td></td>\n",
       "      <td>40.0</td>\n",
       "      <td>MIN</td>\n",
       "      <td></td>\n",
       "      <td>TheSGonsalves</td>\n",
       "      <td></td>\n",
       "      <td></td>\n",
       "    </tr>\n",
       "  </tbody>\n",
       "</table>\n",
       "<p>5 rows × 34 columns</p>\n",
       "</div>"
      ],
      "text/plain": [
       "    arm bats                                                bio birthdate  \\\n",
       "0   NaN       The son of a former NBA player, Manning was a ...             \n",
       "1  50.0       Haseley was a two-way standout at Virginia, pl...             \n",
       "2  70.0       Signed for $225,000 out of the Dominican Repub...             \n",
       "3  50.0       The top-rated international prospect during th...             \n",
       "4   NaN       Gonsalves was an intriguing, albeit a bit inco...             \n",
       "\n",
       "   changeup  control  curve  curveball  cutter                drafted ...   \\\n",
       "0      50.0     50.0    NaN       60.0     NaN    2016, 1st (9) - DET ...    \n",
       "1       NaN      NaN    NaN        NaN     NaN    2017, 1st (8) - PHI ...    \n",
       "2       NaN      NaN    NaN        NaN     NaN                        ...    \n",
       "3       NaN      NaN    NaN        NaN     NaN                        ...    \n",
       "4      60.0     55.0    NaN       50.0     NaN  2013, 4th (110) - MIN ...    \n",
       "\n",
       "   school                                    scouting_grades  screwball  \\\n",
       "0          [fastball: 65 ,  curveball: 60 ,  changeup: 50...        NaN   \n",
       "1          [hit: 55 ,  power: 45 ,  run: 55 ,  arm: 50 , ...        NaN   \n",
       "2          [hit: 60 ,  power: 55 ,  run: 75 ,  arm: 70 , ...        NaN   \n",
       "3          [hit: 60 ,  power: 70 ,  run: 40 ,  arm: 50 , ...        NaN   \n",
       "4          [fastball: 55 ,  curveball: 50 ,  slider: 40 ,...        NaN   \n",
       "\n",
       "               signed  slider  team_file_code thrw        twitter weight year  \n",
       "0                         NaN             DET       MattManning19              \n",
       "1                         NaN             PHI        adamhaseley7              \n",
       "2  July 2, 2013 - WSH     NaN             WAS                                  \n",
       "3  Aug. 1, 2013 - CHC     NaN             CWS          Lamantha21              \n",
       "4                        40.0             MIN       TheSGonsalves              \n",
       "\n",
       "[5 rows x 34 columns]"
      ]
     },
     "execution_count": 483,
     "metadata": {},
     "output_type": "execute_result"
    }
   ],
   "source": [
    "# inspect the DataFrame\n",
    "df.head()"
   ]
  },
  {
   "cell_type": "code",
   "execution_count": 486,
   "metadata": {},
   "outputs": [
    {
     "data": {
      "text/plain": [
       "[]"
      ]
     },
     "execution_count": 486,
     "metadata": {},
     "output_type": "execute_result"
    },
    {
     "data": {
      "image/png": "[encoded data removed]",
      "text/plain": [
       "<matplotlib.figure.Figure at 0x7f50307c3550>"
      ]
     },
     "metadata": {},
     "output_type": "display_data"
    }
   ],
   "source": [
    "# calculate the average overall score\n",
    "df['overall'].hist().plot()"
   ]
  },
  {
   "cell_type": "code",
   "execution_count": null,
   "metadata": {
    "collapsed": true
   },
   "outputs": [],
   "source": []
  },
  {
   "cell_type": "code",
   "execution_count": null,
   "metadata": {
    "collapsed": true
   },
   "outputs": [],
   "source": []
  }
 ],
 "metadata": {
  "kernelspec": {
   "display_name": "Python 3",
   "language": "python",
   "name": "python3"
  },
  "language_info": {
   "codemirror_mode": {
    "name": "ipython",
    "version": 3
   },
   "file_extension": ".py",
   "mimetype": "text/x-python",
   "name": "python",
   "nbconvert_exporter": "python",
   "pygments_lexer": "ipython3",
   "version": "3.5.4"
  }
 },
 "nbformat": 4,
 "nbformat_minor": 2
}
