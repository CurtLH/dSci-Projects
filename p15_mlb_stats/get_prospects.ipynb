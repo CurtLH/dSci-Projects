{
 "cells": [
  {
   "cell_type": "code",
   "execution_count": 33,
   "metadata": {
    "collapsed": true
   },
   "outputs": [],
   "source": [
    "import json\n",
    "import requests\n",
    "import pandas as pd"
   ]
  },
  {
   "cell_type": "code",
   "execution_count": 42,
   "metadata": {},
   "outputs": [
    {
     "name": "stdout",
     "output_type": "stream",
     "text": [
      "Populating the interactive namespace from numpy and matplotlib\n"
     ]
    }
   ],
   "source": [
    "%pylab inline"
   ]
  },
  {
   "cell_type": "code",
   "execution_count": 43,
   "metadata": {
    "collapsed": true
   },
   "outputs": [],
   "source": [
    "# set the default plot size\n",
    "pylab.rcParams['figure.figsize'] = (12, 6)"
   ]
  },
  {
   "cell_type": "code",
   "execution_count": 4,
   "metadata": {
    "collapsed": true
   },
   "outputs": [],
   "source": [
    "# get the information for all player propects\n",
    "r = requests.get(\"http://m.mlb.com/gen/players/prospects/2018/playerProspects.json\")"
   ]
  },
  {
   "cell_type": "code",
   "execution_count": 8,
   "metadata": {},
   "outputs": [],
   "source": [
    "# load the response into a dict\n",
    "prospects = json.loads(r.text)"
   ]
  },
  {
   "cell_type": "code",
   "execution_count": 12,
   "metadata": {},
   "outputs": [
    {
     "data": {
      "text/plain": [
       "dict_keys(['last_updated', 'year', 'prospect_players'])"
      ]
     },
     "execution_count": 12,
     "metadata": {},
     "output_type": "execute_result"
    }
   ],
   "source": [
    "# inspect the prospects dict\n",
    "prospects.keys()"
   ]
  },
  {
   "cell_type": "code",
   "execution_count": 11,
   "metadata": {},
   "outputs": [
    {
     "name": "stdout",
     "output_type": "stream",
     "text": [
      "Last Updated: 2018-03-11T16:28:18.753Z\n",
      "Year: 2018\n"
     ]
    }
   ],
   "source": [
    "# inspect the prospects\n",
    "print(\"Last Updated: {}\".format(prospects['last_updated']))\n",
    "print(\"Year: {}\".format(prospects['year']))"
   ]
  },
  {
   "cell_type": "code",
   "execution_count": 28,
   "metadata": {},
   "outputs": [
    {
     "name": "stdout",
     "output_type": "stream",
     "text": [
      "dict_keys(['cin', '1b', 'lhp', 'mia', 'chc', 'cws', 'tex', 'bos', 'nym', 'tor', 'rhp', 'min', 'ana', 'ss', 'mil', 'sea', 'prospects', 'cle', 'oak', 'c', 'draft', 'tb', 'phi', 'stl', '2b', '3b', 'atl', 'hou', 'of', 'la', 'sf', 'bal', 'nyy', 'kc', 'was', 'pit', 'det', 'col', 'sd', 'ari'])\n"
     ]
    }
   ],
   "source": [
    "# look at the keys in prospect_players\n",
    "prospects['prospect_players'].keys()"
   ]
  },
  {
   "cell_type": "code",
   "execution_count": 30,
   "metadata": {},
   "outputs": [
    {
     "data": {
      "text/plain": [
       "{'photo180x218': '/assets/images/7/5/8/264702758/cuts/180x218/cut.jpg',\n",
       " 'photo360x436': '/assets/images/7/5/8/264702758/cuts/360x436/cut.jpg',\n",
       " 'player_first_name': 'Michael',\n",
       " 'player_id': 656308,\n",
       " 'player_last_name': 'Chavis',\n",
       " 'position': '3B',\n",
       " 'preseason100': '',\n",
       " 'preseason20': 1,\n",
       " 'prospect_year': '2018',\n",
       " 'rank': 1,\n",
       " 'team_file_code': 'BOS',\n",
       " 'thumb': '/assets/images/7/5/8/264702758/cuts/74x74/cut.jpg',\n",
       " 'thumb124x150': '/assets/images/7/5/8/264702758/cuts/124x150/cut.jpg',\n",
       " 'thumb62x75': '/assets/images/7/5/8/264702758/cuts/62x75/cut.jpg'}"
      ]
     },
     "execution_count": 30,
     "metadata": {},
     "output_type": "execute_result"
    }
   ],
   "source": [
    "# look at the keys for the first player of a team\n",
    "prospects['prospect_players']['bos'][0]"
   ]
  },
  {
   "cell_type": "code",
   "execution_count": 26,
   "metadata": {},
   "outputs": [],
   "source": [
    "# iterate over prospects players and pull out data\n",
    "players = []\n",
    "for team in prospects['prospect_players']:\n",
    "    players.extend(prospects['prospect_players'][team])"
   ]
  },
  {
   "cell_type": "code",
   "execution_count": 27,
   "metadata": {},
   "outputs": [
    {
     "data": {
      "text/plain": [
       "1130"
      ]
     },
     "execution_count": 27,
     "metadata": {},
     "output_type": "execute_result"
    }
   ],
   "source": [
    "# count how many players there are\n",
    "len(players)"
   ]
  },
  {
   "cell_type": "code",
   "execution_count": 31,
   "metadata": {},
   "outputs": [
    {
     "name": "stdout",
     "output_type": "stream",
     "text": [
      "{'photo180x218': '/assets/images/3/9/8/263967398/cuts/180x218/cut.jpg',\n",
      " 'photo360x436': '/assets/images/3/9/8/263967398/cuts/360x436/cut.jpg',\n",
      " 'player_first_name': 'Nick',\n",
      " 'player_id': 669222,\n",
      " 'player_last_name': 'Senzel',\n",
      " 'position': '3B',\n",
      " 'preseason100': 7,\n",
      " 'preseason20': 1,\n",
      " 'prospect_year': '2018',\n",
      " 'rank': 1,\n",
      " 'team_file_code': 'CIN',\n",
      " 'thumb': '/assets/images/3/9/8/263967398/cuts/74x74/cut.jpg',\n",
      " 'thumb124x150': '/assets/images/3/9/8/263967398/cuts/124x150/cut.jpg',\n",
      " 'thumb62x75': '/assets/images/3/9/8/263967398/cuts/62x75/cut.jpg'}\n"
     ]
    }
   ],
   "source": [
    "# look at one player\n",
    "players[0]"
   ]
  },
  {
   "cell_type": "code",
   "execution_count": 34,
   "metadata": {},
   "outputs": [],
   "source": [
    "# load players into DataFrame\n",
    "df = pd.DataFrame(players)"
   ]
  },
  {
   "cell_type": "code",
   "execution_count": 35,
   "metadata": {},
   "outputs": [
    {
     "data": {
      "text/html": [
       "<div>\n",
       "<style>\n",
       "    .dataframe thead tr:only-child th {\n",
       "        text-align: right;\n",
       "    }\n",
       "\n",
       "    .dataframe thead th {\n",
       "        text-align: left;\n",
       "    }\n",
       "\n",
       "    .dataframe tbody tr th {\n",
       "        vertical-align: top;\n",
       "    }\n",
       "</style>\n",
       "<table border=\"1\" class=\"dataframe\">\n",
       "  <thead>\n",
       "    <tr style=\"text-align: right;\">\n",
       "      <th></th>\n",
       "      <th>photo180x218</th>\n",
       "      <th>photo360x436</th>\n",
       "      <th>player_first_name</th>\n",
       "      <th>player_id</th>\n",
       "      <th>player_last_name</th>\n",
       "      <th>position</th>\n",
       "      <th>preseason100</th>\n",
       "      <th>preseason20</th>\n",
       "      <th>prospect_year</th>\n",
       "      <th>rank</th>\n",
       "      <th>team_file_code</th>\n",
       "      <th>thumb</th>\n",
       "      <th>thumb124x150</th>\n",
       "      <th>thumb62x75</th>\n",
       "    </tr>\n",
       "  </thead>\n",
       "  <tbody>\n",
       "    <tr>\n",
       "      <th>0</th>\n",
       "      <td>/assets/images/3/9/8/263967398/cuts/180x218/cu...</td>\n",
       "      <td>/assets/images/3/9/8/263967398/cuts/360x436/cu...</td>\n",
       "      <td>Nick</td>\n",
       "      <td>669222</td>\n",
       "      <td>Senzel</td>\n",
       "      <td>3B</td>\n",
       "      <td>7</td>\n",
       "      <td>1</td>\n",
       "      <td>2018</td>\n",
       "      <td>1</td>\n",
       "      <td>CIN</td>\n",
       "      <td>/assets/images/3/9/8/263967398/cuts/74x74/cut.jpg</td>\n",
       "      <td>/assets/images/3/9/8/263967398/cuts/124x150/cu...</td>\n",
       "      <td>/assets/images/3/9/8/263967398/cuts/62x75/cut.jpg</td>\n",
       "    </tr>\n",
       "    <tr>\n",
       "      <th>1</th>\n",
       "      <td>/assets/images/0/3/0/263968030/cuts/180x218/cu...</td>\n",
       "      <td>/assets/images/0/3/0/263968030/cuts/360x436/cu...</td>\n",
       "      <td>Hunter</td>\n",
       "      <td>668881</td>\n",
       "      <td>Greene</td>\n",
       "      <td>RHP</td>\n",
       "      <td>21</td>\n",
       "      <td>2</td>\n",
       "      <td>2018</td>\n",
       "      <td>2</td>\n",
       "      <td>CIN</td>\n",
       "      <td>/assets/images/0/3/0/263968030/cuts/74x74/cut.jpg</td>\n",
       "      <td>/assets/images/0/3/0/263968030/cuts/124x150/cu...</td>\n",
       "      <td>/assets/images/0/3/0/263968030/cuts/62x75/cut.jpg</td>\n",
       "    </tr>\n",
       "    <tr>\n",
       "      <th>2</th>\n",
       "      <td>/assets/images/6/1/8/263968618/cuts/180x218/cu...</td>\n",
       "      <td>/assets/images/6/1/8/263968618/cuts/360x436/cu...</td>\n",
       "      <td>Taylor</td>\n",
       "      <td>666211</td>\n",
       "      <td>Trammell</td>\n",
       "      <td>OF</td>\n",
       "      <td>43</td>\n",
       "      <td>3</td>\n",
       "      <td>2018</td>\n",
       "      <td>3</td>\n",
       "      <td>CIN</td>\n",
       "      <td>/assets/images/6/1/8/263968618/cuts/74x74/cut.jpg</td>\n",
       "      <td>/assets/images/6/1/8/263968618/cuts/124x150/cu...</td>\n",
       "      <td>/assets/images/6/1/8/263968618/cuts/62x75/cut.jpg</td>\n",
       "    </tr>\n",
       "    <tr>\n",
       "      <th>3</th>\n",
       "      <td>/assets/images/1/5/6/263969156/cuts/180x218/cu...</td>\n",
       "      <td>/assets/images/1/5/6/263969156/cuts/360x436/cu...</td>\n",
       "      <td>Jesse</td>\n",
       "      <td>608385</td>\n",
       "      <td>Winker</td>\n",
       "      <td>OF</td>\n",
       "      <td>82</td>\n",
       "      <td>4</td>\n",
       "      <td>2018</td>\n",
       "      <td>4</td>\n",
       "      <td>CIN</td>\n",
       "      <td>/assets/images/1/5/6/263969156/cuts/74x74/cut.jpg</td>\n",
       "      <td>/assets/images/1/5/6/263969156/cuts/124x150/cu...</td>\n",
       "      <td>/assets/images/1/5/6/263969156/cuts/62x75/cut.jpg</td>\n",
       "    </tr>\n",
       "    <tr>\n",
       "      <th>4</th>\n",
       "      <td>/assets/images/8/3/2/263968832/cuts/180x218/cu...</td>\n",
       "      <td>/assets/images/8/3/2/263968832/cuts/360x436/cu...</td>\n",
       "      <td>Tyler</td>\n",
       "      <td>641816</td>\n",
       "      <td>Mahle</td>\n",
       "      <td>RHP</td>\n",
       "      <td>84</td>\n",
       "      <td>5</td>\n",
       "      <td>2018</td>\n",
       "      <td>5</td>\n",
       "      <td>CIN</td>\n",
       "      <td>/assets/images/8/3/2/263968832/cuts/74x74/cut.jpg</td>\n",
       "      <td>/assets/images/8/3/2/263968832/cuts/124x150/cu...</td>\n",
       "      <td>/assets/images/8/3/2/263968832/cuts/62x75/cut.jpg</td>\n",
       "    </tr>\n",
       "  </tbody>\n",
       "</table>\n",
       "</div>"
      ],
      "text/plain": [
       "                                        photo180x218  \\\n",
       "0  /assets/images/3/9/8/263967398/cuts/180x218/cu...   \n",
       "1  /assets/images/0/3/0/263968030/cuts/180x218/cu...   \n",
       "2  /assets/images/6/1/8/263968618/cuts/180x218/cu...   \n",
       "3  /assets/images/1/5/6/263969156/cuts/180x218/cu...   \n",
       "4  /assets/images/8/3/2/263968832/cuts/180x218/cu...   \n",
       "\n",
       "                                        photo360x436 player_first_name  \\\n",
       "0  /assets/images/3/9/8/263967398/cuts/360x436/cu...              Nick   \n",
       "1  /assets/images/0/3/0/263968030/cuts/360x436/cu...            Hunter   \n",
       "2  /assets/images/6/1/8/263968618/cuts/360x436/cu...            Taylor   \n",
       "3  /assets/images/1/5/6/263969156/cuts/360x436/cu...             Jesse   \n",
       "4  /assets/images/8/3/2/263968832/cuts/360x436/cu...             Tyler   \n",
       "\n",
       "  player_id player_last_name position preseason100 preseason20 prospect_year  \\\n",
       "0    669222           Senzel       3B            7           1          2018   \n",
       "1    668881           Greene      RHP           21           2          2018   \n",
       "2    666211         Trammell       OF           43           3          2018   \n",
       "3    608385           Winker       OF           82           4          2018   \n",
       "4    641816            Mahle      RHP           84           5          2018   \n",
       "\n",
       "   rank team_file_code                                              thumb  \\\n",
       "0     1            CIN  /assets/images/3/9/8/263967398/cuts/74x74/cut.jpg   \n",
       "1     2            CIN  /assets/images/0/3/0/263968030/cuts/74x74/cut.jpg   \n",
       "2     3            CIN  /assets/images/6/1/8/263968618/cuts/74x74/cut.jpg   \n",
       "3     4            CIN  /assets/images/1/5/6/263969156/cuts/74x74/cut.jpg   \n",
       "4     5            CIN  /assets/images/8/3/2/263968832/cuts/74x74/cut.jpg   \n",
       "\n",
       "                                        thumb124x150  \\\n",
       "0  /assets/images/3/9/8/263967398/cuts/124x150/cu...   \n",
       "1  /assets/images/0/3/0/263968030/cuts/124x150/cu...   \n",
       "2  /assets/images/6/1/8/263968618/cuts/124x150/cu...   \n",
       "3  /assets/images/1/5/6/263969156/cuts/124x150/cu...   \n",
       "4  /assets/images/8/3/2/263968832/cuts/124x150/cu...   \n",
       "\n",
       "                                          thumb62x75  \n",
       "0  /assets/images/3/9/8/263967398/cuts/62x75/cut.jpg  \n",
       "1  /assets/images/0/3/0/263968030/cuts/62x75/cut.jpg  \n",
       "2  /assets/images/6/1/8/263968618/cuts/62x75/cut.jpg  \n",
       "3  /assets/images/1/5/6/263969156/cuts/62x75/cut.jpg  \n",
       "4  /assets/images/8/3/2/263968832/cuts/62x75/cut.jpg  "
      ]
     },
     "execution_count": 35,
     "metadata": {},
     "output_type": "execute_result"
    }
   ],
   "source": [
    "# inspect the DataFrame\n",
    "df.head()"
   ]
  },
  {
   "cell_type": "code",
   "execution_count": 38,
   "metadata": {},
   "outputs": [],
   "source": [
    "# define unneeded columns to drop\n",
    "cols = ['photo180x218', 'photo360x436', 'thumb', 'thumb124x150', 'thumb62x75']\n",
    "\n",
    "# drop columns\n",
    "df.drop(cols, axis=1, inplace=True)"
   ]
  },
  {
   "cell_type": "code",
   "execution_count": 39,
   "metadata": {},
   "outputs": [
    {
     "data": {
      "text/html": [
       "<div>\n",
       "<style>\n",
       "    .dataframe thead tr:only-child th {\n",
       "        text-align: right;\n",
       "    }\n",
       "\n",
       "    .dataframe thead th {\n",
       "        text-align: left;\n",
       "    }\n",
       "\n",
       "    .dataframe tbody tr th {\n",
       "        vertical-align: top;\n",
       "    }\n",
       "</style>\n",
       "<table border=\"1\" class=\"dataframe\">\n",
       "  <thead>\n",
       "    <tr style=\"text-align: right;\">\n",
       "      <th></th>\n",
       "      <th>player_first_name</th>\n",
       "      <th>player_id</th>\n",
       "      <th>player_last_name</th>\n",
       "      <th>position</th>\n",
       "      <th>preseason100</th>\n",
       "      <th>preseason20</th>\n",
       "      <th>prospect_year</th>\n",
       "      <th>rank</th>\n",
       "      <th>team_file_code</th>\n",
       "    </tr>\n",
       "  </thead>\n",
       "  <tbody>\n",
       "    <tr>\n",
       "      <th>0</th>\n",
       "      <td>Nick</td>\n",
       "      <td>669222</td>\n",
       "      <td>Senzel</td>\n",
       "      <td>3B</td>\n",
       "      <td>7</td>\n",
       "      <td>1</td>\n",
       "      <td>2018</td>\n",
       "      <td>1</td>\n",
       "      <td>CIN</td>\n",
       "    </tr>\n",
       "    <tr>\n",
       "      <th>1</th>\n",
       "      <td>Hunter</td>\n",
       "      <td>668881</td>\n",
       "      <td>Greene</td>\n",
       "      <td>RHP</td>\n",
       "      <td>21</td>\n",
       "      <td>2</td>\n",
       "      <td>2018</td>\n",
       "      <td>2</td>\n",
       "      <td>CIN</td>\n",
       "    </tr>\n",
       "    <tr>\n",
       "      <th>2</th>\n",
       "      <td>Taylor</td>\n",
       "      <td>666211</td>\n",
       "      <td>Trammell</td>\n",
       "      <td>OF</td>\n",
       "      <td>43</td>\n",
       "      <td>3</td>\n",
       "      <td>2018</td>\n",
       "      <td>3</td>\n",
       "      <td>CIN</td>\n",
       "    </tr>\n",
       "    <tr>\n",
       "      <th>3</th>\n",
       "      <td>Jesse</td>\n",
       "      <td>608385</td>\n",
       "      <td>Winker</td>\n",
       "      <td>OF</td>\n",
       "      <td>82</td>\n",
       "      <td>4</td>\n",
       "      <td>2018</td>\n",
       "      <td>4</td>\n",
       "      <td>CIN</td>\n",
       "    </tr>\n",
       "    <tr>\n",
       "      <th>4</th>\n",
       "      <td>Tyler</td>\n",
       "      <td>641816</td>\n",
       "      <td>Mahle</td>\n",
       "      <td>RHP</td>\n",
       "      <td>84</td>\n",
       "      <td>5</td>\n",
       "      <td>2018</td>\n",
       "      <td>5</td>\n",
       "      <td>CIN</td>\n",
       "    </tr>\n",
       "  </tbody>\n",
       "</table>\n",
       "</div>"
      ],
      "text/plain": [
       "  player_first_name player_id player_last_name position preseason100  \\\n",
       "0              Nick    669222           Senzel       3B            7   \n",
       "1            Hunter    668881           Greene      RHP           21   \n",
       "2            Taylor    666211         Trammell       OF           43   \n",
       "3             Jesse    608385           Winker       OF           82   \n",
       "4             Tyler    641816            Mahle      RHP           84   \n",
       "\n",
       "  preseason20 prospect_year  rank team_file_code  \n",
       "0           1          2018     1            CIN  \n",
       "1           2          2018     2            CIN  \n",
       "2           3          2018     3            CIN  \n",
       "3           4          2018     4            CIN  \n",
       "4           5          2018     5            CIN  "
      ]
     },
     "execution_count": 39,
     "metadata": {},
     "output_type": "execute_result"
    }
   ],
   "source": [
    "# inspect the DataFrame\n",
    "df.head()"
   ]
  },
  {
   "cell_type": "code",
   "execution_count": 45,
   "metadata": {},
   "outputs": [
    {
     "data": {
      "text/plain": [
       "<matplotlib.axes._subplots.AxesSubplot at 0x7f120fa72588>"
      ]
     },
     "execution_count": 45,
     "metadata": {},
     "output_type": "execute_result"
    },
    {
     "data": {
      "image/png": "[encoded data removed]",
      "text/plain": [
       "<matplotlib.figure.Figure at 0x7f120fab4c18>"
      ]
     },
     "metadata": {},
     "output_type": "display_data"
    }
   ],
   "source": [
    "# count the number of players per team\n",
    "df['team_file_code'].value_counts().plot('bar')"
   ]
  },
  {
   "cell_type": "code",
   "execution_count": 46,
   "metadata": {},
   "outputs": [],
   "source": [
    "# write players to CSV\n",
    "df.to_csv('2018_mlb_prospect_players.csv', index=False)"
   ]
  }
 ],
 "metadata": {
  "kernelspec": {
   "display_name": "Python 3",
   "language": "python",
   "name": "python3"
  },
  "language_info": {
   "codemirror_mode": {
    "name": "ipython",
    "version": 3
   },
   "file_extension": ".py",
   "mimetype": "text/x-python",
   "name": "python",
   "nbconvert_exporter": "python",
   "pygments_lexer": "ipython3",
   "version": "3.5.4"
  }
 },
 "nbformat": 4,
 "nbformat_minor": 2
}
