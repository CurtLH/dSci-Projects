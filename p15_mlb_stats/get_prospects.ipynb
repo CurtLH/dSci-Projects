{
 "cells": [
  {
   "cell_type": "code",
   "execution_count": 1,
   "metadata": {
    "collapsed": true
   },
   "outputs": [],
   "source": [
    "import json\n",
    "import requests\n",
    "import pandas as pd"
   ]
  },
  {
   "cell_type": "code",
   "execution_count": 2,
   "metadata": {},
   "outputs": [
    {
     "name": "stdout",
     "output_type": "stream",
     "text": [
      "Populating the interactive namespace from numpy and matplotlib\n"
     ]
    }
   ],
   "source": [
    "%pylab inline"
   ]
  },
  {
   "cell_type": "code",
   "execution_count": 3,
   "metadata": {
    "collapsed": true
   },
   "outputs": [],
   "source": [
    "# set the default plot size\n",
    "pylab.rcParams['figure.figsize'] = (12, 6)"
   ]
  },
  {
   "cell_type": "code",
   "execution_count": 4,
   "metadata": {
    "collapsed": true
   },
   "outputs": [],
   "source": [
    "# get the information for all player propects\n",
    "r = requests.get(\"http://m.mlb.com/gen/players/prospects/2018/playerProspects.json\")"
   ]
  },
  {
   "cell_type": "code",
   "execution_count": 5,
   "metadata": {
    "collapsed": true
   },
   "outputs": [],
   "source": [
    "# write JSON data\n",
    "with open('2018_mlb_prospect_players.json', 'w') as f:\n",
    "    json.dump(r.text, f)"
   ]
  },
  {
   "cell_type": "code",
   "execution_count": 6,
   "metadata": {
    "collapsed": true
   },
   "outputs": [],
   "source": [
    "# read in JSON data\n",
    "prospects = json.loads(json.load(open('2018_mlb_prospect_players.json')))"
   ]
  },
  {
   "cell_type": "code",
   "execution_count": 7,
   "metadata": {},
   "outputs": [
    {
     "data": {
      "text/plain": [
       "dict_keys(['prospect_players', 'year', 'last_updated'])"
      ]
     },
     "execution_count": 7,
     "metadata": {},
     "output_type": "execute_result"
    }
   ],
   "source": [
    "# inspect the keys in the data\n",
    "prospects.keys()"
   ]
  },
  {
   "cell_type": "code",
   "execution_count": 8,
   "metadata": {},
   "outputs": [
    {
     "name": "stdout",
     "output_type": "stream",
     "text": [
      "Last Updated: 2018-03-11T16:28:18.753Z\n",
      "Year: 2018\n"
     ]
    }
   ],
   "source": [
    "# inspect the prospects\n",
    "print(\"Last Updated: {}\".format(prospects['last_updated']))\n",
    "print(\"Year: {}\".format(prospects['year']))"
   ]
  },
  {
   "cell_type": "code",
   "execution_count": 9,
   "metadata": {},
   "outputs": [
    {
     "data": {
      "text/plain": [
       "dict_keys(['kc', 'bal', 'atl', 'mil', 'chc', 'lhp', '3b', 'tex', 'sf', 'bos', 'ss', 'draft', 'col', 'cin', 'tb', 'nyy', 'det', 'ana', 'prospects', 'cle', '1b', 'tor', 'cws', 'c', 'sd', 'sea', 'rhp', 'pit', 'hou', 'stl', 'mia', 'phi', 'was', '2b', 'nym', 'oak', 'of', 'min', 'la', 'ari'])"
      ]
     },
     "execution_count": 9,
     "metadata": {},
     "output_type": "execute_result"
    }
   ],
   "source": [
    "# look at the keys in prospect_players\n",
    "prospects['prospect_players'].keys()"
   ]
  },
  {
   "cell_type": "code",
   "execution_count": 10,
   "metadata": {},
   "outputs": [
    {
     "data": {
      "text/plain": [
       "{'photo180x218': '/assets/images/7/5/8/264702758/cuts/180x218/cut.jpg',\n",
       " 'photo360x436': '/assets/images/7/5/8/264702758/cuts/360x436/cut.jpg',\n",
       " 'player_first_name': 'Michael',\n",
       " 'player_id': 656308,\n",
       " 'player_last_name': 'Chavis',\n",
       " 'position': '3B',\n",
       " 'preseason100': '',\n",
       " 'preseason20': 1,\n",
       " 'prospect_year': '2018',\n",
       " 'rank': 1,\n",
       " 'team_file_code': 'BOS',\n",
       " 'thumb': '/assets/images/7/5/8/264702758/cuts/74x74/cut.jpg',\n",
       " 'thumb124x150': '/assets/images/7/5/8/264702758/cuts/124x150/cut.jpg',\n",
       " 'thumb62x75': '/assets/images/7/5/8/264702758/cuts/62x75/cut.jpg'}"
      ]
     },
     "execution_count": 10,
     "metadata": {},
     "output_type": "execute_result"
    }
   ],
   "source": [
    "# look at the keys for the first player of a team\n",
    "prospects['prospect_players']['bos'][0]"
   ]
  },
  {
   "cell_type": "code",
   "execution_count": 11,
   "metadata": {
    "collapsed": true
   },
   "outputs": [],
   "source": [
    "# iterate over prospects players and pull out data\n",
    "players = []\n",
    "for team in prospects['prospect_players']:\n",
    "    players.extend(prospects['prospect_players'][team])"
   ]
  },
  {
   "cell_type": "code",
   "execution_count": 12,
   "metadata": {},
   "outputs": [
    {
     "data": {
      "text/plain": [
       "1130"
      ]
     },
     "execution_count": 12,
     "metadata": {},
     "output_type": "execute_result"
    }
   ],
   "source": [
    "# count how many players there are\n",
    "len(players)"
   ]
  },
  {
   "cell_type": "code",
   "execution_count": 13,
   "metadata": {},
   "outputs": [
    {
     "data": {
      "text/plain": [
       "{'photo180x218': '/assets/images/5/0/0/264120500/cuts/180x218/cut.jpg',\n",
       " 'photo360x436': '/assets/images/5/0/0/264120500/cuts/360x436/cut.jpg',\n",
       " 'player_first_name': 'Khalil',\n",
       " 'player_id': 666137,\n",
       " 'player_last_name': 'Lee',\n",
       " 'position': 'OF',\n",
       " 'preseason100': '',\n",
       " 'preseason20': 1,\n",
       " 'prospect_year': '2018',\n",
       " 'rank': 1,\n",
       " 'team_file_code': 'KC',\n",
       " 'thumb': '/assets/images/5/0/0/264120500/cuts/74x74/cut.jpg',\n",
       " 'thumb124x150': '/assets/images/5/0/0/264120500/cuts/124x150/cut.jpg',\n",
       " 'thumb62x75': '/assets/images/5/0/0/264120500/cuts/62x75/cut.jpg'}"
      ]
     },
     "execution_count": 13,
     "metadata": {},
     "output_type": "execute_result"
    }
   ],
   "source": [
    "# look at one player\n",
    "players[0]"
   ]
  },
  {
   "cell_type": "code",
   "execution_count": 14,
   "metadata": {
    "collapsed": true
   },
   "outputs": [],
   "source": [
    "# load players into DataFrame\n",
    "df = pd.DataFrame(players)"
   ]
  },
  {
   "cell_type": "code",
   "execution_count": 15,
   "metadata": {},
   "outputs": [
    {
     "data": {
      "text/html": [
       "<div>\n",
       "<style>\n",
       "    .dataframe thead tr:only-child th {\n",
       "        text-align: right;\n",
       "    }\n",
       "\n",
       "    .dataframe thead th {\n",
       "        text-align: left;\n",
       "    }\n",
       "\n",
       "    .dataframe tbody tr th {\n",
       "        vertical-align: top;\n",
       "    }\n",
       "</style>\n",
       "<table border=\"1\" class=\"dataframe\">\n",
       "  <thead>\n",
       "    <tr style=\"text-align: right;\">\n",
       "      <th></th>\n",
       "      <th>photo180x218</th>\n",
       "      <th>photo360x436</th>\n",
       "      <th>player_first_name</th>\n",
       "      <th>player_id</th>\n",
       "      <th>player_last_name</th>\n",
       "      <th>position</th>\n",
       "      <th>preseason100</th>\n",
       "      <th>preseason20</th>\n",
       "      <th>prospect_year</th>\n",
       "      <th>rank</th>\n",
       "      <th>team_file_code</th>\n",
       "      <th>thumb</th>\n",
       "      <th>thumb124x150</th>\n",
       "      <th>thumb62x75</th>\n",
       "    </tr>\n",
       "  </thead>\n",
       "  <tbody>\n",
       "    <tr>\n",
       "      <th>0</th>\n",
       "      <td>/assets/images/5/0/0/264120500/cuts/180x218/cu...</td>\n",
       "      <td>/assets/images/5/0/0/264120500/cuts/360x436/cu...</td>\n",
       "      <td>Khalil</td>\n",
       "      <td>666137</td>\n",
       "      <td>Lee</td>\n",
       "      <td>OF</td>\n",
       "      <td></td>\n",
       "      <td>1</td>\n",
       "      <td>2018</td>\n",
       "      <td>1</td>\n",
       "      <td>KC</td>\n",
       "      <td>/assets/images/5/0/0/264120500/cuts/74x74/cut.jpg</td>\n",
       "      <td>/assets/images/5/0/0/264120500/cuts/124x150/cu...</td>\n",
       "      <td>/assets/images/5/0/0/264120500/cuts/62x75/cut.jpg</td>\n",
       "    </tr>\n",
       "    <tr>\n",
       "      <th>1</th>\n",
       "      <td>/assets/images/6/2/4/264187624/cuts/180x218/cu...</td>\n",
       "      <td>/assets/images/6/2/4/264187624/cuts/360x436/cu...</td>\n",
       "      <td>Nick</td>\n",
       "      <td>668472</td>\n",
       "      <td>Pratto</td>\n",
       "      <td>1B</td>\n",
       "      <td></td>\n",
       "      <td>2</td>\n",
       "      <td>2018</td>\n",
       "      <td>2</td>\n",
       "      <td>KC</td>\n",
       "      <td>/assets/images/6/2/4/264187624/cuts/74x74/cut.jpg</td>\n",
       "      <td>/assets/images/6/2/4/264187624/cuts/124x150/cu...</td>\n",
       "      <td>/assets/images/6/2/4/264187624/cuts/62x75/cut.jpg</td>\n",
       "    </tr>\n",
       "    <tr>\n",
       "      <th>2</th>\n",
       "      <td>/assets/images/0/3/6/244123036/cuts/Matias_6qg...</td>\n",
       "      <td>/assets/images/0/3/6/244123036/cuts/Matias_6qg...</td>\n",
       "      <td>Seuly</td>\n",
       "      <td>665890</td>\n",
       "      <td>Matias</td>\n",
       "      <td>OF</td>\n",
       "      <td></td>\n",
       "      <td>3</td>\n",
       "      <td>2018</td>\n",
       "      <td>3</td>\n",
       "      <td>KC</td>\n",
       "      <td>/assets/images/0/3/6/244123036/cuts/Matias_6qg...</td>\n",
       "      <td>/assets/images/0/3/6/244123036/cuts/Matias_6qg...</td>\n",
       "      <td>/assets/images/0/3/6/244123036/cuts/Matias_6qg...</td>\n",
       "    </tr>\n",
       "    <tr>\n",
       "      <th>3</th>\n",
       "      <td>/assets/images/7/0/0/264121700/cuts/180x218/cu...</td>\n",
       "      <td>/assets/images/7/0/0/264121700/cuts/360x436/cu...</td>\n",
       "      <td>MJ</td>\n",
       "      <td>669004</td>\n",
       "      <td>Melendez</td>\n",
       "      <td>C</td>\n",
       "      <td></td>\n",
       "      <td>4</td>\n",
       "      <td>2018</td>\n",
       "      <td>4</td>\n",
       "      <td>KC</td>\n",
       "      <td>/assets/images/7/0/0/264121700/cuts/74x74/cut.jpg</td>\n",
       "      <td>/assets/images/7/0/0/264121700/cuts/124x150/cu...</td>\n",
       "      <td>/assets/images/7/0/0/264121700/cuts/62x75/cut.jpg</td>\n",
       "    </tr>\n",
       "    <tr>\n",
       "      <th>4</th>\n",
       "      <td>/assets/images/8/4/6/266443846/cuts/180x218/cu...</td>\n",
       "      <td>/assets/images/8/4/6/266443846/cuts/360x436/cu...</td>\n",
       "      <td>Michael</td>\n",
       "      <td>669377</td>\n",
       "      <td>Gigliotti</td>\n",
       "      <td>OF</td>\n",
       "      <td></td>\n",
       "      <td>5</td>\n",
       "      <td>2018</td>\n",
       "      <td>5</td>\n",
       "      <td>KC</td>\n",
       "      <td>/assets/images/8/4/6/266443846/cuts/74x74/cut.jpg</td>\n",
       "      <td>/assets/images/8/4/6/266443846/cuts/124x150/cu...</td>\n",
       "      <td>/assets/images/8/4/6/266443846/cuts/62x75/cut.jpg</td>\n",
       "    </tr>\n",
       "  </tbody>\n",
       "</table>\n",
       "</div>"
      ],
      "text/plain": [
       "                                        photo180x218  \\\n",
       "0  /assets/images/5/0/0/264120500/cuts/180x218/cu...   \n",
       "1  /assets/images/6/2/4/264187624/cuts/180x218/cu...   \n",
       "2  /assets/images/0/3/6/244123036/cuts/Matias_6qg...   \n",
       "3  /assets/images/7/0/0/264121700/cuts/180x218/cu...   \n",
       "4  /assets/images/8/4/6/266443846/cuts/180x218/cu...   \n",
       "\n",
       "                                        photo360x436 player_first_name  \\\n",
       "0  /assets/images/5/0/0/264120500/cuts/360x436/cu...            Khalil   \n",
       "1  /assets/images/6/2/4/264187624/cuts/360x436/cu...              Nick   \n",
       "2  /assets/images/0/3/6/244123036/cuts/Matias_6qg...             Seuly   \n",
       "3  /assets/images/7/0/0/264121700/cuts/360x436/cu...                MJ   \n",
       "4  /assets/images/8/4/6/266443846/cuts/360x436/cu...           Michael   \n",
       "\n",
       "  player_id player_last_name position preseason100 preseason20 prospect_year  \\\n",
       "0    666137              Lee       OF                        1          2018   \n",
       "1    668472           Pratto       1B                        2          2018   \n",
       "2    665890           Matias       OF                        3          2018   \n",
       "3    669004         Melendez        C                        4          2018   \n",
       "4    669377        Gigliotti       OF                        5          2018   \n",
       "\n",
       "   rank team_file_code                                              thumb  \\\n",
       "0     1             KC  /assets/images/5/0/0/264120500/cuts/74x74/cut.jpg   \n",
       "1     2             KC  /assets/images/6/2/4/264187624/cuts/74x74/cut.jpg   \n",
       "2     3             KC  /assets/images/0/3/6/244123036/cuts/Matias_6qg...   \n",
       "3     4             KC  /assets/images/7/0/0/264121700/cuts/74x74/cut.jpg   \n",
       "4     5             KC  /assets/images/8/4/6/266443846/cuts/74x74/cut.jpg   \n",
       "\n",
       "                                        thumb124x150  \\\n",
       "0  /assets/images/5/0/0/264120500/cuts/124x150/cu...   \n",
       "1  /assets/images/6/2/4/264187624/cuts/124x150/cu...   \n",
       "2  /assets/images/0/3/6/244123036/cuts/Matias_6qg...   \n",
       "3  /assets/images/7/0/0/264121700/cuts/124x150/cu...   \n",
       "4  /assets/images/8/4/6/266443846/cuts/124x150/cu...   \n",
       "\n",
       "                                          thumb62x75  \n",
       "0  /assets/images/5/0/0/264120500/cuts/62x75/cut.jpg  \n",
       "1  /assets/images/6/2/4/264187624/cuts/62x75/cut.jpg  \n",
       "2  /assets/images/0/3/6/244123036/cuts/Matias_6qg...  \n",
       "3  /assets/images/7/0/0/264121700/cuts/62x75/cut.jpg  \n",
       "4  /assets/images/8/4/6/266443846/cuts/62x75/cut.jpg  "
      ]
     },
     "execution_count": 15,
     "metadata": {},
     "output_type": "execute_result"
    }
   ],
   "source": [
    "# inspect the DataFrame\n",
    "df.head()"
   ]
  },
  {
   "cell_type": "code",
   "execution_count": 16,
   "metadata": {
    "collapsed": true
   },
   "outputs": [],
   "source": [
    "# define unneeded columns to drop\n",
    "cols = ['photo180x218', 'photo360x436', 'thumb', 'thumb124x150', 'thumb62x75']\n",
    "\n",
    "# drop columns\n",
    "df.drop(cols, axis=1, inplace=True)"
   ]
  },
  {
   "cell_type": "code",
   "execution_count": 17,
   "metadata": {},
   "outputs": [
    {
     "data": {
      "text/html": [
       "<div>\n",
       "<style>\n",
       "    .dataframe thead tr:only-child th {\n",
       "        text-align: right;\n",
       "    }\n",
       "\n",
       "    .dataframe thead th {\n",
       "        text-align: left;\n",
       "    }\n",
       "\n",
       "    .dataframe tbody tr th {\n",
       "        vertical-align: top;\n",
       "    }\n",
       "</style>\n",
       "<table border=\"1\" class=\"dataframe\">\n",
       "  <thead>\n",
       "    <tr style=\"text-align: right;\">\n",
       "      <th></th>\n",
       "      <th>player_first_name</th>\n",
       "      <th>player_id</th>\n",
       "      <th>player_last_name</th>\n",
       "      <th>position</th>\n",
       "      <th>preseason100</th>\n",
       "      <th>preseason20</th>\n",
       "      <th>prospect_year</th>\n",
       "      <th>rank</th>\n",
       "      <th>team_file_code</th>\n",
       "    </tr>\n",
       "  </thead>\n",
       "  <tbody>\n",
       "    <tr>\n",
       "      <th>0</th>\n",
       "      <td>Khalil</td>\n",
       "      <td>666137</td>\n",
       "      <td>Lee</td>\n",
       "      <td>OF</td>\n",
       "      <td></td>\n",
       "      <td>1</td>\n",
       "      <td>2018</td>\n",
       "      <td>1</td>\n",
       "      <td>KC</td>\n",
       "    </tr>\n",
       "    <tr>\n",
       "      <th>1</th>\n",
       "      <td>Nick</td>\n",
       "      <td>668472</td>\n",
       "      <td>Pratto</td>\n",
       "      <td>1B</td>\n",
       "      <td></td>\n",
       "      <td>2</td>\n",
       "      <td>2018</td>\n",
       "      <td>2</td>\n",
       "      <td>KC</td>\n",
       "    </tr>\n",
       "    <tr>\n",
       "      <th>2</th>\n",
       "      <td>Seuly</td>\n",
       "      <td>665890</td>\n",
       "      <td>Matias</td>\n",
       "      <td>OF</td>\n",
       "      <td></td>\n",
       "      <td>3</td>\n",
       "      <td>2018</td>\n",
       "      <td>3</td>\n",
       "      <td>KC</td>\n",
       "    </tr>\n",
       "    <tr>\n",
       "      <th>3</th>\n",
       "      <td>MJ</td>\n",
       "      <td>669004</td>\n",
       "      <td>Melendez</td>\n",
       "      <td>C</td>\n",
       "      <td></td>\n",
       "      <td>4</td>\n",
       "      <td>2018</td>\n",
       "      <td>4</td>\n",
       "      <td>KC</td>\n",
       "    </tr>\n",
       "    <tr>\n",
       "      <th>4</th>\n",
       "      <td>Michael</td>\n",
       "      <td>669377</td>\n",
       "      <td>Gigliotti</td>\n",
       "      <td>OF</td>\n",
       "      <td></td>\n",
       "      <td>5</td>\n",
       "      <td>2018</td>\n",
       "      <td>5</td>\n",
       "      <td>KC</td>\n",
       "    </tr>\n",
       "  </tbody>\n",
       "</table>\n",
       "</div>"
      ],
      "text/plain": [
       "  player_first_name player_id player_last_name position preseason100  \\\n",
       "0            Khalil    666137              Lee       OF                \n",
       "1              Nick    668472           Pratto       1B                \n",
       "2             Seuly    665890           Matias       OF                \n",
       "3                MJ    669004         Melendez        C                \n",
       "4           Michael    669377        Gigliotti       OF                \n",
       "\n",
       "  preseason20 prospect_year  rank team_file_code  \n",
       "0           1          2018     1             KC  \n",
       "1           2          2018     2             KC  \n",
       "2           3          2018     3             KC  \n",
       "3           4          2018     4             KC  \n",
       "4           5          2018     5             KC  "
      ]
     },
     "execution_count": 17,
     "metadata": {},
     "output_type": "execute_result"
    }
   ],
   "source": [
    "# inspect the DataFrame\n",
    "df.head()"
   ]
  },
  {
   "cell_type": "code",
   "execution_count": 18,
   "metadata": {},
   "outputs": [
    {
     "data": {
      "text/plain": [
       "<matplotlib.axes._subplots.AxesSubplot at 0x7ffa14d1a128>"
      ]
     },
     "execution_count": 18,
     "metadata": {},
     "output_type": "execute_result"
    },
    {
     "data": {
      "image/png": "[encoded data removed]",
      "text/plain": [
       "<matplotlib.figure.Figure at 0x7ffa13a37048>"
      ]
     },
     "metadata": {},
     "output_type": "display_data"
    }
   ],
   "source": [
    "# count the number of players per team\n",
    "df['team_file_code'].value_counts().plot('bar')"
   ]
  },
  {
   "cell_type": "code",
   "execution_count": 19,
   "metadata": {
    "collapsed": true
   },
   "outputs": [],
   "source": [
    "# write players to CSV\n",
    "df.to_csv('2018_mlb_prospect_players.csv', index=False)"
   ]
  }
 ],
 "metadata": {
  "kernelspec": {
   "display_name": "Python 3",
   "language": "python",
   "name": "python3"
  },
  "language_info": {
   "codemirror_mode": {
    "name": "ipython",
    "version": 3
   },
   "file_extension": ".py",
   "mimetype": "text/x-python",
   "name": "python",
   "nbconvert_exporter": "python",
   "pygments_lexer": "ipython3",
   "version": "3.5.4"
  }
 },
 "nbformat": 4,
 "nbformat_minor": 2
}
