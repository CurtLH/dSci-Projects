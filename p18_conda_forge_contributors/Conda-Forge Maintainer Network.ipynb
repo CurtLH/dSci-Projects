{
 "cells": [
  {
   "cell_type": "code",
   "execution_count": 1,
   "metadata": {},
   "outputs": [],
   "source": [
    "import requests\n",
    "from bs4 import BeautifulSoup"
   ]
  },
  {
   "cell_type": "code",
   "execution_count": 2,
   "metadata": {},
   "outputs": [
    {
     "data": {
      "text/plain": [
       "200"
      ]
     },
     "execution_count": 2,
     "metadata": {},
     "output_type": "execute_result"
    }
   ],
   "source": [
    "# get webpage with all packages\n",
    "r = requests.get('https://conda-forge.org/feedstocks/')\n",
    "\n",
    "# check the status code returned\n",
    "r.status_code"
   ]
  },
  {
   "cell_type": "code",
   "execution_count": 3,
   "metadata": {},
   "outputs": [
    {
     "data": {
      "text/plain": [
       "['https://github.com/conda-forge/ablog-feedstock',\n",
       " 'https://github.com/conda-forge/absl-py-feedstock',\n",
       " 'https://github.com/conda-forge/ad3-cpp-feedstock']"
      ]
     },
     "execution_count": 3,
     "metadata": {},
     "output_type": "execute_result"
    }
   ],
   "source": [
    "# parse the response to get package names\n",
    "soup = BeautifulSoup(r.content, \"lxml\")\n",
    "table = soup.find(\"section\", {\"id\": \"feedstocks\"})\n",
    "links = [a['href'] for a in table.findAll('a')]\n",
    "\n",
    "# inspect the links\n",
    "links[:3]"
   ]
  },
  {
   "cell_type": "code",
   "execution_count": 4,
   "metadata": {},
   "outputs": [
    {
     "data": {
      "text/plain": [
       "['ablog', 'absl-py', 'ad3-cpp']"
      ]
     },
     "execution_count": 4,
     "metadata": {},
     "output_type": "execute_result"
    }
   ],
   "source": [
    "# grab just the package names from the links\n",
    "packages = [line.split('/')[-1].replace('-feedstock', '') for line in links]\n",
    "\n",
    "# inspect the packages\n",
    "packages[:3]"
   ]
  },
  {
   "cell_type": "code",
   "execution_count": 5,
   "metadata": {},
   "outputs": [
    {
     "name": "stdout",
     "output_type": "stream",
     "text": [
      "Error with r-abind\n",
      "Error with r-suppdists\n",
      "Error with trilinos\n"
     ]
    }
   ],
   "source": [
    "# iterate over packages and get the grab meta.yaml\n",
    "meta = {}\n",
    "for pkg in packages:\n",
    "    meta[pkg] = {}\n",
    "    url = 'https://raw.githubusercontent.com/conda-forge/{}-feedstock/master/recipe/meta.yaml'.format(pkg)\n",
    "    r = requests.get(url)\n",
    "    if r.status_code == 200:\n",
    "        meta[pkg]['response'] = r.text\n",
    "    else:\n",
    "        print(\"Error with {}\".format(pkg))"
   ]
  },
  {
   "cell_type": "code",
   "execution_count": 6,
   "metadata": {},
   "outputs": [
    {
     "ename": "RuntimeError",
     "evalue": "dictionary changed size during iteration",
     "output_type": "error",
     "traceback": [
      "\u001b[0;31m---------------------------------------------------------------------------\u001b[0m",
      "\u001b[0;31mRuntimeError\u001b[0m                              Traceback (most recent call last)",
      "\u001b[0;32m<ipython-input-6-7f2e4a4a85e0>\u001b[0m in \u001b[0;36m<module>\u001b[0;34m()\u001b[0m\n\u001b[1;32m      1\u001b[0m \u001b[0;31m# find where the maintainers line starts\u001b[0m\u001b[0;34m\u001b[0m\u001b[0;34m\u001b[0m\u001b[0m\n\u001b[0;32m----> 2\u001b[0;31m \u001b[0;32mfor\u001b[0m \u001b[0mpkg\u001b[0m \u001b[0;32min\u001b[0m \u001b[0mmeta\u001b[0m\u001b[0;34m:\u001b[0m\u001b[0;34m\u001b[0m\u001b[0m\n\u001b[0m\u001b[1;32m      3\u001b[0m \u001b[0;34m\u001b[0m\u001b[0m\n\u001b[1;32m      4\u001b[0m     \u001b[0;32mif\u001b[0m \u001b[0mmeta\u001b[0m\u001b[0;34m[\u001b[0m\u001b[0mpkg\u001b[0m\u001b[0;34m]\u001b[0m \u001b[0;34m==\u001b[0m \u001b[0;34m{\u001b[0m\u001b[0;34m}\u001b[0m\u001b[0;34m:\u001b[0m\u001b[0;34m\u001b[0m\u001b[0m\n\u001b[1;32m      5\u001b[0m         \u001b[0;32mdel\u001b[0m \u001b[0mmeta\u001b[0m\u001b[0;34m[\u001b[0m\u001b[0mpkg\u001b[0m\u001b[0;34m]\u001b[0m\u001b[0;34m\u001b[0m\u001b[0m\n",
      "\u001b[0;31mRuntimeError\u001b[0m: dictionary changed size during iteration"
     ]
    }
   ],
   "source": [
    "# find where the maintainers line starts\n",
    "for pkg in meta:\n",
    "\n",
    "    if meta[pkg] == {}:\n",
    "        del meta[pkg]\n",
    "    \n",
    "    else:\n",
    "        text = meta[pkg]['response'].split('\\n')\n",
    "        for i, line in enumerate(text):\n",
    "            if 'recipe-maintainers' in line:\n",
    "                break\n",
    "\n",
    "        # grab the text from the maintainers section\n",
    "        maintainers = text[i+1: ]\n",
    "\n",
    "        # clean up the maintainers text\n",
    "        maintainers_clean = []\n",
    "        for m in maintainers:\n",
    "            line = m.strip()\n",
    "            if line != '' and not line.startswith('#'):\n",
    "                maintainers_clean.append(line.replace('-', '').replace(' ', ''))\n",
    "\n",
    "        # store the maintainers in meta dict\n",
    "        meta[pkg]['maintainers'] = maintainers_clean"
   ]
  },
  {
   "cell_type": "code",
   "execution_count": null,
   "metadata": {},
   "outputs": [],
   "source": [
    "import networkx as nx\n",
    "from networkx.algorithms import bipartite\n",
    "\n",
    "# add packages and maintainers to a bipartite graph\n",
    "B = nx.Graph()\n",
    "\n",
    "# add packages\n",
    "packages = set()\n",
    "for pkg in meta.keys():\n",
    "    if pkg != '':\n",
    "        packages.add(pkg)\n",
    "B.add_nodes_from(packages, bipartite=0)\n",
    "\n",
    "# add authors\n",
    "authors = set()\n",
    "for pkg in meta.keys():\n",
    "    for maintainer in meta[pkg]['maintainers']:\n",
    "        if maintainer != '':\n",
    "            authors.add(maintainer)\n",
    "B.add_nodes_from(authors, bipartite=1)\n",
    "\n",
    "# add edges\n",
    "edges = []\n",
    "for pkg in meta:\n",
    "    for maintainer in meta[pkg]['maintainers']:\n",
    "        edges.append((pkg, maintainer))\n",
    "B.add_edges_from(edges)"
   ]
  },
  {
   "cell_type": "code",
   "execution_count": null,
   "metadata": {},
   "outputs": [],
   "source": [
    "# inspect the packages\n",
    "list(packages)[:5]"
   ]
  },
  {
   "cell_type": "code",
   "execution_count": null,
   "metadata": {},
   "outputs": [],
   "source": [
    "# inspect the authors\n",
    "list(authors)[:5]"
   ]
  },
  {
   "cell_type": "code",
   "execution_count": null,
   "metadata": {
    "scrolled": true
   },
   "outputs": [],
   "source": [
    "# inspect the edges\n",
    "edges[:5]"
   ]
  },
  {
   "cell_type": "code",
   "execution_count": null,
   "metadata": {},
   "outputs": [],
   "source": [
    "# check if the graph is connected\n",
    "nx.is_connected(B)"
   ]
  },
  {
   "cell_type": "code",
   "execution_count": null,
   "metadata": {},
   "outputs": [],
   "source": [
    "# grab the largest component\n",
    "nx.number_connected_components(B)"
   ]
  },
  {
   "cell_type": "code",
   "execution_count": null,
   "metadata": {
    "collapsed": true
   },
   "outputs": [],
   "source": [
    "# project bipartitle graph\n",
    "G = bipartite.weighted_projected_graph(B, authors)"
   ]
  },
  {
   "cell_type": "code",
   "execution_count": null,
   "metadata": {
    "collapsed": true
   },
   "outputs": [],
   "source": [
    "# grab the largest component\n",
    "G = max(nx.connected_component_subgraphs(G), key=len)"
   ]
  },
  {
   "cell_type": "code",
   "execution_count": null,
   "metadata": {},
   "outputs": [],
   "source": [
    "# inspect the edges\n",
    "list(G.edges(data=True))[:5]"
   ]
  },
  {
   "cell_type": "code",
   "execution_count": null,
   "metadata": {
    "collapsed": true
   },
   "outputs": [],
   "source": [
    "import pandas as pd"
   ]
  },
  {
   "cell_type": "code",
   "execution_count": null,
   "metadata": {},
   "outputs": [],
   "source": [
    "# put nodes into a DataFrame\n",
    "nodes = pd.DataFrame([(node) for node in G.nodes], columns=['name'])\n",
    "\n",
    "# create a copy of the index\n",
    "nodes['index_copy'] = nodes.index\n",
    "\n",
    "nodes.head()"
   ]
  },
  {
   "cell_type": "code",
   "execution_count": null,
   "metadata": {},
   "outputs": [],
   "source": [
    "# put edges into a DataFrame\n",
    "edges = pd.DataFrame(list(G.edges), columns=['source', 'target'])\n",
    "\n",
    "# replace name with id\n",
    "edges1 = pd.merge(edges, nodes, left_on='source', right_on='name')\n",
    "edges1 = edges1.rename({'index_copy': 'source_id'}, axis=1)\n",
    "edges2 = pd.merge(edges1, nodes, left_on='target', right_on='name')\n",
    "edges2 = edges2.rename({'index_copy': 'target_id'}, axis=1)\n",
    "\n",
    "# subset to columns and rename\n",
    "edges = edges2[['source_id', 'target_id']]\n",
    "edges = edges.rename({'source_id': 'source', 'target_id': 'target'}, axis=1)\n",
    "\n",
    "# drop the index_copy column\n",
    "nodes.drop('index_copy', axis=1, inplace=True)"
   ]
  },
  {
   "cell_type": "code",
   "execution_count": null,
   "metadata": {},
   "outputs": [],
   "source": [
    "import holoviews as hv\n",
    "hv.extension('bokeh')"
   ]
  },
  {
   "cell_type": "code",
   "execution_count": null,
   "metadata": {
    "collapsed": true
   },
   "outputs": [],
   "source": [
    "%opts Nodes Graph [width=800 height=600 xaxis=None yaxis=None]"
   ]
  },
  {
   "cell_type": "code",
   "execution_count": null,
   "metadata": {},
   "outputs": [],
   "source": [
    "%%opts Graph [color_index='circle']\n",
    "%%opts Graph (node_size=5 edge_line_width=0.25)\n",
    "graph = hv.Graph.from_networkx(G, nx.spring_layout)\n",
    "graph = graph.redim.range(x=(-0.05, 1.05), y=(-0.05, 1.05))\n",
    "\n",
    "graph"
   ]
  },
  {
   "cell_type": "code",
   "execution_count": null,
   "metadata": {},
   "outputs": [],
   "source": [
    "from holoviews.operation.datashader import datashade, bundle_graph\n",
    "\n",
    "bundled = bundle_graph(graph)\n",
    "bundled"
   ]
  },
  {
   "cell_type": "code",
   "execution_count": null,
   "metadata": {
    "collapsed": true
   },
   "outputs": [],
   "source": []
  }
 ],
 "metadata": {
  "kernelspec": {
   "display_name": "Python 3",
   "language": "python",
   "name": "python3"
  },
  "language_info": {
   "codemirror_mode": {
    "name": "ipython",
    "version": 3
   },
   "file_extension": ".py",
   "mimetype": "text/x-python",
   "name": "python",
   "nbconvert_exporter": "python",
   "pygments_lexer": "ipython3",
   "version": "3.5.4"
  }
 },
 "nbformat": 4,
 "nbformat_minor": 2
}
