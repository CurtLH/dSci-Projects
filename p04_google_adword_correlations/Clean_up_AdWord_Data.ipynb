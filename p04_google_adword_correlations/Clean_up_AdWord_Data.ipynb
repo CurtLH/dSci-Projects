{
 "cells": [
  {
   "cell_type": "code",
   "execution_count": 1,
   "metadata": {
    "collapsed": false
   },
   "outputs": [],
   "source": [
    "import csv\n",
    "import re\n",
    "import nltk\n",
    "from nltk.corpus import stopwords\n",
    "from collections import Counter"
   ]
  },
  {
   "cell_type": "code",
   "execution_count": 2,
   "metadata": {
    "collapsed": true
   },
   "outputs": [],
   "source": [
    "# load the data from Google Ad Words into a list of dicts\n",
    "with open('bbqguys_31oct2015_31oct2016.csv') as f:\n",
    "    ads = list(csv.DictReader(f))"
   ]
  },
  {
   "cell_type": "code",
   "execution_count": 3,
   "metadata": {
    "collapsed": false
   },
   "outputs": [],
   "source": [
    "# extract the relevant colummns into a new dict\n",
    "data = []\n",
    "for line in ads:\n",
    "    row = {'Ad ID' : line['Ad ID'], \n",
    "           'Ad group' : line['Ad group'],\n",
    "           'Ad state' : line['Ad state'],\n",
    "           'Bounce rate' : line['Bounce rate'], \n",
    "           'CTR' : line['CTR'],\n",
    "           'Conv. rate' : line['Conv. rate'],\n",
    "           'Description' : line['Description'],\n",
    "           'Description line 1' : line['Description line 1'],\n",
    "           'Description line 2' : line['Description line 2'],\n",
    "           }\n",
    "    data.append(row)"
   ]
  },
  {
   "cell_type": "code",
   "execution_count": 4,
   "metadata": {
    "collapsed": true
   },
   "outputs": [],
   "source": [
    "# convert the percent values to floats\n",
    "fields = [\"Bounce rate\", \"CTR\", \"Conv. rate\"]\n",
    "for line in data:\n",
    "    for item in fields:\n",
    "        line[item] = float(line[item].replace(\"%\", \"\"))"
   ]
  },
  {
   "cell_type": "code",
   "execution_count": 5,
   "metadata": {
    "collapsed": false
   },
   "outputs": [],
   "source": [
    "# combine all descriptions into one\n",
    "for line in data:\n",
    "    line['Full description'] = line['Description'] + \" \" + line['Description line 1'] + \" \" + line['Description line 2']\n",
    "    line['Description Length'] = len(line['Full description'])"
   ]
  },
  {
   "cell_type": "code",
   "execution_count": 6,
   "metadata": {
    "collapsed": false
   },
   "outputs": [
    {
     "data": {
      "text/plain": [
       "{'Ad ID': '85878522126',\n",
       " 'Ad group': 'Blaze 25 Inch Grills',\n",
       " 'Ad state': 'paused',\n",
       " 'Bounce rate': 0.0,\n",
       " 'CTR': 0.0,\n",
       " 'Conv. rate': 0.0,\n",
       " 'Description': '',\n",
       " 'Description Length': 64,\n",
       " 'Description line 1': 'Save 20% On All Blaze Grills.',\n",
       " 'Description line 2': 'Free & Fast Shipping. Shop Today!',\n",
       " 'Full description': ' Save 20% On All Blaze Grills. Free & Fast Shipping. Shop Today!'}"
      ]
     },
     "execution_count": 6,
     "metadata": {},
     "output_type": "execute_result"
    }
   ],
   "source": [
    "data[0]"
   ]
  },
  {
   "cell_type": "code",
   "execution_count": 7,
   "metadata": {
    "collapsed": false
   },
   "outputs": [],
   "source": [
    "# remove any non-letter from the full description and replace them with spaces, and convert words into lowercase and split\n",
    "for line in data:\n",
    "    letters = re.sub(\"[^a-zA-Z]\", \" \", line['Full description'])\n",
    "    line['Description words'] = set(letters.lower().split(' '))"
   ]
  },
  {
   "cell_type": "code",
   "execution_count": 8,
   "metadata": {
    "collapsed": false
   },
   "outputs": [
    {
     "data": {
      "text/plain": [
       "{'Ad ID': '85878522126',\n",
       " 'Ad group': 'Blaze 25 Inch Grills',\n",
       " 'Ad state': 'paused',\n",
       " 'Bounce rate': 0.0,\n",
       " 'CTR': 0.0,\n",
       " 'Conv. rate': 0.0,\n",
       " 'Description': '',\n",
       " 'Description Length': 64,\n",
       " 'Description line 1': 'Save 20% On All Blaze Grills.',\n",
       " 'Description line 2': 'Free & Fast Shipping. Shop Today!',\n",
       " 'Description words': {'',\n",
       "  'all',\n",
       "  'blaze',\n",
       "  'fast',\n",
       "  'free',\n",
       "  'grills',\n",
       "  'on',\n",
       "  'save',\n",
       "  'shipping',\n",
       "  'shop',\n",
       "  'today'},\n",
       " 'Full description': ' Save 20% On All Blaze Grills. Free & Fast Shipping. Shop Today!'}"
      ]
     },
     "execution_count": 8,
     "metadata": {},
     "output_type": "execute_result"
    }
   ],
   "source": [
    "data[0]"
   ]
  },
  {
   "cell_type": "code",
   "execution_count": 9,
   "metadata": {
    "collapsed": false
   },
   "outputs": [],
   "source": [
    "# extract non-stopwords from the words in the description\n",
    "stopwrds = set(stopwords.words(\"english\"))\n",
    "for line in data:\n",
    "    line['Clean words'] = line['Description words'].difference(stopwrds)"
   ]
  },
  {
   "cell_type": "code",
   "execution_count": 10,
   "metadata": {
    "collapsed": false
   },
   "outputs": [
    {
     "data": {
      "text/plain": [
       "{'Ad ID': '85878522126',\n",
       " 'Ad group': 'Blaze 25 Inch Grills',\n",
       " 'Ad state': 'paused',\n",
       " 'Bounce rate': 0.0,\n",
       " 'CTR': 0.0,\n",
       " 'Clean words': {'',\n",
       "  'blaze',\n",
       "  'fast',\n",
       "  'free',\n",
       "  'grills',\n",
       "  'save',\n",
       "  'shipping',\n",
       "  'shop',\n",
       "  'today'},\n",
       " 'Conv. rate': 0.0,\n",
       " 'Description': '',\n",
       " 'Description Length': 64,\n",
       " 'Description line 1': 'Save 20% On All Blaze Grills.',\n",
       " 'Description line 2': 'Free & Fast Shipping. Shop Today!',\n",
       " 'Description words': {'',\n",
       "  'all',\n",
       "  'blaze',\n",
       "  'fast',\n",
       "  'free',\n",
       "  'grills',\n",
       "  'on',\n",
       "  'save',\n",
       "  'shipping',\n",
       "  'shop',\n",
       "  'today'},\n",
       " 'Full description': ' Save 20% On All Blaze Grills. Free & Fast Shipping. Shop Today!'}"
      ]
     },
     "execution_count": 10,
     "metadata": {},
     "output_type": "execute_result"
    }
   ],
   "source": [
    "data[0]"
   ]
  },
  {
   "cell_type": "code",
   "execution_count": 11,
   "metadata": {
    "collapsed": false
   },
   "outputs": [],
   "source": [
    "# get a list of all clean words in all ads\n",
    "all_words = []\n",
    "for line in data:\n",
    "    for word in line['Clean words']:\n",
    "        if word != '' and len(word) > 3:\n",
    "            all_words.append(word)"
   ]
  },
  {
   "cell_type": "code",
   "execution_count": 12,
   "metadata": {
    "collapsed": false
   },
   "outputs": [
    {
     "data": {
      "text/plain": [
       "{'accessories',\n",
       " 'deals',\n",
       " 'expert',\n",
       " 'fast',\n",
       " 'free',\n",
       " 'grill',\n",
       " 'grilling',\n",
       " 'grills',\n",
       " 'kitchens',\n",
       " 'lifetime',\n",
       " 'lynx',\n",
       " 'online',\n",
       " 'orders',\n",
       " 'outdoor',\n",
       " 'prices',\n",
       " 'reviews',\n",
       " 'save',\n",
       " 'selection',\n",
       " 'ship',\n",
       " 'shipping',\n",
       " 'shop',\n",
       " 'today',\n",
       " 'videos',\n",
       " 'warranty',\n",
       " 'weber'}"
      ]
     },
     "execution_count": 12,
     "metadata": {},
     "output_type": "execute_result"
    }
   ],
   "source": [
    "# get a count of the most common words used\n",
    "top25_words = Counter(all_words).most_common(25)\n",
    "top25_words = set(line[0] for line in top25_words)\n",
    "top25_words"
   ]
  },
  {
   "cell_type": "code",
   "execution_count": 13,
   "metadata": {
    "collapsed": false
   },
   "outputs": [],
   "source": [
    "# create an indicator variable for each word to tell if it's present in the clean ad words\n",
    "for line in data:\n",
    "    for word in top25_words:\n",
    "        if word in line['Clean words']:\n",
    "            line[word] = 1\n",
    "        else:\n",
    "            line[word] = 0"
   ]
  },
  {
   "cell_type": "code",
   "execution_count": 14,
   "metadata": {
    "collapsed": false
   },
   "outputs": [],
   "source": [
    "with open('AdWords_Clean.csv', 'w') as f:\n",
    "    writer = csv.DictWriter(f, data[0].keys())\n",
    "    writer.writeheader()\n",
    "    writer.writerows(data)"
   ]
  },
  {
   "cell_type": "code",
   "execution_count": null,
   "metadata": {
    "collapsed": true
   },
   "outputs": [],
   "source": []
  }
 ],
 "metadata": {
  "kernelspec": {
   "display_name": "Python 2",
   "language": "python",
   "name": "python2"
  },
  "language_info": {
   "codemirror_mode": {
    "name": "ipython",
    "version": 2
   },
   "file_extension": ".py",
   "mimetype": "text/x-python",
   "name": "python",
   "nbconvert_exporter": "python",
   "pygments_lexer": "ipython2",
   "version": "2.7.12"
  }
 },
 "nbformat": 4,
 "nbformat_minor": 0
}
