{
 "cells": [
  {
   "cell_type": "code",
   "execution_count": 68,
   "metadata": {},
   "outputs": [],
   "source": [
    "import requests\n",
    "from bs4 import BeautifulSoup as bs\n",
    "from pprint import pprint\n",
    "from collections import defaultdict\n",
    "import json\n",
    "import csv"
   ]
  },
  {
   "cell_type": "code",
   "execution_count": 5,
   "metadata": {},
   "outputs": [
    {
     "data": {
      "text/plain": [
       "165"
      ]
     },
     "execution_count": 5,
     "metadata": {},
     "output_type": "execute_result"
    }
   ],
   "source": [
    "urls = []\n",
    "r = requests.get(\"https://www.apple.com/shop/refurbished/mac/macbook-pro\")\n",
    "soup = bs(r.content, \"html.parser\")\n",
    "ads = soup.find(\"div\",{\"class\":\"refurbished-category-grid-no-js\"})\n",
    "for a in ads.find_all('a', href=True):\n",
    "    urls.append(\"https://www.apple.com\" + a['href'])\n",
    "    \n",
    "len(urls)"
   ]
  },
  {
   "cell_type": "code",
   "execution_count": 36,
   "metadata": {},
   "outputs": [],
   "source": [
    "def get_specs(soup):\n",
    "    \n",
    "    specs = defaultdict(list)\n",
    "    section = soup.find(\"div\",{\"class\":\"as-productinfosection-panel TechSpecs-panel row\"})\n",
    "    for cat in section.select('.h4-para-title'):\n",
    "        k = cat.text.strip()\n",
    "        for item in cat.find_next_siblings():\n",
    "            if item.name != 'div':\n",
    "                break\n",
    "            else:\n",
    "                specs[k.lower()].append(item.text.strip().lower())\n",
    "        \n",
    "    return dict(specs)"
   ]
  },
  {
   "cell_type": "code",
   "execution_count": 37,
   "metadata": {},
   "outputs": [],
   "source": [
    "def get_price(soup):\n",
    "    \n",
    "    price = soup.find(\"div\",{\"class\":\"as-price-currentprice as-pdp-currentprice as-pdp-refurbishedprice\"})\n",
    "    price = price.findAll('span')[0]\n",
    "    price = price.getText().replace(\"\\n\", \"\").strip()\n",
    "    price = price.replace('$', '').replace(',', '')\n",
    "    price = float(price)\n",
    "    \n",
    "    return price"
   ]
  },
  {
   "cell_type": "code",
   "execution_count": 38,
   "metadata": {},
   "outputs": [],
   "source": [
    "def get_date(soup):\n",
    "    \n",
    "    specs = soup.find(\"div\",{\"class\":\"as-productinfosection-mainpanel column large-9 small-12\"})\n",
    "    for tag in specs.findAll('p'):\n",
    "        parsed = tag.getText()\n",
    "        if 'released' in parsed:\n",
    "            date = parsed.replace(\"\\n\", \"\").strip().lower()\n",
    "            break\n",
    "        else:\n",
    "            date = \"\"\n",
    "            \n",
    "    return date"
   ]
  },
  {
   "cell_type": "code",
   "execution_count": 39,
   "metadata": {},
   "outputs": [],
   "source": [
    "def get_screen(soup):\n",
    "    \n",
    "    specs = soup.find(\"div\",{\"class\":\"as-productinfosection-mainpanel column large-9 small-12\"})\n",
    "    for tag in specs.findAll('p'):\n",
    "        parsed = tag.getText()\n",
    "        if '-inch' in parsed.lower() and not parsed.startswith('http'):\n",
    "            screen = parsed.replace(\"\\n\", \"\").strip().lower()\n",
    "            break\n",
    "        else:\n",
    "            screen = \"\"\n",
    "            \n",
    "    return screen"
   ]
  },
  {
   "cell_type": "code",
   "execution_count": 40,
   "metadata": {},
   "outputs": [],
   "source": [
    "def get_details(soup):\n",
    "    \n",
    "    specs = get_specs(soup)\n",
    "    specs['price'] = get_price(soup)\n",
    "    specs['date'] = get_date(soup)\n",
    "    specs['screen'] = get_screen(soup).strip().lower()\n",
    "\n",
    "    return specs"
   ]
  },
  {
   "cell_type": "code",
   "execution_count": 41,
   "metadata": {},
   "outputs": [],
   "source": [
    "data = []\n",
    "for i, url in enumerate(urls):\n",
    "    r = requests.get(url)\n",
    "    if r.status_code == 200:\n",
    "        soup = bs(r.content, \"html.parser\")\n",
    "        specs = get_details(soup)\n",
    "        specs['url'] = url\n",
    "        data.append(specs)\n",
    "    else:\n",
    "        print(i)"
   ]
  },
  {
   "cell_type": "code",
   "execution_count": 42,
   "metadata": {},
   "outputs": [],
   "source": [
    "with open('refurbished_macs.json', 'w') as f:\n",
    "    json.dump(data, f)"
   ]
  },
  {
   "cell_type": "code",
   "execution_count": 43,
   "metadata": {},
   "outputs": [],
   "source": [
    "with open('refurbished_macs.json') as f:\n",
    "    data = json.load(f)"
   ]
  },
  {
   "cell_type": "code",
   "execution_count": 63,
   "metadata": {},
   "outputs": [
    {
     "data": {
      "text/plain": [
       "104"
      ]
     },
     "execution_count": 63,
     "metadata": {},
     "output_type": "execute_result"
    }
   ],
   "source": [
    "clean = []\n",
    "for line in data:\n",
    "    if 'macbook-pro' not in line['url'].lower():\n",
    "        pass\n",
    "    else:\n",
    "        row = {\n",
    "            'url': line['url'],\n",
    "            'date': ' '.join(line['date'].split(' ')[2:]),\n",
    "            'memory': \";\".join(line['memory']).split(' ')[0],\n",
    "            'storage': \";\".join(line['storage']).split(' ')[0],\n",
    "            'graphics': \";\".join(line['graphics']),\n",
    "            'price': line['price']\n",
    "        }\n",
    "        clean.append(row)\n",
    "        \n",
    "len(clean)"
   ]
  },
  {
   "cell_type": "code",
   "execution_count": 69,
   "metadata": {},
   "outputs": [],
   "source": [
    "with open('macbook_pro_refurb.csv', 'w') as f:\n",
    "    writer = csv.DictWriter(f, clean[0].keys())\n",
    "    writer.writeheader()\n",
    "    writer.writerows(clean)"
   ]
  },
  {
   "cell_type": "code",
   "execution_count": null,
   "metadata": {},
   "outputs": [],
   "source": []
  }
 ],
 "metadata": {
  "kernelspec": {
   "display_name": "Python 3",
   "language": "python",
   "name": "python3"
  },
  "language_info": {
   "codemirror_mode": {
    "name": "ipython",
    "version": 3
   },
   "file_extension": ".py",
   "mimetype": "text/x-python",
   "name": "python",
   "nbconvert_exporter": "python",
   "pygments_lexer": "ipython3",
   "version": "3.7.2"
  }
 },
 "nbformat": 4,
 "nbformat_minor": 2
}
