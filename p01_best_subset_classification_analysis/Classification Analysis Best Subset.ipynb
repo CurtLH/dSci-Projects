{
 "cells": [
  {
   "cell_type": "code",
   "execution_count": 1,
   "metadata": {
    "collapsed": true
   },
   "outputs": [],
   "source": [
    "import pandas as pd\n",
    "import numpy as np\n",
    "from itertools import chain, combinations\n",
    "from sklearn.discriminant_analysis import LinearDiscriminantAnalysis"
   ]
  },
  {
   "cell_type": "markdown",
   "metadata": {},
   "source": [
    "# Functions"
   ]
  },
  {
   "cell_type": "code",
   "execution_count": 2,
   "metadata": {
    "collapsed": true
   },
   "outputs": [],
   "source": [
    "def load_csv_data(filename):\n",
    "    \n",
    "    '''\n",
    "    Loads CSV and converts values to float\n",
    "    '''\n",
    "    \n",
    "    df = pd.read_csv(filename, dtype=float)\n",
    "    \n",
    "    return df"
   ]
  },
  {
   "cell_type": "code",
   "execution_count": 9,
   "metadata": {
    "collapsed": true
   },
   "outputs": [],
   "source": [
    "def load_excel_data(filename):\n",
    "    \n",
    "    '''\n",
    "    Loads Excel file and converts values to float\n",
    "    '''\n",
    "    \n",
    "    df = pd.read_excel(filename, convert_float=True)\n",
    "    \n",
    "    return df"
   ]
  },
  {
   "cell_type": "code",
   "execution_count": 3,
   "metadata": {
    "collapsed": true
   },
   "outputs": [],
   "source": [
    "def create_powerset_dict(df, depen_var):\n",
    "    \n",
    "    '''\n",
    "    creates a dict containing the powerset of the dependent variables\n",
    "    \n",
    "    (Thanks to Stackoverflow #18826571 for the powerset generator)\n",
    "    '''\n",
    "    \n",
    "    # get dependent variable names\n",
    "    indep_vars = [i for i in df.columns.values.tolist() if i != depen_var]\n",
    "    \n",
    "    # create a powerset of all subsets of dependent variables\n",
    "    powerset = chain.from_iterable(combinations(indep_vars, r) for r in range(len(indep_vars)+1))\n",
    "    \n",
    "    # iterate through the powerset and create a dict with each subset of dependent variables\n",
    "    i = 0\n",
    "    powerset_dict = {}\n",
    "    for item in powerset:\n",
    "        if len(item) > 0:\n",
    "            powerset_dict[i] = {}\n",
    "            powerset_dict[i]['indep_vars'] = list(item)\n",
    "            powerset_dict[i]['depen_var'] = depen_var\n",
    "            powerset_dict[i]['num_depen_vars'] = len(item)\n",
    "            i += 1\n",
    "    \n",
    "    return powerset_dict"
   ]
  },
  {
   "cell_type": "code",
   "execution_count": 4,
   "metadata": {
    "collapsed": true
   },
   "outputs": [],
   "source": [
    "def prep_for_classification(df, depen_var, indep_vars):\n",
    "    \n",
    "    '''\n",
    "    Drop blanks and create two dataframes and convert to Numpy arrays\n",
    "    '''\n",
    "    \n",
    "    # convert blank spaces and missing values to NAN\n",
    "    df.replace(r'\\s+', np.nan, regex=True).replace('',np.nan)\n",
    "    \n",
    "    # drop entire row if any value is NAN\n",
    "    df_drop_na = df.dropna(axis=0, how='any')\n",
    "    \n",
    "    # convert to Numpy array\n",
    "    x = df[indep_vars].as_matrix()\n",
    "    y = df[depen_var].as_matrix()\n",
    "\n",
    "    return x, y"
   ]
  },
  {
   "cell_type": "code",
   "execution_count": 5,
   "metadata": {
    "collapsed": true
   },
   "outputs": [],
   "source": [
    "def linear_classification_analysis(x_train, y_train, x_test, y_test):\n",
    "    \n",
    "    '''\n",
    "    Use SKLEARN to classify\n",
    "    '''\n",
    "    \n",
    "    clf = LinearDiscriminantAnalysis()\n",
    "    clf.fit(x_train, y_train)\n",
    "    train_score = clf.score(x_train, y_train)\n",
    "    test_score = clf.score(x_test, y_test)\n",
    "\n",
    "    return train_score, test_score"
   ]
  },
  {
   "cell_type": "code",
   "execution_count": 6,
   "metadata": {
    "collapsed": false
   },
   "outputs": [],
   "source": [
    "def classification_iterator(train_df, test_df, powerset_dict):\n",
    "    \n",
    "    '''\n",
    "    Iterate through each item in the dependent variables powerset and use as input for classification analysis\n",
    "    '''\n",
    "    \n",
    "    for item in powerset_dict:\n",
    "        \n",
    "        # combine dependent and independent to get all variables\n",
    "        indep_vars = powerset_dict[item]['indep_vars']\n",
    "        depen_var = powerset_dict[item]['depen_var']\n",
    "        all_vars = [depen_var] + indep_vars\n",
    "        \n",
    "        # prep training data for classification analysis\n",
    "        train_df_subset = train_df[all_vars]\n",
    "        x_train, y_train = prep_for_classification(train_df_subset, depen_var, indep_vars)\n",
    "        \n",
    "        # prep test data for classification analysis\n",
    "        test_df_subset = test_df[all_vars]\n",
    "        x_test, y_test = prep_for_classification(test_df_subset, depen_var, indep_vars)\n",
    "        \n",
    "        # run classification analysis are return hitrates\n",
    "        training_hitrate, test_hitrate = linear_classification_analysis(x_train, y_train, x_test, y_test)\n",
    "        \n",
    "        # store hitrates\n",
    "        powerset_dict[item]['training_hitrate'] = training_hitrate\n",
    "        powerset_dict[item]['training_sample_size'] = len(train_df)\n",
    "        powerset_dict[item]['test_hitrate'] = test_hitrate\n",
    "        powerset_dict[item]['test_sample_size'] = len(test_df_subset)\n",
    "        \n",
    "    return powerset_dict        "
   ]
  },
  {
   "cell_type": "code",
   "execution_count": null,
   "metadata": {
    "collapsed": true
   },
   "outputs": [],
   "source": []
  },
  {
   "cell_type": "markdown",
   "metadata": {},
   "source": [
    "# Main Program"
   ]
  },
  {
   "cell_type": "code",
   "execution_count": 16,
   "metadata": {
    "collapsed": false
   },
   "outputs": [],
   "source": [
    "train = load_excel_data('../Data/classification_analysis/ubtrain.xlsx')\n",
    "test = load_excel_data('../Data/classification_analysis/ubtest.xlsx')"
   ]
  },
  {
   "cell_type": "code",
   "execution_count": 17,
   "metadata": {
    "collapsed": false
   },
   "outputs": [],
   "source": [
    "train.drop(['GROUP', 'ID'], axis=1, inplace=True)\n",
    "test.drop(['GROUP', 'ID'], axis=1, inplace=True)"
   ]
  },
  {
   "cell_type": "code",
   "execution_count": 18,
   "metadata": {
    "collapsed": false
   },
   "outputs": [
    {
     "data": {
      "text/html": [
       "<div>\n",
       "<table border=\"1\" class=\"dataframe\">\n",
       "  <thead>\n",
       "    <tr style=\"text-align: right;\">\n",
       "      <th></th>\n",
       "      <th>Age</th>\n",
       "      <th>Experience</th>\n",
       "      <th>Income</th>\n",
       "      <th>ZIP</th>\n",
       "      <th>Family</th>\n",
       "      <th>CCAvg</th>\n",
       "      <th>Education</th>\n",
       "      <th>Educgrad</th>\n",
       "      <th>Educprof</th>\n",
       "      <th>Mortgage</th>\n",
       "      <th>PersonalLoan</th>\n",
       "      <th>SecuritiesAccount</th>\n",
       "      <th>CDAccount</th>\n",
       "      <th>Online</th>\n",
       "      <th>CreditCard</th>\n",
       "    </tr>\n",
       "  </thead>\n",
       "  <tbody>\n",
       "    <tr>\n",
       "      <th>0</th>\n",
       "      <td>25</td>\n",
       "      <td>1</td>\n",
       "      <td>49</td>\n",
       "      <td>91107</td>\n",
       "      <td>4</td>\n",
       "      <td>1.6</td>\n",
       "      <td>1</td>\n",
       "      <td>0</td>\n",
       "      <td>0</td>\n",
       "      <td>0</td>\n",
       "      <td>0</td>\n",
       "      <td>1</td>\n",
       "      <td>0</td>\n",
       "      <td>0</td>\n",
       "      <td>0</td>\n",
       "    </tr>\n",
       "    <tr>\n",
       "      <th>1</th>\n",
       "      <td>39</td>\n",
       "      <td>15</td>\n",
       "      <td>11</td>\n",
       "      <td>94720</td>\n",
       "      <td>1</td>\n",
       "      <td>1.0</td>\n",
       "      <td>1</td>\n",
       "      <td>0</td>\n",
       "      <td>0</td>\n",
       "      <td>0</td>\n",
       "      <td>0</td>\n",
       "      <td>0</td>\n",
       "      <td>0</td>\n",
       "      <td>0</td>\n",
       "      <td>0</td>\n",
       "    </tr>\n",
       "    <tr>\n",
       "      <th>2</th>\n",
       "      <td>35</td>\n",
       "      <td>9</td>\n",
       "      <td>100</td>\n",
       "      <td>94112</td>\n",
       "      <td>1</td>\n",
       "      <td>2.7</td>\n",
       "      <td>2</td>\n",
       "      <td>1</td>\n",
       "      <td>0</td>\n",
       "      <td>0</td>\n",
       "      <td>0</td>\n",
       "      <td>0</td>\n",
       "      <td>0</td>\n",
       "      <td>0</td>\n",
       "      <td>0</td>\n",
       "    </tr>\n",
       "    <tr>\n",
       "      <th>3</th>\n",
       "      <td>35</td>\n",
       "      <td>8</td>\n",
       "      <td>45</td>\n",
       "      <td>91330</td>\n",
       "      <td>4</td>\n",
       "      <td>1.0</td>\n",
       "      <td>2</td>\n",
       "      <td>1</td>\n",
       "      <td>0</td>\n",
       "      <td>0</td>\n",
       "      <td>0</td>\n",
       "      <td>0</td>\n",
       "      <td>0</td>\n",
       "      <td>0</td>\n",
       "      <td>1</td>\n",
       "    </tr>\n",
       "    <tr>\n",
       "      <th>4</th>\n",
       "      <td>37</td>\n",
       "      <td>13</td>\n",
       "      <td>29</td>\n",
       "      <td>92121</td>\n",
       "      <td>4</td>\n",
       "      <td>0.4</td>\n",
       "      <td>2</td>\n",
       "      <td>1</td>\n",
       "      <td>0</td>\n",
       "      <td>155</td>\n",
       "      <td>0</td>\n",
       "      <td>0</td>\n",
       "      <td>0</td>\n",
       "      <td>1</td>\n",
       "      <td>0</td>\n",
       "    </tr>\n",
       "  </tbody>\n",
       "</table>\n",
       "</div>"
      ],
      "text/plain": [
       "   Age  Experience  Income    ZIP  Family  CCAvg  Education  Educgrad  \\\n",
       "0   25           1      49  91107       4    1.6          1         0   \n",
       "1   39          15      11  94720       1    1.0          1         0   \n",
       "2   35           9     100  94112       1    2.7          2         1   \n",
       "3   35           8      45  91330       4    1.0          2         1   \n",
       "4   37          13      29  92121       4    0.4          2         1   \n",
       "\n",
       "   Educprof  Mortgage  PersonalLoan  SecuritiesAccount  CDAccount  Online  \\\n",
       "0         0         0             0                  1          0       0   \n",
       "1         0         0             0                  0          0       0   \n",
       "2         0         0             0                  0          0       0   \n",
       "3         0         0             0                  0          0       0   \n",
       "4         0       155             0                  0          0       1   \n",
       "\n",
       "   CreditCard  \n",
       "0           0  \n",
       "1           0  \n",
       "2           0  \n",
       "3           1  \n",
       "4           0  "
      ]
     },
     "execution_count": 18,
     "metadata": {},
     "output_type": "execute_result"
    }
   ],
   "source": [
    "train.head()"
   ]
  },
  {
   "cell_type": "code",
   "execution_count": 19,
   "metadata": {
    "collapsed": false
   },
   "outputs": [],
   "source": [
    "powerset_dict = create_powerset_dict(train, 'PersonalLoan')"
   ]
  },
  {
   "cell_type": "code",
   "execution_count": 22,
   "metadata": {
    "collapsed": false
   },
   "outputs": [
    {
     "name": "stderr",
     "output_type": "stream",
     "text": [
      "/home/curtis/miniconda2/envs/py27/lib/python2.7/site-packages/sklearn/discriminant_analysis.py:387: UserWarning: Variables are collinear.\n",
      "  warnings.warn(\"Variables are collinear.\")\n"
     ]
    },
    {
     "name": "stdout",
     "output_type": "stream",
     "text": [
      "1 loop, best of 1: 5min 51s per loop\n"
     ]
    }
   ],
   "source": [
    "%timeit -n 1 -r 1 classified = classification_iterator(train, test, powerset_dict)"
   ]
  },
  {
   "cell_type": "code",
   "execution_count": 36,
   "metadata": {
    "collapsed": false
   },
   "outputs": [
    {
     "name": "stdout",
     "output_type": "stream",
     "text": [
      "Variable                         Type         Data/Info\n",
      "-------------------------------------------------------\n",
      "LinearDiscriminantAnalysis       type         <class 'sklearn.discrimin<...>earDiscriminantAnalysis'>\n",
      "chain                            type         <type 'itertools.chain'>\n",
      "classification_iterator          function     <function classification_<...>erator at 0x7f97a59b6cf8>\n",
      "combinations                     type         <type 'itertools.combinations'>\n",
      "create_powerset_dict             function     <function create_powerset_dict at 0x7f97a59aef50>\n",
      "df                               DataFrame              depen_var      <...>n[16383 rows x 7 columns]\n",
      "linear_classification_analysis   function     <function linear_classifi<...>alysis at 0x7f97d0b35398>\n",
      "load_data                        function     <function load_data at 0x7f97a59b68c0>\n",
      "load_excel_data                  function     <function load_excel_data at 0x7f97a59b6c08>\n",
      "np                               module       <module 'numpy' from '/ho<...>ages/numpy/__init__.pyc'>\n",
      "pd                               module       <module 'pandas' from '/h<...>ges/pandas/__init__.pyc'>\n",
      "powerset_dict                    dict         n=16383\n",
      "prep_for_classification          function     <function prep_for_classi<...>cation at 0x7f97a59b6b18>\n",
      "test                             DataFrame          Age  Experience  In<...>n[2500 rows x 15 columns]\n",
      "train                            DataFrame          Age  Experience  In<...>n[2500 rows x 15 columns]\n"
     ]
    }
   ],
   "source": [
    "whos"
   ]
  },
  {
   "cell_type": "code",
   "execution_count": 25,
   "metadata": {
    "collapsed": false
   },
   "outputs": [
    {
     "data": {
      "text/plain": [
       "16383"
      ]
     },
     "execution_count": 25,
     "metadata": {},
     "output_type": "execute_result"
    }
   ],
   "source": [
    "len(powerset_dict)"
   ]
  },
  {
   "cell_type": "code",
   "execution_count": 27,
   "metadata": {
    "collapsed": false
   },
   "outputs": [],
   "source": [
    "df = pd.DataFrame(powerset_dict).T"
   ]
  },
  {
   "cell_type": "code",
   "execution_count": 34,
   "metadata": {
    "collapsed": false
   },
   "outputs": [],
   "source": [
    "df.sort_values('num_depen_vars', inplace=True, ascending=True)\n",
    "df.sort_values('test_hitrate', ascending=False, inplace=True)"
   ]
  },
  {
   "cell_type": "code",
   "execution_count": 35,
   "metadata": {
    "collapsed": false
   },
   "outputs": [
    {
     "data": {
      "text/html": [
       "<div>\n",
       "<table border=\"1\" class=\"dataframe\">\n",
       "  <thead>\n",
       "    <tr style=\"text-align: right;\">\n",
       "      <th></th>\n",
       "      <th>depen_var</th>\n",
       "      <th>indep_vars</th>\n",
       "      <th>num_depen_vars</th>\n",
       "      <th>test_hitrate</th>\n",
       "      <th>test_sample_size</th>\n",
       "      <th>training_hitrate</th>\n",
       "      <th>training_sample_size</th>\n",
       "    </tr>\n",
       "  </thead>\n",
       "  <tbody>\n",
       "    <tr>\n",
       "      <th>16148</th>\n",
       "      <td>PersonalLoan</td>\n",
       "      <td>[Age, Income, ZIP, Family, CCAvg, Education, E...</td>\n",
       "      <td>11</td>\n",
       "      <td>0.9476</td>\n",
       "      <td>2500</td>\n",
       "      <td>0.9392</td>\n",
       "      <td>2500</td>\n",
       "    </tr>\n",
       "    <tr>\n",
       "      <th>16298</th>\n",
       "      <td>PersonalLoan</td>\n",
       "      <td>[Age, Experience, Income, ZIP, Family, CCAvg, ...</td>\n",
       "      <td>12</td>\n",
       "      <td>0.9476</td>\n",
       "      <td>2500</td>\n",
       "      <td>0.938</td>\n",
       "      <td>2500</td>\n",
       "    </tr>\n",
       "    <tr>\n",
       "      <th>11189</th>\n",
       "      <td>PersonalLoan</td>\n",
       "      <td>[Age, Income, Family, Educgrad, Educprof, Mort...</td>\n",
       "      <td>8</td>\n",
       "      <td>0.9476</td>\n",
       "      <td>2500</td>\n",
       "      <td>0.944</td>\n",
       "      <td>2500</td>\n",
       "    </tr>\n",
       "    <tr>\n",
       "      <th>15464</th>\n",
       "      <td>PersonalLoan</td>\n",
       "      <td>[Age, Income, ZIP, Family, Education, Educgrad...</td>\n",
       "      <td>10</td>\n",
       "      <td>0.9476</td>\n",
       "      <td>2500</td>\n",
       "      <td>0.944</td>\n",
       "      <td>2500</td>\n",
       "    </tr>\n",
       "    <tr>\n",
       "      <th>16209</th>\n",
       "      <td>PersonalLoan</td>\n",
       "      <td>[Experience, Income, ZIP, Family, CCAvg, Educa...</td>\n",
       "      <td>11</td>\n",
       "      <td>0.9476</td>\n",
       "      <td>2500</td>\n",
       "      <td>0.9392</td>\n",
       "      <td>2500</td>\n",
       "    </tr>\n",
       "  </tbody>\n",
       "</table>\n",
       "</div>"
      ],
      "text/plain": [
       "          depen_var                                         indep_vars  \\\n",
       "16148  PersonalLoan  [Age, Income, ZIP, Family, CCAvg, Education, E...   \n",
       "16298  PersonalLoan  [Age, Experience, Income, ZIP, Family, CCAvg, ...   \n",
       "11189  PersonalLoan  [Age, Income, Family, Educgrad, Educprof, Mort...   \n",
       "15464  PersonalLoan  [Age, Income, ZIP, Family, Education, Educgrad...   \n",
       "16209  PersonalLoan  [Experience, Income, ZIP, Family, CCAvg, Educa...   \n",
       "\n",
       "      num_depen_vars test_hitrate test_sample_size training_hitrate  \\\n",
       "16148             11       0.9476             2500           0.9392   \n",
       "16298             12       0.9476             2500            0.938   \n",
       "11189              8       0.9476             2500            0.944   \n",
       "15464             10       0.9476             2500            0.944   \n",
       "16209             11       0.9476             2500           0.9392   \n",
       "\n",
       "      training_sample_size  \n",
       "16148                 2500  \n",
       "16298                 2500  \n",
       "11189                 2500  \n",
       "15464                 2500  \n",
       "16209                 2500  "
      ]
     },
     "execution_count": 35,
     "metadata": {},
     "output_type": "execute_result"
    }
   ],
   "source": [
    "df.head()"
   ]
  },
  {
   "cell_type": "code",
   "execution_count": null,
   "metadata": {
    "collapsed": true
   },
   "outputs": [],
   "source": []
  }
 ],
 "metadata": {
  "kernelspec": {
   "display_name": "Python 2",
   "language": "python",
   "name": "python2"
  },
  "language_info": {
   "codemirror_mode": {
    "name": "ipython",
    "version": 2
   },
   "file_extension": ".py",
   "mimetype": "text/x-python",
   "name": "python",
   "nbconvert_exporter": "python",
   "pygments_lexer": "ipython2",
   "version": "2.7.12"
  }
 },
 "nbformat": 4,
 "nbformat_minor": 0
}
