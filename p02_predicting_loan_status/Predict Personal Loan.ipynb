{
 "cells": [
  {
   "cell_type": "markdown",
   "metadata": {},
   "source": [
    "# Universal Bank Prediction"
   ]
  },
  {
   "cell_type": "markdown",
   "metadata": {},
   "source": [
    "The goal of this project is to explore various classification methods in R"
   ]
  },
  {
   "cell_type": "markdown",
   "metadata": {},
   "source": [
    "## Customize Enviornment"
   ]
  },
  {
   "cell_type": "code",
   "execution_count": 53,
   "metadata": {
    "collapsed": false
   },
   "outputs": [],
   "source": [
    "# load packages\n",
    "packages <- c(\"purrr\", \"doMC\", \"ggplot2\", \"caret\", \"pROC\", \"ROCR\")\n",
    "purrr::walk(packages, library, character.only = TRUE, warn.conflicts = FALSE)\n",
    "\n",
    "# set default plot size\n",
    "options(repr.plot.width=10, repr.plot.height=6)\n",
    "\n",
    "# configure multicore processing\n",
    "registerDoMC(cores=8)"
   ]
  },
  {
   "cell_type": "markdown",
   "metadata": {},
   "source": [
    "## Load Data"
   ]
  },
  {
   "cell_type": "code",
   "execution_count": 54,
   "metadata": {
    "collapsed": false
   },
   "outputs": [
    {
     "data": {
      "text/html": [
       "<table>\n",
       "<thead><tr><th scope=col>Age</th><th scope=col>Experience</th><th scope=col>Income</th><th scope=col>ZIP</th><th scope=col>Family</th><th scope=col>CCAvg</th><th scope=col>Education</th><th scope=col>Mortgage</th><th scope=col>SecuritiesAccount</th><th scope=col>CDAccount</th><th scope=col>Online</th><th scope=col>CreditCard</th><th scope=col>PersonalLoan</th></tr></thead>\n",
       "<tbody>\n",
       "\t<tr><td>25   </td><td> 1   </td><td> 49  </td><td>91107</td><td>4    </td><td>1.6  </td><td>1    </td><td>  0  </td><td>1    </td><td>0    </td><td>0    </td><td>0    </td><td>No   </td></tr>\n",
       "\t<tr><td>39   </td><td>15   </td><td> 11  </td><td>94720</td><td>1    </td><td>1.0  </td><td>1    </td><td>  0  </td><td>0    </td><td>0    </td><td>0    </td><td>0    </td><td>No   </td></tr>\n",
       "\t<tr><td>35   </td><td> 9   </td><td>100  </td><td>94112</td><td>1    </td><td>2.7  </td><td>2    </td><td>  0  </td><td>0    </td><td>0    </td><td>0    </td><td>0    </td><td>No   </td></tr>\n",
       "\t<tr><td>35   </td><td> 8   </td><td> 45  </td><td>91330</td><td>4    </td><td>1.0  </td><td>2    </td><td>  0  </td><td>0    </td><td>0    </td><td>0    </td><td>1    </td><td>No   </td></tr>\n",
       "\t<tr><td>37   </td><td>13   </td><td> 29  </td><td>92121</td><td>4    </td><td>0.4  </td><td>2    </td><td>155  </td><td>0    </td><td>0    </td><td>1    </td><td>0    </td><td>No   </td></tr>\n",
       "\t<tr><td>50   </td><td>24   </td><td> 22  </td><td>93943</td><td>1    </td><td>0.3  </td><td>3    </td><td>  0  </td><td>0    </td><td>0    </td><td>0    </td><td>1    </td><td>No   </td></tr>\n",
       "</tbody>\n",
       "</table>\n"
      ],
      "text/latex": [
       "\\begin{tabular}{r|lllllllllllll}\n",
       " Age & Experience & Income & ZIP & Family & CCAvg & Education & Mortgage & SecuritiesAccount & CDAccount & Online & CreditCard & PersonalLoan\\\\\n",
       "\\hline\n",
       "\t 25    &  1    &  49   & 91107 & 4     & 1.6   & 1     &   0   & 1     & 0     & 0     & 0     & No   \\\\\n",
       "\t 39    & 15    &  11   & 94720 & 1     & 1.0   & 1     &   0   & 0     & 0     & 0     & 0     & No   \\\\\n",
       "\t 35    &  9    & 100   & 94112 & 1     & 2.7   & 2     &   0   & 0     & 0     & 0     & 0     & No   \\\\\n",
       "\t 35    &  8    &  45   & 91330 & 4     & 1.0   & 2     &   0   & 0     & 0     & 0     & 1     & No   \\\\\n",
       "\t 37    & 13    &  29   & 92121 & 4     & 0.4   & 2     & 155   & 0     & 0     & 1     & 0     & No   \\\\\n",
       "\t 50    & 24    &  22   & 93943 & 1     & 0.3   & 3     &   0   & 0     & 0     & 0     & 1     & No   \\\\\n",
       "\\end{tabular}\n"
      ],
      "text/markdown": [
       "\n",
       "Age | Experience | Income | ZIP | Family | CCAvg | Education | Mortgage | SecuritiesAccount | CDAccount | Online | CreditCard | PersonalLoan | \n",
       "|---|---|---|---|---|---|\n",
       "| 25    |  1    |  49   | 91107 | 4     | 1.6   | 1     |   0   | 1     | 0     | 0     | 0     | No    | \n",
       "| 39    | 15    |  11   | 94720 | 1     | 1.0   | 1     |   0   | 0     | 0     | 0     | 0     | No    | \n",
       "| 35    |  9    | 100   | 94112 | 1     | 2.7   | 2     |   0   | 0     | 0     | 0     | 0     | No    | \n",
       "| 35    |  8    |  45   | 91330 | 4     | 1.0   | 2     |   0   | 0     | 0     | 0     | 1     | No    | \n",
       "| 37    | 13    |  29   | 92121 | 4     | 0.4   | 2     | 155   | 0     | 0     | 1     | 0     | No    | \n",
       "| 50    | 24    |  22   | 93943 | 1     | 0.3   | 3     |   0   | 0     | 0     | 0     | 1     | No    | \n",
       "\n",
       "\n"
      ],
      "text/plain": [
       "  Age Experience Income ZIP   Family CCAvg Education Mortgage SecuritiesAccount\n",
       "1 25   1          49    91107 4      1.6   1           0      1                \n",
       "2 39  15          11    94720 1      1.0   1           0      0                \n",
       "3 35   9         100    94112 1      2.7   2           0      0                \n",
       "4 35   8          45    91330 4      1.0   2           0      0                \n",
       "5 37  13          29    92121 4      0.4   2         155      0                \n",
       "6 50  24          22    93943 1      0.3   3           0      0                \n",
       "  CDAccount Online CreditCard PersonalLoan\n",
       "1 0         0      0          No          \n",
       "2 0         0      0          No          \n",
       "3 0         0      0          No          \n",
       "4 0         0      1          No          \n",
       "5 0         1      0          No          \n",
       "6 0         0      1          No          "
      ]
     },
     "metadata": {},
     "output_type": "display_data"
    },
    {
     "name": "stdout",
     "output_type": "stream",
     "text": [
      "'data.frame':\t5000 obs. of  13 variables:\n",
      " $ Age              : int  25 39 35 35 37 50 35 65 67 60 ...\n",
      " $ Experience       : int  1 15 9 8 13 24 10 39 41 30 ...\n",
      " $ Income           : int  49 11 100 45 29 22 81 105 112 22 ...\n",
      " $ ZIP              : Factor w/ 467 levels \"9307\",\"90005\",..: 84 368 299 97 161 268 35 367 118 398 ...\n",
      " $ Family           : int  4 1 1 4 4 1 3 4 1 1 ...\n",
      " $ CCAvg            : num  1.6 1 2.7 1 0.4 0.3 0.6 2.4 2 1.5 ...\n",
      " $ Education        : Factor w/ 3 levels \"1\",\"2\",\"3\": 1 1 2 2 2 3 2 3 1 3 ...\n",
      " $ Mortgage         : int  0 0 0 0 155 0 104 0 0 0 ...\n",
      " $ SecuritiesAccount: Factor w/ 2 levels \"0\",\"1\": 2 1 1 1 1 1 1 1 2 1 ...\n",
      " $ CDAccount        : Factor w/ 2 levels \"0\",\"1\": 1 1 1 1 1 1 1 1 1 1 ...\n",
      " $ Online           : Factor w/ 2 levels \"0\",\"1\": 1 1 1 1 2 1 2 1 1 2 ...\n",
      " $ CreditCard       : Factor w/ 2 levels \"0\",\"1\": 1 1 1 2 1 2 1 1 1 2 ...\n",
      " $ PersonalLoan     : Factor w/ 2 levels \"No\",\"Yes\": 1 1 1 1 1 1 1 1 1 1 ...\n"
     ]
    }
   ],
   "source": [
    "# load the data from the MASS package\n",
    "df <- read.csv(\"universal_bank.csv\")\n",
    "\n",
    "# convert variables to factors as needed\n",
    "cols <- c(\"ZIP\", \"Education\", \"SecuritiesAccount\", \"CDAccount\", \"Online\", \"CreditCard\", \"PersonalLoan\")\n",
    "df[cols] <- lapply(df[cols], factor)\n",
    "\n",
    "# create names for the class variable\n",
    "levels(df$PersonalLoan) <- make.names(c(\"No\", \"Yes\"))\n",
    "\n",
    "# show a sample of the data\n",
    "head(df)\n",
    "\n",
    "# show the structure of the data\n",
    "str(df)"
   ]
  },
  {
   "cell_type": "markdown",
   "metadata": {
    "collapsed": true
   },
   "source": [
    "## Partition Data"
   ]
  },
  {
   "cell_type": "code",
   "execution_count": 27,
   "metadata": {
    "collapsed": true
   },
   "outputs": [],
   "source": [
    "# split data into training and test\n",
    "trainIndex <- createDataPartition(df$PersonalLoan, p = .7, \n",
    "                                  list = FALSE, \n",
    "                                  times = 1)\n",
    "\n",
    "train <- df[ trainIndex,]\n",
    "test  <- df[-trainIndex,]"
   ]
  },
  {
   "cell_type": "code",
   "execution_count": 28,
   "metadata": {
    "collapsed": false
   },
   "outputs": [
    {
     "name": "stdout",
     "output_type": "stream",
     "text": [
      "Proportion of PersonalLoan in training data:"
     ]
    },
    {
     "data": {
      "text/plain": [
       "\n",
       "   No   Yes \n",
       "0.904 0.096 "
      ]
     },
     "metadata": {},
     "output_type": "display_data"
    },
    {
     "name": "stdout",
     "output_type": "stream",
     "text": [
      "\n",
      "Proportion of PersonLoan in test data:"
     ]
    },
    {
     "data": {
      "text/plain": [
       "\n",
       "   No   Yes \n",
       "0.904 0.096 "
      ]
     },
     "metadata": {},
     "output_type": "display_data"
    }
   ],
   "source": [
    "# look at class proportions between training and test data\n",
    "cat(\"Proportion of PersonalLoan in training data:\")\n",
    "prop.table(table(train$PersonalLoan))\n",
    "\n",
    "cat(\"\\nProportion of PersonLoan in test data:\")\n",
    "prop.table(table(test$PersonalLoan))"
   ]
  },
  {
   "cell_type": "markdown",
   "metadata": {},
   "source": [
    "## Predict Personal Loan"
   ]
  },
  {
   "cell_type": "markdown",
   "metadata": {},
   "source": [
    "### Decision Tree"
   ]
  },
  {
   "cell_type": "code",
   "execution_count": 31,
   "metadata": {
    "collapsed": true
   },
   "outputs": [],
   "source": [
    "fit_ctrl <- trainControl(method = \"repeatedcv\", \n",
    "                         repeats = 5,\n",
    "                         classProbs = TRUE,\n",
    "                         summaryFunction = twoClassSummary)"
   ]
  },
  {
   "cell_type": "code",
   "execution_count": 33,
   "metadata": {
    "collapsed": false
   },
   "outputs": [],
   "source": [
    "set.seed(1234)\n",
    "rpart_fit <- train(PersonalLoan ~ ., \n",
    "                   data = train,\n",
    "                   method = \"rpart\",\n",
    "                   metric = \"ROC\",\n",
    "                   trControl = fit_ctrl,\n",
    "                   na.action = na.exclude)"
   ]
  },
  {
   "cell_type": "code",
   "execution_count": 34,
   "metadata": {
    "collapsed": false
   },
   "outputs": [
    {
     "data": {
      "text/plain": [
       "CART \n",
       "\n",
       "3500 samples\n",
       "  12 predictor\n",
       "   2 classes: 'No', 'Yes' \n",
       "\n",
       "No pre-processing\n",
       "Resampling: Cross-Validated (10 fold, repeated 5 times) \n",
       "Summary of sample sizes: 3150, 3150, 3151, 3151, 3149, 3149, ... \n",
       "Resampling results across tuning parameters:\n",
       "\n",
       "  cp         ROC        Sens       Spec     \n",
       "  0.1547619  0.9092224  0.9966494  0.7368806\n",
       "  0.1785714  0.8844956  0.9977239  0.5478075\n",
       "  0.2306548  0.6811746  0.9993042  0.2014082\n",
       "\n",
       "ROC was used to select the optimal model using  the largest value.\n",
       "The final value used for the model was cp = 0.1547619. "
      ]
     },
     "metadata": {},
     "output_type": "display_data"
    }
   ],
   "source": [
    "rpart_fit"
   ]
  },
  {
   "cell_type": "code",
   "execution_count": 35,
   "metadata": {
    "collapsed": true
   },
   "outputs": [],
   "source": [
    "rpart_pred <- predict(rpart_fit, test, type = \"prob\")\n",
    "rpart_pred$pred <- factor(ifelse(rpart_pred$Yes >= .5, \"Yes\", \"No\"))\n",
    "rpart_pred <- cbind(rpart_pred, actual = test$PersonalLoan)"
   ]
  },
  {
   "cell_type": "code",
   "execution_count": 72,
   "metadata": {
    "collapsed": false
   },
   "outputs": [
    {
     "data": {
      "text/plain": [
       "Confusion Matrix and Statistics\n",
       "\n",
       "          Reference\n",
       "Prediction   No  Yes\n",
       "       No  1352   48\n",
       "       Yes    4   96\n",
       "                                         \n",
       "               Accuracy : 0.9653         \n",
       "                 95% CI : (0.9548, 0.974)\n",
       "    No Information Rate : 0.904          \n",
       "    P-Value [Acc > NIR] : < 2.2e-16      \n",
       "                                         \n",
       "                  Kappa : 0.7687         \n",
       " Mcnemar's Test P-Value : 2.476e-09      \n",
       "                                         \n",
       "            Sensitivity : 0.66667        \n",
       "            Specificity : 0.99705        \n",
       "         Pos Pred Value : 0.96000        \n",
       "         Neg Pred Value : 0.96571        \n",
       "             Prevalence : 0.09600        \n",
       "         Detection Rate : 0.06400        \n",
       "   Detection Prevalence : 0.06667        \n",
       "      Balanced Accuracy : 0.83186        \n",
       "                                         \n",
       "       'Positive' Class : Yes            \n",
       "                                         "
      ]
     },
     "metadata": {},
     "output_type": "display_data"
    }
   ],
   "source": [
    "confusionMatrix(data = rpart_pred$pred, \n",
    "                reference = rpart_pred$actual, \n",
    "                positive = levels(test$PersonalLoan)[2])"
   ]
  },
  {
   "cell_type": "markdown",
   "metadata": {},
   "source": [
    "### Bagged Classification Trees"
   ]
  },
  {
   "cell_type": "code",
   "execution_count": 67,
   "metadata": {
    "collapsed": false
   },
   "outputs": [],
   "source": [
    "set.seed(1234)\n",
    "treebag_fit <- train(PersonalLoan ~ ., \n",
    "                     data = train,\n",
    "                     method = \"treebag\",\n",
    "                     nbagg = 100,\n",
    "                     metric = \"ROC\",\n",
    "                     trControl = fit_ctrl, \n",
    "                     na.action=na.exclude)"
   ]
  },
  {
   "cell_type": "code",
   "execution_count": 68,
   "metadata": {
    "collapsed": false
   },
   "outputs": [
    {
     "data": {
      "text/plain": [
       "Bagged CART \n",
       "\n",
       "3500 samples\n",
       "  12 predictor\n",
       "   2 classes: 'No', 'Yes' \n",
       "\n",
       "No pre-processing\n",
       "Resampling: Cross-Validated (10 fold, repeated 5 times) \n",
       "Summary of sample sizes: 3150, 3150, 3151, 3151, 3149, 3149, ... \n",
       "Resampling results:\n",
       "\n",
       "  ROC        Sens       Spec    \n",
       "  0.9924231  0.9964597  0.850713\n",
       "\n",
       " "
      ]
     },
     "metadata": {},
     "output_type": "display_data"
    }
   ],
   "source": [
    "treebag_fit"
   ]
  },
  {
   "cell_type": "code",
   "execution_count": 69,
   "metadata": {
    "collapsed": false
   },
   "outputs": [],
   "source": [
    "treebag_pred <- predict(treebag_fit, test, type = \"prob\")\n",
    "treebag_pred$pred <- factor(ifelse(treebag_pred$Yes >= .5, \"Yes\", \"No\"))\n",
    "treebag_pred <- cbind(treebag_pred, actual = test$PersonalLoan)"
   ]
  },
  {
   "cell_type": "code",
   "execution_count": 71,
   "metadata": {
    "collapsed": false
   },
   "outputs": [
    {
     "data": {
      "text/plain": [
       "Confusion Matrix and Statistics\n",
       "\n",
       "          Reference\n",
       "Prediction   No  Yes\n",
       "       No  1350   20\n",
       "       Yes    6  124\n",
       "                                          \n",
       "               Accuracy : 0.9827          \n",
       "                 95% CI : (0.9747, 0.9886)\n",
       "    No Information Rate : 0.904           \n",
       "    P-Value [Acc > NIR] : < 2e-16         \n",
       "                                          \n",
       "                  Kappa : 0.8956          \n",
       " Mcnemar's Test P-Value : 0.01079         \n",
       "                                          \n",
       "            Sensitivity : 0.86111         \n",
       "            Specificity : 0.99558         \n",
       "         Pos Pred Value : 0.95385         \n",
       "         Neg Pred Value : 0.98540         \n",
       "             Prevalence : 0.09600         \n",
       "         Detection Rate : 0.08267         \n",
       "   Detection Prevalence : 0.08667         \n",
       "      Balanced Accuracy : 0.92834         \n",
       "                                          \n",
       "       'Positive' Class : Yes             \n",
       "                                          "
      ]
     },
     "metadata": {},
     "output_type": "display_data"
    }
   ],
   "source": [
    "confusionMatrix(data = treebag_pred$pred, \n",
    "                reference = treebag_pred$actual, \n",
    "                positive = levels(test$PersonalLoan)[2])"
   ]
  },
  {
   "cell_type": "markdown",
   "metadata": {},
   "source": [
    "### Support Vector Machine"
   ]
  },
  {
   "cell_type": "code",
   "execution_count": 74,
   "metadata": {
    "collapsed": false
   },
   "outputs": [
    {
     "name": "stderr",
     "output_type": "stream",
     "text": [
      "Warning message in preProcess.default(method = c(\"center\", \"scale\"), x = structure(c(39, :\n",
      "“These variables have zero variances: ZIP90745, ZIP92705, ZIP93107, ZIP93950, ZIP94087, ZIP94404, ZIP95482”Warning message in .local(x, ...):\n",
      "“Variable(s) `' constant. Cannot scale data.”Warning message in preProcess.default(thresh = 0.95, k = 5, freqCut = 19, uniqueCut = 10, :\n",
      "“These variables have zero variances: ZIP90745, ZIP92705, ZIP93107, ZIP93950, ZIP94087, ZIP94404, ZIP95482”Warning message in .local(x, ...):\n",
      "“Variable(s) `' constant. Cannot scale data.”"
     ]
    }
   ],
   "source": [
    "set.seed(1234)\n",
    "svm_fit <- train(PersonalLoan ~ ., \n",
    "                 data = train, \n",
    "                 method = \"svmRadial\", \n",
    "                 trControl = fit_ctrl, \n",
    "                 preProc = c(\"center\", \"scale\"),\n",
    "                 tuneLength = 8,\n",
    "                 metric = \"ROC\", \n",
    "                 na.action = na.exclude)"
   ]
  },
  {
   "cell_type": "code",
   "execution_count": 75,
   "metadata": {
    "collapsed": false
   },
   "outputs": [
    {
     "data": {
      "text/plain": [
       "Support Vector Machines with Radial Basis Function Kernel \n",
       "\n",
       "3500 samples\n",
       "  12 predictor\n",
       "   2 classes: 'No', 'Yes' \n",
       "\n",
       "Pre-processing: centered (478), scaled (478) \n",
       "Resampling: Cross-Validated (10 fold, repeated 5 times) \n",
       "Summary of sample sizes: 3150, 3150, 3151, 3151, 3149, 3149, ... \n",
       "Resampling results across tuning parameters:\n",
       "\n",
       "  C      ROC        Sens       Spec     \n",
       "   0.25  0.9063740  0.9872332  0.3162210\n",
       "   0.50  0.9063754  0.9868534  0.3192157\n",
       "   1.00  0.9064270  0.9866012  0.3167558\n",
       "   2.00  0.9094990  0.9892551  0.3012121\n",
       "   4.00  0.9141786  0.9894434  0.3578253\n",
       "   8.00  0.9156416  0.9889991  0.3921747\n",
       "  16.00  0.9143107  0.9870407  0.4213725\n",
       "  32.00  0.9114441  0.9838821  0.4220856\n",
       "\n",
       "Tuning parameter 'sigma' was held constant at a value of 0.001938687\n",
       "ROC was used to select the optimal model using  the largest value.\n",
       "The final values used for the model were sigma = 0.001938687 and C = 8. "
      ]
     },
     "metadata": {},
     "output_type": "display_data"
    }
   ],
   "source": [
    "svm_fit"
   ]
  },
  {
   "cell_type": "code",
   "execution_count": 77,
   "metadata": {
    "collapsed": false
   },
   "outputs": [],
   "source": [
    "svm_pred <- predict(svm_fit, test, type = \"prob\")\n",
    "svm_pred$pred <- factor(ifelse(svm_pred$Yes >= .5, \"Yes\", \"No\"))\n",
    "svm_pred <- cbind(svm_pred, actual = test$PersonalLoan)"
   ]
  },
  {
   "cell_type": "code",
   "execution_count": 78,
   "metadata": {
    "collapsed": false
   },
   "outputs": [
    {
     "data": {
      "text/plain": [
       "Confusion Matrix and Statistics\n",
       "\n",
       "          Reference\n",
       "Prediction   No  Yes\n",
       "       No  1333   81\n",
       "       Yes   23   63\n",
       "                                         \n",
       "               Accuracy : 0.9307         \n",
       "                 95% CI : (0.9166, 0.943)\n",
       "    No Information Rate : 0.904          \n",
       "    P-Value [Acc > NIR] : 0.0001526      \n",
       "                                         \n",
       "                  Kappa : 0.5129         \n",
       " Mcnemar's Test P-Value : 2.28e-08       \n",
       "                                         \n",
       "            Sensitivity : 0.43750        \n",
       "            Specificity : 0.98304        \n",
       "         Pos Pred Value : 0.73256        \n",
       "         Neg Pred Value : 0.94272        \n",
       "             Prevalence : 0.09600        \n",
       "         Detection Rate : 0.04200        \n",
       "   Detection Prevalence : 0.05733        \n",
       "      Balanced Accuracy : 0.71027        \n",
       "                                         \n",
       "       'Positive' Class : Yes            \n",
       "                                         "
      ]
     },
     "metadata": {},
     "output_type": "display_data"
    }
   ],
   "source": [
    "confusionMatrix(data = svm_pred$pred, \n",
    "                reference = svm_pred$actual,\n",
    "                positive = levels(test$PersonalLoan)[2])"
   ]
  },
  {
   "cell_type": "code",
   "execution_count": null,
   "metadata": {
    "collapsed": true
   },
   "outputs": [],
   "source": []
  },
  {
   "cell_type": "code",
   "execution_count": null,
   "metadata": {
    "collapsed": true
   },
   "outputs": [],
   "source": []
  }
 ],
 "metadata": {
  "kernelspec": {
   "display_name": "R",
   "language": "R",
   "name": "ir"
  },
  "language_info": {
   "codemirror_mode": "r",
   "file_extension": ".r",
   "mimetype": "text/x-r-source",
   "name": "R",
   "pygments_lexer": "r",
   "version": "3.3.2"
  }
 },
 "nbformat": 4,
 "nbformat_minor": 2
}
